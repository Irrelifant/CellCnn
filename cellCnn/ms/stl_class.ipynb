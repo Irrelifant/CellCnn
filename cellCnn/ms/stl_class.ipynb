{
 "cells": [
  {
   "cell_type": "code",
   "execution_count": 1,
   "outputs": [],
   "source": [
    "import os\n",
    "import pickle\n",
    "import pandas as pd\n",
    "from cellCnn.ms.utils.helpers import *\n",
    "from cellCnn.ms.utils.helpers import calc_frequencies\n",
    "from cellCnn.ms.utils.helpers import get_fitted_model\n",
    "from cellCnn.utils import mkdir_p\n",
    "from cellCnn.utils import save_results\n",
    "\n",
    "def get_prepared_data(cluster_to_celltype_dict, df):\n",
    "    rrms_df = df[df['diagnosis'] == 'RRMS']\n",
    "    rrms_patients2df = {id: patient_df.drop(columns=['diagnosis', 'gate_source']) for id, patient_df in\n",
    "                        rrms_df.groupby('gate_source')}\n",
    "    nindc_df = df[df['diagnosis'] == 'NINDC']\n",
    "    nindc_patients2df = {id: patient_df.drop(columns=['diagnosis', 'gate_source']) for id, patient_df in\n",
    "                         nindc_df.groupby('gate_source')}\n",
    "    #### here we could see freq differences across the 2 groups\n",
    "    print('Creating Frequencies...')\n",
    "    rrms_patients_freq = {id: calc_frequencies(patient_df, cluster_to_celltype_dict, return_list=True) for\n",
    "                          id, patient_df in\n",
    "                          rrms_patients2df.items()}\n",
    "    nindc_patients_freq = {id: calc_frequencies(patient_df, cluster_to_celltype_dict, return_list=True) for\n",
    "                           id, patient_df\n",
    "                           in nindc_patients2df.items()}\n",
    "\n",
    "    print('DONE')\n",
    "    ### desease states 1 = RRMS and 0 = NINDC\n",
    "    selection_pool_rrms_cd8 = [(df.loc[:, df.columns != 'cluster'], rrms_patients_freq[patient], 1)\n",
    "                               for patient, df in rrms_patients2df.items()]\n",
    "    selection_pool_nindc_cd8 = [(df.loc[:, df.columns != 'cluster'], nindc_patients_freq[patient], 0)\n",
    "                                for patient, df in nindc_patients2df.items()]\n",
    "    # make sure list are equally long:\n",
    "    if len(selection_pool_rrms_cd8) > len(selection_pool_nindc_cd8):\n",
    "        selection_pool_rrms_cd8 = selection_pool_rrms_cd8[:len(selection_pool_nindc_cd8)]\n",
    "    elif len(selection_pool_rrms_cd8) < len(selection_pool_nindc_cd8):\n",
    "        selection_pool_nindc_cd8 = selection_pool_nindc_cd8[:len(selection_pool_rrms_cd8)]\n",
    "    all_chunks = selection_pool_rrms_cd8 + selection_pool_nindc_cd8\n",
    "    np.random.shuffle(all_chunks)  # to get differing phenotypes...\n",
    "    X = [selection[0].to_numpy() for selection in all_chunks]\n",
    "    freqs = [selection[1] for selection in all_chunks]\n",
    "    Y = [selection[2] for selection in all_chunks]\n",
    "    print('DONE: batches created')\n",
    "    return X, freqs, Y\n"
   ],
   "metadata": {
    "collapsed": false,
    "pycharm": {
     "name": "#%%\n"
    }
   }
  },
  {
   "cell_type": "code",
   "execution_count": 3,
   "outputs": [
    {
     "name": "stdout",
     "output_type": "stream",
     "text": [
      "Read in the data\n",
      "Creating Frequencies...\n",
      "DONE\n",
      "DONE: batches created\n"
     ]
    }
   ],
   "source": [
    "cytokines = ['CCR2', 'CCR4', 'CCR6', 'CCR7', 'CXCR4', 'CXCR5', 'CD103', 'CD14', 'CD20', 'CD25', 'CD27', 'CD28',\n",
    "             'CD3',\n",
    "             'CD4', 'CD45RA', 'CD45RO', 'CD56', 'CD57', 'CD69', 'CD8', 'TCRgd', 'PD.1', 'GM.CSF', 'IFN.g', 'IL.10',\n",
    "             'IL.13', 'IL.17A', 'IL.2', 'IL.21', 'IL.22', 'IL.3', 'IL.4', 'IL.6', 'IL.9', 'TNF.a']\n",
    "infile = 'cohort_denoised_clustered_diagnosis_patients.csv'\n",
    "indir = 'data/input'\n",
    "outdir = 'stl_cv_filters'\n",
    "rand_seed = 123\n",
    "train_perc = 0.7\n",
    "test_perc = 0.3\n",
    "batch_size_pheno = 840  # deprecated  # so a size of 8425 is about equally sized in batches\n",
    "batch_size_cd4 = 550  # deprecated #so a size of 550 gets me 16 batches for cd4\n",
    "## information from ms_data project\n",
    "cluster_to_celltype_dict = {0: 'b', 1: 'cd4', 3: 'nkt', 8: 'cd8', 10: 'nk', 11: 'my', 16: 'dg'}\n",
    "\n",
    "np.random.seed(rand_seed)\n",
    "mkdir_p(outdir)\n",
    "df = pd.read_csv(os.path.join(indir, infile), index_col=0)\n",
    "df = df.drop_duplicates()\n",
    "print('Read in the data')\n",
    "X, freqs, Y = get_prepared_data(cluster_to_celltype_dict, df)\n",
    "freq_idx =3\n",
    "cd8 = [series[freq_idx] for series in freqs]\n",
    "X_test, X_train, X_valid, cd8_test, cd8_train, cd8_valid, y_test, y_train, y_valid = split_test_train_valid(\n",
    "    X, cd8, Y,\n",
    "    train_perc=train_perc,\n",
    "    test_perc=test_perc,\n",
    "    valid_perc=0.5)"
   ],
   "metadata": {
    "collapsed": false,
    "pycharm": {
     "name": "#%%\n"
    }
   }
  },
  {
   "cell_type": "code",
   "execution_count": 4,
   "outputs": [
    {
     "name": "stdout",
     "output_type": "stream",
     "text": [
      "Filter CV\n"
     ]
    },
    {
     "name": "stderr",
     "output_type": "stream",
     "text": [
      "2022-04-06 16:25:09.245410: I tensorflow/core/platform/cpu_feature_guard.cc:151] This TensorFlow binary is optimized with oneAPI Deep Neural Network Library (oneDNN) to use the following CPU instructions in performance-critical operations:  AVX2 FMA\n",
      "To enable them in other operations, rebuild TensorFlow with the appropriate compiler flags.\n"
     ]
    },
    {
     "name": "stdout",
     "output_type": "stream",
     "text": [
      "Model: \"model\"\n",
      "_________________________________________________________________\n",
      " Layer (type)                Output Shape              Param #   \n",
      "=================================================================\n",
      " data_input (InputLayer)     [(None, 2000, 35)]        0         \n",
      "                                                                 \n",
      " conv1 (Conv1D)              (None, 2000, 2)           72        \n",
      "                                                                 \n",
      " lambda (Lambda)             (None, 2)                 0         \n",
      "                                                                 \n",
      " dropout (Dropout)           (None, 2)                 0         \n",
      "                                                                 \n",
      " phenotype_pred (Dense)      (None, 2)                 6         \n",
      "                                                                 \n",
      "=================================================================\n",
      "Total params: 78\n",
      "Trainable params: 78\n",
      "Non-trainable params: 0\n",
      "_________________________________________________________________\n",
      "None\n",
      "Epoch 1/20\n"
     ]
    },
    {
     "name": "stderr",
     "output_type": "stream",
     "text": [
      "2022-04-06 16:25:09.528603: I tensorflow/core/profiler/lib/profiler_session.cc:110] Profiler session initializing.\n",
      "2022-04-06 16:25:09.528620: I tensorflow/core/profiler/lib/profiler_session.cc:125] Profiler session started.\n",
      "2022-04-06 16:25:09.529079: I tensorflow/core/profiler/lib/profiler_session.cc:143] Profiler session tear down.\n"
     ]
    },
    {
     "name": "stdout",
     "output_type": "stream",
     "text": [
      "1/1 [==============================] - 2s 2s/step - loss: 0.6931 - accuracy: 0.5682 - precision: 0.6667 - recall: 0.5000 - val_loss: 0.6953 - val_accuracy: 0.1111 - val_precision: 0.1111 - val_recall: 0.1111\b\b\b\b\b\b\b\b\b\b\b\b\b\b\b\b\b\b\b\b\b\b\b\b\b\b\b\n",
      "Epoch 2/20\n",
      "1/1 [==============================] - 0s 61ms/step - loss: 0.6929 - accuracy: 0.5455 - precision: 0.5455 - recall: 0.5455 - val_loss: 0.6973 - val_accuracy: 0.1111 - val_precision: 0.1111 - val_recall: 0.1111\b\b\b\b\b\b\b\b\b\b\b\b\b\b\b\b\b\b\b\b\b\b\b\b\b\n",
      "Epoch 3/20\n",
      "1/1 [==============================] - 0s 50ms/step - loss: 0.6927 - accuracy: 0.5455 - precision: 0.5455 - recall: 0.5455 - val_loss: 0.6993 - val_accuracy: 0.1111 - val_precision: 0.1111 - val_recall: 0.1111\b\b\b\b\b\b\b\b\b\b\b\b\b\b\b\b\b\b\b\b\b\b\b\b\b\n",
      "Epoch 4/20\n",
      "1/1 [==============================] - 0s 49ms/step - loss: 0.6926 - accuracy: 0.5455 - precision: 0.5455 - recall: 0.5455 - val_loss: 0.7012 - val_accuracy: 0.1111 - val_precision: 0.1111 - val_recall: 0.1111\b\b\b\b\b\b\b\b\b\b\b\b\b\b\b\b\b\b\b\b\b\b\b\b\b\n",
      "Epoch 5/20\n",
      "1/1 [==============================] - ETA: 0s - loss: 0.6923 - accuracy: 0.5455 - precision: 0.5455 - recall: 0.5455"
     ]
    },
    {
     "name": "stderr",
     "output_type": "stream",
     "text": [
      "2022-04-06 16:25:11.685027: I tensorflow/core/profiler/lib/profiler_session.cc:110] Profiler session initializing.\n",
      "2022-04-06 16:25:11.685043: I tensorflow/core/profiler/lib/profiler_session.cc:125] Profiler session started.\n",
      "2022-04-06 16:25:11.705988: I tensorflow/core/profiler/lib/profiler_session.cc:67] Profiler session collecting data.\n",
      "2022-04-06 16:25:11.707695: I tensorflow/core/profiler/lib/profiler_session.cc:143] Profiler session tear down.\n",
      "2022-04-06 16:25:11.711144: I tensorflow/core/profiler/rpc/client/save_profile.cc:136] Creating directory: filter_cv_stl/mtl_class_c8_2_filters/stats/tensorboard/model_1649255109.525015/train/plugins/profile/2022_04_06_16_25_11\n",
      "\n",
      "2022-04-06 16:25:11.712900: I tensorflow/core/profiler/rpc/client/save_profile.cc:142] Dumped gzipped tool data for trace.json.gz to filter_cv_stl/mtl_class_c8_2_filters/stats/tensorboard/model_1649255109.525015/train/plugins/profile/2022_04_06_16_25_11/Eliass-MacBook-Pro.local.trace.json.gz\n",
      "2022-04-06 16:25:11.716518: I tensorflow/core/profiler/rpc/client/save_profile.cc:136] Creating directory: filter_cv_stl/mtl_class_c8_2_filters/stats/tensorboard/model_1649255109.525015/train/plugins/profile/2022_04_06_16_25_11\n",
      "\n",
      "2022-04-06 16:25:11.716790: I tensorflow/core/profiler/rpc/client/save_profile.cc:142] Dumped gzipped tool data for memory_profile.json.gz to filter_cv_stl/mtl_class_c8_2_filters/stats/tensorboard/model_1649255109.525015/train/plugins/profile/2022_04_06_16_25_11/Eliass-MacBook-Pro.local.memory_profile.json.gz\n",
      "2022-04-06 16:25:11.718005: I tensorflow/core/profiler/rpc/client/capture_profile.cc:251] Creating directory: filter_cv_stl/mtl_class_c8_2_filters/stats/tensorboard/model_1649255109.525015/train/plugins/profile/2022_04_06_16_25_11\n",
      "Dumped tool data for xplane.pb to filter_cv_stl/mtl_class_c8_2_filters/stats/tensorboard/model_1649255109.525015/train/plugins/profile/2022_04_06_16_25_11/Eliass-MacBook-Pro.local.xplane.pb\n",
      "Dumped tool data for overview_page.pb to filter_cv_stl/mtl_class_c8_2_filters/stats/tensorboard/model_1649255109.525015/train/plugins/profile/2022_04_06_16_25_11/Eliass-MacBook-Pro.local.overview_page.pb\n",
      "Dumped tool data for input_pipeline.pb to filter_cv_stl/mtl_class_c8_2_filters/stats/tensorboard/model_1649255109.525015/train/plugins/profile/2022_04_06_16_25_11/Eliass-MacBook-Pro.local.input_pipeline.pb\n",
      "Dumped tool data for tensorflow_stats.pb to filter_cv_stl/mtl_class_c8_2_filters/stats/tensorboard/model_1649255109.525015/train/plugins/profile/2022_04_06_16_25_11/Eliass-MacBook-Pro.local.tensorflow_stats.pb\n",
      "Dumped tool data for kernel_stats.pb to filter_cv_stl/mtl_class_c8_2_filters/stats/tensorboard/model_1649255109.525015/train/plugins/profile/2022_04_06_16_25_11/Eliass-MacBook-Pro.local.kernel_stats.pb\n",
      "\n"
     ]
    },
    {
     "name": "stdout",
     "output_type": "stream",
     "text": [
      "1/1 [==============================] - 0s 58ms/step - loss: 0.6923 - accuracy: 0.5455 - precision: 0.5455 - recall: 0.5455 - val_loss: 0.7032 - val_accuracy: 0.1111 - val_precision: 0.1111 - val_recall: 0.1111\n",
      "Epoch 6/20\n",
      "1/1 [==============================] - 0s 46ms/step - loss: 0.6922 - accuracy: 0.5455 - precision: 0.5455 - recall: 0.5455 - val_loss: 0.7051 - val_accuracy: 0.1111 - val_precision: 0.1111 - val_recall: 0.1111\b\b\b\b\b\b\b\b\b\b\b\b\b\b\b\b\b\b\b\b\b\b\b\b\b\n",
      "1/1 [==============================] - 0s 352ms/step - loss: 0.6953 - accuracy: 0.1111 - precision: 0.1111 - recall: 0.1111\b\b\b\b\b\b\b\b\b\b\b\b\b\b\b\b\b\b\b\b\b\b\b\b\b\b\b\b\b\b\b\b\b\b\b\b\b\b\b\b\b\b\b\b\b\b\b\b\b\b\b\b\b\b\b\b\b\b\b\b\b\b\b\b\b\b\b\b\b\b\b\b\b\b\b\b\b\b\b\b\b\b\b\b\b\b\b\b\b\b\b\b\b\b\b\b\b\b\b\b\b\b\b\b\b\b\b\b\b\b\b\n",
      "Model: \"model_1\"\n",
      "_________________________________________________________________\n",
      " Layer (type)                Output Shape              Param #   \n",
      "=================================================================\n",
      " data_input (InputLayer)     [(None, 2000, 35)]        0         \n",
      "                                                                 \n",
      " conv1 (Conv1D)              (None, 2000, 2)           72        \n",
      "                                                                 \n",
      " lambda_1 (Lambda)           (None, 2)                 0         \n",
      "                                                                 \n",
      " dropout_1 (Dropout)         (None, 2)                 0         \n",
      "                                                                 \n",
      " phenotype_pred (Dense)      (None, 2)                 6         \n",
      "                                                                 \n",
      "=================================================================\n",
      "Total params: 78\n",
      "Trainable params: 78\n",
      "Non-trainable params: 0\n",
      "_________________________________________________________________\n",
      "None\n",
      "Epoch 1/20\n"
     ]
    },
    {
     "name": "stderr",
     "output_type": "stream",
     "text": [
      "2022-04-06 16:25:13.259808: I tensorflow/core/profiler/lib/profiler_session.cc:110] Profiler session initializing.\n",
      "2022-04-06 16:25:13.259826: I tensorflow/core/profiler/lib/profiler_session.cc:125] Profiler session started.\n",
      "2022-04-06 16:25:13.259995: I tensorflow/core/profiler/lib/profiler_session.cc:143] Profiler session tear down.\n"
     ]
    },
    {
     "name": "stdout",
     "output_type": "stream",
     "text": [
      "1/1 [==============================] - 1s 1s/step - loss: 0.6931 - accuracy: 0.5455 - precision_1: 0.5143 - recall_1: 0.4091 - val_loss: 0.7008 - val_accuracy: 0.1111 - val_precision_1: 0.1111 - val_recall_1: 0.1111\b\b\b\b\b\b\b\b\b\b\b\b\b\b\b\b\b\b\b\b\b\b\b\b\b\b\b\n",
      "Epoch 2/20\n",
      "1/1 [==============================] - 0s 170ms/step - loss: 0.6921 - accuracy: 0.5455 - precision_1: 0.5455 - recall_1: 0.5455 - val_loss: 0.7082 - val_accuracy: 0.1111 - val_precision_1: 0.1111 - val_recall_1: 0.1111\b\b\b\b\b\b\b\b\b\b\b\b\b\b\b\b\b\b\b\b\b\b\b\b\n",
      "Epoch 3/20\n",
      "1/1 [==============================] - ETA: 0s - loss: 0.6918 - accuracy: 0.5455 - precision_1: 0.5455 - recall_1: 0.5455"
     ]
    },
    {
     "name": "stderr",
     "output_type": "stream",
     "text": [
      "2022-04-06 16:25:14.761877: I tensorflow/core/profiler/lib/profiler_session.cc:110] Profiler session initializing.\n",
      "2022-04-06 16:25:14.761902: I tensorflow/core/profiler/lib/profiler_session.cc:125] Profiler session started.\n",
      "2022-04-06 16:25:14.892010: I tensorflow/core/profiler/lib/profiler_session.cc:67] Profiler session collecting data.\n",
      "2022-04-06 16:25:14.893228: I tensorflow/core/profiler/lib/profiler_session.cc:143] Profiler session tear down.\n",
      "2022-04-06 16:25:14.895359: I tensorflow/core/profiler/rpc/client/save_profile.cc:136] Creating directory: filter_cv_stl/mtl_class_c8_2_filters/stats/tensorboard/model_1_1649255113.259684/train/plugins/profile/2022_04_06_16_25_14\n",
      "\n",
      "2022-04-06 16:25:14.896819: I tensorflow/core/profiler/rpc/client/save_profile.cc:142] Dumped gzipped tool data for trace.json.gz to filter_cv_stl/mtl_class_c8_2_filters/stats/tensorboard/model_1_1649255113.259684/train/plugins/profile/2022_04_06_16_25_14/Eliass-MacBook-Pro.local.trace.json.gz\n",
      "2022-04-06 16:25:14.898870: I tensorflow/core/profiler/rpc/client/save_profile.cc:136] Creating directory: filter_cv_stl/mtl_class_c8_2_filters/stats/tensorboard/model_1_1649255113.259684/train/plugins/profile/2022_04_06_16_25_14\n",
      "\n",
      "2022-04-06 16:25:14.899137: I tensorflow/core/profiler/rpc/client/save_profile.cc:142] Dumped gzipped tool data for memory_profile.json.gz to filter_cv_stl/mtl_class_c8_2_filters/stats/tensorboard/model_1_1649255113.259684/train/plugins/profile/2022_04_06_16_25_14/Eliass-MacBook-Pro.local.memory_profile.json.gz\n",
      "2022-04-06 16:25:14.900366: I tensorflow/core/profiler/rpc/client/capture_profile.cc:251] Creating directory: filter_cv_stl/mtl_class_c8_2_filters/stats/tensorboard/model_1_1649255113.259684/train/plugins/profile/2022_04_06_16_25_14\n",
      "Dumped tool data for xplane.pb to filter_cv_stl/mtl_class_c8_2_filters/stats/tensorboard/model_1_1649255113.259684/train/plugins/profile/2022_04_06_16_25_14/Eliass-MacBook-Pro.local.xplane.pb\n",
      "Dumped tool data for overview_page.pb to filter_cv_stl/mtl_class_c8_2_filters/stats/tensorboard/model_1_1649255113.259684/train/plugins/profile/2022_04_06_16_25_14/Eliass-MacBook-Pro.local.overview_page.pb\n",
      "Dumped tool data for input_pipeline.pb to filter_cv_stl/mtl_class_c8_2_filters/stats/tensorboard/model_1_1649255113.259684/train/plugins/profile/2022_04_06_16_25_14/Eliass-MacBook-Pro.local.input_pipeline.pb\n",
      "Dumped tool data for tensorflow_stats.pb to filter_cv_stl/mtl_class_c8_2_filters/stats/tensorboard/model_1_1649255113.259684/train/plugins/profile/2022_04_06_16_25_14/Eliass-MacBook-Pro.local.tensorflow_stats.pb\n",
      "Dumped tool data for kernel_stats.pb to filter_cv_stl/mtl_class_c8_2_filters/stats/tensorboard/model_1_1649255113.259684/train/plugins/profile/2022_04_06_16_25_14/Eliass-MacBook-Pro.local.kernel_stats.pb\n",
      "\n"
     ]
    },
    {
     "name": "stdout",
     "output_type": "stream",
     "text": [
      "1/1 [==============================] - 0s 46ms/step - loss: 0.6918 - accuracy: 0.5455 - precision_1: 0.5455 - recall_1: 0.5455 - val_loss: 0.7154 - val_accuracy: 0.1111 - val_precision_1: 0.1111 - val_recall_1: 0.1111\n",
      "Epoch 4/20\n",
      "1/1 [==============================] - 0s 54ms/step - loss: 0.6907 - accuracy: 0.5455 - precision_1: 0.5455 - recall_1: 0.5455 - val_loss: 0.7229 - val_accuracy: 0.1111 - val_precision_1: 0.1111 - val_recall_1: 0.1111\b\b\b\b\b\b\b\b\b\b\b\b\b\b\b\b\b\b\b\b\b\b\b\b\b\n",
      "Epoch 5/20\n",
      "1/1 [==============================] - 0s 50ms/step - loss: 0.6900 - accuracy: 0.5455 - precision_1: 0.5455 - recall_1: 0.5455 - val_loss: 0.7305 - val_accuracy: 0.1111 - val_precision_1: 0.1111 - val_recall_1: 0.1111\b\b\b\b\b\b\b\b\b\b\b\b\b\b\b\b\b\b\b\b\b\b\b\b\b\n",
      "Epoch 6/20\n",
      "1/1 [==============================] - 0s 56ms/step - loss: 0.6904 - accuracy: 0.5455 - precision_1: 0.5455 - recall_1: 0.5455 - val_loss: 0.7378 - val_accuracy: 0.1111 - val_precision_1: 0.1111 - val_recall_1: 0.1111\b\b\b\b\b\b\b\b\b\b\b\b\b\b\b\b\b\b\b\b\b\b\b\b\b\n",
      "1/1 [==============================] - 0s 363ms/step - loss: 0.7008 - accuracy: 0.1111 - precision_1: 0.1111 - recall_1: 0.1111\b\b\b\b\b\b\b\b\b\b\b\b\b\b\b\b\b\b\b\b\b\b\b\b\b\b\b\b\b\b\b\b\b\b\b\b\b\b\b\b\b\b\b\b\b\b\b\b\b\b\b\b\b\b\b\b\b\b\b\b\b\b\b\b\b\b\b\b\b\b\b\b\b\b\b\b\b\b\b\b\b\b\b\b\b\b\b\b\b\b\b\b\b\b\b\b\b\b\b\b\b\b\b\b\b\b\b\b\b\b\b\b\b\b\b\n",
      "Model: \"model_2\"\n",
      "_________________________________________________________________\n",
      " Layer (type)                Output Shape              Param #   \n",
      "=================================================================\n",
      " data_input (InputLayer)     [(None, 2000, 35)]        0         \n",
      "                                                                 \n",
      " conv1 (Conv1D)              (None, 2000, 2)           72        \n",
      "                                                                 \n",
      " lambda_2 (Lambda)           (None, 2)                 0         \n",
      "                                                                 \n",
      " dropout_2 (Dropout)         (None, 2)                 0         \n",
      "                                                                 \n",
      " phenotype_pred (Dense)      (None, 2)                 6         \n",
      "                                                                 \n",
      "=================================================================\n",
      "Total params: 78\n",
      "Trainable params: 78\n",
      "Non-trainable params: 0\n",
      "_________________________________________________________________\n",
      "None\n",
      "Epoch 1/20\n"
     ]
    },
    {
     "name": "stderr",
     "output_type": "stream",
     "text": [
      "2022-04-06 16:25:16.220787: I tensorflow/core/profiler/lib/profiler_session.cc:110] Profiler session initializing.\n",
      "2022-04-06 16:25:16.220814: I tensorflow/core/profiler/lib/profiler_session.cc:125] Profiler session started.\n",
      "2022-04-06 16:25:16.221164: I tensorflow/core/profiler/lib/profiler_session.cc:143] Profiler session tear down.\n"
     ]
    },
    {
     "name": "stdout",
     "output_type": "stream",
     "text": [
      "1/1 [==============================] - ETA: 0s - loss: 0.6930 - accuracy: 0.5000 - precision_2: 0.5405 - recall_2: 0.4545WARNING:tensorflow:5 out of the last 15 calls to <function Model.make_test_function.<locals>.test_function at 0x136151160> triggered tf.function retracing. Tracing is expensive and the excessive number of tracings could be due to (1) creating @tf.function repeatedly in a loop, (2) passing tensors with different shapes, (3) passing Python objects instead of tensors. For (1), please define your @tf.function outside of the loop. For (2), @tf.function has experimental_relax_shapes=True option that relaxes argument shapes that can avoid unnecessary retracing. For (3), please refer to https://www.tensorflow.org/guide/function#controlling_retracing and https://www.tensorflow.org/api_docs/python/tf/function for  more details.\n",
      "1/1 [==============================] - 2s 2s/step - loss: 0.6930 - accuracy: 0.5000 - precision_2: 0.5405 - recall_2: 0.4545 - val_loss: 0.6951 - val_accuracy: 0.1111 - val_precision_2: 0.1111 - val_recall_2: 0.1111\n",
      "Epoch 2/20\n",
      "1/1 [==============================] - 0s 138ms/step - loss: 0.6931 - accuracy: 0.5455 - precision_2: 0.5455 - recall_2: 0.5455 - val_loss: 0.6963 - val_accuracy: 0.1111 - val_precision_2: 0.1111 - val_recall_2: 0.1111\b\b\b\b\b\b\b\b\b\b\b\b\b\b\b\b\b\b\b\b\b\b\b\b\n",
      "Epoch 3/20\n",
      "1/1 [==============================] - 0s 48ms/step - loss: 0.6927 - accuracy: 0.5455 - precision_2: 0.5455 - recall_2: 0.5455 - val_loss: 0.6976 - val_accuracy: 0.1111 - val_precision_2: 0.1111 - val_recall_2: 0.1111\b\b\b\b\b\b\b\b\b\b\b\b\b\b\b\b\b\b\b\b\b\b\b\b\b\n",
      "Epoch 4/20\n"
     ]
    },
    {
     "name": "stderr",
     "output_type": "stream",
     "text": [
      "2022-04-06 16:25:18.459815: I tensorflow/core/profiler/lib/profiler_session.cc:110] Profiler session initializing.\n",
      "2022-04-06 16:25:18.459841: I tensorflow/core/profiler/lib/profiler_session.cc:125] Profiler session started.\n",
      "2022-04-06 16:25:18.558880: I tensorflow/core/profiler/lib/profiler_session.cc:67] Profiler session collecting data.\n",
      "2022-04-06 16:25:18.560052: I tensorflow/core/profiler/lib/profiler_session.cc:143] Profiler session tear down.\n",
      "2022-04-06 16:25:18.561725: I tensorflow/core/profiler/rpc/client/save_profile.cc:136] Creating directory: filter_cv_stl/mtl_class_c8_2_filters/stats/tensorboard/model_2_1649255116.220574/train/plugins/profile/2022_04_06_16_25_18\n",
      "\n",
      "2022-04-06 16:25:18.563664: I tensorflow/core/profiler/rpc/client/save_profile.cc:142] Dumped gzipped tool data for trace.json.gz to filter_cv_stl/mtl_class_c8_2_filters/stats/tensorboard/model_2_1649255116.220574/train/plugins/profile/2022_04_06_16_25_18/Eliass-MacBook-Pro.local.trace.json.gz\n",
      "2022-04-06 16:25:18.566371: I tensorflow/core/profiler/rpc/client/save_profile.cc:136] Creating directory: filter_cv_stl/mtl_class_c8_2_filters/stats/tensorboard/model_2_1649255116.220574/train/plugins/profile/2022_04_06_16_25_18\n",
      "\n",
      "2022-04-06 16:25:18.566691: I tensorflow/core/profiler/rpc/client/save_profile.cc:142] Dumped gzipped tool data for memory_profile.json.gz to filter_cv_stl/mtl_class_c8_2_filters/stats/tensorboard/model_2_1649255116.220574/train/plugins/profile/2022_04_06_16_25_18/Eliass-MacBook-Pro.local.memory_profile.json.gz\n",
      "2022-04-06 16:25:18.567985: I tensorflow/core/profiler/rpc/client/capture_profile.cc:251] Creating directory: filter_cv_stl/mtl_class_c8_2_filters/stats/tensorboard/model_2_1649255116.220574/train/plugins/profile/2022_04_06_16_25_18\n",
      "Dumped tool data for xplane.pb to filter_cv_stl/mtl_class_c8_2_filters/stats/tensorboard/model_2_1649255116.220574/train/plugins/profile/2022_04_06_16_25_18/Eliass-MacBook-Pro.local.xplane.pb\n",
      "Dumped tool data for overview_page.pb to filter_cv_stl/mtl_class_c8_2_filters/stats/tensorboard/model_2_1649255116.220574/train/plugins/profile/2022_04_06_16_25_18/Eliass-MacBook-Pro.local.overview_page.pb\n",
      "Dumped tool data for input_pipeline.pb to filter_cv_stl/mtl_class_c8_2_filters/stats/tensorboard/model_2_1649255116.220574/train/plugins/profile/2022_04_06_16_25_18/Eliass-MacBook-Pro.local.input_pipeline.pb\n",
      "Dumped tool data for tensorflow_stats.pb to filter_cv_stl/mtl_class_c8_2_filters/stats/tensorboard/model_2_1649255116.220574/train/plugins/profile/2022_04_06_16_25_18/Eliass-MacBook-Pro.local.tensorflow_stats.pb\n",
      "Dumped tool data for kernel_stats.pb to filter_cv_stl/mtl_class_c8_2_filters/stats/tensorboard/model_2_1649255116.220574/train/plugins/profile/2022_04_06_16_25_18/Eliass-MacBook-Pro.local.kernel_stats.pb\n",
      "\n"
     ]
    },
    {
     "name": "stdout",
     "output_type": "stream",
     "text": [
      "1/1 [==============================] - 0s 49ms/step - loss: 0.6924 - accuracy: 0.5455 - precision_2: 0.5455 - recall_2: 0.5455 - val_loss: 0.6988 - val_accuracy: 0.1111 - val_precision_2: 0.1111 - val_recall_2: 0.1111\b\b\b\b\b\b\b\b\b\b\b\b\b\b\b\b\b\b\b\b\b\b\b\b\b\n",
      "Epoch 5/20\n",
      "1/1 [==============================] - 0s 49ms/step - loss: 0.6929 - accuracy: 0.5455 - precision_2: 0.5455 - recall_2: 0.5455 - val_loss: 0.7000 - val_accuracy: 0.1111 - val_precision_2: 0.1111 - val_recall_2: 0.1111\b\b\b\b\b\b\b\b\b\b\b\b\b\b\b\b\b\b\b\b\b\b\b\b\b\n",
      "Epoch 6/20\n",
      "1/1 [==============================] - 0s 44ms/step - loss: 0.6924 - accuracy: 0.5455 - precision_2: 0.5455 - recall_2: 0.5455 - val_loss: 0.7013 - val_accuracy: 0.1111 - val_precision_2: 0.1111 - val_recall_2: 0.1111\b\b\b\b\b\b\b\b\b\b\b\b\b\b\b\b\b\b\b\b\b\b\b\b\b\n",
      "1/1 [==============================] - 0s 352ms/step - loss: 0.6951 - accuracy: 0.1111 - precision_2: 0.1111 - recall_2: 0.1111\b\b\b\b\b\b\b\b\b\b\b\b\b\b\b\b\b\b\b\b\b\b\b\b\b\b\b\b\b\b\b\b\b\b\b\b\b\b\b\b\b\b\b\b\b\b\b\b\b\b\b\b\b\b\b\b\b\b\b\b\b\b\b\b\b\b\b\b\b\b\b\b\b\b\b\b\b\b\b\b\b\b\b\b\b\b\b\b\b\b\b\b\b\b\b\b\b\b\b\b\b\b\b\b\b\b\b\b\b\b\b\b\b\b\b\n",
      "DONE building model 2\n",
      "Model: \"model_3\"\n",
      "_________________________________________________________________\n",
      " Layer (type)                Output Shape              Param #   \n",
      "=================================================================\n",
      " data_input (InputLayer)     [(None, 2000, 35)]        0         \n",
      "                                                                 \n",
      " conv1 (Conv1D)              (None, 2000, 3)           108       \n",
      "                                                                 \n",
      " lambda_3 (Lambda)           (None, 3)                 0         \n",
      "                                                                 \n",
      " dropout_3 (Dropout)         (None, 3)                 0         \n",
      "                                                                 \n",
      " phenotype_pred (Dense)      (None, 2)                 8         \n",
      "                                                                 \n",
      "=================================================================\n",
      "Total params: 116\n",
      "Trainable params: 116\n",
      "Non-trainable params: 0\n",
      "_________________________________________________________________\n",
      "None\n",
      "Epoch 1/20\n"
     ]
    },
    {
     "name": "stderr",
     "output_type": "stream",
     "text": [
      "2022-04-06 16:25:19.992068: I tensorflow/core/profiler/lib/profiler_session.cc:110] Profiler session initializing.\n",
      "2022-04-06 16:25:19.992085: I tensorflow/core/profiler/lib/profiler_session.cc:125] Profiler session started.\n",
      "2022-04-06 16:25:19.992481: I tensorflow/core/profiler/lib/profiler_session.cc:143] Profiler session tear down.\n"
     ]
    },
    {
     "name": "stdout",
     "output_type": "stream",
     "text": [
      "1/1 [==============================] - ETA: 0s - loss: 0.6930 - accuracy: 0.5455 - precision_3: 0.5556 - recall_3: 0.4545WARNING:tensorflow:5 out of the last 15 calls to <function Model.make_test_function.<locals>.test_function at 0x136597790> triggered tf.function retracing. Tracing is expensive and the excessive number of tracings could be due to (1) creating @tf.function repeatedly in a loop, (2) passing tensors with different shapes, (3) passing Python objects instead of tensors. For (1), please define your @tf.function outside of the loop. For (2), @tf.function has experimental_relax_shapes=True option that relaxes argument shapes that can avoid unnecessary retracing. For (3), please refer to https://www.tensorflow.org/guide/function#controlling_retracing and https://www.tensorflow.org/api_docs/python/tf/function for  more details.\n",
      "1/1 [==============================] - 2s 2s/step - loss: 0.6930 - accuracy: 0.5455 - precision_3: 0.5556 - recall_3: 0.4545 - val_loss: 0.6979 - val_accuracy: 0.1111 - val_precision_3: 0.1111 - val_recall_3: 0.1111\n",
      "Epoch 2/20\n",
      "1/1 [==============================] - 0s 151ms/step - loss: 0.6928 - accuracy: 0.5455 - precision_3: 0.5455 - recall_3: 0.5455 - val_loss: 0.7017 - val_accuracy: 0.1111 - val_precision_3: 0.1111 - val_recall_3: 0.1111\b\b\b\b\b\b\b\b\b\b\b\b\b\b\b\b\b\b\b\b\b\b\b\b\n",
      "Epoch 3/20\n",
      "1/1 [==============================] - ETA: 0s - loss: 0.6925 - accuracy: 0.5455 - precision_3: 0.5455 - recall_3: 0.5455"
     ]
    },
    {
     "name": "stderr",
     "output_type": "stream",
     "text": [
      "2022-04-06 16:25:21.781125: I tensorflow/core/profiler/lib/profiler_session.cc:110] Profiler session initializing.\n",
      "2022-04-06 16:25:21.781143: I tensorflow/core/profiler/lib/profiler_session.cc:125] Profiler session started.\n",
      "2022-04-06 16:25:21.892095: I tensorflow/core/profiler/lib/profiler_session.cc:67] Profiler session collecting data.\n",
      "2022-04-06 16:25:21.893365: I tensorflow/core/profiler/lib/profiler_session.cc:143] Profiler session tear down.\n",
      "2022-04-06 16:25:21.895670: I tensorflow/core/profiler/rpc/client/save_profile.cc:136] Creating directory: filter_cv_stl/mtl_class_c8_3_filters/stats/tensorboard/model_3_1649255119.991938/train/plugins/profile/2022_04_06_16_25_21\n",
      "\n",
      "2022-04-06 16:25:21.897570: I tensorflow/core/profiler/rpc/client/save_profile.cc:142] Dumped gzipped tool data for trace.json.gz to filter_cv_stl/mtl_class_c8_3_filters/stats/tensorboard/model_3_1649255119.991938/train/plugins/profile/2022_04_06_16_25_21/Eliass-MacBook-Pro.local.trace.json.gz\n",
      "2022-04-06 16:25:21.899587: I tensorflow/core/profiler/rpc/client/save_profile.cc:136] Creating directory: filter_cv_stl/mtl_class_c8_3_filters/stats/tensorboard/model_3_1649255119.991938/train/plugins/profile/2022_04_06_16_25_21\n",
      "\n",
      "2022-04-06 16:25:21.899812: I tensorflow/core/profiler/rpc/client/save_profile.cc:142] Dumped gzipped tool data for memory_profile.json.gz to filter_cv_stl/mtl_class_c8_3_filters/stats/tensorboard/model_3_1649255119.991938/train/plugins/profile/2022_04_06_16_25_21/Eliass-MacBook-Pro.local.memory_profile.json.gz\n",
      "2022-04-06 16:25:21.900987: I tensorflow/core/profiler/rpc/client/capture_profile.cc:251] Creating directory: filter_cv_stl/mtl_class_c8_3_filters/stats/tensorboard/model_3_1649255119.991938/train/plugins/profile/2022_04_06_16_25_21\n",
      "Dumped tool data for xplane.pb to filter_cv_stl/mtl_class_c8_3_filters/stats/tensorboard/model_3_1649255119.991938/train/plugins/profile/2022_04_06_16_25_21/Eliass-MacBook-Pro.local.xplane.pb\n",
      "Dumped tool data for overview_page.pb to filter_cv_stl/mtl_class_c8_3_filters/stats/tensorboard/model_3_1649255119.991938/train/plugins/profile/2022_04_06_16_25_21/Eliass-MacBook-Pro.local.overview_page.pb\n",
      "Dumped tool data for input_pipeline.pb to filter_cv_stl/mtl_class_c8_3_filters/stats/tensorboard/model_3_1649255119.991938/train/plugins/profile/2022_04_06_16_25_21/Eliass-MacBook-Pro.local.input_pipeline.pb\n",
      "Dumped tool data for tensorflow_stats.pb to filter_cv_stl/mtl_class_c8_3_filters/stats/tensorboard/model_3_1649255119.991938/train/plugins/profile/2022_04_06_16_25_21/Eliass-MacBook-Pro.local.tensorflow_stats.pb\n",
      "Dumped tool data for kernel_stats.pb to filter_cv_stl/mtl_class_c8_3_filters/stats/tensorboard/model_3_1649255119.991938/train/plugins/profile/2022_04_06_16_25_21/Eliass-MacBook-Pro.local.kernel_stats.pb\n",
      "\n"
     ]
    },
    {
     "name": "stdout",
     "output_type": "stream",
     "text": [
      "1/1 [==============================] - 0s 57ms/step - loss: 0.6925 - accuracy: 0.5455 - precision_3: 0.5455 - recall_3: 0.5455 - val_loss: 0.7054 - val_accuracy: 0.1111 - val_precision_3: 0.1111 - val_recall_3: 0.1111\n",
      "Epoch 4/20\n",
      "1/1 [==============================] - 0s 60ms/step - loss: 0.6915 - accuracy: 0.5455 - precision_3: 0.5455 - recall_3: 0.5455 - val_loss: 0.7090 - val_accuracy: 0.1111 - val_precision_3: 0.1111 - val_recall_3: 0.1111\b\b\b\b\b\b\b\b\b\b\b\b\b\b\b\b\b\b\b\b\b\b\b\b\b\n",
      "Epoch 5/20\n",
      "1/1 [==============================] - 0s 63ms/step - loss: 0.6922 - accuracy: 0.5455 - precision_3: 0.5455 - recall_3: 0.5455 - val_loss: 0.7124 - val_accuracy: 0.1111 - val_precision_3: 0.1111 - val_recall_3: 0.1111\b\b\b\b\b\b\b\b\b\b\b\b\b\b\b\b\b\b\b\b\b\b\b\b\b\n",
      "Epoch 6/20\n",
      "1/1 [==============================] - 0s 68ms/step - loss: 0.6908 - accuracy: 0.5455 - precision_3: 0.5455 - recall_3: 0.5455 - val_loss: 0.7161 - val_accuracy: 0.1111 - val_precision_3: 0.1111 - val_recall_3: 0.1111\b\b\b\b\b\b\b\b\b\b\b\b\b\b\b\b\b\b\b\b\b\b\b\b\b\n",
      "1/1 [==============================] - 0s 331ms/step - loss: 0.6979 - accuracy: 0.1111 - precision_3: 0.1111 - recall_3: 0.1111\b\b\b\b\b\b\b\b\b\b\b\b\b\b\b\b\b\b\b\b\b\b\b\b\b\b\b\b\b\b\b\b\b\b\b\b\b\b\b\b\b\b\b\b\b\b\b\b\b\b\b\b\b\b\b\b\b\b\b\b\b\b\b\b\b\b\b\b\b\b\b\b\b\b\b\b\b\b\b\b\b\b\b\b\b\b\b\b\b\b\b\b\b\b\b\b\b\b\b\b\b\b\b\b\b\b\b\b\b\b\b\b\b\b\b\n",
      "Model: \"model_4\"\n",
      "_________________________________________________________________\n",
      " Layer (type)                Output Shape              Param #   \n",
      "=================================================================\n",
      " data_input (InputLayer)     [(None, 2000, 35)]        0         \n",
      "                                                                 \n",
      " conv1 (Conv1D)              (None, 2000, 3)           108       \n",
      "                                                                 \n",
      " lambda_4 (Lambda)           (None, 3)                 0         \n",
      "                                                                 \n",
      " dropout_4 (Dropout)         (None, 3)                 0         \n",
      "                                                                 \n",
      " phenotype_pred (Dense)      (None, 2)                 8         \n",
      "                                                                 \n",
      "=================================================================\n",
      "Total params: 116\n",
      "Trainable params: 116\n",
      "Non-trainable params: 0\n",
      "_________________________________________________________________\n",
      "None\n",
      "Epoch 1/20\n"
     ]
    },
    {
     "name": "stderr",
     "output_type": "stream",
     "text": [
      "2022-04-06 16:25:23.192190: I tensorflow/core/profiler/lib/profiler_session.cc:110] Profiler session initializing.\n",
      "2022-04-06 16:25:23.192209: I tensorflow/core/profiler/lib/profiler_session.cc:125] Profiler session started.\n",
      "2022-04-06 16:25:23.192410: I tensorflow/core/profiler/lib/profiler_session.cc:143] Profiler session tear down.\n"
     ]
    },
    {
     "name": "stdout",
     "output_type": "stream",
     "text": [
      "1/1 [==============================] - 1s 1s/step - loss: 0.6932 - accuracy: 0.5000 - precision_4: 0.4737 - recall_4: 0.4091 - val_loss: 0.6945 - val_accuracy: 0.1111 - val_precision_4: 0.1111 - val_recall_4: 0.1111\b\b\b\b\b\b\b\b\b\b\b\b\b\b\b\b\b\b\b\b\b\b\b\b\b\b\b\n",
      "Epoch 2/20\n",
      "1/1 [==============================] - 0s 157ms/step - loss: 0.6930 - accuracy: 0.5455 - precision_4: 0.5455 - recall_4: 0.5455 - val_loss: 0.6961 - val_accuracy: 0.1111 - val_precision_4: 0.1111 - val_recall_4: 0.1111\b\b\b\b\b\b\b\b\b\b\b\b\b\b\b\b\b\b\b\b\b\b\b\b\n",
      "Epoch 3/20\n",
      "1/1 [==============================] - ETA: 0s - loss: 0.6928 - accuracy: 0.5455 - precision_4: 0.5455 - recall_4: 0.5455"
     ]
    },
    {
     "name": "stderr",
     "output_type": "stream",
     "text": [
      "2022-04-06 16:25:24.646960: I tensorflow/core/profiler/lib/profiler_session.cc:110] Profiler session initializing.\n",
      "2022-04-06 16:25:24.646979: I tensorflow/core/profiler/lib/profiler_session.cc:125] Profiler session started.\n",
      "2022-04-06 16:25:24.759265: I tensorflow/core/profiler/lib/profiler_session.cc:67] Profiler session collecting data.\n",
      "2022-04-06 16:25:24.760695: I tensorflow/core/profiler/lib/profiler_session.cc:143] Profiler session tear down.\n",
      "2022-04-06 16:25:24.762627: I tensorflow/core/profiler/rpc/client/save_profile.cc:136] Creating directory: filter_cv_stl/mtl_class_c8_3_filters/stats/tensorboard/model_4_1649255123.1920462/train/plugins/profile/2022_04_06_16_25_24\n",
      "\n",
      "2022-04-06 16:25:24.764435: I tensorflow/core/profiler/rpc/client/save_profile.cc:142] Dumped gzipped tool data for trace.json.gz to filter_cv_stl/mtl_class_c8_3_filters/stats/tensorboard/model_4_1649255123.1920462/train/plugins/profile/2022_04_06_16_25_24/Eliass-MacBook-Pro.local.trace.json.gz\n",
      "2022-04-06 16:25:24.766677: I tensorflow/core/profiler/rpc/client/save_profile.cc:136] Creating directory: filter_cv_stl/mtl_class_c8_3_filters/stats/tensorboard/model_4_1649255123.1920462/train/plugins/profile/2022_04_06_16_25_24\n",
      "\n",
      "2022-04-06 16:25:24.766947: I tensorflow/core/profiler/rpc/client/save_profile.cc:142] Dumped gzipped tool data for memory_profile.json.gz to filter_cv_stl/mtl_class_c8_3_filters/stats/tensorboard/model_4_1649255123.1920462/train/plugins/profile/2022_04_06_16_25_24/Eliass-MacBook-Pro.local.memory_profile.json.gz\n",
      "2022-04-06 16:25:24.768384: I tensorflow/core/profiler/rpc/client/capture_profile.cc:251] Creating directory: filter_cv_stl/mtl_class_c8_3_filters/stats/tensorboard/model_4_1649255123.1920462/train/plugins/profile/2022_04_06_16_25_24\n",
      "Dumped tool data for xplane.pb to filter_cv_stl/mtl_class_c8_3_filters/stats/tensorboard/model_4_1649255123.1920462/train/plugins/profile/2022_04_06_16_25_24/Eliass-MacBook-Pro.local.xplane.pb\n",
      "Dumped tool data for overview_page.pb to filter_cv_stl/mtl_class_c8_3_filters/stats/tensorboard/model_4_1649255123.1920462/train/plugins/profile/2022_04_06_16_25_24/Eliass-MacBook-Pro.local.overview_page.pb\n",
      "Dumped tool data for input_pipeline.pb to filter_cv_stl/mtl_class_c8_3_filters/stats/tensorboard/model_4_1649255123.1920462/train/plugins/profile/2022_04_06_16_25_24/Eliass-MacBook-Pro.local.input_pipeline.pb\n",
      "Dumped tool data for tensorflow_stats.pb to filter_cv_stl/mtl_class_c8_3_filters/stats/tensorboard/model_4_1649255123.1920462/train/plugins/profile/2022_04_06_16_25_24/Eliass-MacBook-Pro.local.tensorflow_stats.pb\n",
      "Dumped tool data for kernel_stats.pb to filter_cv_stl/mtl_class_c8_3_filters/stats/tensorboard/model_4_1649255123.1920462/train/plugins/profile/2022_04_06_16_25_24/Eliass-MacBook-Pro.local.kernel_stats.pb\n",
      "\n"
     ]
    },
    {
     "name": "stdout",
     "output_type": "stream",
     "text": [
      "1/1 [==============================] - 0s 55ms/step - loss: 0.6928 - accuracy: 0.5455 - precision_4: 0.5455 - recall_4: 0.5455 - val_loss: 0.6978 - val_accuracy: 0.1111 - val_precision_4: 0.1111 - val_recall_4: 0.1111\n",
      "Epoch 4/20\n",
      "1/1 [==============================] - 0s 60ms/step - loss: 0.6926 - accuracy: 0.5455 - precision_4: 0.5455 - recall_4: 0.5455 - val_loss: 0.6995 - val_accuracy: 0.1111 - val_precision_4: 0.1111 - val_recall_4: 0.1111\b\b\b\b\b\b\b\b\b\b\b\b\b\b\b\b\b\b\b\b\b\b\b\b\b\n",
      "Epoch 5/20\n",
      "1/1 [==============================] - 0s 50ms/step - loss: 0.6923 - accuracy: 0.5455 - precision_4: 0.5455 - recall_4: 0.5455 - val_loss: 0.7010 - val_accuracy: 0.1111 - val_precision_4: 0.1111 - val_recall_4: 0.1111\b\b\b\b\b\b\b\b\b\b\b\b\b\b\b\b\b\b\b\b\b\b\b\b\b\n",
      "Epoch 6/20\n",
      "1/1 [==============================] - 0s 51ms/step - loss: 0.6923 - accuracy: 0.5455 - precision_4: 0.5455 - recall_4: 0.5455 - val_loss: 0.7026 - val_accuracy: 0.1111 - val_precision_4: 0.1111 - val_recall_4: 0.1111\b\b\b\b\b\b\b\b\b\b\b\b\b\b\b\b\b\b\b\b\b\b\b\b\b\n",
      "1/1 [==============================] - 0s 359ms/step - loss: 0.6945 - accuracy: 0.1111 - precision_4: 0.1111 - recall_4: 0.1111\b\b\b\b\b\b\b\b\b\b\b\b\b\b\b\b\b\b\b\b\b\b\b\b\b\b\b\b\b\b\b\b\b\b\b\b\b\b\b\b\b\b\b\b\b\b\b\b\b\b\b\b\b\b\b\b\b\b\b\b\b\b\b\b\b\b\b\b\b\b\b\b\b\b\b\b\b\b\b\b\b\b\b\b\b\b\b\b\b\b\b\b\b\b\b\b\b\b\b\b\b\b\b\b\b\b\b\b\b\b\b\b\b\b\b\n",
      "Model: \"model_5\"\n",
      "_________________________________________________________________\n",
      " Layer (type)                Output Shape              Param #   \n",
      "=================================================================\n",
      " data_input (InputLayer)     [(None, 2000, 35)]        0         \n",
      "                                                                 \n",
      " conv1 (Conv1D)              (None, 2000, 3)           108       \n",
      "                                                                 \n",
      " lambda_5 (Lambda)           (None, 3)                 0         \n",
      "                                                                 \n",
      " dropout_5 (Dropout)         (None, 3)                 0         \n",
      "                                                                 \n",
      " phenotype_pred (Dense)      (None, 2)                 8         \n",
      "                                                                 \n",
      "=================================================================\n",
      "Total params: 116\n",
      "Trainable params: 116\n",
      "Non-trainable params: 0\n",
      "_________________________________________________________________\n",
      "None\n",
      "Epoch 1/20\n"
     ]
    },
    {
     "name": "stderr",
     "output_type": "stream",
     "text": [
      "2022-04-06 16:25:26.000303: I tensorflow/core/profiler/lib/profiler_session.cc:110] Profiler session initializing.\n",
      "2022-04-06 16:25:26.000333: I tensorflow/core/profiler/lib/profiler_session.cc:125] Profiler session started.\n",
      "2022-04-06 16:25:26.000691: I tensorflow/core/profiler/lib/profiler_session.cc:143] Profiler session tear down.\n"
     ]
    },
    {
     "name": "stdout",
     "output_type": "stream",
     "text": [
      "1/1 [==============================] - 1s 1s/step - loss: 0.6932 - accuracy: 0.4545 - precision_5: 0.4500 - recall_5: 0.4091 - val_loss: 0.6991 - val_accuracy: 0.1111 - val_precision_5: 0.1111 - val_recall_5: 0.1111\b\b\b\b\b\b\b\b\b\b\b\b\b\b\b\b\b\b\b\b\b\b\b\b\b\b\b\n",
      "Epoch 2/20\n",
      "1/1 [==============================] - 0s 156ms/step - loss: 0.6925 - accuracy: 0.5455 - precision_5: 0.5455 - recall_5: 0.5455 - val_loss: 0.7068 - val_accuracy: 0.1111 - val_precision_5: 0.1111 - val_recall_5: 0.1111\b\b\b\b\b\b\b\b\b\b\b\b\b\b\b\b\b\b\b\b\b\b\b\b\n",
      "Epoch 3/20\n",
      "1/1 [==============================] - ETA: 0s - loss: 0.6914 - accuracy: 0.5455 - precision_5: 0.5455 - recall_5: 0.5455"
     ]
    },
    {
     "name": "stderr",
     "output_type": "stream",
     "text": [
      "2022-04-06 16:25:27.422364: I tensorflow/core/profiler/lib/profiler_session.cc:110] Profiler session initializing.\n",
      "2022-04-06 16:25:27.422380: I tensorflow/core/profiler/lib/profiler_session.cc:125] Profiler session started.\n",
      "2022-04-06 16:25:27.535292: I tensorflow/core/profiler/lib/profiler_session.cc:67] Profiler session collecting data.\n",
      "2022-04-06 16:25:27.536525: I tensorflow/core/profiler/lib/profiler_session.cc:143] Profiler session tear down.\n",
      "2022-04-06 16:25:27.538265: I tensorflow/core/profiler/rpc/client/save_profile.cc:136] Creating directory: filter_cv_stl/mtl_class_c8_3_filters/stats/tensorboard/model_5_1649255126.000124/train/plugins/profile/2022_04_06_16_25_27\n",
      "\n",
      "2022-04-06 16:25:27.540152: I tensorflow/core/profiler/rpc/client/save_profile.cc:142] Dumped gzipped tool data for trace.json.gz to filter_cv_stl/mtl_class_c8_3_filters/stats/tensorboard/model_5_1649255126.000124/train/plugins/profile/2022_04_06_16_25_27/Eliass-MacBook-Pro.local.trace.json.gz\n",
      "2022-04-06 16:25:27.542116: I tensorflow/core/profiler/rpc/client/save_profile.cc:136] Creating directory: filter_cv_stl/mtl_class_c8_3_filters/stats/tensorboard/model_5_1649255126.000124/train/plugins/profile/2022_04_06_16_25_27\n",
      "\n",
      "2022-04-06 16:25:27.542361: I tensorflow/core/profiler/rpc/client/save_profile.cc:142] Dumped gzipped tool data for memory_profile.json.gz to filter_cv_stl/mtl_class_c8_3_filters/stats/tensorboard/model_5_1649255126.000124/train/plugins/profile/2022_04_06_16_25_27/Eliass-MacBook-Pro.local.memory_profile.json.gz\n",
      "2022-04-06 16:25:27.543668: I tensorflow/core/profiler/rpc/client/capture_profile.cc:251] Creating directory: filter_cv_stl/mtl_class_c8_3_filters/stats/tensorboard/model_5_1649255126.000124/train/plugins/profile/2022_04_06_16_25_27\n",
      "Dumped tool data for xplane.pb to filter_cv_stl/mtl_class_c8_3_filters/stats/tensorboard/model_5_1649255126.000124/train/plugins/profile/2022_04_06_16_25_27/Eliass-MacBook-Pro.local.xplane.pb\n",
      "Dumped tool data for overview_page.pb to filter_cv_stl/mtl_class_c8_3_filters/stats/tensorboard/model_5_1649255126.000124/train/plugins/profile/2022_04_06_16_25_27/Eliass-MacBook-Pro.local.overview_page.pb\n",
      "Dumped tool data for input_pipeline.pb to filter_cv_stl/mtl_class_c8_3_filters/stats/tensorboard/model_5_1649255126.000124/train/plugins/profile/2022_04_06_16_25_27/Eliass-MacBook-Pro.local.input_pipeline.pb\n",
      "Dumped tool data for tensorflow_stats.pb to filter_cv_stl/mtl_class_c8_3_filters/stats/tensorboard/model_5_1649255126.000124/train/plugins/profile/2022_04_06_16_25_27/Eliass-MacBook-Pro.local.tensorflow_stats.pb\n",
      "Dumped tool data for kernel_stats.pb to filter_cv_stl/mtl_class_c8_3_filters/stats/tensorboard/model_5_1649255126.000124/train/plugins/profile/2022_04_06_16_25_27/Eliass-MacBook-Pro.local.kernel_stats.pb\n",
      "\n"
     ]
    },
    {
     "name": "stdout",
     "output_type": "stream",
     "text": [
      "1/1 [==============================] - 0s 58ms/step - loss: 0.6914 - accuracy: 0.5455 - precision_5: 0.5455 - recall_5: 0.5455 - val_loss: 0.7137 - val_accuracy: 0.1111 - val_precision_5: 0.1111 - val_recall_5: 0.1111\n",
      "Epoch 4/20\n",
      "1/1 [==============================] - 0s 54ms/step - loss: 0.6907 - accuracy: 0.5455 - precision_5: 0.5455 - recall_5: 0.5455 - val_loss: 0.7203 - val_accuracy: 0.1111 - val_precision_5: 0.1111 - val_recall_5: 0.1111\b\b\b\b\b\b\b\b\b\b\b\b\b\b\b\b\b\b\b\b\b\b\b\b\b\n",
      "Epoch 5/20\n",
      "1/1 [==============================] - 0s 54ms/step - loss: 0.6906 - accuracy: 0.5455 - precision_5: 0.5455 - recall_5: 0.5455 - val_loss: 0.7272 - val_accuracy: 0.1111 - val_precision_5: 0.1111 - val_recall_5: 0.1111\b\b\b\b\b\b\b\b\b\b\b\b\b\b\b\b\b\b\b\b\b\b\b\b\b\n",
      "Epoch 6/20\n",
      "1/1 [==============================] - 0s 54ms/step - loss: 0.6900 - accuracy: 0.5455 - precision_5: 0.5455 - recall_5: 0.5455 - val_loss: 0.7341 - val_accuracy: 0.1111 - val_precision_5: 0.1111 - val_recall_5: 0.1111\b\b\b\b\b\b\b\b\b\b\b\b\b\b\b\b\b\b\b\b\b\b\b\b\b\n",
      "1/1 [==============================] - 0s 364ms/step - loss: 0.6991 - accuracy: 0.1111 - precision_5: 0.1111 - recall_5: 0.1111\b\b\b\b\b\b\b\b\b\b\b\b\b\b\b\b\b\b\b\b\b\b\b\b\b\b\b\b\b\b\b\b\b\b\b\b\b\b\b\b\b\b\b\b\b\b\b\b\b\b\b\b\b\b\b\b\b\b\b\b\b\b\b\b\b\b\b\b\b\b\b\b\b\b\b\b\b\b\b\b\b\b\b\b\b\b\b\b\b\b\b\b\b\b\b\b\b\b\b\b\b\b\b\b\b\b\b\b\b\b\b\b\b\b\b\n",
      "DONE building model 3\n",
      "Model: \"model_6\"\n",
      "_________________________________________________________________\n",
      " Layer (type)                Output Shape              Param #   \n",
      "=================================================================\n",
      " data_input (InputLayer)     [(None, 2000, 35)]        0         \n",
      "                                                                 \n",
      " conv1 (Conv1D)              (None, 2000, 4)           144       \n",
      "                                                                 \n",
      " lambda_6 (Lambda)           (None, 4)                 0         \n",
      "                                                                 \n",
      " dropout_6 (Dropout)         (None, 4)                 0         \n",
      "                                                                 \n",
      " phenotype_pred (Dense)      (None, 2)                 10        \n",
      "                                                                 \n",
      "=================================================================\n",
      "Total params: 154\n",
      "Trainable params: 154\n",
      "Non-trainable params: 0\n",
      "_________________________________________________________________\n",
      "None\n",
      "Epoch 1/20\n"
     ]
    },
    {
     "name": "stderr",
     "output_type": "stream",
     "text": [
      "2022-04-06 16:25:28.946233: I tensorflow/core/profiler/lib/profiler_session.cc:110] Profiler session initializing.\n",
      "2022-04-06 16:25:28.946253: I tensorflow/core/profiler/lib/profiler_session.cc:125] Profiler session started.\n",
      "2022-04-06 16:25:28.946850: I tensorflow/core/profiler/lib/profiler_session.cc:143] Profiler session tear down.\n"
     ]
    },
    {
     "name": "stdout",
     "output_type": "stream",
     "text": [
      "1/1 [==============================] - 2s 2s/step - loss: 0.6931 - accuracy: 0.5455 - precision_6: 0.5610 - recall_6: 0.5227 - val_loss: 0.6964 - val_accuracy: 0.1111 - val_precision_6: 0.1111 - val_recall_6: 0.1111\b\b\b\b\b\b\b\b\b\b\b\b\b\b\b\b\b\b\b\b\b\b\b\b\b\b\b\n",
      "Epoch 2/20\n",
      "1/1 [==============================] - 0s 199ms/step - loss: 0.6930 - accuracy: 0.5455 - precision_6: 0.5455 - recall_6: 0.5455 - val_loss: 0.6992 - val_accuracy: 0.1111 - val_precision_6: 0.1111 - val_recall_6: 0.1111\b\b\b\b\b\b\b\b\b\b\b\b\b\b\b\b\b\b\b\b\b\b\b\b\n",
      "Epoch 3/20\n"
     ]
    },
    {
     "name": "stderr",
     "output_type": "stream",
     "text": [
      "2022-04-06 16:25:31.368477: I tensorflow/core/profiler/lib/profiler_session.cc:110] Profiler session initializing.\n",
      "2022-04-06 16:25:31.368500: I tensorflow/core/profiler/lib/profiler_session.cc:125] Profiler session started.\n",
      "2022-04-06 16:25:31.525810: I tensorflow/core/profiler/lib/profiler_session.cc:67] Profiler session collecting data.\n",
      "2022-04-06 16:25:31.527608: I tensorflow/core/profiler/lib/profiler_session.cc:143] Profiler session tear down.\n",
      "2022-04-06 16:25:31.529616: I tensorflow/core/profiler/rpc/client/save_profile.cc:136] Creating directory: filter_cv_stl/mtl_class_c8_4_filters/stats/tensorboard/model_6_1649255128.9461062/train/plugins/profile/2022_04_06_16_25_31\n",
      "\n",
      "2022-04-06 16:25:31.531655: I tensorflow/core/profiler/rpc/client/save_profile.cc:142] Dumped gzipped tool data for trace.json.gz to filter_cv_stl/mtl_class_c8_4_filters/stats/tensorboard/model_6_1649255128.9461062/train/plugins/profile/2022_04_06_16_25_31/Eliass-MacBook-Pro.local.trace.json.gz\n",
      "2022-04-06 16:25:31.533784: I tensorflow/core/profiler/rpc/client/save_profile.cc:136] Creating directory: filter_cv_stl/mtl_class_c8_4_filters/stats/tensorboard/model_6_1649255128.9461062/train/plugins/profile/2022_04_06_16_25_31\n",
      "\n",
      "2022-04-06 16:25:31.534164: I tensorflow/core/profiler/rpc/client/save_profile.cc:142] Dumped gzipped tool data for memory_profile.json.gz to filter_cv_stl/mtl_class_c8_4_filters/stats/tensorboard/model_6_1649255128.9461062/train/plugins/profile/2022_04_06_16_25_31/Eliass-MacBook-Pro.local.memory_profile.json.gz\n",
      "2022-04-06 16:25:31.535972: I tensorflow/core/profiler/rpc/client/capture_profile.cc:251] Creating directory: filter_cv_stl/mtl_class_c8_4_filters/stats/tensorboard/model_6_1649255128.9461062/train/plugins/profile/2022_04_06_16_25_31\n",
      "Dumped tool data for xplane.pb to filter_cv_stl/mtl_class_c8_4_filters/stats/tensorboard/model_6_1649255128.9461062/train/plugins/profile/2022_04_06_16_25_31/Eliass-MacBook-Pro.local.xplane.pb\n",
      "Dumped tool data for overview_page.pb to filter_cv_stl/mtl_class_c8_4_filters/stats/tensorboard/model_6_1649255128.9461062/train/plugins/profile/2022_04_06_16_25_31/Eliass-MacBook-Pro.local.overview_page.pb\n",
      "Dumped tool data for input_pipeline.pb to filter_cv_stl/mtl_class_c8_4_filters/stats/tensorboard/model_6_1649255128.9461062/train/plugins/profile/2022_04_06_16_25_31/Eliass-MacBook-Pro.local.input_pipeline.pb\n",
      "Dumped tool data for tensorflow_stats.pb to filter_cv_stl/mtl_class_c8_4_filters/stats/tensorboard/model_6_1649255128.9461062/train/plugins/profile/2022_04_06_16_25_31/Eliass-MacBook-Pro.local.tensorflow_stats.pb\n",
      "Dumped tool data for kernel_stats.pb to filter_cv_stl/mtl_class_c8_4_filters/stats/tensorboard/model_6_1649255128.9461062/train/plugins/profile/2022_04_06_16_25_31/Eliass-MacBook-Pro.local.kernel_stats.pb\n",
      "\n"
     ]
    },
    {
     "name": "stdout",
     "output_type": "stream",
     "text": [
      "1/1 [==============================] - 0s 67ms/step - loss: 0.6922 - accuracy: 0.5455 - precision_6: 0.5455 - recall_6: 0.5455 - val_loss: 0.7022 - val_accuracy: 0.1111 - val_precision_6: 0.1111 - val_recall_6: 0.1111\b\b\b\b\b\b\b\b\b\b\b\b\b\b\b\b\b\b\b\b\b\b\b\b\b\n",
      "Epoch 4/20\n",
      "1/1 [==============================] - 0s 60ms/step - loss: 0.6921 - accuracy: 0.5455 - precision_6: 0.5455 - recall_6: 0.5455 - val_loss: 0.7052 - val_accuracy: 0.1111 - val_precision_6: 0.1111 - val_recall_6: 0.1111\b\b\b\b\b\b\b\b\b\b\b\b\b\b\b\b\b\b\b\b\b\b\b\b\b\n",
      "Epoch 5/20\n",
      "1/1 [==============================] - 0s 62ms/step - loss: 0.6914 - accuracy: 0.5455 - precision_6: 0.5455 - recall_6: 0.5455 - val_loss: 0.7083 - val_accuracy: 0.1111 - val_precision_6: 0.1111 - val_recall_6: 0.1111\b\b\b\b\b\b\b\b\b\b\b\b\b\b\b\b\b\b\b\b\b\b\b\b\b\n",
      "Epoch 6/20\n",
      "1/1 [==============================] - 0s 59ms/step - loss: 0.6917 - accuracy: 0.5455 - precision_6: 0.5455 - recall_6: 0.5455 - val_loss: 0.7114 - val_accuracy: 0.1111 - val_precision_6: 0.1111 - val_recall_6: 0.1111\b\b\b\b\b\b\b\b\b\b\b\b\b\b\b\b\b\b\b\b\b\b\b\b\b\n",
      "1/1 [==============================] - 1s 1s/step - loss: 0.6964 - accuracy: 0.1111 - precision_6: 0.1111 - recall_6: 0.1111\b\b\b\b\b\b\b\b\b\b\b\b\b\b\b\b\b\b\b\b\b\b\b\b\b\b\b\b\b\b\b\b\b\b\b\b\b\b\b\b\b\b\b\b\b\b\b\b\b\b\b\b\b\b\b\b\b\b\b\b\b\b\b\b\b\b\b\b\b\b\b\b\b\b\b\b\b\b\b\b\b\b\b\b\b\b\b\b\b\b\b\b\b\b\b\b\b\b\b\b\b\b\b\b\b\b\b\b\b\b\b\b\b\b\b\b\b\b\n",
      "Model: \"model_7\"\n",
      "_________________________________________________________________\n",
      " Layer (type)                Output Shape              Param #   \n",
      "=================================================================\n",
      " data_input (InputLayer)     [(None, 2000, 35)]        0         \n",
      "                                                                 \n",
      " conv1 (Conv1D)              (None, 2000, 4)           144       \n",
      "                                                                 \n",
      " lambda_7 (Lambda)           (None, 4)                 0         \n",
      "                                                                 \n",
      " dropout_7 (Dropout)         (None, 4)                 0         \n",
      "                                                                 \n",
      " phenotype_pred (Dense)      (None, 2)                 10        \n",
      "                                                                 \n",
      "=================================================================\n",
      "Total params: 154\n",
      "Trainable params: 154\n",
      "Non-trainable params: 0\n",
      "_________________________________________________________________\n",
      "None\n",
      "Epoch 1/20\n"
     ]
    },
    {
     "name": "stderr",
     "output_type": "stream",
     "text": [
      "2022-04-06 16:25:34.098860: I tensorflow/core/profiler/lib/profiler_session.cc:110] Profiler session initializing.\n",
      "2022-04-06 16:25:34.098880: I tensorflow/core/profiler/lib/profiler_session.cc:125] Profiler session started.\n",
      "2022-04-06 16:25:34.099131: I tensorflow/core/profiler/lib/profiler_session.cc:143] Profiler session tear down.\n"
     ]
    },
    {
     "name": "stdout",
     "output_type": "stream",
     "text": [
      "1/1 [==============================] - 2s 2s/step - loss: 0.6930 - accuracy: 0.5455 - precision_7: 0.5641 - recall_7: 0.5000 - val_loss: 0.6947 - val_accuracy: 0.1111 - val_precision_7: 0.1111 - val_recall_7: 0.1111\b\b\b\b\b\b\b\b\b\b\b\b\b\b\b\b\b\b\b\b\b\b\b\b\b\b\b\n",
      "Epoch 2/20\n",
      "1/1 [==============================] - 0s 146ms/step - loss: 0.6932 - accuracy: 0.5682 - precision_7: 0.5682 - recall_7: 0.5682 - val_loss: 0.6958 - val_accuracy: 0.1111 - val_precision_7: 0.1111 - val_recall_7: 0.1111\b\b\b\b\b\b\b\b\b\b\b\b\b\b\b\b\b\b\b\b\b\b\b\b\n",
      "Epoch 3/20\n",
      "1/1 [==============================] - ETA: 0s - loss: 0.6928 - accuracy: 0.5455 - precision_7: 0.5455 - recall_7: 0.5455"
     ]
    },
    {
     "name": "stderr",
     "output_type": "stream",
     "text": [
      "2022-04-06 16:25:36.377300: I tensorflow/core/profiler/lib/profiler_session.cc:110] Profiler session initializing.\n",
      "2022-04-06 16:25:36.377324: I tensorflow/core/profiler/lib/profiler_session.cc:125] Profiler session started.\n",
      "2022-04-06 16:25:36.485256: I tensorflow/core/profiler/lib/profiler_session.cc:67] Profiler session collecting data.\n",
      "2022-04-06 16:25:36.486475: I tensorflow/core/profiler/lib/profiler_session.cc:143] Profiler session tear down.\n",
      "2022-04-06 16:25:36.488278: I tensorflow/core/profiler/rpc/client/save_profile.cc:136] Creating directory: filter_cv_stl/mtl_class_c8_4_filters/stats/tensorboard/model_7_1649255134.098691/train/plugins/profile/2022_04_06_16_25_36\n",
      "\n",
      "2022-04-06 16:25:36.489893: I tensorflow/core/profiler/rpc/client/save_profile.cc:142] Dumped gzipped tool data for trace.json.gz to filter_cv_stl/mtl_class_c8_4_filters/stats/tensorboard/model_7_1649255134.098691/train/plugins/profile/2022_04_06_16_25_36/Eliass-MacBook-Pro.local.trace.json.gz\n",
      "2022-04-06 16:25:36.491966: I tensorflow/core/profiler/rpc/client/save_profile.cc:136] Creating directory: filter_cv_stl/mtl_class_c8_4_filters/stats/tensorboard/model_7_1649255134.098691/train/plugins/profile/2022_04_06_16_25_36\n",
      "\n",
      "2022-04-06 16:25:36.492201: I tensorflow/core/profiler/rpc/client/save_profile.cc:142] Dumped gzipped tool data for memory_profile.json.gz to filter_cv_stl/mtl_class_c8_4_filters/stats/tensorboard/model_7_1649255134.098691/train/plugins/profile/2022_04_06_16_25_36/Eliass-MacBook-Pro.local.memory_profile.json.gz\n",
      "2022-04-06 16:25:36.493316: I tensorflow/core/profiler/rpc/client/capture_profile.cc:251] Creating directory: filter_cv_stl/mtl_class_c8_4_filters/stats/tensorboard/model_7_1649255134.098691/train/plugins/profile/2022_04_06_16_25_36\n",
      "Dumped tool data for xplane.pb to filter_cv_stl/mtl_class_c8_4_filters/stats/tensorboard/model_7_1649255134.098691/train/plugins/profile/2022_04_06_16_25_36/Eliass-MacBook-Pro.local.xplane.pb\n",
      "Dumped tool data for overview_page.pb to filter_cv_stl/mtl_class_c8_4_filters/stats/tensorboard/model_7_1649255134.098691/train/plugins/profile/2022_04_06_16_25_36/Eliass-MacBook-Pro.local.overview_page.pb\n",
      "Dumped tool data for input_pipeline.pb to filter_cv_stl/mtl_class_c8_4_filters/stats/tensorboard/model_7_1649255134.098691/train/plugins/profile/2022_04_06_16_25_36/Eliass-MacBook-Pro.local.input_pipeline.pb\n",
      "Dumped tool data for tensorflow_stats.pb to filter_cv_stl/mtl_class_c8_4_filters/stats/tensorboard/model_7_1649255134.098691/train/plugins/profile/2022_04_06_16_25_36/Eliass-MacBook-Pro.local.tensorflow_stats.pb\n",
      "Dumped tool data for kernel_stats.pb to filter_cv_stl/mtl_class_c8_4_filters/stats/tensorboard/model_7_1649255134.098691/train/plugins/profile/2022_04_06_16_25_36/Eliass-MacBook-Pro.local.kernel_stats.pb\n",
      "\n"
     ]
    },
    {
     "name": "stdout",
     "output_type": "stream",
     "text": [
      "1/1 [==============================] - 0s 62ms/step - loss: 0.6928 - accuracy: 0.5455 - precision_7: 0.5455 - recall_7: 0.5455 - val_loss: 0.6969 - val_accuracy: 0.1111 - val_precision_7: 0.1111 - val_recall_7: 0.1111\n",
      "Epoch 4/20\n",
      "1/1 [==============================] - 0s 64ms/step - loss: 0.6927 - accuracy: 0.5455 - precision_7: 0.5455 - recall_7: 0.5455 - val_loss: 0.6981 - val_accuracy: 0.1111 - val_precision_7: 0.1111 - val_recall_7: 0.1111\b\b\b\b\b\b\b\b\b\b\b\b\b\b\b\b\b\b\b\b\b\b\b\b\b\n",
      "Epoch 5/20\n",
      "1/1 [==============================] - 0s 58ms/step - loss: 0.6926 - accuracy: 0.5455 - precision_7: 0.5455 - recall_7: 0.5455 - val_loss: 0.6993 - val_accuracy: 0.1111 - val_precision_7: 0.1111 - val_recall_7: 0.1111\b\b\b\b\b\b\b\b\b\b\b\b\b\b\b\b\b\b\b\b\b\b\b\b\b\n",
      "Epoch 6/20\n",
      "1/1 [==============================] - 0s 53ms/step - loss: 0.6922 - accuracy: 0.5455 - precision_7: 0.5455 - recall_7: 0.5455 - val_loss: 0.7005 - val_accuracy: 0.1111 - val_precision_7: 0.1111 - val_recall_7: 0.1111\b\b\b\b\b\b\b\b\b\b\b\b\b\b\b\b\b\b\b\b\b\b\b\b\b\n",
      "1/1 [==============================] - 0s 344ms/step - loss: 0.6947 - accuracy: 0.1111 - precision_7: 0.1111 - recall_7: 0.1111\b\b\b\b\b\b\b\b\b\b\b\b\b\b\b\b\b\b\b\b\b\b\b\b\b\b\b\b\b\b\b\b\b\b\b\b\b\b\b\b\b\b\b\b\b\b\b\b\b\b\b\b\b\b\b\b\b\b\b\b\b\b\b\b\b\b\b\b\b\b\b\b\b\b\b\b\b\b\b\b\b\b\b\b\b\b\b\b\b\b\b\b\b\b\b\b\b\b\b\b\b\b\b\b\b\b\b\b\b\b\b\b\b\b\b\n",
      "Model: \"model_8\"\n",
      "_________________________________________________________________\n",
      " Layer (type)                Output Shape              Param #   \n",
      "=================================================================\n",
      " data_input (InputLayer)     [(None, 2000, 35)]        0         \n",
      "                                                                 \n",
      " conv1 (Conv1D)              (None, 2000, 4)           144       \n",
      "                                                                 \n",
      " lambda_8 (Lambda)           (None, 4)                 0         \n",
      "                                                                 \n",
      " dropout_8 (Dropout)         (None, 4)                 0         \n",
      "                                                                 \n",
      " phenotype_pred (Dense)      (None, 2)                 10        \n",
      "                                                                 \n",
      "=================================================================\n",
      "Total params: 154\n",
      "Trainable params: 154\n",
      "Non-trainable params: 0\n",
      "_________________________________________________________________\n",
      "None\n",
      "Epoch 1/20\n"
     ]
    },
    {
     "name": "stderr",
     "output_type": "stream",
     "text": [
      "2022-04-06 16:25:38.217307: I tensorflow/core/profiler/lib/profiler_session.cc:110] Profiler session initializing.\n",
      "2022-04-06 16:25:38.217340: I tensorflow/core/profiler/lib/profiler_session.cc:125] Profiler session started.\n",
      "2022-04-06 16:25:38.218164: I tensorflow/core/profiler/lib/profiler_session.cc:143] Profiler session tear down.\n"
     ]
    },
    {
     "name": "stdout",
     "output_type": "stream",
     "text": [
      "1/1 [==============================] - 1s 1s/step - loss: 0.6932 - accuracy: 0.4545 - precision_8: 0.4545 - recall_8: 0.4545 - val_loss: 0.6945 - val_accuracy: 0.1111 - val_precision_8: 0.1111 - val_recall_8: 0.1111\b\b\b\b\b\b\b\b\b\b\b\b\b\b\b\b\b\b\b\b\b\b\b\b\b\b\b\n",
      "Epoch 2/20\n",
      "1/1 [==============================] - 0s 168ms/step - loss: 0.6930 - accuracy: 0.5455 - precision_8: 0.5455 - recall_8: 0.5455 - val_loss: 0.6958 - val_accuracy: 0.1111 - val_precision_8: 0.1111 - val_recall_8: 0.1111\b\b\b\b\b\b\b\b\b\b\b\b\b\b\b\b\b\b\b\b\b\b\b\b\n",
      "Epoch 3/20\n"
     ]
    },
    {
     "name": "stderr",
     "output_type": "stream",
     "text": [
      "2022-04-06 16:25:39.661944: I tensorflow/core/profiler/lib/profiler_session.cc:110] Profiler session initializing.\n",
      "2022-04-06 16:25:39.661997: I tensorflow/core/profiler/lib/profiler_session.cc:125] Profiler session started.\n",
      "2022-04-06 16:25:39.790373: I tensorflow/core/profiler/lib/profiler_session.cc:67] Profiler session collecting data.\n",
      "2022-04-06 16:25:39.791608: I tensorflow/core/profiler/lib/profiler_session.cc:143] Profiler session tear down.\n",
      "2022-04-06 16:25:39.793338: I tensorflow/core/profiler/rpc/client/save_profile.cc:136] Creating directory: filter_cv_stl/mtl_class_c8_4_filters/stats/tensorboard/model_8_1649255138.21713/train/plugins/profile/2022_04_06_16_25_39\n",
      "\n",
      "2022-04-06 16:25:39.794976: I tensorflow/core/profiler/rpc/client/save_profile.cc:142] Dumped gzipped tool data for trace.json.gz to filter_cv_stl/mtl_class_c8_4_filters/stats/tensorboard/model_8_1649255138.21713/train/plugins/profile/2022_04_06_16_25_39/Eliass-MacBook-Pro.local.trace.json.gz\n",
      "2022-04-06 16:25:39.797048: I tensorflow/core/profiler/rpc/client/save_profile.cc:136] Creating directory: filter_cv_stl/mtl_class_c8_4_filters/stats/tensorboard/model_8_1649255138.21713/train/plugins/profile/2022_04_06_16_25_39\n",
      "\n",
      "2022-04-06 16:25:39.797397: I tensorflow/core/profiler/rpc/client/save_profile.cc:142] Dumped gzipped tool data for memory_profile.json.gz to filter_cv_stl/mtl_class_c8_4_filters/stats/tensorboard/model_8_1649255138.21713/train/plugins/profile/2022_04_06_16_25_39/Eliass-MacBook-Pro.local.memory_profile.json.gz\n",
      "2022-04-06 16:25:39.798722: I tensorflow/core/profiler/rpc/client/capture_profile.cc:251] Creating directory: filter_cv_stl/mtl_class_c8_4_filters/stats/tensorboard/model_8_1649255138.21713/train/plugins/profile/2022_04_06_16_25_39\n",
      "Dumped tool data for xplane.pb to filter_cv_stl/mtl_class_c8_4_filters/stats/tensorboard/model_8_1649255138.21713/train/plugins/profile/2022_04_06_16_25_39/Eliass-MacBook-Pro.local.xplane.pb\n",
      "Dumped tool data for overview_page.pb to filter_cv_stl/mtl_class_c8_4_filters/stats/tensorboard/model_8_1649255138.21713/train/plugins/profile/2022_04_06_16_25_39/Eliass-MacBook-Pro.local.overview_page.pb\n",
      "Dumped tool data for input_pipeline.pb to filter_cv_stl/mtl_class_c8_4_filters/stats/tensorboard/model_8_1649255138.21713/train/plugins/profile/2022_04_06_16_25_39/Eliass-MacBook-Pro.local.input_pipeline.pb\n",
      "Dumped tool data for tensorflow_stats.pb to filter_cv_stl/mtl_class_c8_4_filters/stats/tensorboard/model_8_1649255138.21713/train/plugins/profile/2022_04_06_16_25_39/Eliass-MacBook-Pro.local.tensorflow_stats.pb\n",
      "Dumped tool data for kernel_stats.pb to filter_cv_stl/mtl_class_c8_4_filters/stats/tensorboard/model_8_1649255138.21713/train/plugins/profile/2022_04_06_16_25_39/Eliass-MacBook-Pro.local.kernel_stats.pb\n",
      "\n"
     ]
    },
    {
     "name": "stdout",
     "output_type": "stream",
     "text": [
      "1/1 [==============================] - 0s 70ms/step - loss: 0.6928 - accuracy: 0.5455 - precision_8: 0.5455 - recall_8: 0.5455 - val_loss: 0.6969 - val_accuracy: 0.1111 - val_precision_8: 0.1111 - val_recall_8: 0.1111\b\b\b\b\b\b\b\b\b\b\b\b\b\b\b\b\b\b\b\b\b\b\b\b\b\n",
      "Epoch 4/20\n",
      "1/1 [==============================] - 0s 54ms/step - loss: 0.6928 - accuracy: 0.5455 - precision_8: 0.5455 - recall_8: 0.5455 - val_loss: 0.6981 - val_accuracy: 0.1111 - val_precision_8: 0.1111 - val_recall_8: 0.1111\b\b\b\b\b\b\b\b\b\b\b\b\b\b\b\b\b\b\b\b\b\b\b\b\b\n",
      "Epoch 5/20\n",
      "1/1 [==============================] - 0s 58ms/step - loss: 0.6926 - accuracy: 0.5455 - precision_8: 0.5455 - recall_8: 0.5455 - val_loss: 0.6993 - val_accuracy: 0.1111 - val_precision_8: 0.1111 - val_recall_8: 0.1111\b\b\b\b\b\b\b\b\b\b\b\b\b\b\b\b\b\b\b\b\b\b\b\b\b\n",
      "Epoch 6/20\n",
      "1/1 [==============================] - 0s 63ms/step - loss: 0.6927 - accuracy: 0.5455 - precision_8: 0.5455 - recall_8: 0.5455 - val_loss: 0.7004 - val_accuracy: 0.1111 - val_precision_8: 0.1111 - val_recall_8: 0.1111\b\b\b\b\b\b\b\b\b\b\b\b\b\b\b\b\b\b\b\b\b\b\b\b\b\n",
      "1/1 [==============================] - 0s 384ms/step - loss: 0.6945 - accuracy: 0.1111 - precision_8: 0.1111 - recall_8: 0.1111\b\b\b\b\b\b\b\b\b\b\b\b\b\b\b\b\b\b\b\b\b\b\b\b\b\b\b\b\b\b\b\b\b\b\b\b\b\b\b\b\b\b\b\b\b\b\b\b\b\b\b\b\b\b\b\b\b\b\b\b\b\b\b\b\b\b\b\b\b\b\b\b\b\b\b\b\b\b\b\b\b\b\b\b\b\b\b\b\b\b\b\b\b\b\b\b\b\b\b\b\b\b\b\b\b\b\b\b\b\b\b\b\b\b\b\n",
      "DONE building model 4\n",
      "Model: \"model_9\"\n",
      "_________________________________________________________________\n",
      " Layer (type)                Output Shape              Param #   \n",
      "=================================================================\n",
      " data_input (InputLayer)     [(None, 2000, 35)]        0         \n",
      "                                                                 \n",
      " conv1 (Conv1D)              (None, 2000, 5)           180       \n",
      "                                                                 \n",
      " lambda_9 (Lambda)           (None, 5)                 0         \n",
      "                                                                 \n",
      " dropout_9 (Dropout)         (None, 5)                 0         \n",
      "                                                                 \n",
      " phenotype_pred (Dense)      (None, 2)                 12        \n",
      "                                                                 \n",
      "=================================================================\n",
      "Total params: 192\n",
      "Trainable params: 192\n",
      "Non-trainable params: 0\n",
      "_________________________________________________________________\n",
      "None\n",
      "Epoch 1/20\n"
     ]
    },
    {
     "name": "stderr",
     "output_type": "stream",
     "text": [
      "2022-04-06 16:25:41.219264: I tensorflow/core/profiler/lib/profiler_session.cc:110] Profiler session initializing.\n",
      "2022-04-06 16:25:41.219285: I tensorflow/core/profiler/lib/profiler_session.cc:125] Profiler session started.\n",
      "2022-04-06 16:25:41.219680: I tensorflow/core/profiler/lib/profiler_session.cc:143] Profiler session tear down.\n"
     ]
    },
    {
     "name": "stdout",
     "output_type": "stream",
     "text": [
      "1/1 [==============================] - 1s 1s/step - loss: 0.6931 - accuracy: 0.5455 - precision_9: 0.5122 - recall_9: 0.4773 - val_loss: 0.6948 - val_accuracy: 0.1111 - val_precision_9: 0.1111 - val_recall_9: 0.1111\b\b\b\b\b\b\b\b\b\b\b\b\b\b\b\b\b\b\b\b\b\b\b\b\b\b\b\n",
      "Epoch 2/20\n",
      "1/1 [==============================] - 0s 164ms/step - loss: 0.6930 - accuracy: 0.5455 - precision_9: 0.5455 - recall_9: 0.5455 - val_loss: 0.6970 - val_accuracy: 0.1111 - val_precision_9: 0.1111 - val_recall_9: 0.1111\b\b\b\b\b\b\b\b\b\b\b\b\b\b\b\b\b\b\b\b\b\b\b\b\n",
      "Epoch 3/20\n"
     ]
    },
    {
     "name": "stderr",
     "output_type": "stream",
     "text": [
      "2022-04-06 16:25:42.627622: I tensorflow/core/profiler/lib/profiler_session.cc:110] Profiler session initializing.\n",
      "2022-04-06 16:25:42.627648: I tensorflow/core/profiler/lib/profiler_session.cc:125] Profiler session started.\n",
      "2022-04-06 16:25:42.748358: I tensorflow/core/profiler/lib/profiler_session.cc:67] Profiler session collecting data.\n",
      "2022-04-06 16:25:42.749711: I tensorflow/core/profiler/lib/profiler_session.cc:143] Profiler session tear down.\n",
      "2022-04-06 16:25:42.751559: I tensorflow/core/profiler/rpc/client/save_profile.cc:136] Creating directory: filter_cv_stl/mtl_class_c8_5_filters/stats/tensorboard/model_9_1649255141.219122/train/plugins/profile/2022_04_06_16_25_42\n",
      "\n",
      "2022-04-06 16:25:42.753176: I tensorflow/core/profiler/rpc/client/save_profile.cc:142] Dumped gzipped tool data for trace.json.gz to filter_cv_stl/mtl_class_c8_5_filters/stats/tensorboard/model_9_1649255141.219122/train/plugins/profile/2022_04_06_16_25_42/Eliass-MacBook-Pro.local.trace.json.gz\n",
      "2022-04-06 16:25:42.755177: I tensorflow/core/profiler/rpc/client/save_profile.cc:136] Creating directory: filter_cv_stl/mtl_class_c8_5_filters/stats/tensorboard/model_9_1649255141.219122/train/plugins/profile/2022_04_06_16_25_42\n",
      "\n",
      "2022-04-06 16:25:42.755404: I tensorflow/core/profiler/rpc/client/save_profile.cc:142] Dumped gzipped tool data for memory_profile.json.gz to filter_cv_stl/mtl_class_c8_5_filters/stats/tensorboard/model_9_1649255141.219122/train/plugins/profile/2022_04_06_16_25_42/Eliass-MacBook-Pro.local.memory_profile.json.gz\n",
      "2022-04-06 16:25:42.756650: I tensorflow/core/profiler/rpc/client/capture_profile.cc:251] Creating directory: filter_cv_stl/mtl_class_c8_5_filters/stats/tensorboard/model_9_1649255141.219122/train/plugins/profile/2022_04_06_16_25_42\n",
      "Dumped tool data for xplane.pb to filter_cv_stl/mtl_class_c8_5_filters/stats/tensorboard/model_9_1649255141.219122/train/plugins/profile/2022_04_06_16_25_42/Eliass-MacBook-Pro.local.xplane.pb\n",
      "Dumped tool data for overview_page.pb to filter_cv_stl/mtl_class_c8_5_filters/stats/tensorboard/model_9_1649255141.219122/train/plugins/profile/2022_04_06_16_25_42/Eliass-MacBook-Pro.local.overview_page.pb\n",
      "Dumped tool data for input_pipeline.pb to filter_cv_stl/mtl_class_c8_5_filters/stats/tensorboard/model_9_1649255141.219122/train/plugins/profile/2022_04_06_16_25_42/Eliass-MacBook-Pro.local.input_pipeline.pb\n",
      "Dumped tool data for tensorflow_stats.pb to filter_cv_stl/mtl_class_c8_5_filters/stats/tensorboard/model_9_1649255141.219122/train/plugins/profile/2022_04_06_16_25_42/Eliass-MacBook-Pro.local.tensorflow_stats.pb\n",
      "Dumped tool data for kernel_stats.pb to filter_cv_stl/mtl_class_c8_5_filters/stats/tensorboard/model_9_1649255141.219122/train/plugins/profile/2022_04_06_16_25_42/Eliass-MacBook-Pro.local.kernel_stats.pb\n",
      "\n"
     ]
    },
    {
     "name": "stdout",
     "output_type": "stream",
     "text": [
      "1/1 [==============================] - 0s 73ms/step - loss: 0.6929 - accuracy: 0.5455 - precision_9: 0.5455 - recall_9: 0.5455 - val_loss: 0.6993 - val_accuracy: 0.1111 - val_precision_9: 0.1111 - val_recall_9: 0.1111\b\b\b\b\b\b\b\b\b\b\b\b\b\b\b\b\b\b\b\b\b\b\b\b\b\n",
      "Epoch 4/20\n",
      "1/1 [==============================] - 0s 77ms/step - loss: 0.6925 - accuracy: 0.5455 - precision_9: 0.5455 - recall_9: 0.5455 - val_loss: 0.7015 - val_accuracy: 0.1111 - val_precision_9: 0.1111 - val_recall_9: 0.1111\b\b\b\b\b\b\b\b\b\b\b\b\b\b\b\b\b\b\b\b\b\b\b\b\b\n",
      "Epoch 5/20\n",
      "1/1 [==============================] - 0s 82ms/step - loss: 0.6921 - accuracy: 0.5455 - precision_9: 0.5455 - recall_9: 0.5455 - val_loss: 0.7038 - val_accuracy: 0.1111 - val_precision_9: 0.1111 - val_recall_9: 0.1111\b\b\b\b\b\b\b\b\b\b\b\b\b\b\b\b\b\b\b\b\b\b\b\b\b\n",
      "Epoch 6/20\n",
      "1/1 [==============================] - 0s 74ms/step - loss: 0.6921 - accuracy: 0.5455 - precision_9: 0.5455 - recall_9: 0.5455 - val_loss: 0.7060 - val_accuracy: 0.1111 - val_precision_9: 0.1111 - val_recall_9: 0.1111\b\b\b\b\b\b\b\b\b\b\b\b\b\b\b\b\b\b\b\b\b\b\b\b\b\n",
      "1/1 [==============================] - 0s 367ms/step - loss: 0.6948 - accuracy: 0.1111 - precision_9: 0.1111 - recall_9: 0.1111\b\b\b\b\b\b\b\b\b\b\b\b\b\b\b\b\b\b\b\b\b\b\b\b\b\b\b\b\b\b\b\b\b\b\b\b\b\b\b\b\b\b\b\b\b\b\b\b\b\b\b\b\b\b\b\b\b\b\b\b\b\b\b\b\b\b\b\b\b\b\b\b\b\b\b\b\b\b\b\b\b\b\b\b\b\b\b\b\b\b\b\b\b\b\b\b\b\b\b\b\b\b\b\b\b\b\b\b\b\b\b\b\b\b\b\n",
      "Model: \"model_10\"\n",
      "_________________________________________________________________\n",
      " Layer (type)                Output Shape              Param #   \n",
      "=================================================================\n",
      " data_input (InputLayer)     [(None, 2000, 35)]        0         \n",
      "                                                                 \n",
      " conv1 (Conv1D)              (None, 2000, 5)           180       \n",
      "                                                                 \n",
      " lambda_10 (Lambda)          (None, 5)                 0         \n",
      "                                                                 \n",
      " dropout_10 (Dropout)        (None, 5)                 0         \n",
      "                                                                 \n",
      " phenotype_pred (Dense)      (None, 2)                 12        \n",
      "                                                                 \n",
      "=================================================================\n",
      "Total params: 192\n",
      "Trainable params: 192\n",
      "Non-trainable params: 0\n",
      "_________________________________________________________________\n",
      "None\n",
      "Epoch 1/20\n"
     ]
    },
    {
     "name": "stderr",
     "output_type": "stream",
     "text": [
      "2022-04-06 16:25:44.173336: I tensorflow/core/profiler/lib/profiler_session.cc:110] Profiler session initializing.\n",
      "2022-04-06 16:25:44.173370: I tensorflow/core/profiler/lib/profiler_session.cc:125] Profiler session started.\n",
      "2022-04-06 16:25:44.173633: I tensorflow/core/profiler/lib/profiler_session.cc:143] Profiler session tear down.\n"
     ]
    },
    {
     "name": "stdout",
     "output_type": "stream",
     "text": [
      "1/1 [==============================] - 1s 1s/step - loss: 0.6931 - accuracy: 0.5000 - precision_10: 0.5000 - recall_10: 0.5000 - val_loss: 0.6980 - val_accuracy: 0.1111 - val_precision_10: 0.1111 - val_recall_10: 0.1111\b\b\b\b\b\b\b\b\b\b\b\b\b\b\b\b\b\b\b\b\b\b\b\b\b\b\b\n",
      "Epoch 2/20\n",
      "1/1 [==============================] - 0s 193ms/step - loss: 0.6924 - accuracy: 0.5455 - precision_10: 0.5455 - recall_10: 0.5455 - val_loss: 0.7043 - val_accuracy: 0.1111 - val_precision_10: 0.1111 - val_recall_10: 0.1111\b\b\b\b\b\b\b\b\b\b\b\b\b\b\b\b\b\b\b\b\b\b\b\b\n",
      "Epoch 3/20\n"
     ]
    },
    {
     "name": "stderr",
     "output_type": "stream",
     "text": [
      "2022-04-06 16:25:45.650884: I tensorflow/core/profiler/lib/profiler_session.cc:110] Profiler session initializing.\n",
      "2022-04-06 16:25:45.650907: I tensorflow/core/profiler/lib/profiler_session.cc:125] Profiler session started.\n",
      "2022-04-06 16:25:45.796289: I tensorflow/core/profiler/lib/profiler_session.cc:67] Profiler session collecting data.\n",
      "2022-04-06 16:25:45.797846: I tensorflow/core/profiler/lib/profiler_session.cc:143] Profiler session tear down.\n",
      "2022-04-06 16:25:45.799981: I tensorflow/core/profiler/rpc/client/save_profile.cc:136] Creating directory: filter_cv_stl/mtl_class_c8_5_filters/stats/tensorboard/model_10_1649255144.1730938/train/plugins/profile/2022_04_06_16_25_45\n",
      "\n",
      "2022-04-06 16:25:45.801970: I tensorflow/core/profiler/rpc/client/save_profile.cc:142] Dumped gzipped tool data for trace.json.gz to filter_cv_stl/mtl_class_c8_5_filters/stats/tensorboard/model_10_1649255144.1730938/train/plugins/profile/2022_04_06_16_25_45/Eliass-MacBook-Pro.local.trace.json.gz\n",
      "2022-04-06 16:25:45.804164: I tensorflow/core/profiler/rpc/client/save_profile.cc:136] Creating directory: filter_cv_stl/mtl_class_c8_5_filters/stats/tensorboard/model_10_1649255144.1730938/train/plugins/profile/2022_04_06_16_25_45\n",
      "\n",
      "2022-04-06 16:25:45.804448: I tensorflow/core/profiler/rpc/client/save_profile.cc:142] Dumped gzipped tool data for memory_profile.json.gz to filter_cv_stl/mtl_class_c8_5_filters/stats/tensorboard/model_10_1649255144.1730938/train/plugins/profile/2022_04_06_16_25_45/Eliass-MacBook-Pro.local.memory_profile.json.gz\n",
      "2022-04-06 16:25:45.805728: I tensorflow/core/profiler/rpc/client/capture_profile.cc:251] Creating directory: filter_cv_stl/mtl_class_c8_5_filters/stats/tensorboard/model_10_1649255144.1730938/train/plugins/profile/2022_04_06_16_25_45\n",
      "Dumped tool data for xplane.pb to filter_cv_stl/mtl_class_c8_5_filters/stats/tensorboard/model_10_1649255144.1730938/train/plugins/profile/2022_04_06_16_25_45/Eliass-MacBook-Pro.local.xplane.pb\n",
      "Dumped tool data for overview_page.pb to filter_cv_stl/mtl_class_c8_5_filters/stats/tensorboard/model_10_1649255144.1730938/train/plugins/profile/2022_04_06_16_25_45/Eliass-MacBook-Pro.local.overview_page.pb\n",
      "Dumped tool data for input_pipeline.pb to filter_cv_stl/mtl_class_c8_5_filters/stats/tensorboard/model_10_1649255144.1730938/train/plugins/profile/2022_04_06_16_25_45/Eliass-MacBook-Pro.local.input_pipeline.pb\n",
      "Dumped tool data for tensorflow_stats.pb to filter_cv_stl/mtl_class_c8_5_filters/stats/tensorboard/model_10_1649255144.1730938/train/plugins/profile/2022_04_06_16_25_45/Eliass-MacBook-Pro.local.tensorflow_stats.pb\n",
      "Dumped tool data for kernel_stats.pb to filter_cv_stl/mtl_class_c8_5_filters/stats/tensorboard/model_10_1649255144.1730938/train/plugins/profile/2022_04_06_16_25_45/Eliass-MacBook-Pro.local.kernel_stats.pb\n",
      "\n"
     ]
    },
    {
     "name": "stdout",
     "output_type": "stream",
     "text": [
      "1/1 [==============================] - 0s 71ms/step - loss: 0.6915 - accuracy: 0.5455 - precision_10: 0.5455 - recall_10: 0.5455 - val_loss: 0.7110 - val_accuracy: 0.1111 - val_precision_10: 0.1111 - val_recall_10: 0.1111\b\b\b\b\b\b\b\b\b\b\b\b\b\b\b\b\b\b\b\b\b\b\b\b\b\n",
      "Epoch 4/20\n",
      "1/1 [==============================] - 0s 65ms/step - loss: 0.6912 - accuracy: 0.5455 - precision_10: 0.5455 - recall_10: 0.5455 - val_loss: 0.7178 - val_accuracy: 0.1111 - val_precision_10: 0.1111 - val_recall_10: 0.1111\b\b\b\b\b\b\b\b\b\b\b\b\b\b\b\b\b\b\b\b\b\b\b\b\b\n",
      "Epoch 5/20\n",
      "1/1 [==============================] - 0s 62ms/step - loss: 0.6907 - accuracy: 0.5455 - precision_10: 0.5455 - recall_10: 0.5455 - val_loss: 0.7247 - val_accuracy: 0.1111 - val_precision_10: 0.1111 - val_recall_10: 0.1111\b\b\b\b\b\b\b\b\b\b\b\b\b\b\b\b\b\b\b\b\b\b\b\b\b\n",
      "Epoch 6/20\n",
      "1/1 [==============================] - 0s 68ms/step - loss: 0.6898 - accuracy: 0.5455 - precision_10: 0.5455 - recall_10: 0.5455 - val_loss: 0.7314 - val_accuracy: 0.1111 - val_precision_10: 0.1111 - val_recall_10: 0.1111\b\b\b\b\b\b\b\b\b\b\b\b\b\b\b\b\b\b\b\b\b\b\b\b\b\n",
      "1/1 [==============================] - 0s 393ms/step - loss: 0.6980 - accuracy: 0.1111 - precision_10: 0.1111 - recall_10: 0.1111\b\b\b\b\b\b\b\b\b\b\b\b\b\b\b\b\b\b\b\b\b\b\b\b\b\b\b\b\b\b\b\b\b\b\b\b\b\b\b\b\b\b\b\b\b\b\b\b\b\b\b\b\b\b\b\b\b\b\b\b\b\b\b\b\b\b\b\b\b\b\b\b\b\b\b\b\b\b\b\b\b\b\b\b\b\b\b\b\b\b\b\b\b\b\b\b\b\b\b\b\b\b\b\b\b\b\b\b\b\b\b\b\b\b\b\b\b\n",
      "Model: \"model_11\"\n",
      "_________________________________________________________________\n",
      " Layer (type)                Output Shape              Param #   \n",
      "=================================================================\n",
      " data_input (InputLayer)     [(None, 2000, 35)]        0         \n",
      "                                                                 \n",
      " conv1 (Conv1D)              (None, 2000, 5)           180       \n",
      "                                                                 \n",
      " lambda_11 (Lambda)          (None, 5)                 0         \n",
      "                                                                 \n",
      " dropout_11 (Dropout)        (None, 5)                 0         \n",
      "                                                                 \n",
      " phenotype_pred (Dense)      (None, 2)                 12        \n",
      "                                                                 \n",
      "=================================================================\n",
      "Total params: 192\n",
      "Trainable params: 192\n",
      "Non-trainable params: 0\n",
      "_________________________________________________________________\n",
      "None\n",
      "Epoch 1/20\n"
     ]
    },
    {
     "name": "stderr",
     "output_type": "stream",
     "text": [
      "2022-04-06 16:25:47.337998: I tensorflow/core/profiler/lib/profiler_session.cc:110] Profiler session initializing.\n",
      "2022-04-06 16:25:47.338019: I tensorflow/core/profiler/lib/profiler_session.cc:125] Profiler session started.\n",
      "2022-04-06 16:25:47.338334: I tensorflow/core/profiler/lib/profiler_session.cc:143] Profiler session tear down.\n"
     ]
    },
    {
     "name": "stdout",
     "output_type": "stream",
     "text": [
      "1/1 [==============================] - 1s 1s/step - loss: 0.6932 - accuracy: 0.4091 - precision_11: 0.4103 - recall_11: 0.3636 - val_loss: 0.6965 - val_accuracy: 0.1111 - val_precision_11: 0.1111 - val_recall_11: 0.1111\b\b\b\b\b\b\b\b\b\b\b\b\b\b\b\b\b\b\b\b\b\b\b\b\b\b\b\n",
      "Epoch 2/20\n",
      "1/1 [==============================] - 0s 166ms/step - loss: 0.6928 - accuracy: 0.5455 - precision_11: 0.5455 - recall_11: 0.5455 - val_loss: 0.6997 - val_accuracy: 0.1111 - val_precision_11: 0.1111 - val_recall_11: 0.1111\b\b\b\b\b\b\b\b\b\b\b\b\b\b\b\b\b\b\b\b\b\b\b\b\n",
      "Epoch 3/20\n"
     ]
    },
    {
     "name": "stderr",
     "output_type": "stream",
     "text": [
      "2022-04-06 16:25:48.783640: I tensorflow/core/profiler/lib/profiler_session.cc:110] Profiler session initializing.\n",
      "2022-04-06 16:25:48.783656: I tensorflow/core/profiler/lib/profiler_session.cc:125] Profiler session started.\n",
      "2022-04-06 16:25:48.901334: I tensorflow/core/profiler/lib/profiler_session.cc:67] Profiler session collecting data.\n",
      "2022-04-06 16:25:48.902816: I tensorflow/core/profiler/lib/profiler_session.cc:143] Profiler session tear down.\n",
      "2022-04-06 16:25:48.904954: I tensorflow/core/profiler/rpc/client/save_profile.cc:136] Creating directory: filter_cv_stl/mtl_class_c8_5_filters/stats/tensorboard/model_11_1649255147.337836/train/plugins/profile/2022_04_06_16_25_48\n",
      "\n",
      "2022-04-06 16:25:48.906876: I tensorflow/core/profiler/rpc/client/save_profile.cc:142] Dumped gzipped tool data for trace.json.gz to filter_cv_stl/mtl_class_c8_5_filters/stats/tensorboard/model_11_1649255147.337836/train/plugins/profile/2022_04_06_16_25_48/Eliass-MacBook-Pro.local.trace.json.gz\n",
      "2022-04-06 16:25:48.909316: I tensorflow/core/profiler/rpc/client/save_profile.cc:136] Creating directory: filter_cv_stl/mtl_class_c8_5_filters/stats/tensorboard/model_11_1649255147.337836/train/plugins/profile/2022_04_06_16_25_48\n",
      "\n",
      "2022-04-06 16:25:48.909707: I tensorflow/core/profiler/rpc/client/save_profile.cc:142] Dumped gzipped tool data for memory_profile.json.gz to filter_cv_stl/mtl_class_c8_5_filters/stats/tensorboard/model_11_1649255147.337836/train/plugins/profile/2022_04_06_16_25_48/Eliass-MacBook-Pro.local.memory_profile.json.gz\n",
      "2022-04-06 16:25:48.911593: I tensorflow/core/profiler/rpc/client/capture_profile.cc:251] Creating directory: filter_cv_stl/mtl_class_c8_5_filters/stats/tensorboard/model_11_1649255147.337836/train/plugins/profile/2022_04_06_16_25_48\n",
      "Dumped tool data for xplane.pb to filter_cv_stl/mtl_class_c8_5_filters/stats/tensorboard/model_11_1649255147.337836/train/plugins/profile/2022_04_06_16_25_48/Eliass-MacBook-Pro.local.xplane.pb\n",
      "Dumped tool data for overview_page.pb to filter_cv_stl/mtl_class_c8_5_filters/stats/tensorboard/model_11_1649255147.337836/train/plugins/profile/2022_04_06_16_25_48/Eliass-MacBook-Pro.local.overview_page.pb\n",
      "Dumped tool data for input_pipeline.pb to filter_cv_stl/mtl_class_c8_5_filters/stats/tensorboard/model_11_1649255147.337836/train/plugins/profile/2022_04_06_16_25_48/Eliass-MacBook-Pro.local.input_pipeline.pb\n",
      "Dumped tool data for tensorflow_stats.pb to filter_cv_stl/mtl_class_c8_5_filters/stats/tensorboard/model_11_1649255147.337836/train/plugins/profile/2022_04_06_16_25_48/Eliass-MacBook-Pro.local.tensorflow_stats.pb\n",
      "Dumped tool data for kernel_stats.pb to filter_cv_stl/mtl_class_c8_5_filters/stats/tensorboard/model_11_1649255147.337836/train/plugins/profile/2022_04_06_16_25_48/Eliass-MacBook-Pro.local.kernel_stats.pb\n",
      "\n"
     ]
    },
    {
     "name": "stdout",
     "output_type": "stream",
     "text": [
      "1/1 [==============================] - 0s 64ms/step - loss: 0.6924 - accuracy: 0.5455 - precision_11: 0.5455 - recall_11: 0.5455 - val_loss: 0.7030 - val_accuracy: 0.1111 - val_precision_11: 0.1111 - val_recall_11: 0.1111\b\b\b\b\b\b\b\b\b\b\b\b\b\b\b\b\b\b\b\b\b\b\b\b\b\n",
      "Epoch 4/20\n",
      "1/1 [==============================] - 0s 63ms/step - loss: 0.6921 - accuracy: 0.5455 - precision_11: 0.5455 - recall_11: 0.5455 - val_loss: 0.7064 - val_accuracy: 0.1111 - val_precision_11: 0.1111 - val_recall_11: 0.1111\b\b\b\b\b\b\b\b\b\b\b\b\b\b\b\b\b\b\b\b\b\b\b\b\b\n",
      "Epoch 5/20\n",
      "1/1 [==============================] - 0s 68ms/step - loss: 0.6920 - accuracy: 0.5455 - precision_11: 0.5455 - recall_11: 0.5455 - val_loss: 0.7094 - val_accuracy: 0.1111 - val_precision_11: 0.1111 - val_recall_11: 0.1111\b\b\b\b\b\b\b\b\b\b\b\b\b\b\b\b\b\b\b\b\b\b\b\b\b\n",
      "Epoch 6/20\n",
      "1/1 [==============================] - 0s 93ms/step - loss: 0.6915 - accuracy: 0.5455 - precision_11: 0.5455 - recall_11: 0.5455 - val_loss: 0.7125 - val_accuracy: 0.1111 - val_precision_11: 0.1111 - val_recall_11: 0.1111\b\b\b\b\b\b\b\b\b\b\b\b\b\b\b\b\b\b\b\b\b\b\b\b\b\n",
      "1/1 [==============================] - 0s 422ms/step - loss: 0.6965 - accuracy: 0.1111 - precision_11: 0.1111 - recall_11: 0.1111\b\b\b\b\b\b\b\b\b\b\b\b\b\b\b\b\b\b\b\b\b\b\b\b\b\b\b\b\b\b\b\b\b\b\b\b\b\b\b\b\b\b\b\b\b\b\b\b\b\b\b\b\b\b\b\b\b\b\b\b\b\b\b\b\b\b\b\b\b\b\b\b\b\b\b\b\b\b\b\b\b\b\b\b\b\b\b\b\b\b\b\b\b\b\b\b\b\b\b\b\b\b\b\b\b\b\b\b\b\b\b\b\b\b\b\b\b\n",
      "DONE building model 5\n",
      "Model: \"model_12\"\n",
      "_________________________________________________________________\n",
      " Layer (type)                Output Shape              Param #   \n",
      "=================================================================\n",
      " data_input (InputLayer)     [(None, 2000, 35)]        0         \n",
      "                                                                 \n",
      " conv1 (Conv1D)              (None, 2000, 6)           216       \n",
      "                                                                 \n",
      " lambda_12 (Lambda)          (None, 6)                 0         \n",
      "                                                                 \n",
      " dropout_12 (Dropout)        (None, 6)                 0         \n",
      "                                                                 \n",
      " phenotype_pred (Dense)      (None, 2)                 14        \n",
      "                                                                 \n",
      "=================================================================\n",
      "Total params: 230\n",
      "Trainable params: 230\n",
      "Non-trainable params: 0\n",
      "_________________________________________________________________\n",
      "None\n",
      "Epoch 1/20\n"
     ]
    },
    {
     "name": "stderr",
     "output_type": "stream",
     "text": [
      "2022-04-06 16:25:50.696531: I tensorflow/core/profiler/lib/profiler_session.cc:110] Profiler session initializing.\n",
      "2022-04-06 16:25:50.696565: I tensorflow/core/profiler/lib/profiler_session.cc:125] Profiler session started.\n",
      "2022-04-06 16:25:50.697476: I tensorflow/core/profiler/lib/profiler_session.cc:143] Profiler session tear down.\n"
     ]
    },
    {
     "name": "stdout",
     "output_type": "stream",
     "text": [
      "1/1 [==============================] - 2s 2s/step - loss: 0.6931 - accuracy: 0.5909 - precision_12: 0.5714 - recall_12: 0.5455 - val_loss: 0.6972 - val_accuracy: 0.1111 - val_precision_12: 0.1111 - val_recall_12: 0.1111\b\b\b\b\b\b\b\b\b\b\b\b\b\b\b\b\b\b\b\b\b\b\b\b\b\b\b\n",
      "Epoch 2/20\n",
      "1/1 [==============================] - 0s 162ms/step - loss: 0.6930 - accuracy: 0.5455 - precision_12: 0.5455 - recall_12: 0.5455 - val_loss: 0.7029 - val_accuracy: 0.1111 - val_precision_12: 0.1111 - val_recall_12: 0.1111\b\b\b\b\b\b\b\b\b\b\b\b\b\b\b\b\b\b\b\b\b\b\b\b\n",
      "Epoch 3/20\n"
     ]
    },
    {
     "name": "stderr",
     "output_type": "stream",
     "text": [
      "2022-04-06 16:25:52.653852: I tensorflow/core/profiler/lib/profiler_session.cc:110] Profiler session initializing.\n",
      "2022-04-06 16:25:52.653871: I tensorflow/core/profiler/lib/profiler_session.cc:125] Profiler session started.\n",
      "2022-04-06 16:25:52.775453: I tensorflow/core/profiler/lib/profiler_session.cc:67] Profiler session collecting data.\n",
      "2022-04-06 16:25:52.776665: I tensorflow/core/profiler/lib/profiler_session.cc:143] Profiler session tear down.\n",
      "2022-04-06 16:25:52.778530: I tensorflow/core/profiler/rpc/client/save_profile.cc:136] Creating directory: filter_cv_stl/mtl_class_c8_6_filters/stats/tensorboard/model_12_1649255150.696325/train/plugins/profile/2022_04_06_16_25_52\n",
      "\n",
      "2022-04-06 16:25:52.780594: I tensorflow/core/profiler/rpc/client/save_profile.cc:142] Dumped gzipped tool data for trace.json.gz to filter_cv_stl/mtl_class_c8_6_filters/stats/tensorboard/model_12_1649255150.696325/train/plugins/profile/2022_04_06_16_25_52/Eliass-MacBook-Pro.local.trace.json.gz\n",
      "2022-04-06 16:25:52.782686: I tensorflow/core/profiler/rpc/client/save_profile.cc:136] Creating directory: filter_cv_stl/mtl_class_c8_6_filters/stats/tensorboard/model_12_1649255150.696325/train/plugins/profile/2022_04_06_16_25_52\n",
      "\n",
      "2022-04-06 16:25:52.783044: I tensorflow/core/profiler/rpc/client/save_profile.cc:142] Dumped gzipped tool data for memory_profile.json.gz to filter_cv_stl/mtl_class_c8_6_filters/stats/tensorboard/model_12_1649255150.696325/train/plugins/profile/2022_04_06_16_25_52/Eliass-MacBook-Pro.local.memory_profile.json.gz\n",
      "2022-04-06 16:25:52.784978: I tensorflow/core/profiler/rpc/client/capture_profile.cc:251] Creating directory: filter_cv_stl/mtl_class_c8_6_filters/stats/tensorboard/model_12_1649255150.696325/train/plugins/profile/2022_04_06_16_25_52\n",
      "Dumped tool data for xplane.pb to filter_cv_stl/mtl_class_c8_6_filters/stats/tensorboard/model_12_1649255150.696325/train/plugins/profile/2022_04_06_16_25_52/Eliass-MacBook-Pro.local.xplane.pb\n",
      "Dumped tool data for overview_page.pb to filter_cv_stl/mtl_class_c8_6_filters/stats/tensorboard/model_12_1649255150.696325/train/plugins/profile/2022_04_06_16_25_52/Eliass-MacBook-Pro.local.overview_page.pb\n",
      "Dumped tool data for input_pipeline.pb to filter_cv_stl/mtl_class_c8_6_filters/stats/tensorboard/model_12_1649255150.696325/train/plugins/profile/2022_04_06_16_25_52/Eliass-MacBook-Pro.local.input_pipeline.pb\n",
      "Dumped tool data for tensorflow_stats.pb to filter_cv_stl/mtl_class_c8_6_filters/stats/tensorboard/model_12_1649255150.696325/train/plugins/profile/2022_04_06_16_25_52/Eliass-MacBook-Pro.local.tensorflow_stats.pb\n",
      "Dumped tool data for kernel_stats.pb to filter_cv_stl/mtl_class_c8_6_filters/stats/tensorboard/model_12_1649255150.696325/train/plugins/profile/2022_04_06_16_25_52/Eliass-MacBook-Pro.local.kernel_stats.pb\n",
      "\n"
     ]
    },
    {
     "name": "stdout",
     "output_type": "stream",
     "text": [
      "1/1 [==============================] - 0s 82ms/step - loss: 0.6919 - accuracy: 0.5455 - precision_12: 0.5455 - recall_12: 0.5455 - val_loss: 0.7083 - val_accuracy: 0.1111 - val_precision_12: 0.1111 - val_recall_12: 0.1111\b\b\b\b\b\b\b\b\b\b\b\b\b\b\b\b\b\b\b\b\b\b\b\b\b\n",
      "Epoch 4/20\n",
      "1/1 [==============================] - 0s 70ms/step - loss: 0.6917 - accuracy: 0.5455 - precision_12: 0.5455 - recall_12: 0.5455 - val_loss: 0.7133 - val_accuracy: 0.1111 - val_precision_12: 0.1111 - val_recall_12: 0.1111\b\b\b\b\b\b\b\b\b\b\b\b\b\b\b\b\b\b\b\b\b\b\b\b\b\n",
      "Epoch 5/20\n",
      "1/1 [==============================] - 0s 68ms/step - loss: 0.6907 - accuracy: 0.5455 - precision_12: 0.5455 - recall_12: 0.5455 - val_loss: 0.7185 - val_accuracy: 0.1111 - val_precision_12: 0.1111 - val_recall_12: 0.1111\b\b\b\b\b\b\b\b\b\b\b\b\b\b\b\b\b\b\b\b\b\b\b\b\b\n",
      "Epoch 6/20\n",
      "1/1 [==============================] - 0s 72ms/step - loss: 0.6904 - accuracy: 0.5455 - precision_12: 0.5455 - recall_12: 0.5455 - val_loss: 0.7239 - val_accuracy: 0.1111 - val_precision_12: 0.1111 - val_recall_12: 0.1111\b\b\b\b\b\b\b\b\b\b\b\b\b\b\b\b\b\b\b\b\b\b\b\b\b\n",
      "1/1 [==============================] - 0s 383ms/step - loss: 0.6972 - accuracy: 0.1111 - precision_12: 0.1111 - recall_12: 0.1111\b\b\b\b\b\b\b\b\b\b\b\b\b\b\b\b\b\b\b\b\b\b\b\b\b\b\b\b\b\b\b\b\b\b\b\b\b\b\b\b\b\b\b\b\b\b\b\b\b\b\b\b\b\b\b\b\b\b\b\b\b\b\b\b\b\b\b\b\b\b\b\b\b\b\b\b\b\b\b\b\b\b\b\b\b\b\b\b\b\b\b\b\b\b\b\b\b\b\b\b\b\b\b\b\b\b\b\b\b\b\b\b\b\b\b\b\b\n",
      "Model: \"model_13\"\n",
      "_________________________________________________________________\n",
      " Layer (type)                Output Shape              Param #   \n",
      "=================================================================\n",
      " data_input (InputLayer)     [(None, 2000, 35)]        0         \n",
      "                                                                 \n",
      " conv1 (Conv1D)              (None, 2000, 6)           216       \n",
      "                                                                 \n",
      " lambda_13 (Lambda)          (None, 6)                 0         \n",
      "                                                                 \n",
      " dropout_13 (Dropout)        (None, 6)                 0         \n",
      "                                                                 \n",
      " phenotype_pred (Dense)      (None, 2)                 14        \n",
      "                                                                 \n",
      "=================================================================\n",
      "Total params: 230\n",
      "Trainable params: 230\n",
      "Non-trainable params: 0\n",
      "_________________________________________________________________\n",
      "None\n",
      "Epoch 1/20\n"
     ]
    },
    {
     "name": "stderr",
     "output_type": "stream",
     "text": [
      "2022-04-06 16:25:54.178357: I tensorflow/core/profiler/lib/profiler_session.cc:110] Profiler session initializing.\n",
      "2022-04-06 16:25:54.178384: I tensorflow/core/profiler/lib/profiler_session.cc:125] Profiler session started.\n",
      "2022-04-06 16:25:54.178696: I tensorflow/core/profiler/lib/profiler_session.cc:143] Profiler session tear down.\n"
     ]
    },
    {
     "name": "stdout",
     "output_type": "stream",
     "text": [
      "1/1 [==============================] - 1s 1s/step - loss: 0.6931 - accuracy: 0.5000 - precision_13: 0.5000 - recall_13: 0.5000 - val_loss: 0.6991 - val_accuracy: 0.1111 - val_precision_13: 0.1111 - val_recall_13: 0.1111\b\b\b\b\b\b\b\b\b\b\b\b\b\b\b\b\b\b\b\b\b\b\b\b\b\b\b\n",
      "Epoch 2/20\n",
      "1/1 [==============================] - 0s 160ms/step - loss: 0.6924 - accuracy: 0.5455 - precision_13: 0.5455 - recall_13: 0.5455 - val_loss: 0.7049 - val_accuracy: 0.1111 - val_precision_13: 0.1111 - val_recall_13: 0.1111\b\b\b\b\b\b\b\b\b\b\b\b\b\b\b\b\b\b\b\b\b\b\b\b\n",
      "Epoch 3/20\n",
      "1/1 [==============================] - ETA: 0s - loss: 0.6916 - accuracy: 0.5455 - precision_13: 0.5455 - recall_13: 0.5455"
     ]
    },
    {
     "name": "stderr",
     "output_type": "stream",
     "text": [
      "2022-04-06 16:25:55.649556: I tensorflow/core/profiler/lib/profiler_session.cc:110] Profiler session initializing.\n",
      "2022-04-06 16:25:55.649573: I tensorflow/core/profiler/lib/profiler_session.cc:125] Profiler session started.\n",
      "2022-04-06 16:25:55.769683: I tensorflow/core/profiler/lib/profiler_session.cc:67] Profiler session collecting data.\n",
      "2022-04-06 16:25:55.770881: I tensorflow/core/profiler/lib/profiler_session.cc:143] Profiler session tear down.\n",
      "2022-04-06 16:25:55.773768: I tensorflow/core/profiler/rpc/client/save_profile.cc:136] Creating directory: filter_cv_stl/mtl_class_c8_6_filters/stats/tensorboard/model_13_1649255154.178185/train/plugins/profile/2022_04_06_16_25_55\n",
      "\n",
      "2022-04-06 16:25:55.775554: I tensorflow/core/profiler/rpc/client/save_profile.cc:142] Dumped gzipped tool data for trace.json.gz to filter_cv_stl/mtl_class_c8_6_filters/stats/tensorboard/model_13_1649255154.178185/train/plugins/profile/2022_04_06_16_25_55/Eliass-MacBook-Pro.local.trace.json.gz\n",
      "2022-04-06 16:25:55.777779: I tensorflow/core/profiler/rpc/client/save_profile.cc:136] Creating directory: filter_cv_stl/mtl_class_c8_6_filters/stats/tensorboard/model_13_1649255154.178185/train/plugins/profile/2022_04_06_16_25_55\n",
      "\n",
      "2022-04-06 16:25:55.778060: I tensorflow/core/profiler/rpc/client/save_profile.cc:142] Dumped gzipped tool data for memory_profile.json.gz to filter_cv_stl/mtl_class_c8_6_filters/stats/tensorboard/model_13_1649255154.178185/train/plugins/profile/2022_04_06_16_25_55/Eliass-MacBook-Pro.local.memory_profile.json.gz\n",
      "2022-04-06 16:25:55.780120: I tensorflow/core/profiler/rpc/client/capture_profile.cc:251] Creating directory: filter_cv_stl/mtl_class_c8_6_filters/stats/tensorboard/model_13_1649255154.178185/train/plugins/profile/2022_04_06_16_25_55\n",
      "Dumped tool data for xplane.pb to filter_cv_stl/mtl_class_c8_6_filters/stats/tensorboard/model_13_1649255154.178185/train/plugins/profile/2022_04_06_16_25_55/Eliass-MacBook-Pro.local.xplane.pb\n",
      "Dumped tool data for overview_page.pb to filter_cv_stl/mtl_class_c8_6_filters/stats/tensorboard/model_13_1649255154.178185/train/plugins/profile/2022_04_06_16_25_55/Eliass-MacBook-Pro.local.overview_page.pb\n",
      "Dumped tool data for input_pipeline.pb to filter_cv_stl/mtl_class_c8_6_filters/stats/tensorboard/model_13_1649255154.178185/train/plugins/profile/2022_04_06_16_25_55/Eliass-MacBook-Pro.local.input_pipeline.pb\n",
      "Dumped tool data for tensorflow_stats.pb to filter_cv_stl/mtl_class_c8_6_filters/stats/tensorboard/model_13_1649255154.178185/train/plugins/profile/2022_04_06_16_25_55/Eliass-MacBook-Pro.local.tensorflow_stats.pb\n",
      "Dumped tool data for kernel_stats.pb to filter_cv_stl/mtl_class_c8_6_filters/stats/tensorboard/model_13_1649255154.178185/train/plugins/profile/2022_04_06_16_25_55/Eliass-MacBook-Pro.local.kernel_stats.pb\n",
      "\n"
     ]
    },
    {
     "name": "stdout",
     "output_type": "stream",
     "text": [
      "1/1 [==============================] - 0s 74ms/step - loss: 0.6916 - accuracy: 0.5455 - precision_13: 0.5455 - recall_13: 0.5455 - val_loss: 0.7110 - val_accuracy: 0.1111 - val_precision_13: 0.1111 - val_recall_13: 0.1111\n",
      "Epoch 4/20\n",
      "1/1 [==============================] - 0s 67ms/step - loss: 0.6921 - accuracy: 0.5455 - precision_13: 0.5455 - recall_13: 0.5455 - val_loss: 0.7166 - val_accuracy: 0.1111 - val_precision_13: 0.1111 - val_recall_13: 0.1111\b\b\b\b\b\b\b\b\b\b\b\b\b\b\b\b\b\b\b\b\b\b\b\b\b\n",
      "Epoch 5/20\n",
      "1/1 [==============================] - 0s 66ms/step - loss: 0.6910 - accuracy: 0.5455 - precision_13: 0.5455 - recall_13: 0.5455 - val_loss: 0.7221 - val_accuracy: 0.1111 - val_precision_13: 0.1111 - val_recall_13: 0.1111\b\b\b\b\b\b\b\b\b\b\b\b\b\b\b\b\b\b\b\b\b\b\b\b\b\n",
      "Epoch 6/20\n",
      "1/1 [==============================] - 0s 68ms/step - loss: 0.6907 - accuracy: 0.5455 - precision_13: 0.5455 - recall_13: 0.5455 - val_loss: 0.7274 - val_accuracy: 0.1111 - val_precision_13: 0.1111 - val_recall_13: 0.1111\b\b\b\b\b\b\b\b\b\b\b\b\b\b\b\b\b\b\b\b\b\b\b\b\b\n",
      "1/1 [==============================] - 0s 378ms/step - loss: 0.6991 - accuracy: 0.1111 - precision_13: 0.1111 - recall_13: 0.1111\b\b\b\b\b\b\b\b\b\b\b\b\b\b\b\b\b\b\b\b\b\b\b\b\b\b\b\b\b\b\b\b\b\b\b\b\b\b\b\b\b\b\b\b\b\b\b\b\b\b\b\b\b\b\b\b\b\b\b\b\b\b\b\b\b\b\b\b\b\b\b\b\b\b\b\b\b\b\b\b\b\b\b\b\b\b\b\b\b\b\b\b\b\b\b\b\b\b\b\b\b\b\b\b\b\b\b\b\b\b\b\b\b\b\b\b\b\n",
      "Model: \"model_14\"\n",
      "_________________________________________________________________\n",
      " Layer (type)                Output Shape              Param #   \n",
      "=================================================================\n",
      " data_input (InputLayer)     [(None, 2000, 35)]        0         \n",
      "                                                                 \n",
      " conv1 (Conv1D)              (None, 2000, 6)           216       \n",
      "                                                                 \n",
      " lambda_14 (Lambda)          (None, 6)                 0         \n",
      "                                                                 \n",
      " dropout_14 (Dropout)        (None, 6)                 0         \n",
      "                                                                 \n",
      " phenotype_pred (Dense)      (None, 2)                 14        \n",
      "                                                                 \n",
      "=================================================================\n",
      "Total params: 230\n",
      "Trainable params: 230\n",
      "Non-trainable params: 0\n",
      "_________________________________________________________________\n",
      "None\n",
      "Epoch 1/20\n"
     ]
    },
    {
     "name": "stderr",
     "output_type": "stream",
     "text": [
      "2022-04-06 16:25:57.109478: I tensorflow/core/profiler/lib/profiler_session.cc:110] Profiler session initializing.\n",
      "2022-04-06 16:25:57.109504: I tensorflow/core/profiler/lib/profiler_session.cc:125] Profiler session started.\n",
      "2022-04-06 16:25:57.110016: I tensorflow/core/profiler/lib/profiler_session.cc:143] Profiler session tear down.\n"
     ]
    },
    {
     "name": "stdout",
     "output_type": "stream",
     "text": [
      "1/1 [==============================] - 1s 1s/step - loss: 0.6932 - accuracy: 0.4318 - precision_14: 0.4419 - recall_14: 0.4318 - val_loss: 0.6949 - val_accuracy: 0.1111 - val_precision_14: 0.1111 - val_recall_14: 0.1111\b\b\b\b\b\b\b\b\b\b\b\b\b\b\b\b\b\b\b\b\b\b\b\b\b\b\b\n",
      "Epoch 2/20\n",
      "1/1 [==============================] - 0s 152ms/step - loss: 0.6931 - accuracy: 0.5455 - precision_14: 0.5455 - recall_14: 0.5455 - val_loss: 0.6967 - val_accuracy: 0.1111 - val_precision_14: 0.1111 - val_recall_14: 0.1111\b\b\b\b\b\b\b\b\b\b\b\b\b\b\b\b\b\b\b\b\b\b\b\b\n",
      "Epoch 3/20\n",
      "1/1 [==============================] - ETA: 0s - loss: 0.6928 - accuracy: 0.5455 - precision_14: 0.5455 - recall_14: 0.5455"
     ]
    },
    {
     "name": "stderr",
     "output_type": "stream",
     "text": [
      "2022-04-06 16:25:58.574690: I tensorflow/core/profiler/lib/profiler_session.cc:110] Profiler session initializing.\n",
      "2022-04-06 16:25:58.574708: I tensorflow/core/profiler/lib/profiler_session.cc:125] Profiler session started.\n",
      "2022-04-06 16:25:58.689031: I tensorflow/core/profiler/lib/profiler_session.cc:67] Profiler session collecting data.\n",
      "2022-04-06 16:25:58.690293: I tensorflow/core/profiler/lib/profiler_session.cc:143] Profiler session tear down.\n",
      "2022-04-06 16:25:58.692174: I tensorflow/core/profiler/rpc/client/save_profile.cc:136] Creating directory: filter_cv_stl/mtl_class_c8_6_filters/stats/tensorboard/model_14_1649255157.1093/train/plugins/profile/2022_04_06_16_25_58\n",
      "\n",
      "2022-04-06 16:25:58.693659: I tensorflow/core/profiler/rpc/client/save_profile.cc:142] Dumped gzipped tool data for trace.json.gz to filter_cv_stl/mtl_class_c8_6_filters/stats/tensorboard/model_14_1649255157.1093/train/plugins/profile/2022_04_06_16_25_58/Eliass-MacBook-Pro.local.trace.json.gz\n",
      "2022-04-06 16:25:58.695662: I tensorflow/core/profiler/rpc/client/save_profile.cc:136] Creating directory: filter_cv_stl/mtl_class_c8_6_filters/stats/tensorboard/model_14_1649255157.1093/train/plugins/profile/2022_04_06_16_25_58\n",
      "\n",
      "2022-04-06 16:25:58.695919: I tensorflow/core/profiler/rpc/client/save_profile.cc:142] Dumped gzipped tool data for memory_profile.json.gz to filter_cv_stl/mtl_class_c8_6_filters/stats/tensorboard/model_14_1649255157.1093/train/plugins/profile/2022_04_06_16_25_58/Eliass-MacBook-Pro.local.memory_profile.json.gz\n",
      "2022-04-06 16:25:58.697252: I tensorflow/core/profiler/rpc/client/capture_profile.cc:251] Creating directory: filter_cv_stl/mtl_class_c8_6_filters/stats/tensorboard/model_14_1649255157.1093/train/plugins/profile/2022_04_06_16_25_58\n",
      "Dumped tool data for xplane.pb to filter_cv_stl/mtl_class_c8_6_filters/stats/tensorboard/model_14_1649255157.1093/train/plugins/profile/2022_04_06_16_25_58/Eliass-MacBook-Pro.local.xplane.pb\n",
      "Dumped tool data for overview_page.pb to filter_cv_stl/mtl_class_c8_6_filters/stats/tensorboard/model_14_1649255157.1093/train/plugins/profile/2022_04_06_16_25_58/Eliass-MacBook-Pro.local.overview_page.pb\n",
      "Dumped tool data for input_pipeline.pb to filter_cv_stl/mtl_class_c8_6_filters/stats/tensorboard/model_14_1649255157.1093/train/plugins/profile/2022_04_06_16_25_58/Eliass-MacBook-Pro.local.input_pipeline.pb\n",
      "Dumped tool data for tensorflow_stats.pb to filter_cv_stl/mtl_class_c8_6_filters/stats/tensorboard/model_14_1649255157.1093/train/plugins/profile/2022_04_06_16_25_58/Eliass-MacBook-Pro.local.tensorflow_stats.pb\n",
      "Dumped tool data for kernel_stats.pb to filter_cv_stl/mtl_class_c8_6_filters/stats/tensorboard/model_14_1649255157.1093/train/plugins/profile/2022_04_06_16_25_58/Eliass-MacBook-Pro.local.kernel_stats.pb\n",
      "\n"
     ]
    },
    {
     "name": "stdout",
     "output_type": "stream",
     "text": [
      "1/1 [==============================] - 0s 70ms/step - loss: 0.6928 - accuracy: 0.5455 - precision_14: 0.5455 - recall_14: 0.5455 - val_loss: 0.6985 - val_accuracy: 0.1111 - val_precision_14: 0.1111 - val_recall_14: 0.1111\n",
      "Epoch 4/20\n",
      "1/1 [==============================] - 0s 73ms/step - loss: 0.6926 - accuracy: 0.5455 - precision_14: 0.5455 - recall_14: 0.5455 - val_loss: 0.7002 - val_accuracy: 0.1111 - val_precision_14: 0.1111 - val_recall_14: 0.1111\b\b\b\b\b\b\b\b\b\b\b\b\b\b\b\b\b\b\b\b\b\b\b\b\b\n",
      "Epoch 5/20\n",
      "1/1 [==============================] - 0s 61ms/step - loss: 0.6923 - accuracy: 0.5455 - precision_14: 0.5455 - recall_14: 0.5455 - val_loss: 0.7019 - val_accuracy: 0.1111 - val_precision_14: 0.1111 - val_recall_14: 0.1111\b\b\b\b\b\b\b\b\b\b\b\b\b\b\b\b\b\b\b\b\b\b\b\b\b\n",
      "Epoch 6/20\n",
      "1/1 [==============================] - 0s 84ms/step - loss: 0.6923 - accuracy: 0.5455 - precision_14: 0.5455 - recall_14: 0.5455 - val_loss: 0.7037 - val_accuracy: 0.1111 - val_precision_14: 0.1111 - val_recall_14: 0.1111\b\b\b\b\b\b\b\b\b\b\b\b\b\b\b\b\b\b\b\b\b\b\b\b\b\n",
      "1/1 [==============================] - 0s 363ms/step - loss: 0.6949 - accuracy: 0.1111 - precision_14: 0.1111 - recall_14: 0.1111\b\b\b\b\b\b\b\b\b\b\b\b\b\b\b\b\b\b\b\b\b\b\b\b\b\b\b\b\b\b\b\b\b\b\b\b\b\b\b\b\b\b\b\b\b\b\b\b\b\b\b\b\b\b\b\b\b\b\b\b\b\b\b\b\b\b\b\b\b\b\b\b\b\b\b\b\b\b\b\b\b\b\b\b\b\b\b\b\b\b\b\b\b\b\b\b\b\b\b\b\b\b\b\b\b\b\b\b\b\b\b\b\b\b\b\b\b\n",
      "DONE building model 6\n",
      "Model: \"model_15\"\n",
      "_________________________________________________________________\n",
      " Layer (type)                Output Shape              Param #   \n",
      "=================================================================\n",
      " data_input (InputLayer)     [(None, 2000, 35)]        0         \n",
      "                                                                 \n",
      " conv1 (Conv1D)              (None, 2000, 7)           252       \n",
      "                                                                 \n",
      " lambda_15 (Lambda)          (None, 7)                 0         \n",
      "                                                                 \n",
      " dropout_15 (Dropout)        (None, 7)                 0         \n",
      "                                                                 \n",
      " phenotype_pred (Dense)      (None, 2)                 16        \n",
      "                                                                 \n",
      "=================================================================\n",
      "Total params: 268\n",
      "Trainable params: 268\n",
      "Non-trainable params: 0\n",
      "_________________________________________________________________\n",
      "None\n",
      "Epoch 1/20\n"
     ]
    },
    {
     "name": "stderr",
     "output_type": "stream",
     "text": [
      "2022-04-06 16:26:00.208604: I tensorflow/core/profiler/lib/profiler_session.cc:110] Profiler session initializing.\n",
      "2022-04-06 16:26:00.208630: I tensorflow/core/profiler/lib/profiler_session.cc:125] Profiler session started.\n",
      "2022-04-06 16:26:00.208964: I tensorflow/core/profiler/lib/profiler_session.cc:143] Profiler session tear down.\n"
     ]
    },
    {
     "name": "stdout",
     "output_type": "stream",
     "text": [
      "1/1 [==============================] - 1s 1s/step - loss: 0.6932 - accuracy: 0.4091 - precision_15: 0.4048 - recall_15: 0.3864 - val_loss: 0.6955 - val_accuracy: 0.1111 - val_precision_15: 0.1111 - val_recall_15: 0.1111\b\b\b\b\b\b\b\b\b\b\b\b\b\b\b\b\b\b\b\b\b\b\b\b\b\b\b\n",
      "Epoch 2/20\n",
      "1/1 [==============================] - 0s 162ms/step - loss: 0.6929 - accuracy: 0.5455 - precision_15: 0.5455 - recall_15: 0.5455 - val_loss: 0.6978 - val_accuracy: 0.1111 - val_precision_15: 0.1111 - val_recall_15: 0.1111\b\b\b\b\b\b\b\b\b\b\b\b\b\b\b\b\b\b\b\b\b\b\b\b\n",
      "Epoch 3/20\n"
     ]
    },
    {
     "name": "stderr",
     "output_type": "stream",
     "text": [
      "2022-04-06 16:26:01.641698: I tensorflow/core/profiler/lib/profiler_session.cc:110] Profiler session initializing.\n",
      "2022-04-06 16:26:01.641714: I tensorflow/core/profiler/lib/profiler_session.cc:125] Profiler session started.\n",
      "2022-04-06 16:26:01.765053: I tensorflow/core/profiler/lib/profiler_session.cc:67] Profiler session collecting data.\n",
      "2022-04-06 16:26:01.766331: I tensorflow/core/profiler/lib/profiler_session.cc:143] Profiler session tear down.\n",
      "2022-04-06 16:26:01.768130: I tensorflow/core/profiler/rpc/client/save_profile.cc:136] Creating directory: filter_cv_stl/mtl_class_c8_7_filters/stats/tensorboard/model_15_1649255160.208439/train/plugins/profile/2022_04_06_16_26_01\n",
      "\n",
      "2022-04-06 16:26:01.769662: I tensorflow/core/profiler/rpc/client/save_profile.cc:142] Dumped gzipped tool data for trace.json.gz to filter_cv_stl/mtl_class_c8_7_filters/stats/tensorboard/model_15_1649255160.208439/train/plugins/profile/2022_04_06_16_26_01/Eliass-MacBook-Pro.local.trace.json.gz\n",
      "2022-04-06 16:26:01.771692: I tensorflow/core/profiler/rpc/client/save_profile.cc:136] Creating directory: filter_cv_stl/mtl_class_c8_7_filters/stats/tensorboard/model_15_1649255160.208439/train/plugins/profile/2022_04_06_16_26_01\n",
      "\n",
      "2022-04-06 16:26:01.771943: I tensorflow/core/profiler/rpc/client/save_profile.cc:142] Dumped gzipped tool data for memory_profile.json.gz to filter_cv_stl/mtl_class_c8_7_filters/stats/tensorboard/model_15_1649255160.208439/train/plugins/profile/2022_04_06_16_26_01/Eliass-MacBook-Pro.local.memory_profile.json.gz\n",
      "2022-04-06 16:26:01.773232: I tensorflow/core/profiler/rpc/client/capture_profile.cc:251] Creating directory: filter_cv_stl/mtl_class_c8_7_filters/stats/tensorboard/model_15_1649255160.208439/train/plugins/profile/2022_04_06_16_26_01\n",
      "Dumped tool data for xplane.pb to filter_cv_stl/mtl_class_c8_7_filters/stats/tensorboard/model_15_1649255160.208439/train/plugins/profile/2022_04_06_16_26_01/Eliass-MacBook-Pro.local.xplane.pb\n",
      "Dumped tool data for overview_page.pb to filter_cv_stl/mtl_class_c8_7_filters/stats/tensorboard/model_15_1649255160.208439/train/plugins/profile/2022_04_06_16_26_01/Eliass-MacBook-Pro.local.overview_page.pb\n",
      "Dumped tool data for input_pipeline.pb to filter_cv_stl/mtl_class_c8_7_filters/stats/tensorboard/model_15_1649255160.208439/train/plugins/profile/2022_04_06_16_26_01/Eliass-MacBook-Pro.local.input_pipeline.pb\n",
      "Dumped tool data for tensorflow_stats.pb to filter_cv_stl/mtl_class_c8_7_filters/stats/tensorboard/model_15_1649255160.208439/train/plugins/profile/2022_04_06_16_26_01/Eliass-MacBook-Pro.local.tensorflow_stats.pb\n",
      "Dumped tool data for kernel_stats.pb to filter_cv_stl/mtl_class_c8_7_filters/stats/tensorboard/model_15_1649255160.208439/train/plugins/profile/2022_04_06_16_26_01/Eliass-MacBook-Pro.local.kernel_stats.pb\n",
      "\n"
     ]
    },
    {
     "name": "stdout",
     "output_type": "stream",
     "text": [
      "1/1 [==============================] - 0s 73ms/step - loss: 0.6927 - accuracy: 0.5455 - precision_15: 0.5455 - recall_15: 0.5455 - val_loss: 0.7001 - val_accuracy: 0.1111 - val_precision_15: 0.1111 - val_recall_15: 0.1111\b\b\b\b\b\b\b\b\b\b\b\b\b\b\b\b\b\b\b\b\b\b\b\b\b\n",
      "Epoch 4/20\n",
      "1/1 [==============================] - 0s 66ms/step - loss: 0.6924 - accuracy: 0.5455 - precision_15: 0.5455 - recall_15: 0.5455 - val_loss: 0.7024 - val_accuracy: 0.1111 - val_precision_15: 0.1111 - val_recall_15: 0.1111\b\b\b\b\b\b\b\b\b\b\b\b\b\b\b\b\b\b\b\b\b\b\b\b\b\n",
      "Epoch 5/20\n",
      "1/1 [==============================] - 0s 67ms/step - loss: 0.6921 - accuracy: 0.5455 - precision_15: 0.5455 - recall_15: 0.5455 - val_loss: 0.7047 - val_accuracy: 0.1111 - val_precision_15: 0.1111 - val_recall_15: 0.1111\b\b\b\b\b\b\b\b\b\b\b\b\b\b\b\b\b\b\b\b\b\b\b\b\b\n",
      "Epoch 6/20\n",
      "1/1 [==============================] - 0s 71ms/step - loss: 0.6919 - accuracy: 0.5455 - precision_15: 0.5455 - recall_15: 0.5455 - val_loss: 0.7071 - val_accuracy: 0.1111 - val_precision_15: 0.1111 - val_recall_15: 0.1111\b\b\b\b\b\b\b\b\b\b\b\b\b\b\b\b\b\b\b\b\b\b\b\b\b\n",
      "1/1 [==============================] - 0s 359ms/step - loss: 0.6955 - accuracy: 0.1111 - precision_15: 0.1111 - recall_15: 0.1111\b\b\b\b\b\b\b\b\b\b\b\b\b\b\b\b\b\b\b\b\b\b\b\b\b\b\b\b\b\b\b\b\b\b\b\b\b\b\b\b\b\b\b\b\b\b\b\b\b\b\b\b\b\b\b\b\b\b\b\b\b\b\b\b\b\b\b\b\b\b\b\b\b\b\b\b\b\b\b\b\b\b\b\b\b\b\b\b\b\b\b\b\b\b\b\b\b\b\b\b\b\b\b\b\b\b\b\b\b\b\b\b\b\b\b\b\b\n",
      "Model: \"model_16\"\n",
      "_________________________________________________________________\n",
      " Layer (type)                Output Shape              Param #   \n",
      "=================================================================\n",
      " data_input (InputLayer)     [(None, 2000, 35)]        0         \n",
      "                                                                 \n",
      " conv1 (Conv1D)              (None, 2000, 7)           252       \n",
      "                                                                 \n",
      " lambda_16 (Lambda)          (None, 7)                 0         \n",
      "                                                                 \n",
      " dropout_16 (Dropout)        (None, 7)                 0         \n",
      "                                                                 \n",
      " phenotype_pred (Dense)      (None, 2)                 16        \n",
      "                                                                 \n",
      "=================================================================\n",
      "Total params: 268\n",
      "Trainable params: 268\n",
      "Non-trainable params: 0\n",
      "_________________________________________________________________\n",
      "None\n",
      "Epoch 1/20\n"
     ]
    },
    {
     "name": "stderr",
     "output_type": "stream",
     "text": [
      "2022-04-06 16:26:03.104220: I tensorflow/core/profiler/lib/profiler_session.cc:110] Profiler session initializing.\n",
      "2022-04-06 16:26:03.104241: I tensorflow/core/profiler/lib/profiler_session.cc:125] Profiler session started.\n",
      "2022-04-06 16:26:03.104474: I tensorflow/core/profiler/lib/profiler_session.cc:143] Profiler session tear down.\n"
     ]
    },
    {
     "name": "stdout",
     "output_type": "stream",
     "text": [
      "1/1 [==============================] - 2s 2s/step - loss: 0.6933 - accuracy: 0.4091 - precision_16: 0.4091 - recall_16: 0.4091 - val_loss: 0.6939 - val_accuracy: 0.1111 - val_precision_16: 0.1111 - val_recall_16: 0.1111\b\b\b\b\b\b\b\b\b\b\b\b\b\b\b\b\b\b\b\b\b\b\b\b\b\b\b\n",
      "Epoch 2/20\n",
      "1/1 [==============================] - 0s 175ms/step - loss: 0.6931 - accuracy: 0.5455 - precision_16: 0.5455 - recall_16: 0.5455 - val_loss: 0.6952 - val_accuracy: 0.1111 - val_precision_16: 0.1111 - val_recall_16: 0.1111\b\b\b\b\b\b\b\b\b\b\b\b\b\b\b\b\b\b\b\b\b\b\b\b\n",
      "Epoch 3/20\n"
     ]
    },
    {
     "name": "stderr",
     "output_type": "stream",
     "text": [
      "2022-04-06 16:26:04.919425: I tensorflow/core/profiler/lib/profiler_session.cc:110] Profiler session initializing.\n",
      "2022-04-06 16:26:04.919448: I tensorflow/core/profiler/lib/profiler_session.cc:125] Profiler session started.\n",
      "2022-04-06 16:26:05.050819: I tensorflow/core/profiler/lib/profiler_session.cc:67] Profiler session collecting data.\n",
      "2022-04-06 16:26:05.052241: I tensorflow/core/profiler/lib/profiler_session.cc:143] Profiler session tear down.\n",
      "2022-04-06 16:26:05.054659: I tensorflow/core/profiler/rpc/client/save_profile.cc:136] Creating directory: filter_cv_stl/mtl_class_c8_7_filters/stats/tensorboard/model_16_1649255163.1040618/train/plugins/profile/2022_04_06_16_26_05\n",
      "\n",
      "2022-04-06 16:26:05.056230: I tensorflow/core/profiler/rpc/client/save_profile.cc:142] Dumped gzipped tool data for trace.json.gz to filter_cv_stl/mtl_class_c8_7_filters/stats/tensorboard/model_16_1649255163.1040618/train/plugins/profile/2022_04_06_16_26_05/Eliass-MacBook-Pro.local.trace.json.gz\n",
      "2022-04-06 16:26:05.058649: I tensorflow/core/profiler/rpc/client/save_profile.cc:136] Creating directory: filter_cv_stl/mtl_class_c8_7_filters/stats/tensorboard/model_16_1649255163.1040618/train/plugins/profile/2022_04_06_16_26_05\n",
      "\n",
      "2022-04-06 16:26:05.058972: I tensorflow/core/profiler/rpc/client/save_profile.cc:142] Dumped gzipped tool data for memory_profile.json.gz to filter_cv_stl/mtl_class_c8_7_filters/stats/tensorboard/model_16_1649255163.1040618/train/plugins/profile/2022_04_06_16_26_05/Eliass-MacBook-Pro.local.memory_profile.json.gz\n",
      "2022-04-06 16:26:05.060526: I tensorflow/core/profiler/rpc/client/capture_profile.cc:251] Creating directory: filter_cv_stl/mtl_class_c8_7_filters/stats/tensorboard/model_16_1649255163.1040618/train/plugins/profile/2022_04_06_16_26_05\n",
      "Dumped tool data for xplane.pb to filter_cv_stl/mtl_class_c8_7_filters/stats/tensorboard/model_16_1649255163.1040618/train/plugins/profile/2022_04_06_16_26_05/Eliass-MacBook-Pro.local.xplane.pb\n",
      "Dumped tool data for overview_page.pb to filter_cv_stl/mtl_class_c8_7_filters/stats/tensorboard/model_16_1649255163.1040618/train/plugins/profile/2022_04_06_16_26_05/Eliass-MacBook-Pro.local.overview_page.pb\n",
      "Dumped tool data for input_pipeline.pb to filter_cv_stl/mtl_class_c8_7_filters/stats/tensorboard/model_16_1649255163.1040618/train/plugins/profile/2022_04_06_16_26_05/Eliass-MacBook-Pro.local.input_pipeline.pb\n",
      "Dumped tool data for tensorflow_stats.pb to filter_cv_stl/mtl_class_c8_7_filters/stats/tensorboard/model_16_1649255163.1040618/train/plugins/profile/2022_04_06_16_26_05/Eliass-MacBook-Pro.local.tensorflow_stats.pb\n",
      "Dumped tool data for kernel_stats.pb to filter_cv_stl/mtl_class_c8_7_filters/stats/tensorboard/model_16_1649255163.1040618/train/plugins/profile/2022_04_06_16_26_05/Eliass-MacBook-Pro.local.kernel_stats.pb\n",
      "\n"
     ]
    },
    {
     "name": "stdout",
     "output_type": "stream",
     "text": [
      "1/1 [==============================] - 0s 79ms/step - loss: 0.6929 - accuracy: 0.5455 - precision_16: 0.5455 - recall_16: 0.5455 - val_loss: 0.6965 - val_accuracy: 0.1111 - val_precision_16: 0.1111 - val_recall_16: 0.1111\b\b\b\b\b\b\b\b\b\b\b\b\b\b\b\b\b\b\b\b\b\b\b\b\b\n",
      "Epoch 4/20\n",
      "1/1 [==============================] - 0s 78ms/step - loss: 0.6927 - accuracy: 0.5455 - precision_16: 0.5455 - recall_16: 0.5455 - val_loss: 0.6978 - val_accuracy: 0.1111 - val_precision_16: 0.1111 - val_recall_16: 0.1111\b\b\b\b\b\b\b\b\b\b\b\b\b\b\b\b\b\b\b\b\b\b\b\b\b\n",
      "Epoch 5/20\n",
      "1/1 [==============================] - 0s 97ms/step - loss: 0.6927 - accuracy: 0.5455 - precision_16: 0.5455 - recall_16: 0.5455 - val_loss: 0.6991 - val_accuracy: 0.1111 - val_precision_16: 0.1111 - val_recall_16: 0.1111\b\b\b\b\b\b\b\b\b\b\b\b\b\b\b\b\b\b\b\b\b\b\b\b\b\n",
      "Epoch 6/20\n",
      "1/1 [==============================] - 0s 85ms/step - loss: 0.6924 - accuracy: 0.5455 - precision_16: 0.5455 - recall_16: 0.5455 - val_loss: 0.7004 - val_accuracy: 0.1111 - val_precision_16: 0.1111 - val_recall_16: 0.1111\b\b\b\b\b\b\b\b\b\b\b\b\b\b\b\b\b\b\b\b\b\b\b\b\b\n",
      "1/1 [==============================] - 0s 386ms/step - loss: 0.6939 - accuracy: 0.1111 - precision_16: 0.1111 - recall_16: 0.1111\b\b\b\b\b\b\b\b\b\b\b\b\b\b\b\b\b\b\b\b\b\b\b\b\b\b\b\b\b\b\b\b\b\b\b\b\b\b\b\b\b\b\b\b\b\b\b\b\b\b\b\b\b\b\b\b\b\b\b\b\b\b\b\b\b\b\b\b\b\b\b\b\b\b\b\b\b\b\b\b\b\b\b\b\b\b\b\b\b\b\b\b\b\b\b\b\b\b\b\b\b\b\b\b\b\b\b\b\b\b\b\b\b\b\b\b\b\n",
      "Model: \"model_17\"\n",
      "_________________________________________________________________\n",
      " Layer (type)                Output Shape              Param #   \n",
      "=================================================================\n",
      " data_input (InputLayer)     [(None, 2000, 35)]        0         \n",
      "                                                                 \n",
      " conv1 (Conv1D)              (None, 2000, 7)           252       \n",
      "                                                                 \n",
      " lambda_17 (Lambda)          (None, 7)                 0         \n",
      "                                                                 \n",
      " dropout_17 (Dropout)        (None, 7)                 0         \n",
      "                                                                 \n",
      " phenotype_pred (Dense)      (None, 2)                 16        \n",
      "                                                                 \n",
      "=================================================================\n",
      "Total params: 268\n",
      "Trainable params: 268\n",
      "Non-trainable params: 0\n",
      "_________________________________________________________________\n",
      "None\n",
      "Epoch 1/20\n"
     ]
    },
    {
     "name": "stderr",
     "output_type": "stream",
     "text": [
      "2022-04-06 16:26:06.487707: I tensorflow/core/profiler/lib/profiler_session.cc:110] Profiler session initializing.\n",
      "2022-04-06 16:26:06.487729: I tensorflow/core/profiler/lib/profiler_session.cc:125] Profiler session started.\n",
      "2022-04-06 16:26:06.488439: I tensorflow/core/profiler/lib/profiler_session.cc:143] Profiler session tear down.\n"
     ]
    },
    {
     "name": "stdout",
     "output_type": "stream",
     "text": [
      "1/1 [==============================] - 1s 1s/step - loss: 0.6931 - accuracy: 0.5682 - precision_17: 0.5682 - recall_17: 0.5682 - val_loss: 0.6968 - val_accuracy: 0.1111 - val_precision_17: 0.1111 - val_recall_17: 0.1111\b\b\b\b\b\b\b\b\b\b\b\b\b\b\b\b\b\b\b\b\b\b\b\b\b\b\b\n",
      "Epoch 2/20\n",
      "1/1 [==============================] - 0s 165ms/step - loss: 0.6927 - accuracy: 0.5455 - precision_17: 0.5455 - recall_17: 0.5455 - val_loss: 0.6997 - val_accuracy: 0.1111 - val_precision_17: 0.1111 - val_recall_17: 0.1111\b\b\b\b\b\b\b\b\b\b\b\b\b\b\b\b\b\b\b\b\b\b\b\b\n",
      "Epoch 3/20\n"
     ]
    },
    {
     "name": "stderr",
     "output_type": "stream",
     "text": [
      "2022-04-06 16:26:07.920280: I tensorflow/core/profiler/lib/profiler_session.cc:110] Profiler session initializing.\n",
      "2022-04-06 16:26:07.920298: I tensorflow/core/profiler/lib/profiler_session.cc:125] Profiler session started.\n",
      "2022-04-06 16:26:08.045907: I tensorflow/core/profiler/lib/profiler_session.cc:67] Profiler session collecting data.\n",
      "2022-04-06 16:26:08.047356: I tensorflow/core/profiler/lib/profiler_session.cc:143] Profiler session tear down.\n",
      "2022-04-06 16:26:08.049246: I tensorflow/core/profiler/rpc/client/save_profile.cc:136] Creating directory: filter_cv_stl/mtl_class_c8_7_filters/stats/tensorboard/model_17_1649255166.48755/train/plugins/profile/2022_04_06_16_26_08\n",
      "\n",
      "2022-04-06 16:26:08.051250: I tensorflow/core/profiler/rpc/client/save_profile.cc:142] Dumped gzipped tool data for trace.json.gz to filter_cv_stl/mtl_class_c8_7_filters/stats/tensorboard/model_17_1649255166.48755/train/plugins/profile/2022_04_06_16_26_08/Eliass-MacBook-Pro.local.trace.json.gz\n",
      "2022-04-06 16:26:08.053392: I tensorflow/core/profiler/rpc/client/save_profile.cc:136] Creating directory: filter_cv_stl/mtl_class_c8_7_filters/stats/tensorboard/model_17_1649255166.48755/train/plugins/profile/2022_04_06_16_26_08\n",
      "\n",
      "2022-04-06 16:26:08.053677: I tensorflow/core/profiler/rpc/client/save_profile.cc:142] Dumped gzipped tool data for memory_profile.json.gz to filter_cv_stl/mtl_class_c8_7_filters/stats/tensorboard/model_17_1649255166.48755/train/plugins/profile/2022_04_06_16_26_08/Eliass-MacBook-Pro.local.memory_profile.json.gz\n",
      "2022-04-06 16:26:08.054964: I tensorflow/core/profiler/rpc/client/capture_profile.cc:251] Creating directory: filter_cv_stl/mtl_class_c8_7_filters/stats/tensorboard/model_17_1649255166.48755/train/plugins/profile/2022_04_06_16_26_08\n",
      "Dumped tool data for xplane.pb to filter_cv_stl/mtl_class_c8_7_filters/stats/tensorboard/model_17_1649255166.48755/train/plugins/profile/2022_04_06_16_26_08/Eliass-MacBook-Pro.local.xplane.pb\n",
      "Dumped tool data for overview_page.pb to filter_cv_stl/mtl_class_c8_7_filters/stats/tensorboard/model_17_1649255166.48755/train/plugins/profile/2022_04_06_16_26_08/Eliass-MacBook-Pro.local.overview_page.pb\n",
      "Dumped tool data for input_pipeline.pb to filter_cv_stl/mtl_class_c8_7_filters/stats/tensorboard/model_17_1649255166.48755/train/plugins/profile/2022_04_06_16_26_08/Eliass-MacBook-Pro.local.input_pipeline.pb\n",
      "Dumped tool data for tensorflow_stats.pb to filter_cv_stl/mtl_class_c8_7_filters/stats/tensorboard/model_17_1649255166.48755/train/plugins/profile/2022_04_06_16_26_08/Eliass-MacBook-Pro.local.tensorflow_stats.pb\n",
      "Dumped tool data for kernel_stats.pb to filter_cv_stl/mtl_class_c8_7_filters/stats/tensorboard/model_17_1649255166.48755/train/plugins/profile/2022_04_06_16_26_08/Eliass-MacBook-Pro.local.kernel_stats.pb\n",
      "\n"
     ]
    },
    {
     "name": "stdout",
     "output_type": "stream",
     "text": [
      "1/1 [==============================] - 0s 80ms/step - loss: 0.6925 - accuracy: 0.5455 - precision_17: 0.5455 - recall_17: 0.5455 - val_loss: 0.7026 - val_accuracy: 0.1111 - val_precision_17: 0.1111 - val_recall_17: 0.1111\b\b\b\b\b\b\b\b\b\b\b\b\b\b\b\b\b\b\b\b\b\b\b\b\b\n",
      "Epoch 4/20\n",
      "1/1 [==============================] - 0s 75ms/step - loss: 0.6920 - accuracy: 0.5455 - precision_17: 0.5455 - recall_17: 0.5455 - val_loss: 0.7056 - val_accuracy: 0.1111 - val_precision_17: 0.1111 - val_recall_17: 0.1111\b\b\b\b\b\b\b\b\b\b\b\b\b\b\b\b\b\b\b\b\b\b\b\b\b\n",
      "Epoch 5/20\n",
      "1/1 [==============================] - 0s 68ms/step - loss: 0.6924 - accuracy: 0.5455 - precision_17: 0.5455 - recall_17: 0.5455 - val_loss: 0.7084 - val_accuracy: 0.1111 - val_precision_17: 0.1111 - val_recall_17: 0.1111\b\b\b\b\b\b\b\b\b\b\b\b\b\b\b\b\b\b\b\b\b\b\b\b\b\n",
      "Epoch 6/20\n",
      "1/1 [==============================] - 0s 72ms/step - loss: 0.6916 - accuracy: 0.5455 - precision_17: 0.5455 - recall_17: 0.5455 - val_loss: 0.7112 - val_accuracy: 0.1111 - val_precision_17: 0.1111 - val_recall_17: 0.1111\b\b\b\b\b\b\b\b\b\b\b\b\b\b\b\b\b\b\b\b\b\b\b\b\b\n",
      "1/1 [==============================] - 0s 354ms/step - loss: 0.6968 - accuracy: 0.1111 - precision_17: 0.1111 - recall_17: 0.1111\b\b\b\b\b\b\b\b\b\b\b\b\b\b\b\b\b\b\b\b\b\b\b\b\b\b\b\b\b\b\b\b\b\b\b\b\b\b\b\b\b\b\b\b\b\b\b\b\b\b\b\b\b\b\b\b\b\b\b\b\b\b\b\b\b\b\b\b\b\b\b\b\b\b\b\b\b\b\b\b\b\b\b\b\b\b\b\b\b\b\b\b\b\b\b\b\b\b\b\b\b\b\b\b\b\b\b\b\b\b\b\b\b\b\b\b\b\n",
      "DONE building model 7\n",
      "Model: \"model_18\"\n",
      "_________________________________________________________________\n",
      " Layer (type)                Output Shape              Param #   \n",
      "=================================================================\n",
      " data_input (InputLayer)     [(None, 2000, 35)]        0         \n",
      "                                                                 \n",
      " conv1 (Conv1D)              (None, 2000, 8)           288       \n",
      "                                                                 \n",
      " lambda_18 (Lambda)          (None, 8)                 0         \n",
      "                                                                 \n",
      " dropout_18 (Dropout)        (None, 8)                 0         \n",
      "                                                                 \n",
      " phenotype_pred (Dense)      (None, 2)                 18        \n",
      "                                                                 \n",
      "=================================================================\n",
      "Total params: 306\n",
      "Trainable params: 306\n",
      "Non-trainable params: 0\n",
      "_________________________________________________________________\n",
      "None\n",
      "Epoch 1/20\n"
     ]
    },
    {
     "name": "stderr",
     "output_type": "stream",
     "text": [
      "2022-04-06 16:26:09.462764: I tensorflow/core/profiler/lib/profiler_session.cc:110] Profiler session initializing.\n",
      "2022-04-06 16:26:09.462785: I tensorflow/core/profiler/lib/profiler_session.cc:125] Profiler session started.\n",
      "2022-04-06 16:26:09.463178: I tensorflow/core/profiler/lib/profiler_session.cc:143] Profiler session tear down.\n"
     ]
    },
    {
     "name": "stdout",
     "output_type": "stream",
     "text": [
      "1/1 [==============================] - 1s 1s/step - loss: 0.6933 - accuracy: 0.4773 - precision_18: 0.4773 - recall_18: 0.4773 - val_loss: 0.6938 - val_accuracy: 0.1111 - val_precision_18: 0.1111 - val_recall_18: 0.1111\b\b\b\b\b\b\b\b\b\b\b\b\b\b\b\b\b\b\b\b\b\b\b\b\b\b\b\n",
      "Epoch 2/20\n",
      "1/1 [==============================] - 0s 154ms/step - loss: 0.6931 - accuracy: 0.5455 - precision_18: 0.5455 - recall_18: 0.5455 - val_loss: 0.6952 - val_accuracy: 0.1111 - val_precision_18: 0.1111 - val_recall_18: 0.1111\b\b\b\b\b\b\b\b\b\b\b\b\b\b\b\b\b\b\b\b\b\b\b\b\n",
      "Epoch 3/20\n",
      "1/1 [==============================] - ETA: 0s - loss: 0.6930 - accuracy: 0.5455 - precision_18: 0.5455 - recall_18: 0.5455"
     ]
    },
    {
     "name": "stderr",
     "output_type": "stream",
     "text": [
      "2022-04-06 16:26:10.912069: I tensorflow/core/profiler/lib/profiler_session.cc:110] Profiler session initializing.\n",
      "2022-04-06 16:26:10.912085: I tensorflow/core/profiler/lib/profiler_session.cc:125] Profiler session started.\n",
      "2022-04-06 16:26:11.030537: I tensorflow/core/profiler/lib/profiler_session.cc:67] Profiler session collecting data.\n",
      "2022-04-06 16:26:11.031748: I tensorflow/core/profiler/lib/profiler_session.cc:143] Profiler session tear down.\n",
      "2022-04-06 16:26:11.033656: I tensorflow/core/profiler/rpc/client/save_profile.cc:136] Creating directory: filter_cv_stl/mtl_class_c8_8_filters/stats/tensorboard/model_18_1649255169.462621/train/plugins/profile/2022_04_06_16_26_11\n",
      "\n",
      "2022-04-06 16:26:11.035135: I tensorflow/core/profiler/rpc/client/save_profile.cc:142] Dumped gzipped tool data for trace.json.gz to filter_cv_stl/mtl_class_c8_8_filters/stats/tensorboard/model_18_1649255169.462621/train/plugins/profile/2022_04_06_16_26_11/Eliass-MacBook-Pro.local.trace.json.gz\n",
      "2022-04-06 16:26:11.037149: I tensorflow/core/profiler/rpc/client/save_profile.cc:136] Creating directory: filter_cv_stl/mtl_class_c8_8_filters/stats/tensorboard/model_18_1649255169.462621/train/plugins/profile/2022_04_06_16_26_11\n",
      "\n",
      "2022-04-06 16:26:11.037403: I tensorflow/core/profiler/rpc/client/save_profile.cc:142] Dumped gzipped tool data for memory_profile.json.gz to filter_cv_stl/mtl_class_c8_8_filters/stats/tensorboard/model_18_1649255169.462621/train/plugins/profile/2022_04_06_16_26_11/Eliass-MacBook-Pro.local.memory_profile.json.gz\n",
      "2022-04-06 16:26:11.038621: I tensorflow/core/profiler/rpc/client/capture_profile.cc:251] Creating directory: filter_cv_stl/mtl_class_c8_8_filters/stats/tensorboard/model_18_1649255169.462621/train/plugins/profile/2022_04_06_16_26_11\n",
      "Dumped tool data for xplane.pb to filter_cv_stl/mtl_class_c8_8_filters/stats/tensorboard/model_18_1649255169.462621/train/plugins/profile/2022_04_06_16_26_11/Eliass-MacBook-Pro.local.xplane.pb\n",
      "Dumped tool data for overview_page.pb to filter_cv_stl/mtl_class_c8_8_filters/stats/tensorboard/model_18_1649255169.462621/train/plugins/profile/2022_04_06_16_26_11/Eliass-MacBook-Pro.local.overview_page.pb\n",
      "Dumped tool data for input_pipeline.pb to filter_cv_stl/mtl_class_c8_8_filters/stats/tensorboard/model_18_1649255169.462621/train/plugins/profile/2022_04_06_16_26_11/Eliass-MacBook-Pro.local.input_pipeline.pb\n",
      "Dumped tool data for tensorflow_stats.pb to filter_cv_stl/mtl_class_c8_8_filters/stats/tensorboard/model_18_1649255169.462621/train/plugins/profile/2022_04_06_16_26_11/Eliass-MacBook-Pro.local.tensorflow_stats.pb\n",
      "Dumped tool data for kernel_stats.pb to filter_cv_stl/mtl_class_c8_8_filters/stats/tensorboard/model_18_1649255169.462621/train/plugins/profile/2022_04_06_16_26_11/Eliass-MacBook-Pro.local.kernel_stats.pb\n",
      "\n"
     ]
    },
    {
     "name": "stdout",
     "output_type": "stream",
     "text": [
      "1/1 [==============================] - 0s 72ms/step - loss: 0.6930 - accuracy: 0.5455 - precision_18: 0.5455 - recall_18: 0.5455 - val_loss: 0.6967 - val_accuracy: 0.1111 - val_precision_18: 0.1111 - val_recall_18: 0.1111\n",
      "Epoch 4/20\n",
      "1/1 [==============================] - 0s 72ms/step - loss: 0.6925 - accuracy: 0.5455 - precision_18: 0.5455 - recall_18: 0.5455 - val_loss: 0.6981 - val_accuracy: 0.1111 - val_precision_18: 0.1111 - val_recall_18: 0.1111\b\b\b\b\b\b\b\b\b\b\b\b\b\b\b\b\b\b\b\b\b\b\b\b\b\n",
      "Epoch 5/20\n",
      "1/1 [==============================] - 0s 74ms/step - loss: 0.6925 - accuracy: 0.5455 - precision_18: 0.5455 - recall_18: 0.5455 - val_loss: 0.6996 - val_accuracy: 0.1111 - val_precision_18: 0.1111 - val_recall_18: 0.1111\b\b\b\b\b\b\b\b\b\b\b\b\b\b\b\b\b\b\b\b\b\b\b\b\b\n",
      "Epoch 6/20\n",
      "1/1 [==============================] - 0s 100ms/step - loss: 0.6924 - accuracy: 0.5455 - precision_18: 0.5455 - recall_18: 0.5455 - val_loss: 0.7010 - val_accuracy: 0.1111 - val_precision_18: 0.1111 - val_recall_18: 0.1111\b\b\b\b\b\b\b\b\b\b\b\b\b\b\b\b\b\b\b\b\b\b\b\b\n",
      "1/1 [==============================] - 0s 426ms/step - loss: 0.6938 - accuracy: 0.1111 - precision_18: 0.1111 - recall_18: 0.1111\b\b\b\b\b\b\b\b\b\b\b\b\b\b\b\b\b\b\b\b\b\b\b\b\b\b\b\b\b\b\b\b\b\b\b\b\b\b\b\b\b\b\b\b\b\b\b\b\b\b\b\b\b\b\b\b\b\b\b\b\b\b\b\b\b\b\b\b\b\b\b\b\b\b\b\b\b\b\b\b\b\b\b\b\b\b\b\b\b\b\b\b\b\b\b\b\b\b\b\b\b\b\b\b\b\b\b\b\b\b\b\b\b\b\b\b\b\n",
      "Model: \"model_19\"\n",
      "_________________________________________________________________\n",
      " Layer (type)                Output Shape              Param #   \n",
      "=================================================================\n",
      " data_input (InputLayer)     [(None, 2000, 35)]        0         \n",
      "                                                                 \n",
      " conv1 (Conv1D)              (None, 2000, 8)           288       \n",
      "                                                                 \n",
      " lambda_19 (Lambda)          (None, 8)                 0         \n",
      "                                                                 \n",
      " dropout_19 (Dropout)        (None, 8)                 0         \n",
      "                                                                 \n",
      " phenotype_pred (Dense)      (None, 2)                 18        \n",
      "                                                                 \n",
      "=================================================================\n",
      "Total params: 306\n",
      "Trainable params: 306\n",
      "Non-trainable params: 0\n",
      "_________________________________________________________________\n",
      "None\n",
      "Epoch 1/20\n"
     ]
    },
    {
     "name": "stderr",
     "output_type": "stream",
     "text": [
      "2022-04-06 16:26:12.532222: I tensorflow/core/profiler/lib/profiler_session.cc:110] Profiler session initializing.\n",
      "2022-04-06 16:26:12.532247: I tensorflow/core/profiler/lib/profiler_session.cc:125] Profiler session started.\n",
      "2022-04-06 16:26:12.532790: I tensorflow/core/profiler/lib/profiler_session.cc:143] Profiler session tear down.\n"
     ]
    },
    {
     "name": "stdout",
     "output_type": "stream",
     "text": [
      "1/1 [==============================] - 1s 1s/step - loss: 0.6932 - accuracy: 0.5682 - precision_19: 0.5581 - recall_19: 0.5455 - val_loss: 0.6974 - val_accuracy: 0.1111 - val_precision_19: 0.1111 - val_recall_19: 0.1111\b\b\b\b\b\b\b\b\b\b\b\b\b\b\b\b\b\b\b\b\b\b\b\b\b\b\b\n",
      "Epoch 2/20\n",
      "1/1 [==============================] - 0s 163ms/step - loss: 0.6927 - accuracy: 0.5455 - precision_19: 0.5455 - recall_19: 0.5455 - val_loss: 0.7024 - val_accuracy: 0.1111 - val_precision_19: 0.1111 - val_recall_19: 0.1111\b\b\b\b\b\b\b\b\b\b\b\b\b\b\b\b\b\b\b\b\b\b\b\b\n",
      "Epoch 3/20\n"
     ]
    },
    {
     "name": "stderr",
     "output_type": "stream",
     "text": [
      "2022-04-06 16:26:13.920251: I tensorflow/core/profiler/lib/profiler_session.cc:110] Profiler session initializing.\n",
      "2022-04-06 16:26:13.920275: I tensorflow/core/profiler/lib/profiler_session.cc:125] Profiler session started.\n",
      "2022-04-06 16:26:14.046538: I tensorflow/core/profiler/lib/profiler_session.cc:67] Profiler session collecting data.\n",
      "2022-04-06 16:26:14.047762: I tensorflow/core/profiler/lib/profiler_session.cc:143] Profiler session tear down.\n",
      "2022-04-06 16:26:14.049535: I tensorflow/core/profiler/rpc/client/save_profile.cc:136] Creating directory: filter_cv_stl/mtl_class_c8_8_filters/stats/tensorboard/model_19_1649255172.5320268/train/plugins/profile/2022_04_06_16_26_14\n",
      "\n",
      "2022-04-06 16:26:14.051116: I tensorflow/core/profiler/rpc/client/save_profile.cc:142] Dumped gzipped tool data for trace.json.gz to filter_cv_stl/mtl_class_c8_8_filters/stats/tensorboard/model_19_1649255172.5320268/train/plugins/profile/2022_04_06_16_26_14/Eliass-MacBook-Pro.local.trace.json.gz\n",
      "2022-04-06 16:26:14.053191: I tensorflow/core/profiler/rpc/client/save_profile.cc:136] Creating directory: filter_cv_stl/mtl_class_c8_8_filters/stats/tensorboard/model_19_1649255172.5320268/train/plugins/profile/2022_04_06_16_26_14\n",
      "\n",
      "2022-04-06 16:26:14.053449: I tensorflow/core/profiler/rpc/client/save_profile.cc:142] Dumped gzipped tool data for memory_profile.json.gz to filter_cv_stl/mtl_class_c8_8_filters/stats/tensorboard/model_19_1649255172.5320268/train/plugins/profile/2022_04_06_16_26_14/Eliass-MacBook-Pro.local.memory_profile.json.gz\n",
      "2022-04-06 16:26:14.054794: I tensorflow/core/profiler/rpc/client/capture_profile.cc:251] Creating directory: filter_cv_stl/mtl_class_c8_8_filters/stats/tensorboard/model_19_1649255172.5320268/train/plugins/profile/2022_04_06_16_26_14\n",
      "Dumped tool data for xplane.pb to filter_cv_stl/mtl_class_c8_8_filters/stats/tensorboard/model_19_1649255172.5320268/train/plugins/profile/2022_04_06_16_26_14/Eliass-MacBook-Pro.local.xplane.pb\n",
      "Dumped tool data for overview_page.pb to filter_cv_stl/mtl_class_c8_8_filters/stats/tensorboard/model_19_1649255172.5320268/train/plugins/profile/2022_04_06_16_26_14/Eliass-MacBook-Pro.local.overview_page.pb\n",
      "Dumped tool data for input_pipeline.pb to filter_cv_stl/mtl_class_c8_8_filters/stats/tensorboard/model_19_1649255172.5320268/train/plugins/profile/2022_04_06_16_26_14/Eliass-MacBook-Pro.local.input_pipeline.pb\n",
      "Dumped tool data for tensorflow_stats.pb to filter_cv_stl/mtl_class_c8_8_filters/stats/tensorboard/model_19_1649255172.5320268/train/plugins/profile/2022_04_06_16_26_14/Eliass-MacBook-Pro.local.tensorflow_stats.pb\n",
      "Dumped tool data for kernel_stats.pb to filter_cv_stl/mtl_class_c8_8_filters/stats/tensorboard/model_19_1649255172.5320268/train/plugins/profile/2022_04_06_16_26_14/Eliass-MacBook-Pro.local.kernel_stats.pb\n",
      "\n"
     ]
    },
    {
     "name": "stdout",
     "output_type": "stream",
     "text": [
      "1/1 [==============================] - 0s 80ms/step - loss: 0.6916 - accuracy: 0.5455 - precision_19: 0.5455 - recall_19: 0.5455 - val_loss: 0.7079 - val_accuracy: 0.1111 - val_precision_19: 0.1111 - val_recall_19: 0.1111\b\b\b\b\b\b\b\b\b\b\b\b\b\b\b\b\b\b\b\b\b\b\b\b\b\n",
      "Epoch 4/20\n",
      "1/1 [==============================] - 0s 82ms/step - loss: 0.6918 - accuracy: 0.5455 - precision_19: 0.5455 - recall_19: 0.5455 - val_loss: 0.7133 - val_accuracy: 0.1111 - val_precision_19: 0.1111 - val_recall_19: 0.1111\b\b\b\b\b\b\b\b\b\b\b\b\b\b\b\b\b\b\b\b\b\b\b\b\b\n",
      "Epoch 5/20\n",
      "1/1 [==============================] - 0s 74ms/step - loss: 0.6911 - accuracy: 0.5455 - precision_19: 0.5455 - recall_19: 0.5455 - val_loss: 0.7187 - val_accuracy: 0.1111 - val_precision_19: 0.1111 - val_recall_19: 0.1111\b\b\b\b\b\b\b\b\b\b\b\b\b\b\b\b\b\b\b\b\b\b\b\b\b\n",
      "Epoch 6/20\n",
      "1/1 [==============================] - 0s 74ms/step - loss: 0.6904 - accuracy: 0.5455 - precision_19: 0.5455 - recall_19: 0.5455 - val_loss: 0.7241 - val_accuracy: 0.1111 - val_precision_19: 0.1111 - val_recall_19: 0.1111\b\b\b\b\b\b\b\b\b\b\b\b\b\b\b\b\b\b\b\b\b\b\b\b\b\n",
      "1/1 [==============================] - 0s 344ms/step - loss: 0.6974 - accuracy: 0.1111 - precision_19: 0.1111 - recall_19: 0.1111\b\b\b\b\b\b\b\b\b\b\b\b\b\b\b\b\b\b\b\b\b\b\b\b\b\b\b\b\b\b\b\b\b\b\b\b\b\b\b\b\b\b\b\b\b\b\b\b\b\b\b\b\b\b\b\b\b\b\b\b\b\b\b\b\b\b\b\b\b\b\b\b\b\b\b\b\b\b\b\b\b\b\b\b\b\b\b\b\b\b\b\b\b\b\b\b\b\b\b\b\b\b\b\b\b\b\b\b\b\b\b\b\b\b\b\b\b\n",
      "Model: \"model_20\"\n",
      "_________________________________________________________________\n",
      " Layer (type)                Output Shape              Param #   \n",
      "=================================================================\n",
      " data_input (InputLayer)     [(None, 2000, 35)]        0         \n",
      "                                                                 \n",
      " conv1 (Conv1D)              (None, 2000, 8)           288       \n",
      "                                                                 \n",
      " lambda_20 (Lambda)          (None, 8)                 0         \n",
      "                                                                 \n",
      " dropout_20 (Dropout)        (None, 8)                 0         \n",
      "                                                                 \n",
      " phenotype_pred (Dense)      (None, 2)                 18        \n",
      "                                                                 \n",
      "=================================================================\n",
      "Total params: 306\n",
      "Trainable params: 306\n",
      "Non-trainable params: 0\n",
      "_________________________________________________________________\n",
      "None\n",
      "Epoch 1/20\n"
     ]
    },
    {
     "name": "stderr",
     "output_type": "stream",
     "text": [
      "2022-04-06 16:26:15.423900: I tensorflow/core/profiler/lib/profiler_session.cc:110] Profiler session initializing.\n",
      "2022-04-06 16:26:15.423926: I tensorflow/core/profiler/lib/profiler_session.cc:125] Profiler session started.\n",
      "2022-04-06 16:26:15.424759: I tensorflow/core/profiler/lib/profiler_session.cc:143] Profiler session tear down.\n"
     ]
    },
    {
     "name": "stdout",
     "output_type": "stream",
     "text": [
      "1/1 [==============================] - 2s 2s/step - loss: 0.6932 - accuracy: 0.4318 - precision_20: 0.4419 - recall_20: 0.4318 - val_loss: 0.7012 - val_accuracy: 0.1111 - val_precision_20: 0.1111 - val_recall_20: 0.1111\b\b\b\b\b\b\b\b\b\b\b\b\b\b\b\b\b\b\b\b\b\b\b\b\b\b\b\n",
      "Epoch 2/20\n",
      "1/1 [==============================] - 0s 189ms/step - loss: 0.6920 - accuracy: 0.5455 - precision_20: 0.5455 - recall_20: 0.5455 - val_loss: 0.7108 - val_accuracy: 0.1111 - val_precision_20: 0.1111 - val_recall_20: 0.1111\b\b\b\b\b\b\b\b\b\b\b\b\b\b\b\b\b\b\b\b\b\b\b\b\n",
      "Epoch 3/20\n"
     ]
    },
    {
     "name": "stderr",
     "output_type": "stream",
     "text": [
      "2022-04-06 16:26:17.359572: I tensorflow/core/profiler/lib/profiler_session.cc:110] Profiler session initializing.\n",
      "2022-04-06 16:26:17.359589: I tensorflow/core/profiler/lib/profiler_session.cc:125] Profiler session started.\n",
      "2022-04-06 16:26:17.502260: I tensorflow/core/profiler/lib/profiler_session.cc:67] Profiler session collecting data.\n",
      "2022-04-06 16:26:17.503481: I tensorflow/core/profiler/lib/profiler_session.cc:143] Profiler session tear down.\n",
      "2022-04-06 16:26:17.505428: I tensorflow/core/profiler/rpc/client/save_profile.cc:136] Creating directory: filter_cv_stl/mtl_class_c8_8_filters/stats/tensorboard/model_20_1649255175.423687/train/plugins/profile/2022_04_06_16_26_17\n",
      "\n",
      "2022-04-06 16:26:17.512624: I tensorflow/core/profiler/rpc/client/save_profile.cc:142] Dumped gzipped tool data for trace.json.gz to filter_cv_stl/mtl_class_c8_8_filters/stats/tensorboard/model_20_1649255175.423687/train/plugins/profile/2022_04_06_16_26_17/Eliass-MacBook-Pro.local.trace.json.gz\n",
      "2022-04-06 16:26:17.515570: I tensorflow/core/profiler/rpc/client/save_profile.cc:136] Creating directory: filter_cv_stl/mtl_class_c8_8_filters/stats/tensorboard/model_20_1649255175.423687/train/plugins/profile/2022_04_06_16_26_17\n",
      "\n",
      "2022-04-06 16:26:17.516163: I tensorflow/core/profiler/rpc/client/save_profile.cc:142] Dumped gzipped tool data for memory_profile.json.gz to filter_cv_stl/mtl_class_c8_8_filters/stats/tensorboard/model_20_1649255175.423687/train/plugins/profile/2022_04_06_16_26_17/Eliass-MacBook-Pro.local.memory_profile.json.gz\n",
      "2022-04-06 16:26:17.518060: I tensorflow/core/profiler/rpc/client/capture_profile.cc:251] Creating directory: filter_cv_stl/mtl_class_c8_8_filters/stats/tensorboard/model_20_1649255175.423687/train/plugins/profile/2022_04_06_16_26_17\n",
      "Dumped tool data for xplane.pb to filter_cv_stl/mtl_class_c8_8_filters/stats/tensorboard/model_20_1649255175.423687/train/plugins/profile/2022_04_06_16_26_17/Eliass-MacBook-Pro.local.xplane.pb\n",
      "Dumped tool data for overview_page.pb to filter_cv_stl/mtl_class_c8_8_filters/stats/tensorboard/model_20_1649255175.423687/train/plugins/profile/2022_04_06_16_26_17/Eliass-MacBook-Pro.local.overview_page.pb\n",
      "Dumped tool data for input_pipeline.pb to filter_cv_stl/mtl_class_c8_8_filters/stats/tensorboard/model_20_1649255175.423687/train/plugins/profile/2022_04_06_16_26_17/Eliass-MacBook-Pro.local.input_pipeline.pb\n",
      "Dumped tool data for tensorflow_stats.pb to filter_cv_stl/mtl_class_c8_8_filters/stats/tensorboard/model_20_1649255175.423687/train/plugins/profile/2022_04_06_16_26_17/Eliass-MacBook-Pro.local.tensorflow_stats.pb\n",
      "Dumped tool data for kernel_stats.pb to filter_cv_stl/mtl_class_c8_8_filters/stats/tensorboard/model_20_1649255175.423687/train/plugins/profile/2022_04_06_16_26_17/Eliass-MacBook-Pro.local.kernel_stats.pb\n",
      "\n"
     ]
    },
    {
     "name": "stdout",
     "output_type": "stream",
     "text": [
      "1/1 [==============================] - 0s 81ms/step - loss: 0.6911 - accuracy: 0.5455 - precision_20: 0.5455 - recall_20: 0.5455 - val_loss: 0.7210 - val_accuracy: 0.1111 - val_precision_20: 0.1111 - val_recall_20: 0.1111\b\b\b\b\b\b\b\b\b\b\b\b\b\b\b\b\b\b\b\b\b\b\b\b\b\n",
      "Epoch 4/20\n",
      "1/1 [==============================] - 0s 76ms/step - loss: 0.6906 - accuracy: 0.5455 - precision_20: 0.5455 - recall_20: 0.5455 - val_loss: 0.7310 - val_accuracy: 0.1111 - val_precision_20: 0.1111 - val_recall_20: 0.1111\b\b\b\b\b\b\b\b\b\b\b\b\b\b\b\b\b\b\b\b\b\b\b\b\b\n",
      "Epoch 5/20\n",
      "1/1 [==============================] - 0s 80ms/step - loss: 0.6886 - accuracy: 0.5455 - precision_20: 0.5455 - recall_20: 0.5455 - val_loss: 0.7414 - val_accuracy: 0.1111 - val_precision_20: 0.1111 - val_recall_20: 0.1111\b\b\b\b\b\b\b\b\b\b\b\b\b\b\b\b\b\b\b\b\b\b\b\b\b\n",
      "Epoch 6/20\n",
      "1/1 [==============================] - 0s 89ms/step - loss: 0.6882 - accuracy: 0.5455 - precision_20: 0.5455 - recall_20: 0.5455 - val_loss: 0.7517 - val_accuracy: 0.1111 - val_precision_20: 0.1111 - val_recall_20: 0.1111\b\b\b\b\b\b\b\b\b\b\b\b\b\b\b\b\b\b\b\b\b\b\b\b\b\n",
      "1/1 [==============================] - 0s 353ms/step - loss: 0.7012 - accuracy: 0.1111 - precision_20: 0.1111 - recall_20: 0.1111\b\b\b\b\b\b\b\b\b\b\b\b\b\b\b\b\b\b\b\b\b\b\b\b\b\b\b\b\b\b\b\b\b\b\b\b\b\b\b\b\b\b\b\b\b\b\b\b\b\b\b\b\b\b\b\b\b\b\b\b\b\b\b\b\b\b\b\b\b\b\b\b\b\b\b\b\b\b\b\b\b\b\b\b\b\b\b\b\b\b\b\b\b\b\b\b\b\b\b\b\b\b\b\b\b\b\b\b\b\b\b\b\b\b\b\b\b\n",
      "DONE building model 8\n",
      "Model: \"model_21\"\n",
      "_________________________________________________________________\n",
      " Layer (type)                Output Shape              Param #   \n",
      "=================================================================\n",
      " data_input (InputLayer)     [(None, 2000, 35)]        0         \n",
      "                                                                 \n",
      " conv1 (Conv1D)              (None, 2000, 9)           324       \n",
      "                                                                 \n",
      " lambda_21 (Lambda)          (None, 9)                 0         \n",
      "                                                                 \n",
      " dropout_21 (Dropout)        (None, 9)                 0         \n",
      "                                                                 \n",
      " phenotype_pred (Dense)      (None, 2)                 20        \n",
      "                                                                 \n",
      "=================================================================\n",
      "Total params: 344\n",
      "Trainable params: 344\n",
      "Non-trainable params: 0\n",
      "_________________________________________________________________\n",
      "None\n",
      "Epoch 1/20\n"
     ]
    },
    {
     "name": "stderr",
     "output_type": "stream",
     "text": [
      "2022-04-06 16:26:19.013936: I tensorflow/core/profiler/lib/profiler_session.cc:110] Profiler session initializing.\n",
      "2022-04-06 16:26:19.013964: I tensorflow/core/profiler/lib/profiler_session.cc:125] Profiler session started.\n",
      "2022-04-06 16:26:19.014436: I tensorflow/core/profiler/lib/profiler_session.cc:143] Profiler session tear down.\n"
     ]
    },
    {
     "name": "stdout",
     "output_type": "stream",
     "text": [
      "1/1 [==============================] - 1s 1s/step - loss: 0.6930 - accuracy: 0.5455 - precision_21: 0.5455 - recall_21: 0.5455 - val_loss: 0.6969 - val_accuracy: 0.1111 - val_precision_21: 0.1111 - val_recall_21: 0.1111\b\b\b\b\b\b\b\b\b\b\b\b\b\b\b\b\b\b\b\b\b\b\b\b\b\b\b\n",
      "Epoch 2/20\n",
      "1/1 [==============================] - 0s 175ms/step - loss: 0.6929 - accuracy: 0.5455 - precision_21: 0.5455 - recall_21: 0.5455 - val_loss: 0.7006 - val_accuracy: 0.1111 - val_precision_21: 0.1111 - val_recall_21: 0.1111\b\b\b\b\b\b\b\b\b\b\b\b\b\b\b\b\b\b\b\b\b\b\b\b\n",
      "Epoch 3/20\n"
     ]
    },
    {
     "name": "stderr",
     "output_type": "stream",
     "text": [
      "2022-04-06 16:26:20.501132: I tensorflow/core/profiler/lib/profiler_session.cc:110] Profiler session initializing.\n",
      "2022-04-06 16:26:20.501155: I tensorflow/core/profiler/lib/profiler_session.cc:125] Profiler session started.\n",
      "2022-04-06 16:26:20.638389: I tensorflow/core/profiler/lib/profiler_session.cc:67] Profiler session collecting data.\n",
      "2022-04-06 16:26:20.639768: I tensorflow/core/profiler/lib/profiler_session.cc:143] Profiler session tear down.\n",
      "2022-04-06 16:26:20.641536: I tensorflow/core/profiler/rpc/client/save_profile.cc:136] Creating directory: filter_cv_stl/mtl_class_c8_9_filters/stats/tensorboard/model_21_1649255179.013797/train/plugins/profile/2022_04_06_16_26_20\n",
      "\n",
      "2022-04-06 16:26:20.643006: I tensorflow/core/profiler/rpc/client/save_profile.cc:142] Dumped gzipped tool data for trace.json.gz to filter_cv_stl/mtl_class_c8_9_filters/stats/tensorboard/model_21_1649255179.013797/train/plugins/profile/2022_04_06_16_26_20/Eliass-MacBook-Pro.local.trace.json.gz\n",
      "2022-04-06 16:26:20.645020: I tensorflow/core/profiler/rpc/client/save_profile.cc:136] Creating directory: filter_cv_stl/mtl_class_c8_9_filters/stats/tensorboard/model_21_1649255179.013797/train/plugins/profile/2022_04_06_16_26_20\n",
      "\n",
      "2022-04-06 16:26:20.645379: I tensorflow/core/profiler/rpc/client/save_profile.cc:142] Dumped gzipped tool data for memory_profile.json.gz to filter_cv_stl/mtl_class_c8_9_filters/stats/tensorboard/model_21_1649255179.013797/train/plugins/profile/2022_04_06_16_26_20/Eliass-MacBook-Pro.local.memory_profile.json.gz\n",
      "2022-04-06 16:26:20.646701: I tensorflow/core/profiler/rpc/client/capture_profile.cc:251] Creating directory: filter_cv_stl/mtl_class_c8_9_filters/stats/tensorboard/model_21_1649255179.013797/train/plugins/profile/2022_04_06_16_26_20\n",
      "Dumped tool data for xplane.pb to filter_cv_stl/mtl_class_c8_9_filters/stats/tensorboard/model_21_1649255179.013797/train/plugins/profile/2022_04_06_16_26_20/Eliass-MacBook-Pro.local.xplane.pb\n",
      "Dumped tool data for overview_page.pb to filter_cv_stl/mtl_class_c8_9_filters/stats/tensorboard/model_21_1649255179.013797/train/plugins/profile/2022_04_06_16_26_20/Eliass-MacBook-Pro.local.overview_page.pb\n",
      "Dumped tool data for input_pipeline.pb to filter_cv_stl/mtl_class_c8_9_filters/stats/tensorboard/model_21_1649255179.013797/train/plugins/profile/2022_04_06_16_26_20/Eliass-MacBook-Pro.local.input_pipeline.pb\n",
      "Dumped tool data for tensorflow_stats.pb to filter_cv_stl/mtl_class_c8_9_filters/stats/tensorboard/model_21_1649255179.013797/train/plugins/profile/2022_04_06_16_26_20/Eliass-MacBook-Pro.local.tensorflow_stats.pb\n",
      "Dumped tool data for kernel_stats.pb to filter_cv_stl/mtl_class_c8_9_filters/stats/tensorboard/model_21_1649255179.013797/train/plugins/profile/2022_04_06_16_26_20/Eliass-MacBook-Pro.local.kernel_stats.pb\n",
      "\n"
     ]
    },
    {
     "name": "stdout",
     "output_type": "stream",
     "text": [
      "1/1 [==============================] - 0s 81ms/step - loss: 0.6923 - accuracy: 0.5455 - precision_21: 0.5455 - recall_21: 0.5455 - val_loss: 0.7040 - val_accuracy: 0.1111 - val_precision_21: 0.1111 - val_recall_21: 0.1111\b\b\b\b\b\b\b\b\b\b\b\b\b\b\b\b\b\b\b\b\b\b\b\b\b\n",
      "Epoch 4/20\n",
      "1/1 [==============================] - 0s 86ms/step - loss: 0.6917 - accuracy: 0.5455 - precision_21: 0.5455 - recall_21: 0.5455 - val_loss: 0.7074 - val_accuracy: 0.1111 - val_precision_21: 0.1111 - val_recall_21: 0.1111\b\b\b\b\b\b\b\b\b\b\b\b\b\b\b\b\b\b\b\b\b\b\b\b\b\n",
      "Epoch 5/20\n",
      "1/1 [==============================] - 0s 81ms/step - loss: 0.6918 - accuracy: 0.5455 - precision_21: 0.5455 - recall_21: 0.5455 - val_loss: 0.7107 - val_accuracy: 0.1111 - val_precision_21: 0.1111 - val_recall_21: 0.1111\b\b\b\b\b\b\b\b\b\b\b\b\b\b\b\b\b\b\b\b\b\b\b\b\b\n",
      "Epoch 6/20\n",
      "1/1 [==============================] - 0s 75ms/step - loss: 0.6911 - accuracy: 0.5455 - precision_21: 0.5455 - recall_21: 0.5455 - val_loss: 0.7140 - val_accuracy: 0.1111 - val_precision_21: 0.1111 - val_recall_21: 0.1111\b\b\b\b\b\b\b\b\b\b\b\b\b\b\b\b\b\b\b\b\b\b\b\b\b\n",
      "1/1 [==============================] - 0s 359ms/step - loss: 0.6969 - accuracy: 0.1111 - precision_21: 0.1111 - recall_21: 0.1111\b\b\b\b\b\b\b\b\b\b\b\b\b\b\b\b\b\b\b\b\b\b\b\b\b\b\b\b\b\b\b\b\b\b\b\b\b\b\b\b\b\b\b\b\b\b\b\b\b\b\b\b\b\b\b\b\b\b\b\b\b\b\b\b\b\b\b\b\b\b\b\b\b\b\b\b\b\b\b\b\b\b\b\b\b\b\b\b\b\b\b\b\b\b\b\b\b\b\b\b\b\b\b\b\b\b\b\b\b\b\b\b\b\b\b\b\b\n",
      "Model: \"model_22\"\n",
      "_________________________________________________________________\n",
      " Layer (type)                Output Shape              Param #   \n",
      "=================================================================\n",
      " data_input (InputLayer)     [(None, 2000, 35)]        0         \n",
      "                                                                 \n",
      " conv1 (Conv1D)              (None, 2000, 9)           324       \n",
      "                                                                 \n",
      " lambda_22 (Lambda)          (None, 9)                 0         \n",
      "                                                                 \n",
      " dropout_22 (Dropout)        (None, 9)                 0         \n",
      "                                                                 \n",
      " phenotype_pred (Dense)      (None, 2)                 20        \n",
      "                                                                 \n",
      "=================================================================\n",
      "Total params: 344\n",
      "Trainable params: 344\n",
      "Non-trainable params: 0\n",
      "_________________________________________________________________\n",
      "None\n",
      "Epoch 1/20\n"
     ]
    },
    {
     "name": "stderr",
     "output_type": "stream",
     "text": [
      "2022-04-06 16:26:22.006442: I tensorflow/core/profiler/lib/profiler_session.cc:110] Profiler session initializing.\n",
      "2022-04-06 16:26:22.006463: I tensorflow/core/profiler/lib/profiler_session.cc:125] Profiler session started.\n",
      "2022-04-06 16:26:22.006656: I tensorflow/core/profiler/lib/profiler_session.cc:143] Profiler session tear down.\n"
     ]
    },
    {
     "name": "stdout",
     "output_type": "stream",
     "text": [
      "1/1 [==============================] - 1s 1s/step - loss: 0.6932 - accuracy: 0.4545 - precision_22: 0.4545 - recall_22: 0.4545 - val_loss: 0.6938 - val_accuracy: 0.1111 - val_precision_22: 0.1111 - val_recall_22: 0.1111\b\b\b\b\b\b\b\b\b\b\b\b\b\b\b\b\b\b\b\b\b\b\b\b\b\b\b\n",
      "Epoch 2/20\n",
      "1/1 [==============================] - 0s 184ms/step - loss: 0.6933 - accuracy: 0.4318 - precision_22: 0.4318 - recall_22: 0.4318 - val_loss: 0.6950 - val_accuracy: 0.1111 - val_precision_22: 0.1111 - val_recall_22: 0.1111\b\b\b\b\b\b\b\b\b\b\b\b\b\b\b\b\b\b\b\b\b\b\b\b\n",
      "Epoch 3/20\n"
     ]
    },
    {
     "name": "stderr",
     "output_type": "stream",
     "text": [
      "2022-04-06 16:26:23.461628: I tensorflow/core/profiler/lib/profiler_session.cc:110] Profiler session initializing.\n",
      "2022-04-06 16:26:23.461644: I tensorflow/core/profiler/lib/profiler_session.cc:125] Profiler session started.\n",
      "2022-04-06 16:26:23.607291: I tensorflow/core/profiler/lib/profiler_session.cc:67] Profiler session collecting data.\n",
      "2022-04-06 16:26:23.608538: I tensorflow/core/profiler/lib/profiler_session.cc:143] Profiler session tear down.\n",
      "2022-04-06 16:26:23.610282: I tensorflow/core/profiler/rpc/client/save_profile.cc:136] Creating directory: filter_cv_stl/mtl_class_c8_9_filters/stats/tensorboard/model_22_1649255182.0062668/train/plugins/profile/2022_04_06_16_26_23\n",
      "\n",
      "2022-04-06 16:26:23.612483: I tensorflow/core/profiler/rpc/client/save_profile.cc:142] Dumped gzipped tool data for trace.json.gz to filter_cv_stl/mtl_class_c8_9_filters/stats/tensorboard/model_22_1649255182.0062668/train/plugins/profile/2022_04_06_16_26_23/Eliass-MacBook-Pro.local.trace.json.gz\n",
      "2022-04-06 16:26:23.614506: I tensorflow/core/profiler/rpc/client/save_profile.cc:136] Creating directory: filter_cv_stl/mtl_class_c8_9_filters/stats/tensorboard/model_22_1649255182.0062668/train/plugins/profile/2022_04_06_16_26_23\n",
      "\n",
      "2022-04-06 16:26:23.614760: I tensorflow/core/profiler/rpc/client/save_profile.cc:142] Dumped gzipped tool data for memory_profile.json.gz to filter_cv_stl/mtl_class_c8_9_filters/stats/tensorboard/model_22_1649255182.0062668/train/plugins/profile/2022_04_06_16_26_23/Eliass-MacBook-Pro.local.memory_profile.json.gz\n",
      "2022-04-06 16:26:23.616200: I tensorflow/core/profiler/rpc/client/capture_profile.cc:251] Creating directory: filter_cv_stl/mtl_class_c8_9_filters/stats/tensorboard/model_22_1649255182.0062668/train/plugins/profile/2022_04_06_16_26_23\n",
      "Dumped tool data for xplane.pb to filter_cv_stl/mtl_class_c8_9_filters/stats/tensorboard/model_22_1649255182.0062668/train/plugins/profile/2022_04_06_16_26_23/Eliass-MacBook-Pro.local.xplane.pb\n",
      "Dumped tool data for overview_page.pb to filter_cv_stl/mtl_class_c8_9_filters/stats/tensorboard/model_22_1649255182.0062668/train/plugins/profile/2022_04_06_16_26_23/Eliass-MacBook-Pro.local.overview_page.pb\n",
      "Dumped tool data for input_pipeline.pb to filter_cv_stl/mtl_class_c8_9_filters/stats/tensorboard/model_22_1649255182.0062668/train/plugins/profile/2022_04_06_16_26_23/Eliass-MacBook-Pro.local.input_pipeline.pb\n",
      "Dumped tool data for tensorflow_stats.pb to filter_cv_stl/mtl_class_c8_9_filters/stats/tensorboard/model_22_1649255182.0062668/train/plugins/profile/2022_04_06_16_26_23/Eliass-MacBook-Pro.local.tensorflow_stats.pb\n",
      "Dumped tool data for kernel_stats.pb to filter_cv_stl/mtl_class_c8_9_filters/stats/tensorboard/model_22_1649255182.0062668/train/plugins/profile/2022_04_06_16_26_23/Eliass-MacBook-Pro.local.kernel_stats.pb\n",
      "\n"
     ]
    },
    {
     "name": "stdout",
     "output_type": "stream",
     "text": [
      "1/1 [==============================] - 0s 95ms/step - loss: 0.6930 - accuracy: 0.5455 - precision_22: 0.5455 - recall_22: 0.5455 - val_loss: 0.6963 - val_accuracy: 0.1111 - val_precision_22: 0.1111 - val_recall_22: 0.1111\b\b\b\b\b\b\b\b\b\b\b\b\b\b\b\b\b\b\b\b\b\b\b\b\b\n",
      "Epoch 4/20\n",
      "1/1 [==============================] - 0s 92ms/step - loss: 0.6928 - accuracy: 0.5455 - precision_22: 0.5455 - recall_22: 0.5455 - val_loss: 0.6975 - val_accuracy: 0.1111 - val_precision_22: 0.1111 - val_recall_22: 0.1111\b\b\b\b\b\b\b\b\b\b\b\b\b\b\b\b\b\b\b\b\b\b\b\b\b\n",
      "Epoch 5/20\n",
      "1/1 [==============================] - 0s 89ms/step - loss: 0.6927 - accuracy: 0.5455 - precision_22: 0.5455 - recall_22: 0.5455 - val_loss: 0.6987 - val_accuracy: 0.1111 - val_precision_22: 0.1111 - val_recall_22: 0.1111\b\b\b\b\b\b\b\b\b\b\b\b\b\b\b\b\b\b\b\b\b\b\b\b\b\n",
      "Epoch 6/20\n",
      "1/1 [==============================] - 0s 84ms/step - loss: 0.6926 - accuracy: 0.5455 - precision_22: 0.5455 - recall_22: 0.5455 - val_loss: 0.6999 - val_accuracy: 0.1111 - val_precision_22: 0.1111 - val_recall_22: 0.1111\b\b\b\b\b\b\b\b\b\b\b\b\b\b\b\b\b\b\b\b\b\b\b\b\b\n",
      "1/1 [==============================] - 0s 344ms/step - loss: 0.6938 - accuracy: 0.1111 - precision_22: 0.1111 - recall_22: 0.1111\b\b\b\b\b\b\b\b\b\b\b\b\b\b\b\b\b\b\b\b\b\b\b\b\b\b\b\b\b\b\b\b\b\b\b\b\b\b\b\b\b\b\b\b\b\b\b\b\b\b\b\b\b\b\b\b\b\b\b\b\b\b\b\b\b\b\b\b\b\b\b\b\b\b\b\b\b\b\b\b\b\b\b\b\b\b\b\b\b\b\b\b\b\b\b\b\b\b\b\b\b\b\b\b\b\b\b\b\b\b\b\b\b\b\b\b\b\n",
      "Model: \"model_23\"\n",
      "_________________________________________________________________\n",
      " Layer (type)                Output Shape              Param #   \n",
      "=================================================================\n",
      " data_input (InputLayer)     [(None, 2000, 35)]        0         \n",
      "                                                                 \n",
      " conv1 (Conv1D)              (None, 2000, 9)           324       \n",
      "                                                                 \n",
      " lambda_23 (Lambda)          (None, 9)                 0         \n",
      "                                                                 \n",
      " dropout_23 (Dropout)        (None, 9)                 0         \n",
      "                                                                 \n",
      " phenotype_pred (Dense)      (None, 2)                 20        \n",
      "                                                                 \n",
      "=================================================================\n",
      "Total params: 344\n",
      "Trainable params: 344\n",
      "Non-trainable params: 0\n",
      "_________________________________________________________________\n",
      "None\n",
      "Epoch 1/20\n"
     ]
    },
    {
     "name": "stderr",
     "output_type": "stream",
     "text": [
      "2022-04-06 16:26:25.027561: I tensorflow/core/profiler/lib/profiler_session.cc:110] Profiler session initializing.\n",
      "2022-04-06 16:26:25.027582: I tensorflow/core/profiler/lib/profiler_session.cc:125] Profiler session started.\n",
      "2022-04-06 16:26:25.027894: I tensorflow/core/profiler/lib/profiler_session.cc:143] Profiler session tear down.\n"
     ]
    },
    {
     "name": "stdout",
     "output_type": "stream",
     "text": [
      "1/1 [==============================] - 1s 1s/step - loss: 0.6932 - accuracy: 0.5682 - precision_23: 0.5682 - recall_23: 0.5682 - val_loss: 0.6977 - val_accuracy: 0.1111 - val_precision_23: 0.1111 - val_recall_23: 0.1111\b\b\b\b\b\b\b\b\b\b\b\b\b\b\b\b\b\b\b\b\b\b\b\b\b\b\b\n",
      "Epoch 2/20\n",
      "1/1 [==============================] - 0s 180ms/step - loss: 0.6926 - accuracy: 0.5455 - precision_23: 0.5455 - recall_23: 0.5455 - val_loss: 0.7029 - val_accuracy: 0.1111 - val_precision_23: 0.1111 - val_recall_23: 0.1111\b\b\b\b\b\b\b\b\b\b\b\b\b\b\b\b\b\b\b\b\b\b\b\b\n",
      "Epoch 3/20\n"
     ]
    },
    {
     "name": "stderr",
     "output_type": "stream",
     "text": [
      "2022-04-06 16:26:26.530481: I tensorflow/core/profiler/lib/profiler_session.cc:110] Profiler session initializing.\n",
      "2022-04-06 16:26:26.530498: I tensorflow/core/profiler/lib/profiler_session.cc:125] Profiler session started.\n",
      "2022-04-06 16:26:26.671365: I tensorflow/core/profiler/lib/profiler_session.cc:67] Profiler session collecting data.\n",
      "2022-04-06 16:26:26.672592: I tensorflow/core/profiler/lib/profiler_session.cc:143] Profiler session tear down.\n",
      "2022-04-06 16:26:26.674370: I tensorflow/core/profiler/rpc/client/save_profile.cc:136] Creating directory: filter_cv_stl/mtl_class_c8_9_filters/stats/tensorboard/model_23_1649255185.0273888/train/plugins/profile/2022_04_06_16_26_26\n",
      "\n",
      "2022-04-06 16:26:26.676141: I tensorflow/core/profiler/rpc/client/save_profile.cc:142] Dumped gzipped tool data for trace.json.gz to filter_cv_stl/mtl_class_c8_9_filters/stats/tensorboard/model_23_1649255185.0273888/train/plugins/profile/2022_04_06_16_26_26/Eliass-MacBook-Pro.local.trace.json.gz\n",
      "2022-04-06 16:26:26.678254: I tensorflow/core/profiler/rpc/client/save_profile.cc:136] Creating directory: filter_cv_stl/mtl_class_c8_9_filters/stats/tensorboard/model_23_1649255185.0273888/train/plugins/profile/2022_04_06_16_26_26\n",
      "\n",
      "2022-04-06 16:26:26.678511: I tensorflow/core/profiler/rpc/client/save_profile.cc:142] Dumped gzipped tool data for memory_profile.json.gz to filter_cv_stl/mtl_class_c8_9_filters/stats/tensorboard/model_23_1649255185.0273888/train/plugins/profile/2022_04_06_16_26_26/Eliass-MacBook-Pro.local.memory_profile.json.gz\n",
      "2022-04-06 16:26:26.680022: I tensorflow/core/profiler/rpc/client/capture_profile.cc:251] Creating directory: filter_cv_stl/mtl_class_c8_9_filters/stats/tensorboard/model_23_1649255185.0273888/train/plugins/profile/2022_04_06_16_26_26\n",
      "Dumped tool data for xplane.pb to filter_cv_stl/mtl_class_c8_9_filters/stats/tensorboard/model_23_1649255185.0273888/train/plugins/profile/2022_04_06_16_26_26/Eliass-MacBook-Pro.local.xplane.pb\n",
      "Dumped tool data for overview_page.pb to filter_cv_stl/mtl_class_c8_9_filters/stats/tensorboard/model_23_1649255185.0273888/train/plugins/profile/2022_04_06_16_26_26/Eliass-MacBook-Pro.local.overview_page.pb\n",
      "Dumped tool data for input_pipeline.pb to filter_cv_stl/mtl_class_c8_9_filters/stats/tensorboard/model_23_1649255185.0273888/train/plugins/profile/2022_04_06_16_26_26/Eliass-MacBook-Pro.local.input_pipeline.pb\n",
      "Dumped tool data for tensorflow_stats.pb to filter_cv_stl/mtl_class_c8_9_filters/stats/tensorboard/model_23_1649255185.0273888/train/plugins/profile/2022_04_06_16_26_26/Eliass-MacBook-Pro.local.tensorflow_stats.pb\n",
      "Dumped tool data for kernel_stats.pb to filter_cv_stl/mtl_class_c8_9_filters/stats/tensorboard/model_23_1649255185.0273888/train/plugins/profile/2022_04_06_16_26_26/Eliass-MacBook-Pro.local.kernel_stats.pb\n",
      "\n"
     ]
    },
    {
     "name": "stdout",
     "output_type": "stream",
     "text": [
      "1/1 [==============================] - 0s 86ms/step - loss: 0.6924 - accuracy: 0.5455 - precision_23: 0.5455 - recall_23: 0.5455 - val_loss: 0.7079 - val_accuracy: 0.1111 - val_precision_23: 0.1111 - val_recall_23: 0.1111\b\b\b\b\b\b\b\b\b\b\b\b\b\b\b\b\b\b\b\b\b\b\b\b\b\n",
      "Epoch 4/20\n",
      "1/1 [==============================] - 0s 101ms/step - loss: 0.6925 - accuracy: 0.5455 - precision_23: 0.5455 - recall_23: 0.5455 - val_loss: 0.7122 - val_accuracy: 0.1111 - val_precision_23: 0.1111 - val_recall_23: 0.1111\b\b\b\b\b\b\b\b\b\b\b\b\b\b\b\b\b\b\b\b\b\b\b\b\n",
      "Epoch 5/20\n",
      "1/1 [==============================] - 0s 95ms/step - loss: 0.6922 - accuracy: 0.5455 - precision_23: 0.5455 - recall_23: 0.5455 - val_loss: 0.7159 - val_accuracy: 0.1111 - val_precision_23: 0.1111 - val_recall_23: 0.1111\b\b\b\b\b\b\b\b\b\b\b\b\b\b\b\b\b\b\b\b\b\b\b\b\b\n",
      "Epoch 6/20\n",
      "1/1 [==============================] - 0s 93ms/step - loss: 0.6920 - accuracy: 0.5455 - precision_23: 0.5455 - recall_23: 0.5455 - val_loss: 0.7193 - val_accuracy: 0.1111 - val_precision_23: 0.1111 - val_recall_23: 0.1111\b\b\b\b\b\b\b\b\b\b\b\b\b\b\b\b\b\b\b\b\b\b\b\b\b\n",
      "1/1 [==============================] - 0s 378ms/step - loss: 0.6977 - accuracy: 0.1111 - precision_23: 0.1111 - recall_23: 0.1111\b\b\b\b\b\b\b\b\b\b\b\b\b\b\b\b\b\b\b\b\b\b\b\b\b\b\b\b\b\b\b\b\b\b\b\b\b\b\b\b\b\b\b\b\b\b\b\b\b\b\b\b\b\b\b\b\b\b\b\b\b\b\b\b\b\b\b\b\b\b\b\b\b\b\b\b\b\b\b\b\b\b\b\b\b\b\b\b\b\b\b\b\b\b\b\b\b\b\b\b\b\b\b\b\b\b\b\b\b\b\b\b\b\b\b\b\b\n",
      "DONE building model 9\n",
      "Model: \"model_24\"\n",
      "_________________________________________________________________\n",
      " Layer (type)                Output Shape              Param #   \n",
      "=================================================================\n",
      " data_input (InputLayer)     [(None, 2000, 35)]        0         \n",
      "                                                                 \n",
      " conv1 (Conv1D)              (None, 2000, 10)          360       \n",
      "                                                                 \n",
      " lambda_24 (Lambda)          (None, 10)                0         \n",
      "                                                                 \n",
      " dropout_24 (Dropout)        (None, 10)                0         \n",
      "                                                                 \n",
      " phenotype_pred (Dense)      (None, 2)                 22        \n",
      "                                                                 \n",
      "=================================================================\n",
      "Total params: 382\n",
      "Trainable params: 382\n",
      "Non-trainable params: 0\n",
      "_________________________________________________________________\n",
      "None\n",
      "Epoch 1/20\n"
     ]
    },
    {
     "name": "stderr",
     "output_type": "stream",
     "text": [
      "2022-04-06 16:26:28.374624: I tensorflow/core/profiler/lib/profiler_session.cc:110] Profiler session initializing.\n",
      "2022-04-06 16:26:28.374674: I tensorflow/core/profiler/lib/profiler_session.cc:125] Profiler session started.\n",
      "2022-04-06 16:26:28.374753: I tensorflow/core/profiler/lib/profiler_session.cc:143] Profiler session tear down.\n"
     ]
    },
    {
     "name": "stdout",
     "output_type": "stream",
     "text": [
      "1/1 [==============================] - 2s 2s/step - loss: 0.6934 - accuracy: 0.3864 - precision_24: 0.3721 - recall_24: 0.3636 - val_loss: 0.6958 - val_accuracy: 0.1111 - val_precision_24: 0.1111 - val_recall_24: 0.1111\b\b\b\b\b\b\b\b\b\b\b\b\b\b\b\b\b\b\b\b\b\b\b\b\b\b\b\n",
      "Epoch 2/20\n",
      "1/1 [==============================] - 0s 197ms/step - loss: 0.6930 - accuracy: 0.5455 - precision_24: 0.5455 - recall_24: 0.5455 - val_loss: 0.6983 - val_accuracy: 0.1111 - val_precision_24: 0.1111 - val_recall_24: 0.1111\b\b\b\b\b\b\b\b\b\b\b\b\b\b\b\b\b\b\b\b\b\b\b\b\n",
      "Epoch 3/20\n"
     ]
    },
    {
     "name": "stderr",
     "output_type": "stream",
     "text": [
      "2022-04-06 16:26:30.063425: I tensorflow/core/profiler/lib/profiler_session.cc:110] Profiler session initializing.\n",
      "2022-04-06 16:26:30.063441: I tensorflow/core/profiler/lib/profiler_session.cc:125] Profiler session started.\n",
      "2022-04-06 16:26:30.215066: I tensorflow/core/profiler/lib/profiler_session.cc:67] Profiler session collecting data.\n",
      "2022-04-06 16:26:30.216412: I tensorflow/core/profiler/lib/profiler_session.cc:143] Profiler session tear down.\n",
      "2022-04-06 16:26:30.218401: I tensorflow/core/profiler/rpc/client/save_profile.cc:136] Creating directory: filter_cv_stl/mtl_class_c8_10_filters/stats/tensorboard/model_24_1649255188.374368/train/plugins/profile/2022_04_06_16_26_30\n",
      "\n",
      "2022-04-06 16:26:30.220867: I tensorflow/core/profiler/rpc/client/save_profile.cc:142] Dumped gzipped tool data for trace.json.gz to filter_cv_stl/mtl_class_c8_10_filters/stats/tensorboard/model_24_1649255188.374368/train/plugins/profile/2022_04_06_16_26_30/Eliass-MacBook-Pro.local.trace.json.gz\n",
      "2022-04-06 16:26:30.223668: I tensorflow/core/profiler/rpc/client/save_profile.cc:136] Creating directory: filter_cv_stl/mtl_class_c8_10_filters/stats/tensorboard/model_24_1649255188.374368/train/plugins/profile/2022_04_06_16_26_30\n",
      "\n",
      "2022-04-06 16:26:30.223961: I tensorflow/core/profiler/rpc/client/save_profile.cc:142] Dumped gzipped tool data for memory_profile.json.gz to filter_cv_stl/mtl_class_c8_10_filters/stats/tensorboard/model_24_1649255188.374368/train/plugins/profile/2022_04_06_16_26_30/Eliass-MacBook-Pro.local.memory_profile.json.gz\n",
      "2022-04-06 16:26:30.225279: I tensorflow/core/profiler/rpc/client/capture_profile.cc:251] Creating directory: filter_cv_stl/mtl_class_c8_10_filters/stats/tensorboard/model_24_1649255188.374368/train/plugins/profile/2022_04_06_16_26_30\n",
      "Dumped tool data for xplane.pb to filter_cv_stl/mtl_class_c8_10_filters/stats/tensorboard/model_24_1649255188.374368/train/plugins/profile/2022_04_06_16_26_30/Eliass-MacBook-Pro.local.xplane.pb\n",
      "Dumped tool data for overview_page.pb to filter_cv_stl/mtl_class_c8_10_filters/stats/tensorboard/model_24_1649255188.374368/train/plugins/profile/2022_04_06_16_26_30/Eliass-MacBook-Pro.local.overview_page.pb\n",
      "Dumped tool data for input_pipeline.pb to filter_cv_stl/mtl_class_c8_10_filters/stats/tensorboard/model_24_1649255188.374368/train/plugins/profile/2022_04_06_16_26_30/Eliass-MacBook-Pro.local.input_pipeline.pb\n",
      "Dumped tool data for tensorflow_stats.pb to filter_cv_stl/mtl_class_c8_10_filters/stats/tensorboard/model_24_1649255188.374368/train/plugins/profile/2022_04_06_16_26_30/Eliass-MacBook-Pro.local.tensorflow_stats.pb\n",
      "Dumped tool data for kernel_stats.pb to filter_cv_stl/mtl_class_c8_10_filters/stats/tensorboard/model_24_1649255188.374368/train/plugins/profile/2022_04_06_16_26_30/Eliass-MacBook-Pro.local.kernel_stats.pb\n",
      "\n"
     ]
    },
    {
     "name": "stdout",
     "output_type": "stream",
     "text": [
      "1/1 [==============================] - 0s 96ms/step - loss: 0.6926 - accuracy: 0.5455 - precision_24: 0.5455 - recall_24: 0.5455 - val_loss: 0.7007 - val_accuracy: 0.1111 - val_precision_24: 0.1111 - val_recall_24: 0.1111\b\b\b\b\b\b\b\b\b\b\b\b\b\b\b\b\b\b\b\b\b\b\b\b\b\n",
      "Epoch 4/20\n",
      "1/1 [==============================] - 0s 85ms/step - loss: 0.6924 - accuracy: 0.5455 - precision_24: 0.5455 - recall_24: 0.5455 - val_loss: 0.7032 - val_accuracy: 0.1111 - val_precision_24: 0.1111 - val_recall_24: 0.1111\b\b\b\b\b\b\b\b\b\b\b\b\b\b\b\b\b\b\b\b\b\b\b\b\b\n",
      "Epoch 5/20\n",
      "1/1 [==============================] - 0s 88ms/step - loss: 0.6919 - accuracy: 0.5455 - precision_24: 0.5455 - recall_24: 0.5455 - val_loss: 0.7057 - val_accuracy: 0.1111 - val_precision_24: 0.1111 - val_recall_24: 0.1111\b\b\b\b\b\b\b\b\b\b\b\b\b\b\b\b\b\b\b\b\b\b\b\b\b\n",
      "Epoch 6/20\n",
      "1/1 [==============================] - 0s 84ms/step - loss: 0.6919 - accuracy: 0.5455 - precision_24: 0.5455 - recall_24: 0.5455 - val_loss: 0.7082 - val_accuracy: 0.1111 - val_precision_24: 0.1111 - val_recall_24: 0.1111\b\b\b\b\b\b\b\b\b\b\b\b\b\b\b\b\b\b\b\b\b\b\b\b\b\n",
      "1/1 [==============================] - 0s 411ms/step - loss: 0.6958 - accuracy: 0.1111 - precision_24: 0.1111 - recall_24: 0.1111\b\b\b\b\b\b\b\b\b\b\b\b\b\b\b\b\b\b\b\b\b\b\b\b\b\b\b\b\b\b\b\b\b\b\b\b\b\b\b\b\b\b\b\b\b\b\b\b\b\b\b\b\b\b\b\b\b\b\b\b\b\b\b\b\b\b\b\b\b\b\b\b\b\b\b\b\b\b\b\b\b\b\b\b\b\b\b\b\b\b\b\b\b\b\b\b\b\b\b\b\b\b\b\b\b\b\b\b\b\b\b\b\b\b\b\b\b\n",
      "Model: \"model_25\"\n",
      "_________________________________________________________________\n",
      " Layer (type)                Output Shape              Param #   \n",
      "=================================================================\n",
      " data_input (InputLayer)     [(None, 2000, 35)]        0         \n",
      "                                                                 \n",
      " conv1 (Conv1D)              (None, 2000, 10)          360       \n",
      "                                                                 \n",
      " lambda_25 (Lambda)          (None, 10)                0         \n",
      "                                                                 \n",
      " dropout_25 (Dropout)        (None, 10)                0         \n",
      "                                                                 \n",
      " phenotype_pred (Dense)      (None, 2)                 22        \n",
      "                                                                 \n",
      "=================================================================\n",
      "Total params: 382\n",
      "Trainable params: 382\n",
      "Non-trainable params: 0\n",
      "_________________________________________________________________\n",
      "None\n",
      "Epoch 1/20\n"
     ]
    },
    {
     "name": "stderr",
     "output_type": "stream",
     "text": [
      "2022-04-06 16:26:31.889135: I tensorflow/core/profiler/lib/profiler_session.cc:110] Profiler session initializing.\n",
      "2022-04-06 16:26:31.889171: I tensorflow/core/profiler/lib/profiler_session.cc:125] Profiler session started.\n",
      "2022-04-06 16:26:31.889444: I tensorflow/core/profiler/lib/profiler_session.cc:143] Profiler session tear down.\n"
     ]
    },
    {
     "name": "stdout",
     "output_type": "stream",
     "text": [
      "1/1 [==============================] - 2s 2s/step - loss: 0.6930 - accuracy: 0.5227 - precision_25: 0.5227 - recall_25: 0.5227 - val_loss: 0.6960 - val_accuracy: 0.1111 - val_precision_25: 0.1111 - val_recall_25: 0.1111\b\b\b\b\b\b\b\b\b\b\b\b\b\b\b\b\b\b\b\b\b\b\b\b\b\b\b\n",
      "Epoch 2/20\n",
      "1/1 [==============================] - 0s 190ms/step - loss: 0.6930 - accuracy: 0.5455 - precision_25: 0.5455 - recall_25: 0.5455 - val_loss: 0.6995 - val_accuracy: 0.1111 - val_precision_25: 0.1111 - val_recall_25: 0.1111\b\b\b\b\b\b\b\b\b\b\b\b\b\b\b\b\b\b\b\b\b\b\b\b\n",
      "Epoch 3/20\n"
     ]
    },
    {
     "name": "stderr",
     "output_type": "stream",
     "text": [
      "2022-04-06 16:26:33.987041: I tensorflow/core/profiler/lib/profiler_session.cc:110] Profiler session initializing.\n",
      "2022-04-06 16:26:33.987058: I tensorflow/core/profiler/lib/profiler_session.cc:125] Profiler session started.\n",
      "2022-04-06 16:26:34.135447: I tensorflow/core/profiler/lib/profiler_session.cc:67] Profiler session collecting data.\n",
      "2022-04-06 16:26:34.137551: I tensorflow/core/profiler/lib/profiler_session.cc:143] Profiler session tear down.\n",
      "2022-04-06 16:26:34.139994: I tensorflow/core/profiler/rpc/client/save_profile.cc:136] Creating directory: filter_cv_stl/mtl_class_c8_10_filters/stats/tensorboard/model_25_1649255191.888932/train/plugins/profile/2022_04_06_16_26_34\n",
      "\n",
      "2022-04-06 16:26:34.141797: I tensorflow/core/profiler/rpc/client/save_profile.cc:142] Dumped gzipped tool data for trace.json.gz to filter_cv_stl/mtl_class_c8_10_filters/stats/tensorboard/model_25_1649255191.888932/train/plugins/profile/2022_04_06_16_26_34/Eliass-MacBook-Pro.local.trace.json.gz\n",
      "2022-04-06 16:26:34.144154: I tensorflow/core/profiler/rpc/client/save_profile.cc:136] Creating directory: filter_cv_stl/mtl_class_c8_10_filters/stats/tensorboard/model_25_1649255191.888932/train/plugins/profile/2022_04_06_16_26_34\n",
      "\n",
      "2022-04-06 16:26:34.144438: I tensorflow/core/profiler/rpc/client/save_profile.cc:142] Dumped gzipped tool data for memory_profile.json.gz to filter_cv_stl/mtl_class_c8_10_filters/stats/tensorboard/model_25_1649255191.888932/train/plugins/profile/2022_04_06_16_26_34/Eliass-MacBook-Pro.local.memory_profile.json.gz\n",
      "2022-04-06 16:26:34.145632: I tensorflow/core/profiler/rpc/client/capture_profile.cc:251] Creating directory: filter_cv_stl/mtl_class_c8_10_filters/stats/tensorboard/model_25_1649255191.888932/train/plugins/profile/2022_04_06_16_26_34\n",
      "Dumped tool data for xplane.pb to filter_cv_stl/mtl_class_c8_10_filters/stats/tensorboard/model_25_1649255191.888932/train/plugins/profile/2022_04_06_16_26_34/Eliass-MacBook-Pro.local.xplane.pb\n",
      "Dumped tool data for overview_page.pb to filter_cv_stl/mtl_class_c8_10_filters/stats/tensorboard/model_25_1649255191.888932/train/plugins/profile/2022_04_06_16_26_34/Eliass-MacBook-Pro.local.overview_page.pb\n",
      "Dumped tool data for input_pipeline.pb to filter_cv_stl/mtl_class_c8_10_filters/stats/tensorboard/model_25_1649255191.888932/train/plugins/profile/2022_04_06_16_26_34/Eliass-MacBook-Pro.local.input_pipeline.pb\n",
      "Dumped tool data for tensorflow_stats.pb to filter_cv_stl/mtl_class_c8_10_filters/stats/tensorboard/model_25_1649255191.888932/train/plugins/profile/2022_04_06_16_26_34/Eliass-MacBook-Pro.local.tensorflow_stats.pb\n",
      "Dumped tool data for kernel_stats.pb to filter_cv_stl/mtl_class_c8_10_filters/stats/tensorboard/model_25_1649255191.888932/train/plugins/profile/2022_04_06_16_26_34/Eliass-MacBook-Pro.local.kernel_stats.pb\n",
      "\n"
     ]
    },
    {
     "name": "stdout",
     "output_type": "stream",
     "text": [
      "1/1 [==============================] - 0s 108ms/step - loss: 0.6926 - accuracy: 0.5455 - precision_25: 0.5455 - recall_25: 0.5455 - val_loss: 0.7027 - val_accuracy: 0.1111 - val_precision_25: 0.1111 - val_recall_25: 0.1111\b\b\b\b\b\b\b\b\b\b\b\b\b\b\b\b\b\b\b\b\b\b\b\b\n",
      "Epoch 4/20\n",
      "1/1 [==============================] - 0s 108ms/step - loss: 0.6922 - accuracy: 0.5455 - precision_25: 0.5455 - recall_25: 0.5455 - val_loss: 0.7062 - val_accuracy: 0.1111 - val_precision_25: 0.1111 - val_recall_25: 0.1111\b\b\b\b\b\b\b\b\b\b\b\b\b\b\b\b\b\b\b\b\b\b\b\b\n",
      "Epoch 5/20\n",
      "1/1 [==============================] - 0s 93ms/step - loss: 0.6924 - accuracy: 0.5455 - precision_25: 0.5455 - recall_25: 0.5455 - val_loss: 0.7093 - val_accuracy: 0.1111 - val_precision_25: 0.1111 - val_recall_25: 0.1111\b\b\b\b\b\b\b\b\b\b\b\b\b\b\b\b\b\b\b\b\b\b\b\b\b\n",
      "Epoch 6/20\n",
      "1/1 [==============================] - 0s 84ms/step - loss: 0.6913 - accuracy: 0.5455 - precision_25: 0.5455 - recall_25: 0.5455 - val_loss: 0.7126 - val_accuracy: 0.1111 - val_precision_25: 0.1111 - val_recall_25: 0.1111\b\b\b\b\b\b\b\b\b\b\b\b\b\b\b\b\b\b\b\b\b\b\b\b\b\n",
      "1/1 [==============================] - 0s 330ms/step - loss: 0.6960 - accuracy: 0.1111 - precision_25: 0.1111 - recall_25: 0.1111\b\b\b\b\b\b\b\b\b\b\b\b\b\b\b\b\b\b\b\b\b\b\b\b\b\b\b\b\b\b\b\b\b\b\b\b\b\b\b\b\b\b\b\b\b\b\b\b\b\b\b\b\b\b\b\b\b\b\b\b\b\b\b\b\b\b\b\b\b\b\b\b\b\b\b\b\b\b\b\b\b\b\b\b\b\b\b\b\b\b\b\b\b\b\b\b\b\b\b\b\b\b\b\b\b\b\b\b\b\b\b\b\b\b\b\b\b\n",
      "Model: \"model_26\"\n",
      "_________________________________________________________________\n",
      " Layer (type)                Output Shape              Param #   \n",
      "=================================================================\n",
      " data_input (InputLayer)     [(None, 2000, 35)]        0         \n",
      "                                                                 \n",
      " conv1 (Conv1D)              (None, 2000, 10)          360       \n",
      "                                                                 \n",
      " lambda_26 (Lambda)          (None, 10)                0         \n",
      "                                                                 \n",
      " dropout_26 (Dropout)        (None, 10)                0         \n",
      "                                                                 \n",
      " phenotype_pred (Dense)      (None, 2)                 22        \n",
      "                                                                 \n",
      "=================================================================\n",
      "Total params: 382\n",
      "Trainable params: 382\n",
      "Non-trainable params: 0\n",
      "_________________________________________________________________\n",
      "None\n",
      "Epoch 1/20\n"
     ]
    },
    {
     "name": "stderr",
     "output_type": "stream",
     "text": [
      "2022-04-06 16:26:35.576295: I tensorflow/core/profiler/lib/profiler_session.cc:110] Profiler session initializing.\n",
      "2022-04-06 16:26:35.576316: I tensorflow/core/profiler/lib/profiler_session.cc:125] Profiler session started.\n",
      "2022-04-06 16:26:35.576831: I tensorflow/core/profiler/lib/profiler_session.cc:143] Profiler session tear down.\n"
     ]
    },
    {
     "name": "stdout",
     "output_type": "stream",
     "text": [
      "1/1 [==============================] - 1s 1s/step - loss: 0.6932 - accuracy: 0.4545 - precision_26: 0.4545 - recall_26: 0.4545 - val_loss: 0.6949 - val_accuracy: 0.1111 - val_precision_26: 0.1111 - val_recall_26: 0.1111\b\b\b\b\b\b\b\b\b\b\b\b\b\b\b\b\b\b\b\b\b\b\b\b\b\b\b\n",
      "Epoch 2/20\n",
      "1/1 [==============================] - 0s 187ms/step - loss: 0.6930 - accuracy: 0.5455 - precision_26: 0.5455 - recall_26: 0.5455 - val_loss: 0.6971 - val_accuracy: 0.1111 - val_precision_26: 0.1111 - val_recall_26: 0.1111\b\b\b\b\b\b\b\b\b\b\b\b\b\b\b\b\b\b\b\b\b\b\b\b\n",
      "Epoch 3/20\n"
     ]
    },
    {
     "name": "stderr",
     "output_type": "stream",
     "text": [
      "2022-04-06 16:26:36.950229: I tensorflow/core/profiler/lib/profiler_session.cc:110] Profiler session initializing.\n",
      "2022-04-06 16:26:36.950247: I tensorflow/core/profiler/lib/profiler_session.cc:125] Profiler session started.\n",
      "2022-04-06 16:26:37.092728: I tensorflow/core/profiler/lib/profiler_session.cc:67] Profiler session collecting data.\n",
      "2022-04-06 16:26:37.094201: I tensorflow/core/profiler/lib/profiler_session.cc:143] Profiler session tear down.\n",
      "2022-04-06 16:26:37.096313: I tensorflow/core/profiler/rpc/client/save_profile.cc:136] Creating directory: filter_cv_stl/mtl_class_c8_10_filters/stats/tensorboard/model_26_1649255195.5761302/train/plugins/profile/2022_04_06_16_26_37\n",
      "\n",
      "2022-04-06 16:26:37.097955: I tensorflow/core/profiler/rpc/client/save_profile.cc:142] Dumped gzipped tool data for trace.json.gz to filter_cv_stl/mtl_class_c8_10_filters/stats/tensorboard/model_26_1649255195.5761302/train/plugins/profile/2022_04_06_16_26_37/Eliass-MacBook-Pro.local.trace.json.gz\n",
      "2022-04-06 16:26:37.100261: I tensorflow/core/profiler/rpc/client/save_profile.cc:136] Creating directory: filter_cv_stl/mtl_class_c8_10_filters/stats/tensorboard/model_26_1649255195.5761302/train/plugins/profile/2022_04_06_16_26_37\n",
      "\n",
      "2022-04-06 16:26:37.100620: I tensorflow/core/profiler/rpc/client/save_profile.cc:142] Dumped gzipped tool data for memory_profile.json.gz to filter_cv_stl/mtl_class_c8_10_filters/stats/tensorboard/model_26_1649255195.5761302/train/plugins/profile/2022_04_06_16_26_37/Eliass-MacBook-Pro.local.memory_profile.json.gz\n",
      "2022-04-06 16:26:37.102336: I tensorflow/core/profiler/rpc/client/capture_profile.cc:251] Creating directory: filter_cv_stl/mtl_class_c8_10_filters/stats/tensorboard/model_26_1649255195.5761302/train/plugins/profile/2022_04_06_16_26_37\n",
      "Dumped tool data for xplane.pb to filter_cv_stl/mtl_class_c8_10_filters/stats/tensorboard/model_26_1649255195.5761302/train/plugins/profile/2022_04_06_16_26_37/Eliass-MacBook-Pro.local.xplane.pb\n",
      "Dumped tool data for overview_page.pb to filter_cv_stl/mtl_class_c8_10_filters/stats/tensorboard/model_26_1649255195.5761302/train/plugins/profile/2022_04_06_16_26_37/Eliass-MacBook-Pro.local.overview_page.pb\n",
      "Dumped tool data for input_pipeline.pb to filter_cv_stl/mtl_class_c8_10_filters/stats/tensorboard/model_26_1649255195.5761302/train/plugins/profile/2022_04_06_16_26_37/Eliass-MacBook-Pro.local.input_pipeline.pb\n",
      "Dumped tool data for tensorflow_stats.pb to filter_cv_stl/mtl_class_c8_10_filters/stats/tensorboard/model_26_1649255195.5761302/train/plugins/profile/2022_04_06_16_26_37/Eliass-MacBook-Pro.local.tensorflow_stats.pb\n",
      "Dumped tool data for kernel_stats.pb to filter_cv_stl/mtl_class_c8_10_filters/stats/tensorboard/model_26_1649255195.5761302/train/plugins/profile/2022_04_06_16_26_37/Eliass-MacBook-Pro.local.kernel_stats.pb\n",
      "\n"
     ]
    },
    {
     "name": "stdout",
     "output_type": "stream",
     "text": [
      "1/1 [==============================] - 0s 94ms/step - loss: 0.6928 - accuracy: 0.5455 - precision_26: 0.5455 - recall_26: 0.5455 - val_loss: 0.6995 - val_accuracy: 0.1111 - val_precision_26: 0.1111 - val_recall_26: 0.1111\b\b\b\b\b\b\b\b\b\b\b\b\b\b\b\b\b\b\b\b\b\b\b\b\b\n",
      "Epoch 4/20\n",
      "1/1 [==============================] - 0s 93ms/step - loss: 0.6925 - accuracy: 0.5455 - precision_26: 0.5455 - recall_26: 0.5455 - val_loss: 0.7019 - val_accuracy: 0.1111 - val_precision_26: 0.1111 - val_recall_26: 0.1111\b\b\b\b\b\b\b\b\b\b\b\b\b\b\b\b\b\b\b\b\b\b\b\b\b\n",
      "Epoch 5/20\n",
      "1/1 [==============================] - 0s 110ms/step - loss: 0.6922 - accuracy: 0.5455 - precision_26: 0.5455 - recall_26: 0.5455 - val_loss: 0.7043 - val_accuracy: 0.1111 - val_precision_26: 0.1111 - val_recall_26: 0.1111\b\b\b\b\b\b\b\b\b\b\b\b\b\b\b\b\b\b\b\b\b\b\b\b\n",
      "Epoch 6/20\n",
      "1/1 [==============================] - 0s 83ms/step - loss: 0.6920 - accuracy: 0.5455 - precision_26: 0.5455 - recall_26: 0.5455 - val_loss: 0.7068 - val_accuracy: 0.1111 - val_precision_26: 0.1111 - val_recall_26: 0.1111\b\b\b\b\b\b\b\b\b\b\b\b\b\b\b\b\b\b\b\b\b\b\b\b\b\n",
      "1/1 [==============================] - 0s 369ms/step - loss: 0.6949 - accuracy: 0.1111 - precision_26: 0.1111 - recall_26: 0.1111\b\b\b\b\b\b\b\b\b\b\b\b\b\b\b\b\b\b\b\b\b\b\b\b\b\b\b\b\b\b\b\b\b\b\b\b\b\b\b\b\b\b\b\b\b\b\b\b\b\b\b\b\b\b\b\b\b\b\b\b\b\b\b\b\b\b\b\b\b\b\b\b\b\b\b\b\b\b\b\b\b\b\b\b\b\b\b\b\b\b\b\b\b\b\b\b\b\b\b\b\b\b\b\b\b\b\b\b\b\b\b\b\b\b\b\b\b\n",
      "DONE building model 10\n",
      "Model: \"model_27\"\n",
      "_________________________________________________________________\n",
      " Layer (type)                Output Shape              Param #   \n",
      "=================================================================\n",
      " data_input (InputLayer)     [(None, 2000, 35)]        0         \n",
      "                                                                 \n",
      " conv1 (Conv1D)              (None, 2000, 11)          396       \n",
      "                                                                 \n",
      " lambda_27 (Lambda)          (None, 11)                0         \n",
      "                                                                 \n",
      " dropout_27 (Dropout)        (None, 11)                0         \n",
      "                                                                 \n",
      " phenotype_pred (Dense)      (None, 2)                 24        \n",
      "                                                                 \n",
      "=================================================================\n",
      "Total params: 420\n",
      "Trainable params: 420\n",
      "Non-trainable params: 0\n",
      "_________________________________________________________________\n",
      "None\n",
      "Epoch 1/20\n"
     ]
    },
    {
     "name": "stderr",
     "output_type": "stream",
     "text": [
      "2022-04-06 16:26:38.670813: I tensorflow/core/profiler/lib/profiler_session.cc:110] Profiler session initializing.\n",
      "2022-04-06 16:26:38.670848: I tensorflow/core/profiler/lib/profiler_session.cc:125] Profiler session started.\n",
      "2022-04-06 16:26:38.671256: I tensorflow/core/profiler/lib/profiler_session.cc:143] Profiler session tear down.\n"
     ]
    },
    {
     "name": "stdout",
     "output_type": "stream",
     "text": [
      "1/1 [==============================] - 1s 1s/step - loss: 0.6927 - accuracy: 0.5455 - precision_27: 0.5455 - recall_27: 0.5455 - val_loss: 0.6972 - val_accuracy: 0.1111 - val_precision_27: 0.1111 - val_recall_27: 0.1111\b\b\b\b\b\b\b\b\b\b\b\b\b\b\b\b\b\b\b\b\b\b\b\b\b\b\b\n",
      "Epoch 2/20\n",
      "1/1 [==============================] - 0s 189ms/step - loss: 0.6927 - accuracy: 0.5455 - precision_27: 0.5455 - recall_27: 0.5455 - val_loss: 0.6995 - val_accuracy: 0.1111 - val_precision_27: 0.1111 - val_recall_27: 0.1111\b\b\b\b\b\b\b\b\b\b\b\b\b\b\b\b\b\b\b\b\b\b\b\b\n",
      "Epoch 3/20\n"
     ]
    },
    {
     "name": "stderr",
     "output_type": "stream",
     "text": [
      "2022-04-06 16:26:40.181815: I tensorflow/core/profiler/lib/profiler_session.cc:110] Profiler session initializing.\n",
      "2022-04-06 16:26:40.181833: I tensorflow/core/profiler/lib/profiler_session.cc:125] Profiler session started.\n",
      "2022-04-06 16:26:40.327079: I tensorflow/core/profiler/lib/profiler_session.cc:67] Profiler session collecting data.\n",
      "2022-04-06 16:26:40.328376: I tensorflow/core/profiler/lib/profiler_session.cc:143] Profiler session tear down.\n",
      "2022-04-06 16:26:40.330500: I tensorflow/core/profiler/rpc/client/save_profile.cc:136] Creating directory: filter_cv_stl/mtl_class_c8_11_filters/stats/tensorboard/model_27_1649255198.6706078/train/plugins/profile/2022_04_06_16_26_40\n",
      "\n",
      "2022-04-06 16:26:40.332168: I tensorflow/core/profiler/rpc/client/save_profile.cc:142] Dumped gzipped tool data for trace.json.gz to filter_cv_stl/mtl_class_c8_11_filters/stats/tensorboard/model_27_1649255198.6706078/train/plugins/profile/2022_04_06_16_26_40/Eliass-MacBook-Pro.local.trace.json.gz\n",
      "2022-04-06 16:26:40.334293: I tensorflow/core/profiler/rpc/client/save_profile.cc:136] Creating directory: filter_cv_stl/mtl_class_c8_11_filters/stats/tensorboard/model_27_1649255198.6706078/train/plugins/profile/2022_04_06_16_26_40\n",
      "\n",
      "2022-04-06 16:26:40.334563: I tensorflow/core/profiler/rpc/client/save_profile.cc:142] Dumped gzipped tool data for memory_profile.json.gz to filter_cv_stl/mtl_class_c8_11_filters/stats/tensorboard/model_27_1649255198.6706078/train/plugins/profile/2022_04_06_16_26_40/Eliass-MacBook-Pro.local.memory_profile.json.gz\n",
      "2022-04-06 16:26:40.335846: I tensorflow/core/profiler/rpc/client/capture_profile.cc:251] Creating directory: filter_cv_stl/mtl_class_c8_11_filters/stats/tensorboard/model_27_1649255198.6706078/train/plugins/profile/2022_04_06_16_26_40\n",
      "Dumped tool data for xplane.pb to filter_cv_stl/mtl_class_c8_11_filters/stats/tensorboard/model_27_1649255198.6706078/train/plugins/profile/2022_04_06_16_26_40/Eliass-MacBook-Pro.local.xplane.pb\n",
      "Dumped tool data for overview_page.pb to filter_cv_stl/mtl_class_c8_11_filters/stats/tensorboard/model_27_1649255198.6706078/train/plugins/profile/2022_04_06_16_26_40/Eliass-MacBook-Pro.local.overview_page.pb\n",
      "Dumped tool data for input_pipeline.pb to filter_cv_stl/mtl_class_c8_11_filters/stats/tensorboard/model_27_1649255198.6706078/train/plugins/profile/2022_04_06_16_26_40/Eliass-MacBook-Pro.local.input_pipeline.pb\n",
      "Dumped tool data for tensorflow_stats.pb to filter_cv_stl/mtl_class_c8_11_filters/stats/tensorboard/model_27_1649255198.6706078/train/plugins/profile/2022_04_06_16_26_40/Eliass-MacBook-Pro.local.tensorflow_stats.pb\n",
      "Dumped tool data for kernel_stats.pb to filter_cv_stl/mtl_class_c8_11_filters/stats/tensorboard/model_27_1649255198.6706078/train/plugins/profile/2022_04_06_16_26_40/Eliass-MacBook-Pro.local.kernel_stats.pb\n",
      "\n"
     ]
    },
    {
     "name": "stdout",
     "output_type": "stream",
     "text": [
      "1/1 [==============================] - 0s 107ms/step - loss: 0.6918 - accuracy: 0.5455 - precision_27: 0.5455 - recall_27: 0.5455 - val_loss: 0.7020 - val_accuracy: 0.1111 - val_precision_27: 0.1111 - val_recall_27: 0.1111\b\b\b\b\b\b\b\b\b\b\b\b\b\b\b\b\b\b\b\b\b\b\b\b\n",
      "Epoch 4/20\n",
      "1/1 [==============================] - 0s 97ms/step - loss: 0.6920 - accuracy: 0.5455 - precision_27: 0.5455 - recall_27: 0.5455 - val_loss: 0.7046 - val_accuracy: 0.1111 - val_precision_27: 0.1111 - val_recall_27: 0.1111\b\b\b\b\b\b\b\b\b\b\b\b\b\b\b\b\b\b\b\b\b\b\b\b\b\n",
      "Epoch 5/20\n",
      "1/1 [==============================] - 0s 88ms/step - loss: 0.6913 - accuracy: 0.5455 - precision_27: 0.5455 - recall_27: 0.5455 - val_loss: 0.7072 - val_accuracy: 0.1111 - val_precision_27: 0.1111 - val_recall_27: 0.1111\b\b\b\b\b\b\b\b\b\b\b\b\b\b\b\b\b\b\b\b\b\b\b\b\b\n",
      "Epoch 6/20\n",
      "1/1 [==============================] - 0s 91ms/step - loss: 0.6932 - accuracy: 0.5455 - precision_27: 0.5455 - recall_27: 0.5455 - val_loss: 0.7097 - val_accuracy: 0.1111 - val_precision_27: 0.1111 - val_recall_27: 0.1111\b\b\b\b\b\b\b\b\b\b\b\b\b\b\b\b\b\b\b\b\b\b\b\b\b\n",
      "1/1 [==============================] - 0s 348ms/step - loss: 0.6972 - accuracy: 0.1111 - precision_27: 0.1111 - recall_27: 0.1111\b\b\b\b\b\b\b\b\b\b\b\b\b\b\b\b\b\b\b\b\b\b\b\b\b\b\b\b\b\b\b\b\b\b\b\b\b\b\b\b\b\b\b\b\b\b\b\b\b\b\b\b\b\b\b\b\b\b\b\b\b\b\b\b\b\b\b\b\b\b\b\b\b\b\b\b\b\b\b\b\b\b\b\b\b\b\b\b\b\b\b\b\b\b\b\b\b\b\b\b\b\b\b\b\b\b\b\b\b\b\b\b\b\b\b\b\b\n",
      "Model: \"model_28\"\n",
      "_________________________________________________________________\n",
      " Layer (type)                Output Shape              Param #   \n",
      "=================================================================\n",
      " data_input (InputLayer)     [(None, 2000, 35)]        0         \n",
      "                                                                 \n",
      " conv1 (Conv1D)              (None, 2000, 11)          396       \n",
      "                                                                 \n",
      " lambda_28 (Lambda)          (None, 11)                0         \n",
      "                                                                 \n",
      " dropout_28 (Dropout)        (None, 11)                0         \n",
      "                                                                 \n",
      " phenotype_pred (Dense)      (None, 2)                 24        \n",
      "                                                                 \n",
      "=================================================================\n",
      "Total params: 420\n",
      "Trainable params: 420\n",
      "Non-trainable params: 0\n",
      "_________________________________________________________________\n",
      "None\n",
      "Epoch 1/20\n"
     ]
    },
    {
     "name": "stderr",
     "output_type": "stream",
     "text": [
      "2022-04-06 16:26:41.822883: I tensorflow/core/profiler/lib/profiler_session.cc:110] Profiler session initializing.\n",
      "2022-04-06 16:26:41.822902: I tensorflow/core/profiler/lib/profiler_session.cc:125] Profiler session started.\n",
      "2022-04-06 16:26:41.823654: I tensorflow/core/profiler/lib/profiler_session.cc:143] Profiler session tear down.\n"
     ]
    },
    {
     "name": "stdout",
     "output_type": "stream",
     "text": [
      "1/1 [==============================] - 1s 1s/step - loss: 0.6936 - accuracy: 0.4773 - precision_28: 0.4773 - recall_28: 0.4773 - val_loss: 0.6976 - val_accuracy: 0.1111 - val_precision_28: 0.1111 - val_recall_28: 0.1111\b\b\b\b\b\b\b\b\b\b\b\b\b\b\b\b\b\b\b\b\b\b\b\b\b\b\b\n",
      "Epoch 2/20\n",
      "1/1 [==============================] - 0s 189ms/step - loss: 0.6927 - accuracy: 0.5455 - precision_28: 0.5455 - recall_28: 0.5455 - val_loss: 0.7027 - val_accuracy: 0.1111 - val_precision_28: 0.1111 - val_recall_28: 0.1111\b\b\b\b\b\b\b\b\b\b\b\b\b\b\b\b\b\b\b\b\b\b\b\b\n",
      "Epoch 3/20\n"
     ]
    },
    {
     "name": "stderr",
     "output_type": "stream",
     "text": [
      "2022-04-06 16:26:43.307862: I tensorflow/core/profiler/lib/profiler_session.cc:110] Profiler session initializing.\n",
      "2022-04-06 16:26:43.307881: I tensorflow/core/profiler/lib/profiler_session.cc:125] Profiler session started.\n",
      "2022-04-06 16:26:43.451267: I tensorflow/core/profiler/lib/profiler_session.cc:67] Profiler session collecting data.\n",
      "2022-04-06 16:26:43.452639: I tensorflow/core/profiler/lib/profiler_session.cc:143] Profiler session tear down.\n",
      "2022-04-06 16:26:43.454744: I tensorflow/core/profiler/rpc/client/save_profile.cc:136] Creating directory: filter_cv_stl/mtl_class_c8_11_filters/stats/tensorboard/model_28_1649255201.822708/train/plugins/profile/2022_04_06_16_26_43\n",
      "\n",
      "2022-04-06 16:26:43.456908: I tensorflow/core/profiler/rpc/client/save_profile.cc:142] Dumped gzipped tool data for trace.json.gz to filter_cv_stl/mtl_class_c8_11_filters/stats/tensorboard/model_28_1649255201.822708/train/plugins/profile/2022_04_06_16_26_43/Eliass-MacBook-Pro.local.trace.json.gz\n",
      "2022-04-06 16:26:43.460017: I tensorflow/core/profiler/rpc/client/save_profile.cc:136] Creating directory: filter_cv_stl/mtl_class_c8_11_filters/stats/tensorboard/model_28_1649255201.822708/train/plugins/profile/2022_04_06_16_26_43\n",
      "\n",
      "2022-04-06 16:26:43.460463: I tensorflow/core/profiler/rpc/client/save_profile.cc:142] Dumped gzipped tool data for memory_profile.json.gz to filter_cv_stl/mtl_class_c8_11_filters/stats/tensorboard/model_28_1649255201.822708/train/plugins/profile/2022_04_06_16_26_43/Eliass-MacBook-Pro.local.memory_profile.json.gz\n",
      "2022-04-06 16:26:43.462493: I tensorflow/core/profiler/rpc/client/capture_profile.cc:251] Creating directory: filter_cv_stl/mtl_class_c8_11_filters/stats/tensorboard/model_28_1649255201.822708/train/plugins/profile/2022_04_06_16_26_43\n",
      "Dumped tool data for xplane.pb to filter_cv_stl/mtl_class_c8_11_filters/stats/tensorboard/model_28_1649255201.822708/train/plugins/profile/2022_04_06_16_26_43/Eliass-MacBook-Pro.local.xplane.pb\n",
      "Dumped tool data for overview_page.pb to filter_cv_stl/mtl_class_c8_11_filters/stats/tensorboard/model_28_1649255201.822708/train/plugins/profile/2022_04_06_16_26_43/Eliass-MacBook-Pro.local.overview_page.pb\n",
      "Dumped tool data for input_pipeline.pb to filter_cv_stl/mtl_class_c8_11_filters/stats/tensorboard/model_28_1649255201.822708/train/plugins/profile/2022_04_06_16_26_43/Eliass-MacBook-Pro.local.input_pipeline.pb\n",
      "Dumped tool data for tensorflow_stats.pb to filter_cv_stl/mtl_class_c8_11_filters/stats/tensorboard/model_28_1649255201.822708/train/plugins/profile/2022_04_06_16_26_43/Eliass-MacBook-Pro.local.tensorflow_stats.pb\n",
      "Dumped tool data for kernel_stats.pb to filter_cv_stl/mtl_class_c8_11_filters/stats/tensorboard/model_28_1649255201.822708/train/plugins/profile/2022_04_06_16_26_43/Eliass-MacBook-Pro.local.kernel_stats.pb\n",
      "\n"
     ]
    },
    {
     "name": "stdout",
     "output_type": "stream",
     "text": [
      "1/1 [==============================] - 0s 95ms/step - loss: 0.6919 - accuracy: 0.5455 - precision_28: 0.5455 - recall_28: 0.5455 - val_loss: 0.7064 - val_accuracy: 0.1111 - val_precision_28: 0.1111 - val_recall_28: 0.1111\b\b\b\b\b\b\b\b\b\b\b\b\b\b\b\b\b\b\b\b\b\b\b\b\b\n",
      "Epoch 4/20\n",
      "1/1 [==============================] - 0s 92ms/step - loss: 0.6917 - accuracy: 0.5455 - precision_28: 0.5455 - recall_28: 0.5455 - val_loss: 0.7114 - val_accuracy: 0.1111 - val_precision_28: 0.1111 - val_recall_28: 0.1111\b\b\b\b\b\b\b\b\b\b\b\b\b\b\b\b\b\b\b\b\b\b\b\b\b\n",
      "Epoch 5/20\n",
      "1/1 [==============================] - 0s 105ms/step - loss: 0.6911 - accuracy: 0.5455 - precision_28: 0.5455 - recall_28: 0.5455 - val_loss: 0.7169 - val_accuracy: 0.1111 - val_precision_28: 0.1111 - val_recall_28: 0.1111\b\b\b\b\b\b\b\b\b\b\b\b\b\b\b\b\b\b\b\b\b\b\b\b\n",
      "Epoch 6/20\n",
      "1/1 [==============================] - 0s 101ms/step - loss: 0.6908 - accuracy: 0.5455 - precision_28: 0.5455 - recall_28: 0.5455 - val_loss: 0.7226 - val_accuracy: 0.1111 - val_precision_28: 0.1111 - val_recall_28: 0.1111\b\b\b\b\b\b\b\b\b\b\b\b\b\b\b\b\b\b\b\b\b\b\b\b\n",
      "1/1 [==============================] - 0s 321ms/step - loss: 0.6976 - accuracy: 0.1111 - precision_28: 0.1111 - recall_28: 0.1111\b\b\b\b\b\b\b\b\b\b\b\b\b\b\b\b\b\b\b\b\b\b\b\b\b\b\b\b\b\b\b\b\b\b\b\b\b\b\b\b\b\b\b\b\b\b\b\b\b\b\b\b\b\b\b\b\b\b\b\b\b\b\b\b\b\b\b\b\b\b\b\b\b\b\b\b\b\b\b\b\b\b\b\b\b\b\b\b\b\b\b\b\b\b\b\b\b\b\b\b\b\b\b\b\b\b\b\b\b\b\b\b\b\b\b\b\b\n",
      "Model: \"model_29\"\n",
      "_________________________________________________________________\n",
      " Layer (type)                Output Shape              Param #   \n",
      "=================================================================\n",
      " data_input (InputLayer)     [(None, 2000, 35)]        0         \n",
      "                                                                 \n",
      " conv1 (Conv1D)              (None, 2000, 11)          396       \n",
      "                                                                 \n",
      " lambda_29 (Lambda)          (None, 11)                0         \n",
      "                                                                 \n",
      " dropout_29 (Dropout)        (None, 11)                0         \n",
      "                                                                 \n",
      " phenotype_pred (Dense)      (None, 2)                 24        \n",
      "                                                                 \n",
      "=================================================================\n",
      "Total params: 420\n",
      "Trainable params: 420\n",
      "Non-trainable params: 0\n",
      "_________________________________________________________________\n",
      "None\n",
      "Epoch 1/20\n"
     ]
    },
    {
     "name": "stderr",
     "output_type": "stream",
     "text": [
      "2022-04-06 16:26:44.873792: I tensorflow/core/profiler/lib/profiler_session.cc:110] Profiler session initializing.\n",
      "2022-04-06 16:26:44.873818: I tensorflow/core/profiler/lib/profiler_session.cc:125] Profiler session started.\n",
      "2022-04-06 16:26:44.874742: I tensorflow/core/profiler/lib/profiler_session.cc:143] Profiler session tear down.\n"
     ]
    },
    {
     "name": "stdout",
     "output_type": "stream",
     "text": [
      "1/1 [==============================] - 2s 2s/step - loss: 0.6932 - accuracy: 0.5227 - precision_29: 0.5227 - recall_29: 0.5227 - val_loss: 0.6995 - val_accuracy: 0.1111 - val_precision_29: 0.1111 - val_recall_29: 0.1111\b\b\b\b\b\b\b\b\b\b\b\b\b\b\b\b\b\b\b\b\b\b\b\b\b\b\b\n",
      "Epoch 2/20\n",
      "1/1 [==============================] - 0s 183ms/step - loss: 0.6924 - accuracy: 0.5455 - precision_29: 0.5455 - recall_29: 0.5455 - val_loss: 0.7060 - val_accuracy: 0.1111 - val_precision_29: 0.1111 - val_recall_29: 0.1111\b\b\b\b\b\b\b\b\b\b\b\b\b\b\b\b\b\b\b\b\b\b\b\b\n",
      "Epoch 3/20\n"
     ]
    },
    {
     "name": "stderr",
     "output_type": "stream",
     "text": [
      "2022-04-06 16:26:46.668643: I tensorflow/core/profiler/lib/profiler_session.cc:110] Profiler session initializing.\n",
      "2022-04-06 16:26:46.668668: I tensorflow/core/profiler/lib/profiler_session.cc:125] Profiler session started.\n",
      "2022-04-06 16:26:46.806576: I tensorflow/core/profiler/lib/profiler_session.cc:67] Profiler session collecting data.\n",
      "2022-04-06 16:26:46.807896: I tensorflow/core/profiler/lib/profiler_session.cc:143] Profiler session tear down.\n",
      "2022-04-06 16:26:46.809961: I tensorflow/core/profiler/rpc/client/save_profile.cc:136] Creating directory: filter_cv_stl/mtl_class_c8_11_filters/stats/tensorboard/model_29_1649255204.8735812/train/plugins/profile/2022_04_06_16_26_46\n",
      "\n",
      "2022-04-06 16:26:46.811486: I tensorflow/core/profiler/rpc/client/save_profile.cc:142] Dumped gzipped tool data for trace.json.gz to filter_cv_stl/mtl_class_c8_11_filters/stats/tensorboard/model_29_1649255204.8735812/train/plugins/profile/2022_04_06_16_26_46/Eliass-MacBook-Pro.local.trace.json.gz\n",
      "2022-04-06 16:26:46.813771: I tensorflow/core/profiler/rpc/client/save_profile.cc:136] Creating directory: filter_cv_stl/mtl_class_c8_11_filters/stats/tensorboard/model_29_1649255204.8735812/train/plugins/profile/2022_04_06_16_26_46\n",
      "\n",
      "2022-04-06 16:26:46.814172: I tensorflow/core/profiler/rpc/client/save_profile.cc:142] Dumped gzipped tool data for memory_profile.json.gz to filter_cv_stl/mtl_class_c8_11_filters/stats/tensorboard/model_29_1649255204.8735812/train/plugins/profile/2022_04_06_16_26_46/Eliass-MacBook-Pro.local.memory_profile.json.gz\n",
      "2022-04-06 16:26:46.816116: I tensorflow/core/profiler/rpc/client/capture_profile.cc:251] Creating directory: filter_cv_stl/mtl_class_c8_11_filters/stats/tensorboard/model_29_1649255204.8735812/train/plugins/profile/2022_04_06_16_26_46\n",
      "Dumped tool data for xplane.pb to filter_cv_stl/mtl_class_c8_11_filters/stats/tensorboard/model_29_1649255204.8735812/train/plugins/profile/2022_04_06_16_26_46/Eliass-MacBook-Pro.local.xplane.pb\n",
      "Dumped tool data for overview_page.pb to filter_cv_stl/mtl_class_c8_11_filters/stats/tensorboard/model_29_1649255204.8735812/train/plugins/profile/2022_04_06_16_26_46/Eliass-MacBook-Pro.local.overview_page.pb\n",
      "Dumped tool data for input_pipeline.pb to filter_cv_stl/mtl_class_c8_11_filters/stats/tensorboard/model_29_1649255204.8735812/train/plugins/profile/2022_04_06_16_26_46/Eliass-MacBook-Pro.local.input_pipeline.pb\n",
      "Dumped tool data for tensorflow_stats.pb to filter_cv_stl/mtl_class_c8_11_filters/stats/tensorboard/model_29_1649255204.8735812/train/plugins/profile/2022_04_06_16_26_46/Eliass-MacBook-Pro.local.tensorflow_stats.pb\n",
      "Dumped tool data for kernel_stats.pb to filter_cv_stl/mtl_class_c8_11_filters/stats/tensorboard/model_29_1649255204.8735812/train/plugins/profile/2022_04_06_16_26_46/Eliass-MacBook-Pro.local.kernel_stats.pb\n",
      "\n"
     ]
    },
    {
     "name": "stdout",
     "output_type": "stream",
     "text": [
      "1/1 [==============================] - 0s 100ms/step - loss: 0.6915 - accuracy: 0.5455 - precision_29: 0.5455 - recall_29: 0.5455 - val_loss: 0.7130 - val_accuracy: 0.1111 - val_precision_29: 0.1111 - val_recall_29: 0.1111\b\b\b\b\b\b\b\b\b\b\b\b\b\b\b\b\b\b\b\b\b\b\b\b\n",
      "Epoch 4/20\n",
      "1/1 [==============================] - 0s 92ms/step - loss: 0.6913 - accuracy: 0.5455 - precision_29: 0.5455 - recall_29: 0.5455 - val_loss: 0.7199 - val_accuracy: 0.1111 - val_precision_29: 0.1111 - val_recall_29: 0.1111\b\b\b\b\b\b\b\b\b\b\b\b\b\b\b\b\b\b\b\b\b\b\b\b\b\n",
      "Epoch 5/20\n",
      "1/1 [==============================] - 0s 98ms/step - loss: 0.6909 - accuracy: 0.5455 - precision_29: 0.5455 - recall_29: 0.5455 - val_loss: 0.7268 - val_accuracy: 0.1111 - val_precision_29: 0.1111 - val_recall_29: 0.1111\b\b\b\b\b\b\b\b\b\b\b\b\b\b\b\b\b\b\b\b\b\b\b\b\b\n",
      "Epoch 6/20\n",
      "1/1 [==============================] - 0s 92ms/step - loss: 0.6905 - accuracy: 0.5455 - precision_29: 0.5455 - recall_29: 0.5455 - val_loss: 0.7335 - val_accuracy: 0.1111 - val_precision_29: 0.1111 - val_recall_29: 0.1111\b\b\b\b\b\b\b\b\b\b\b\b\b\b\b\b\b\b\b\b\b\b\b\b\b\n",
      "1/1 [==============================] - 0s 376ms/step - loss: 0.6995 - accuracy: 0.1111 - precision_29: 0.1111 - recall_29: 0.1111\b\b\b\b\b\b\b\b\b\b\b\b\b\b\b\b\b\b\b\b\b\b\b\b\b\b\b\b\b\b\b\b\b\b\b\b\b\b\b\b\b\b\b\b\b\b\b\b\b\b\b\b\b\b\b\b\b\b\b\b\b\b\b\b\b\b\b\b\b\b\b\b\b\b\b\b\b\b\b\b\b\b\b\b\b\b\b\b\b\b\b\b\b\b\b\b\b\b\b\b\b\b\b\b\b\b\b\b\b\b\b\b\b\b\b\b\b\n",
      "DONE building model 11\n",
      "Model: \"model_30\"\n",
      "_________________________________________________________________\n",
      " Layer (type)                Output Shape              Param #   \n",
      "=================================================================\n",
      " data_input (InputLayer)     [(None, 2000, 35)]        0         \n",
      "                                                                 \n",
      " conv1 (Conv1D)              (None, 2000, 12)          432       \n",
      "                                                                 \n",
      " lambda_30 (Lambda)          (None, 12)                0         \n",
      "                                                                 \n",
      " dropout_30 (Dropout)        (None, 12)                0         \n",
      "                                                                 \n",
      " phenotype_pred (Dense)      (None, 2)                 26        \n",
      "                                                                 \n",
      "=================================================================\n",
      "Total params: 458\n",
      "Trainable params: 458\n",
      "Non-trainable params: 0\n",
      "_________________________________________________________________\n",
      "None\n",
      "Epoch 1/20\n"
     ]
    },
    {
     "name": "stderr",
     "output_type": "stream",
     "text": [
      "2022-04-06 16:26:48.372795: I tensorflow/core/profiler/lib/profiler_session.cc:110] Profiler session initializing.\n",
      "2022-04-06 16:26:48.372853: I tensorflow/core/profiler/lib/profiler_session.cc:125] Profiler session started.\n",
      "2022-04-06 16:26:48.373369: I tensorflow/core/profiler/lib/profiler_session.cc:143] Profiler session tear down.\n"
     ]
    },
    {
     "name": "stdout",
     "output_type": "stream",
     "text": [
      "1/1 [==============================] - 1s 1s/step - loss: 0.6934 - accuracy: 0.3409 - precision_30: 0.3409 - recall_30: 0.3409 - val_loss: 0.6937 - val_accuracy: 0.1111 - val_precision_30: 0.1111 - val_recall_30: 0.1111\b\b\b\b\b\b\b\b\b\b\b\b\b\b\b\b\b\b\b\b\b\b\b\b\b\b\b\n",
      "Epoch 2/20\n",
      "1/1 [==============================] - ETA: 0s - loss: 0.6934 - accuracy: 0.3864 - precision_30: 0.3864 - recall_30: 0.3864"
     ]
    },
    {
     "name": "stderr",
     "output_type": "stream",
     "text": [
      "2022-04-06 16:26:49.929276: I tensorflow/core/profiler/lib/profiler_session.cc:110] Profiler session initializing.\n",
      "2022-04-06 16:26:49.929292: I tensorflow/core/profiler/lib/profiler_session.cc:125] Profiler session started.\n",
      "2022-04-06 16:26:50.093160: I tensorflow/core/profiler/lib/profiler_session.cc:67] Profiler session collecting data.\n",
      "2022-04-06 16:26:50.094675: I tensorflow/core/profiler/lib/profiler_session.cc:143] Profiler session tear down.\n",
      "2022-04-06 16:26:50.096609: I tensorflow/core/profiler/rpc/client/save_profile.cc:136] Creating directory: filter_cv_stl/mtl_class_c8_12_filters/stats/tensorboard/model_30_1649255208.3726249/train/plugins/profile/2022_04_06_16_26_50\n",
      "\n",
      "2022-04-06 16:26:50.098380: I tensorflow/core/profiler/rpc/client/save_profile.cc:142] Dumped gzipped tool data for trace.json.gz to filter_cv_stl/mtl_class_c8_12_filters/stats/tensorboard/model_30_1649255208.3726249/train/plugins/profile/2022_04_06_16_26_50/Eliass-MacBook-Pro.local.trace.json.gz\n",
      "2022-04-06 16:26:50.100645: I tensorflow/core/profiler/rpc/client/save_profile.cc:136] Creating directory: filter_cv_stl/mtl_class_c8_12_filters/stats/tensorboard/model_30_1649255208.3726249/train/plugins/profile/2022_04_06_16_26_50\n",
      "\n",
      "2022-04-06 16:26:50.100873: I tensorflow/core/profiler/rpc/client/save_profile.cc:142] Dumped gzipped tool data for memory_profile.json.gz to filter_cv_stl/mtl_class_c8_12_filters/stats/tensorboard/model_30_1649255208.3726249/train/plugins/profile/2022_04_06_16_26_50/Eliass-MacBook-Pro.local.memory_profile.json.gz\n",
      "2022-04-06 16:26:50.102056: I tensorflow/core/profiler/rpc/client/capture_profile.cc:251] Creating directory: filter_cv_stl/mtl_class_c8_12_filters/stats/tensorboard/model_30_1649255208.3726249/train/plugins/profile/2022_04_06_16_26_50\n",
      "Dumped tool data for xplane.pb to filter_cv_stl/mtl_class_c8_12_filters/stats/tensorboard/model_30_1649255208.3726249/train/plugins/profile/2022_04_06_16_26_50/Eliass-MacBook-Pro.local.xplane.pb\n",
      "Dumped tool data for overview_page.pb to filter_cv_stl/mtl_class_c8_12_filters/stats/tensorboard/model_30_1649255208.3726249/train/plugins/profile/2022_04_06_16_26_50/Eliass-MacBook-Pro.local.overview_page.pb\n",
      "Dumped tool data for input_pipeline.pb to filter_cv_stl/mtl_class_c8_12_filters/stats/tensorboard/model_30_1649255208.3726249/train/plugins/profile/2022_04_06_16_26_50/Eliass-MacBook-Pro.local.input_pipeline.pb\n",
      "Dumped tool data for tensorflow_stats.pb to filter_cv_stl/mtl_class_c8_12_filters/stats/tensorboard/model_30_1649255208.3726249/train/plugins/profile/2022_04_06_16_26_50/Eliass-MacBook-Pro.local.tensorflow_stats.pb\n",
      "Dumped tool data for kernel_stats.pb to filter_cv_stl/mtl_class_c8_12_filters/stats/tensorboard/model_30_1649255208.3726249/train/plugins/profile/2022_04_06_16_26_50/Eliass-MacBook-Pro.local.kernel_stats.pb\n",
      "\n"
     ]
    },
    {
     "name": "stdout",
     "output_type": "stream",
     "text": [
      "1/1 [==============================] - 0s 207ms/step - loss: 0.6934 - accuracy: 0.3864 - precision_30: 0.3864 - recall_30: 0.3864 - val_loss: 0.6948 - val_accuracy: 0.1111 - val_precision_30: 0.1111 - val_recall_30: 0.1111\n",
      "Epoch 3/20\n",
      "1/1 [==============================] - 0s 105ms/step - loss: 0.6931 - accuracy: 0.5227 - precision_30: 0.5227 - recall_30: 0.5227 - val_loss: 0.6958 - val_accuracy: 0.1111 - val_precision_30: 0.1111 - val_recall_30: 0.1111\b\b\b\b\b\b\b\b\b\b\b\b\b\b\b\b\b\b\b\b\b\b\b\b\n",
      "Epoch 4/20\n",
      "1/1 [==============================] - 0s 99ms/step - loss: 0.6930 - accuracy: 0.5455 - precision_30: 0.5455 - recall_30: 0.5455 - val_loss: 0.6968 - val_accuracy: 0.1111 - val_precision_30: 0.1111 - val_recall_30: 0.1111\b\b\b\b\b\b\b\b\b\b\b\b\b\b\b\b\b\b\b\b\b\b\b\b\b\n",
      "Epoch 5/20\n",
      "1/1 [==============================] - 0s 108ms/step - loss: 0.6927 - accuracy: 0.5455 - precision_30: 0.5455 - recall_30: 0.5455 - val_loss: 0.6979 - val_accuracy: 0.1111 - val_precision_30: 0.1111 - val_recall_30: 0.1111\b\b\b\b\b\b\b\b\b\b\b\b\b\b\b\b\b\b\b\b\b\b\b\b\n",
      "Epoch 6/20\n",
      "1/1 [==============================] - 0s 91ms/step - loss: 0.6925 - accuracy: 0.5455 - precision_30: 0.5455 - recall_30: 0.5455 - val_loss: 0.6989 - val_accuracy: 0.1111 - val_precision_30: 0.1111 - val_recall_30: 0.1111\b\b\b\b\b\b\b\b\b\b\b\b\b\b\b\b\b\b\b\b\b\b\b\b\b\n",
      "1/1 [==============================] - 0s 353ms/step - loss: 0.6937 - accuracy: 0.1111 - precision_30: 0.1111 - recall_30: 0.1111\b\b\b\b\b\b\b\b\b\b\b\b\b\b\b\b\b\b\b\b\b\b\b\b\b\b\b\b\b\b\b\b\b\b\b\b\b\b\b\b\b\b\b\b\b\b\b\b\b\b\b\b\b\b\b\b\b\b\b\b\b\b\b\b\b\b\b\b\b\b\b\b\b\b\b\b\b\b\b\b\b\b\b\b\b\b\b\b\b\b\b\b\b\b\b\b\b\b\b\b\b\b\b\b\b\b\b\b\b\b\b\b\b\b\b\b\b\n",
      "Model: \"model_31\"\n",
      "_________________________________________________________________\n",
      " Layer (type)                Output Shape              Param #   \n",
      "=================================================================\n",
      " data_input (InputLayer)     [(None, 2000, 35)]        0         \n",
      "                                                                 \n",
      " conv1 (Conv1D)              (None, 2000, 12)          432       \n",
      "                                                                 \n",
      " lambda_31 (Lambda)          (None, 12)                0         \n",
      "                                                                 \n",
      " dropout_31 (Dropout)        (None, 12)                0         \n",
      "                                                                 \n",
      " phenotype_pred (Dense)      (None, 2)                 26        \n",
      "                                                                 \n",
      "=================================================================\n",
      "Total params: 458\n",
      "Trainable params: 458\n",
      "Non-trainable params: 0\n",
      "_________________________________________________________________\n",
      "None\n",
      "Epoch 1/20\n"
     ]
    },
    {
     "name": "stderr",
     "output_type": "stream",
     "text": [
      "2022-04-06 16:26:51.583851: I tensorflow/core/profiler/lib/profiler_session.cc:110] Profiler session initializing.\n",
      "2022-04-06 16:26:51.583871: I tensorflow/core/profiler/lib/profiler_session.cc:125] Profiler session started.\n",
      "2022-04-06 16:26:51.584123: I tensorflow/core/profiler/lib/profiler_session.cc:143] Profiler session tear down.\n"
     ]
    },
    {
     "name": "stdout",
     "output_type": "stream",
     "text": [
      "1/1 [==============================] - 1s 1s/step - loss: 0.6933 - accuracy: 0.4773 - precision_31: 0.4773 - recall_31: 0.4773 - val_loss: 0.6944 - val_accuracy: 0.1111 - val_precision_31: 0.1111 - val_recall_31: 0.1111\b\b\b\b\b\b\b\b\b\b\b\b\b\b\b\b\b\b\b\b\b\b\b\b\b\b\b\n",
      "Epoch 2/20\n",
      "1/1 [==============================] - 0s 197ms/step - loss: 0.6931 - accuracy: 0.5455 - precision_31: 0.5455 - recall_31: 0.5455 - val_loss: 0.6957 - val_accuracy: 0.1111 - val_precision_31: 0.1111 - val_recall_31: 0.1111\b\b\b\b\b\b\b\b\b\b\b\b\b\b\b\b\b\b\b\b\b\b\b\b\n",
      "Epoch 3/20\n"
     ]
    },
    {
     "name": "stderr",
     "output_type": "stream",
     "text": [
      "2022-04-06 16:26:53.010930: I tensorflow/core/profiler/lib/profiler_session.cc:110] Profiler session initializing.\n",
      "2022-04-06 16:26:53.010947: I tensorflow/core/profiler/lib/profiler_session.cc:125] Profiler session started.\n",
      "2022-04-06 16:26:53.169917: I tensorflow/core/profiler/lib/profiler_session.cc:67] Profiler session collecting data.\n",
      "2022-04-06 16:26:53.171142: I tensorflow/core/profiler/lib/profiler_session.cc:143] Profiler session tear down.\n",
      "2022-04-06 16:26:53.172846: I tensorflow/core/profiler/rpc/client/save_profile.cc:136] Creating directory: filter_cv_stl/mtl_class_c8_12_filters/stats/tensorboard/model_31_1649255211.58368/train/plugins/profile/2022_04_06_16_26_53\n",
      "\n",
      "2022-04-06 16:26:53.174409: I tensorflow/core/profiler/rpc/client/save_profile.cc:142] Dumped gzipped tool data for trace.json.gz to filter_cv_stl/mtl_class_c8_12_filters/stats/tensorboard/model_31_1649255211.58368/train/plugins/profile/2022_04_06_16_26_53/Eliass-MacBook-Pro.local.trace.json.gz\n",
      "2022-04-06 16:26:53.176727: I tensorflow/core/profiler/rpc/client/save_profile.cc:136] Creating directory: filter_cv_stl/mtl_class_c8_12_filters/stats/tensorboard/model_31_1649255211.58368/train/plugins/profile/2022_04_06_16_26_53\n",
      "\n",
      "2022-04-06 16:26:53.177018: I tensorflow/core/profiler/rpc/client/save_profile.cc:142] Dumped gzipped tool data for memory_profile.json.gz to filter_cv_stl/mtl_class_c8_12_filters/stats/tensorboard/model_31_1649255211.58368/train/plugins/profile/2022_04_06_16_26_53/Eliass-MacBook-Pro.local.memory_profile.json.gz\n",
      "2022-04-06 16:26:53.178275: I tensorflow/core/profiler/rpc/client/capture_profile.cc:251] Creating directory: filter_cv_stl/mtl_class_c8_12_filters/stats/tensorboard/model_31_1649255211.58368/train/plugins/profile/2022_04_06_16_26_53\n",
      "Dumped tool data for xplane.pb to filter_cv_stl/mtl_class_c8_12_filters/stats/tensorboard/model_31_1649255211.58368/train/plugins/profile/2022_04_06_16_26_53/Eliass-MacBook-Pro.local.xplane.pb\n",
      "Dumped tool data for overview_page.pb to filter_cv_stl/mtl_class_c8_12_filters/stats/tensorboard/model_31_1649255211.58368/train/plugins/profile/2022_04_06_16_26_53/Eliass-MacBook-Pro.local.overview_page.pb\n",
      "Dumped tool data for input_pipeline.pb to filter_cv_stl/mtl_class_c8_12_filters/stats/tensorboard/model_31_1649255211.58368/train/plugins/profile/2022_04_06_16_26_53/Eliass-MacBook-Pro.local.input_pipeline.pb\n",
      "Dumped tool data for tensorflow_stats.pb to filter_cv_stl/mtl_class_c8_12_filters/stats/tensorboard/model_31_1649255211.58368/train/plugins/profile/2022_04_06_16_26_53/Eliass-MacBook-Pro.local.tensorflow_stats.pb\n",
      "Dumped tool data for kernel_stats.pb to filter_cv_stl/mtl_class_c8_12_filters/stats/tensorboard/model_31_1649255211.58368/train/plugins/profile/2022_04_06_16_26_53/Eliass-MacBook-Pro.local.kernel_stats.pb\n",
      "\n"
     ]
    },
    {
     "name": "stdout",
     "output_type": "stream",
     "text": [
      "1/1 [==============================] - 0s 111ms/step - loss: 0.6928 - accuracy: 0.5455 - precision_31: 0.5455 - recall_31: 0.5455 - val_loss: 0.6971 - val_accuracy: 0.1111 - val_precision_31: 0.1111 - val_recall_31: 0.1111\b\b\b\b\b\b\b\b\b\b\b\b\b\b\b\b\b\b\b\b\b\b\b\b\n",
      "Epoch 4/20\n",
      "1/1 [==============================] - 0s 119ms/step - loss: 0.6929 - accuracy: 0.5455 - precision_31: 0.5455 - recall_31: 0.5455 - val_loss: 0.6986 - val_accuracy: 0.1111 - val_precision_31: 0.1111 - val_recall_31: 0.1111\b\b\b\b\b\b\b\b\b\b\b\b\b\b\b\b\b\b\b\b\b\b\b\b\n",
      "Epoch 5/20\n",
      "1/1 [==============================] - 0s 94ms/step - loss: 0.6925 - accuracy: 0.5455 - precision_31: 0.5455 - recall_31: 0.5455 - val_loss: 0.7001 - val_accuracy: 0.1111 - val_precision_31: 0.1111 - val_recall_31: 0.1111\b\b\b\b\b\b\b\b\b\b\b\b\b\b\b\b\b\b\b\b\b\b\b\b\b\n",
      "Epoch 6/20\n",
      "1/1 [==============================] - 0s 94ms/step - loss: 0.6924 - accuracy: 0.5455 - precision_31: 0.5455 - recall_31: 0.5455 - val_loss: 0.7016 - val_accuracy: 0.1111 - val_precision_31: 0.1111 - val_recall_31: 0.1111\b\b\b\b\b\b\b\b\b\b\b\b\b\b\b\b\b\b\b\b\b\b\b\b\b\n",
      "1/1 [==============================] - 0s 368ms/step - loss: 0.6944 - accuracy: 0.1111 - precision_31: 0.1111 - recall_31: 0.1111\b\b\b\b\b\b\b\b\b\b\b\b\b\b\b\b\b\b\b\b\b\b\b\b\b\b\b\b\b\b\b\b\b\b\b\b\b\b\b\b\b\b\b\b\b\b\b\b\b\b\b\b\b\b\b\b\b\b\b\b\b\b\b\b\b\b\b\b\b\b\b\b\b\b\b\b\b\b\b\b\b\b\b\b\b\b\b\b\b\b\b\b\b\b\b\b\b\b\b\b\b\b\b\b\b\b\b\b\b\b\b\b\b\b\b\b\b\n",
      "Model: \"model_32\"\n",
      "_________________________________________________________________\n",
      " Layer (type)                Output Shape              Param #   \n",
      "=================================================================\n",
      " data_input (InputLayer)     [(None, 2000, 35)]        0         \n",
      "                                                                 \n",
      " conv1 (Conv1D)              (None, 2000, 12)          432       \n",
      "                                                                 \n",
      " lambda_32 (Lambda)          (None, 12)                0         \n",
      "                                                                 \n",
      " dropout_32 (Dropout)        (None, 12)                0         \n",
      "                                                                 \n",
      " phenotype_pred (Dense)      (None, 2)                 26        \n",
      "                                                                 \n",
      "=================================================================\n",
      "Total params: 458\n",
      "Trainable params: 458\n",
      "Non-trainable params: 0\n",
      "_________________________________________________________________\n",
      "None\n",
      "Epoch 1/20\n"
     ]
    },
    {
     "name": "stderr",
     "output_type": "stream",
     "text": [
      "2022-04-06 16:26:54.675585: I tensorflow/core/profiler/lib/profiler_session.cc:110] Profiler session initializing.\n",
      "2022-04-06 16:26:54.675606: I tensorflow/core/profiler/lib/profiler_session.cc:125] Profiler session started.\n",
      "2022-04-06 16:26:54.675825: I tensorflow/core/profiler/lib/profiler_session.cc:143] Profiler session tear down.\n"
     ]
    },
    {
     "name": "stdout",
     "output_type": "stream",
     "text": [
      "1/1 [==============================] - 1s 1s/step - loss: 0.6930 - accuracy: 0.5682 - precision_32: 0.5682 - recall_32: 0.5682 - val_loss: 0.6983 - val_accuracy: 0.1111 - val_precision_32: 0.1111 - val_recall_32: 0.1111\b\b\b\b\b\b\b\b\b\b\b\b\b\b\b\b\b\b\b\b\b\b\b\b\b\b\b\n",
      "Epoch 2/20\n",
      "1/1 [==============================] - 0s 197ms/step - loss: 0.6926 - accuracy: 0.5455 - precision_32: 0.5455 - recall_32: 0.5455 - val_loss: 0.7024 - val_accuracy: 0.1111 - val_precision_32: 0.1111 - val_recall_32: 0.1111\b\b\b\b\b\b\b\b\b\b\b\b\b\b\b\b\b\b\b\b\b\b\b\b\n",
      "Epoch 3/20\n"
     ]
    },
    {
     "name": "stderr",
     "output_type": "stream",
     "text": [
      "2022-04-06 16:26:56.057386: I tensorflow/core/profiler/lib/profiler_session.cc:110] Profiler session initializing.\n",
      "2022-04-06 16:26:56.057408: I tensorflow/core/profiler/lib/profiler_session.cc:125] Profiler session started.\n",
      "2022-04-06 16:26:56.212125: I tensorflow/core/profiler/lib/profiler_session.cc:67] Profiler session collecting data.\n",
      "2022-04-06 16:26:56.213358: I tensorflow/core/profiler/lib/profiler_session.cc:143] Profiler session tear down.\n",
      "2022-04-06 16:26:56.215794: I tensorflow/core/profiler/rpc/client/save_profile.cc:136] Creating directory: filter_cv_stl/mtl_class_c8_12_filters/stats/tensorboard/model_32_1649255214.675415/train/plugins/profile/2022_04_06_16_26_56\n",
      "\n",
      "2022-04-06 16:26:56.217528: I tensorflow/core/profiler/rpc/client/save_profile.cc:142] Dumped gzipped tool data for trace.json.gz to filter_cv_stl/mtl_class_c8_12_filters/stats/tensorboard/model_32_1649255214.675415/train/plugins/profile/2022_04_06_16_26_56/Eliass-MacBook-Pro.local.trace.json.gz\n",
      "2022-04-06 16:26:56.219725: I tensorflow/core/profiler/rpc/client/save_profile.cc:136] Creating directory: filter_cv_stl/mtl_class_c8_12_filters/stats/tensorboard/model_32_1649255214.675415/train/plugins/profile/2022_04_06_16_26_56\n",
      "\n",
      "2022-04-06 16:26:56.219996: I tensorflow/core/profiler/rpc/client/save_profile.cc:142] Dumped gzipped tool data for memory_profile.json.gz to filter_cv_stl/mtl_class_c8_12_filters/stats/tensorboard/model_32_1649255214.675415/train/plugins/profile/2022_04_06_16_26_56/Eliass-MacBook-Pro.local.memory_profile.json.gz\n",
      "2022-04-06 16:26:56.221248: I tensorflow/core/profiler/rpc/client/capture_profile.cc:251] Creating directory: filter_cv_stl/mtl_class_c8_12_filters/stats/tensorboard/model_32_1649255214.675415/train/plugins/profile/2022_04_06_16_26_56\n",
      "Dumped tool data for xplane.pb to filter_cv_stl/mtl_class_c8_12_filters/stats/tensorboard/model_32_1649255214.675415/train/plugins/profile/2022_04_06_16_26_56/Eliass-MacBook-Pro.local.xplane.pb\n",
      "Dumped tool data for overview_page.pb to filter_cv_stl/mtl_class_c8_12_filters/stats/tensorboard/model_32_1649255214.675415/train/plugins/profile/2022_04_06_16_26_56/Eliass-MacBook-Pro.local.overview_page.pb\n",
      "Dumped tool data for input_pipeline.pb to filter_cv_stl/mtl_class_c8_12_filters/stats/tensorboard/model_32_1649255214.675415/train/plugins/profile/2022_04_06_16_26_56/Eliass-MacBook-Pro.local.input_pipeline.pb\n",
      "Dumped tool data for tensorflow_stats.pb to filter_cv_stl/mtl_class_c8_12_filters/stats/tensorboard/model_32_1649255214.675415/train/plugins/profile/2022_04_06_16_26_56/Eliass-MacBook-Pro.local.tensorflow_stats.pb\n",
      "Dumped tool data for kernel_stats.pb to filter_cv_stl/mtl_class_c8_12_filters/stats/tensorboard/model_32_1649255214.675415/train/plugins/profile/2022_04_06_16_26_56/Eliass-MacBook-Pro.local.kernel_stats.pb\n",
      "\n"
     ]
    },
    {
     "name": "stdout",
     "output_type": "stream",
     "text": [
      "1/1 [==============================] - 0s 98ms/step - loss: 0.6921 - accuracy: 0.5455 - precision_32: 0.5455 - recall_32: 0.5455 - val_loss: 0.7063 - val_accuracy: 0.1111 - val_precision_32: 0.1111 - val_recall_32: 0.1111\b\b\b\b\b\b\b\b\b\b\b\b\b\b\b\b\b\b\b\b\b\b\b\b\b\n",
      "Epoch 4/20\n",
      "1/1 [==============================] - 0s 99ms/step - loss: 0.6916 - accuracy: 0.5455 - precision_32: 0.5455 - recall_32: 0.5455 - val_loss: 0.7105 - val_accuracy: 0.1111 - val_precision_32: 0.1111 - val_recall_32: 0.1111\b\b\b\b\b\b\b\b\b\b\b\b\b\b\b\b\b\b\b\b\b\b\b\b\b\n",
      "Epoch 5/20\n",
      "1/1 [==============================] - 0s 98ms/step - loss: 0.6915 - accuracy: 0.5455 - precision_32: 0.5455 - recall_32: 0.5455 - val_loss: 0.7150 - val_accuracy: 0.1111 - val_precision_32: 0.1111 - val_recall_32: 0.1111\b\b\b\b\b\b\b\b\b\b\b\b\b\b\b\b\b\b\b\b\b\b\b\b\b\n",
      "Epoch 6/20\n",
      "1/1 [==============================] - 0s 103ms/step - loss: 0.6902 - accuracy: 0.5455 - precision_32: 0.5455 - recall_32: 0.5455 - val_loss: 0.7197 - val_accuracy: 0.1111 - val_precision_32: 0.1111 - val_recall_32: 0.1111\b\b\b\b\b\b\b\b\b\b\b\b\b\b\b\b\b\b\b\b\b\b\b\b\n",
      "1/1 [==============================] - 0s 395ms/step - loss: 0.6983 - accuracy: 0.1111 - precision_32: 0.1111 - recall_32: 0.1111\b\b\b\b\b\b\b\b\b\b\b\b\b\b\b\b\b\b\b\b\b\b\b\b\b\b\b\b\b\b\b\b\b\b\b\b\b\b\b\b\b\b\b\b\b\b\b\b\b\b\b\b\b\b\b\b\b\b\b\b\b\b\b\b\b\b\b\b\b\b\b\b\b\b\b\b\b\b\b\b\b\b\b\b\b\b\b\b\b\b\b\b\b\b\b\b\b\b\b\b\b\b\b\b\b\b\b\b\b\b\b\b\b\b\b\b\b\n",
      "DONE building model 12\n",
      "Model: \"model_33\"\n",
      "_________________________________________________________________\n",
      " Layer (type)                Output Shape              Param #   \n",
      "=================================================================\n",
      " data_input (InputLayer)     [(None, 2000, 35)]        0         \n",
      "                                                                 \n",
      " conv1 (Conv1D)              (None, 2000, 13)          468       \n",
      "                                                                 \n",
      " lambda_33 (Lambda)          (None, 13)                0         \n",
      "                                                                 \n",
      " dropout_33 (Dropout)        (None, 13)                0         \n",
      "                                                                 \n",
      " phenotype_pred (Dense)      (None, 2)                 28        \n",
      "                                                                 \n",
      "=================================================================\n",
      "Total params: 496\n",
      "Trainable params: 496\n",
      "Non-trainable params: 0\n",
      "_________________________________________________________________\n",
      "None\n",
      "Epoch 1/20\n"
     ]
    },
    {
     "name": "stderr",
     "output_type": "stream",
     "text": [
      "2022-04-06 16:26:57.877526: I tensorflow/core/profiler/lib/profiler_session.cc:110] Profiler session initializing.\n",
      "2022-04-06 16:26:57.877551: I tensorflow/core/profiler/lib/profiler_session.cc:125] Profiler session started.\n",
      "2022-04-06 16:26:57.878375: I tensorflow/core/profiler/lib/profiler_session.cc:143] Profiler session tear down.\n"
     ]
    },
    {
     "name": "stdout",
     "output_type": "stream",
     "text": [
      "1/1 [==============================] - 2s 2s/step - loss: 0.6934 - accuracy: 0.4545 - precision_33: 0.4545 - recall_33: 0.4545 - val_loss: 0.7010 - val_accuracy: 0.1111 - val_precision_33: 0.1111 - val_recall_33: 0.1111\b\b\b\b\b\b\b\b\b\b\b\b\b\b\b\b\b\b\b\b\b\b\b\b\b\b\b\n",
      "Epoch 2/20\n"
     ]
    },
    {
     "name": "stderr",
     "output_type": "stream",
     "text": [
      "2022-04-06 16:27:00.312127: I tensorflow/core/profiler/lib/profiler_session.cc:110] Profiler session initializing.\n",
      "2022-04-06 16:27:00.312152: I tensorflow/core/profiler/lib/profiler_session.cc:125] Profiler session started.\n"
     ]
    },
    {
     "name": "stdout",
     "output_type": "stream",
     "text": [
      "1/1 [==============================] - 0s 271ms/step - loss: 0.6927 - accuracy: 0.5455 - precision_33: 0.5455 - recall_33: 0.5455 - val_loss: 0.7103 - val_accuracy: 0.1111 - val_precision_33: 0.1111 - val_recall_33: 0.1111\b\b\b\b\b\b\b\b\b\b\b\b\b\b\b\b\b\b\b\b\b\b\b\b\n",
      "Epoch 3/20\n",
      "1/1 [==============================] - 0s 117ms/step - loss: 0.6913 - accuracy: 0.5455 - precision_33: 0.5455 - recall_33: 0.5455 - val_loss: 0.7210 - val_accuracy: 0.1111 - val_precision_33: 0.1111 - val_recall_33: 0.1111\b\b\b\b\b\b\b\b\b\b\b\b\b\b\b\b\b\b\b\b\b\b\b\b\n",
      "Epoch 4/20\n"
     ]
    },
    {
     "name": "stderr",
     "output_type": "stream",
     "text": [
      "2022-04-06 16:27:00.542392: I tensorflow/core/profiler/lib/profiler_session.cc:67] Profiler session collecting data.\n",
      "2022-04-06 16:27:00.543856: I tensorflow/core/profiler/lib/profiler_session.cc:143] Profiler session tear down.\n",
      "2022-04-06 16:27:00.545612: I tensorflow/core/profiler/rpc/client/save_profile.cc:136] Creating directory: filter_cv_stl/mtl_class_c8_13_filters/stats/tensorboard/model_33_1649255217.8773491/train/plugins/profile/2022_04_06_16_27_00\n",
      "\n",
      "2022-04-06 16:27:00.547420: I tensorflow/core/profiler/rpc/client/save_profile.cc:142] Dumped gzipped tool data for trace.json.gz to filter_cv_stl/mtl_class_c8_13_filters/stats/tensorboard/model_33_1649255217.8773491/train/plugins/profile/2022_04_06_16_27_00/Eliass-MacBook-Pro.local.trace.json.gz\n",
      "2022-04-06 16:27:00.549544: I tensorflow/core/profiler/rpc/client/save_profile.cc:136] Creating directory: filter_cv_stl/mtl_class_c8_13_filters/stats/tensorboard/model_33_1649255217.8773491/train/plugins/profile/2022_04_06_16_27_00\n",
      "\n",
      "2022-04-06 16:27:00.549852: I tensorflow/core/profiler/rpc/client/save_profile.cc:142] Dumped gzipped tool data for memory_profile.json.gz to filter_cv_stl/mtl_class_c8_13_filters/stats/tensorboard/model_33_1649255217.8773491/train/plugins/profile/2022_04_06_16_27_00/Eliass-MacBook-Pro.local.memory_profile.json.gz\n",
      "2022-04-06 16:27:00.551223: I tensorflow/core/profiler/rpc/client/capture_profile.cc:251] Creating directory: filter_cv_stl/mtl_class_c8_13_filters/stats/tensorboard/model_33_1649255217.8773491/train/plugins/profile/2022_04_06_16_27_00\n",
      "Dumped tool data for xplane.pb to filter_cv_stl/mtl_class_c8_13_filters/stats/tensorboard/model_33_1649255217.8773491/train/plugins/profile/2022_04_06_16_27_00/Eliass-MacBook-Pro.local.xplane.pb\n",
      "Dumped tool data for overview_page.pb to filter_cv_stl/mtl_class_c8_13_filters/stats/tensorboard/model_33_1649255217.8773491/train/plugins/profile/2022_04_06_16_27_00/Eliass-MacBook-Pro.local.overview_page.pb\n",
      "Dumped tool data for input_pipeline.pb to filter_cv_stl/mtl_class_c8_13_filters/stats/tensorboard/model_33_1649255217.8773491/train/plugins/profile/2022_04_06_16_27_00/Eliass-MacBook-Pro.local.input_pipeline.pb\n",
      "Dumped tool data for tensorflow_stats.pb to filter_cv_stl/mtl_class_c8_13_filters/stats/tensorboard/model_33_1649255217.8773491/train/plugins/profile/2022_04_06_16_27_00/Eliass-MacBook-Pro.local.tensorflow_stats.pb\n",
      "Dumped tool data for kernel_stats.pb to filter_cv_stl/mtl_class_c8_13_filters/stats/tensorboard/model_33_1649255217.8773491/train/plugins/profile/2022_04_06_16_27_00/Eliass-MacBook-Pro.local.kernel_stats.pb\n",
      "\n"
     ]
    },
    {
     "name": "stdout",
     "output_type": "stream",
     "text": [
      "1/1 [==============================] - 0s 99ms/step - loss: 0.6904 - accuracy: 0.5455 - precision_33: 0.5455 - recall_33: 0.5455 - val_loss: 0.7318 - val_accuracy: 0.1111 - val_precision_33: 0.1111 - val_recall_33: 0.1111\b\b\b\b\b\b\b\b\b\b\b\b\b\b\b\b\b\b\b\b\b\b\b\b\b\n",
      "Epoch 5/20\n",
      "1/1 [==============================] - 0s 113ms/step - loss: 0.6884 - accuracy: 0.5455 - precision_33: 0.5455 - recall_33: 0.5455 - val_loss: 0.7426 - val_accuracy: 0.1111 - val_precision_33: 0.1111 - val_recall_33: 0.1111\b\b\b\b\b\b\b\b\b\b\b\b\b\b\b\b\b\b\b\b\b\b\b\b\n",
      "Epoch 6/20\n",
      "1/1 [==============================] - 0s 91ms/step - loss: 0.6900 - accuracy: 0.5455 - precision_33: 0.5455 - recall_33: 0.5455 - val_loss: 0.7526 - val_accuracy: 0.1111 - val_precision_33: 0.1111 - val_recall_33: 0.1111\b\b\b\b\b\b\b\b\b\b\b\b\b\b\b\b\b\b\b\b\b\b\b\b\b\n",
      "1/1 [==============================] - 1s 1s/step - loss: 0.7010 - accuracy: 0.1111 - precision_33: 0.1111 - recall_33: 0.1111\b\b\b\b\b\b\b\b\b\b\b\b\b\b\b\b\b\b\b\b\b\b\b\b\b\b\b\b\b\b\b\b\b\b\b\b\b\b\b\b\b\b\b\b\b\b\b\b\b\b\b\b\b\b\b\b\b\b\b\b\b\b\b\b\b\b\b\b\b\b\b\b\b\b\b\b\b\b\b\b\b\b\b\b\b\b\b\b\b\b\b\b\b\b\b\b\b\b\b\b\b\b\b\b\b\b\b\b\b\b\b\b\b\b\b\b\b\b\b\b\n",
      "Model: \"model_34\"\n",
      "_________________________________________________________________\n",
      " Layer (type)                Output Shape              Param #   \n",
      "=================================================================\n",
      " data_input (InputLayer)     [(None, 2000, 35)]        0         \n",
      "                                                                 \n",
      " conv1 (Conv1D)              (None, 2000, 13)          468       \n",
      "                                                                 \n",
      " lambda_34 (Lambda)          (None, 13)                0         \n",
      "                                                                 \n",
      " dropout_34 (Dropout)        (None, 13)                0         \n",
      "                                                                 \n",
      " phenotype_pred (Dense)      (None, 2)                 28        \n",
      "                                                                 \n",
      "=================================================================\n",
      "Total params: 496\n",
      "Trainable params: 496\n",
      "Non-trainable params: 0\n",
      "_________________________________________________________________\n",
      "None\n",
      "Epoch 1/20\n"
     ]
    },
    {
     "name": "stderr",
     "output_type": "stream",
     "text": [
      "2022-04-06 16:27:03.386679: I tensorflow/core/profiler/lib/profiler_session.cc:110] Profiler session initializing.\n",
      "2022-04-06 16:27:03.386772: I tensorflow/core/profiler/lib/profiler_session.cc:125] Profiler session started.\n",
      "2022-04-06 16:27:03.387023: I tensorflow/core/profiler/lib/profiler_session.cc:143] Profiler session tear down.\n"
     ]
    },
    {
     "name": "stdout",
     "output_type": "stream",
     "text": [
      "1/1 [==============================] - 2s 2s/step - loss: 0.6930 - accuracy: 0.5682 - precision_34: 0.5682 - recall_34: 0.5682 - val_loss: 0.6961 - val_accuracy: 0.1111 - val_precision_34: 0.1111 - val_recall_34: 0.1111\b\b\b\b\b\b\b\b\b\b\b\b\b\b\b\b\b\b\b\b\b\b\b\b\b\b\b\n",
      "Epoch 2/20\n",
      "1/1 [==============================] - 0s 195ms/step - loss: 0.6928 - accuracy: 0.5000 - precision_34: 0.5000 - recall_34: 0.5000 - val_loss: 0.6988 - val_accuracy: 0.1111 - val_precision_34: 0.1111 - val_recall_34: 0.1111\b\b\b\b\b\b\b\b\b\b\b\b\b\b\b\b\b\b\b\b\b\b\b\b\n",
      "Epoch 3/20\n"
     ]
    },
    {
     "name": "stderr",
     "output_type": "stream",
     "text": [
      "2022-04-06 16:27:05.541904: I tensorflow/core/profiler/lib/profiler_session.cc:110] Profiler session initializing.\n",
      "2022-04-06 16:27:05.541922: I tensorflow/core/profiler/lib/profiler_session.cc:125] Profiler session started.\n",
      "2022-04-06 16:27:05.694958: I tensorflow/core/profiler/lib/profiler_session.cc:67] Profiler session collecting data.\n",
      "2022-04-06 16:27:05.696349: I tensorflow/core/profiler/lib/profiler_session.cc:143] Profiler session tear down.\n",
      "2022-04-06 16:27:05.698281: I tensorflow/core/profiler/rpc/client/save_profile.cc:136] Creating directory: filter_cv_stl/mtl_class_c8_13_filters/stats/tensorboard/model_34_1649255223.386404/train/plugins/profile/2022_04_06_16_27_05\n",
      "\n",
      "2022-04-06 16:27:05.699886: I tensorflow/core/profiler/rpc/client/save_profile.cc:142] Dumped gzipped tool data for trace.json.gz to filter_cv_stl/mtl_class_c8_13_filters/stats/tensorboard/model_34_1649255223.386404/train/plugins/profile/2022_04_06_16_27_05/Eliass-MacBook-Pro.local.trace.json.gz\n",
      "2022-04-06 16:27:05.701901: I tensorflow/core/profiler/rpc/client/save_profile.cc:136] Creating directory: filter_cv_stl/mtl_class_c8_13_filters/stats/tensorboard/model_34_1649255223.386404/train/plugins/profile/2022_04_06_16_27_05\n",
      "\n",
      "2022-04-06 16:27:05.702159: I tensorflow/core/profiler/rpc/client/save_profile.cc:142] Dumped gzipped tool data for memory_profile.json.gz to filter_cv_stl/mtl_class_c8_13_filters/stats/tensorboard/model_34_1649255223.386404/train/plugins/profile/2022_04_06_16_27_05/Eliass-MacBook-Pro.local.memory_profile.json.gz\n",
      "2022-04-06 16:27:05.703469: I tensorflow/core/profiler/rpc/client/capture_profile.cc:251] Creating directory: filter_cv_stl/mtl_class_c8_13_filters/stats/tensorboard/model_34_1649255223.386404/train/plugins/profile/2022_04_06_16_27_05\n",
      "Dumped tool data for xplane.pb to filter_cv_stl/mtl_class_c8_13_filters/stats/tensorboard/model_34_1649255223.386404/train/plugins/profile/2022_04_06_16_27_05/Eliass-MacBook-Pro.local.xplane.pb\n",
      "Dumped tool data for overview_page.pb to filter_cv_stl/mtl_class_c8_13_filters/stats/tensorboard/model_34_1649255223.386404/train/plugins/profile/2022_04_06_16_27_05/Eliass-MacBook-Pro.local.overview_page.pb\n",
      "Dumped tool data for input_pipeline.pb to filter_cv_stl/mtl_class_c8_13_filters/stats/tensorboard/model_34_1649255223.386404/train/plugins/profile/2022_04_06_16_27_05/Eliass-MacBook-Pro.local.input_pipeline.pb\n",
      "Dumped tool data for tensorflow_stats.pb to filter_cv_stl/mtl_class_c8_13_filters/stats/tensorboard/model_34_1649255223.386404/train/plugins/profile/2022_04_06_16_27_05/Eliass-MacBook-Pro.local.tensorflow_stats.pb\n",
      "Dumped tool data for kernel_stats.pb to filter_cv_stl/mtl_class_c8_13_filters/stats/tensorboard/model_34_1649255223.386404/train/plugins/profile/2022_04_06_16_27_05/Eliass-MacBook-Pro.local.kernel_stats.pb\n",
      "\n"
     ]
    },
    {
     "name": "stdout",
     "output_type": "stream",
     "text": [
      "1/1 [==============================] - 0s 111ms/step - loss: 0.6928 - accuracy: 0.5455 - precision_34: 0.5455 - recall_34: 0.5455 - val_loss: 0.7018 - val_accuracy: 0.1111 - val_precision_34: 0.1111 - val_recall_34: 0.1111\b\b\b\b\b\b\b\b\b\b\b\b\b\b\b\b\b\b\b\b\b\b\b\b\n",
      "Epoch 4/20\n",
      "1/1 [==============================] - 0s 101ms/step - loss: 0.6921 - accuracy: 0.5455 - precision_34: 0.5455 - recall_34: 0.5455 - val_loss: 0.7045 - val_accuracy: 0.1111 - val_precision_34: 0.1111 - val_recall_34: 0.1111\b\b\b\b\b\b\b\b\b\b\b\b\b\b\b\b\b\b\b\b\b\b\b\b\n",
      "Epoch 5/20\n",
      "1/1 [==============================] - 0s 103ms/step - loss: 0.6919 - accuracy: 0.5455 - precision_34: 0.5455 - recall_34: 0.5455 - val_loss: 0.7078 - val_accuracy: 0.1111 - val_precision_34: 0.1111 - val_recall_34: 0.1111\b\b\b\b\b\b\b\b\b\b\b\b\b\b\b\b\b\b\b\b\b\b\b\b\n",
      "Epoch 6/20\n",
      "1/1 [==============================] - 0s 101ms/step - loss: 0.6910 - accuracy: 0.5455 - precision_34: 0.5455 - recall_34: 0.5455 - val_loss: 0.7110 - val_accuracy: 0.1111 - val_precision_34: 0.1111 - val_recall_34: 0.1111\b\b\b\b\b\b\b\b\b\b\b\b\b\b\b\b\b\b\b\b\b\b\b\b\n",
      "1/1 [==============================] - 0s 361ms/step - loss: 0.6961 - accuracy: 0.1111 - precision_34: 0.1111 - recall_34: 0.1111\b\b\b\b\b\b\b\b\b\b\b\b\b\b\b\b\b\b\b\b\b\b\b\b\b\b\b\b\b\b\b\b\b\b\b\b\b\b\b\b\b\b\b\b\b\b\b\b\b\b\b\b\b\b\b\b\b\b\b\b\b\b\b\b\b\b\b\b\b\b\b\b\b\b\b\b\b\b\b\b\b\b\b\b\b\b\b\b\b\b\b\b\b\b\b\b\b\b\b\b\b\b\b\b\b\b\b\b\b\b\b\b\b\b\b\b\b\n",
      "Model: \"model_35\"\n",
      "_________________________________________________________________\n",
      " Layer (type)                Output Shape              Param #   \n",
      "=================================================================\n",
      " data_input (InputLayer)     [(None, 2000, 35)]        0         \n",
      "                                                                 \n",
      " conv1 (Conv1D)              (None, 2000, 13)          468       \n",
      "                                                                 \n",
      " lambda_35 (Lambda)          (None, 13)                0         \n",
      "                                                                 \n",
      " dropout_35 (Dropout)        (None, 13)                0         \n",
      "                                                                 \n",
      " phenotype_pred (Dense)      (None, 2)                 28        \n",
      "                                                                 \n",
      "=================================================================\n",
      "Total params: 496\n",
      "Trainable params: 496\n",
      "Non-trainable params: 0\n",
      "_________________________________________________________________\n",
      "None\n",
      "Epoch 1/20\n"
     ]
    },
    {
     "name": "stderr",
     "output_type": "stream",
     "text": [
      "2022-04-06 16:27:07.315042: I tensorflow/core/profiler/lib/profiler_session.cc:110] Profiler session initializing.\n",
      "2022-04-06 16:27:07.315069: I tensorflow/core/profiler/lib/profiler_session.cc:125] Profiler session started.\n",
      "2022-04-06 16:27:07.315306: I tensorflow/core/profiler/lib/profiler_session.cc:143] Profiler session tear down.\n"
     ]
    },
    {
     "name": "stdout",
     "output_type": "stream",
     "text": [
      "1/1 [==============================] - 1s 1s/step - loss: 0.6930 - accuracy: 0.6364 - precision_35: 0.6364 - recall_35: 0.6364 - val_loss: 0.6954 - val_accuracy: 0.1111 - val_precision_35: 0.1111 - val_recall_35: 0.1111\b\b\b\b\b\b\b\b\b\b\b\b\b\b\b\b\b\b\b\b\b\b\b\b\b\b\b\n",
      "Epoch 2/20\n",
      "1/1 [==============================] - ETA: 0s - loss: 0.6927 - accuracy: 0.5455 - precision_35: 0.5455 - recall_35: 0.5455"
     ]
    },
    {
     "name": "stderr",
     "output_type": "stream",
     "text": [
      "2022-04-06 16:27:08.749394: I tensorflow/core/profiler/lib/profiler_session.cc:110] Profiler session initializing.\n",
      "2022-04-06 16:27:08.749418: I tensorflow/core/profiler/lib/profiler_session.cc:125] Profiler session started.\n",
      "2022-04-06 16:27:08.910775: I tensorflow/core/profiler/lib/profiler_session.cc:67] Profiler session collecting data.\n",
      "2022-04-06 16:27:08.912181: I tensorflow/core/profiler/lib/profiler_session.cc:143] Profiler session tear down.\n",
      "2022-04-06 16:27:08.914392: I tensorflow/core/profiler/rpc/client/save_profile.cc:136] Creating directory: filter_cv_stl/mtl_class_c8_13_filters/stats/tensorboard/model_35_1649255227.314828/train/plugins/profile/2022_04_06_16_27_08\n",
      "\n",
      "2022-04-06 16:27:08.916287: I tensorflow/core/profiler/rpc/client/save_profile.cc:142] Dumped gzipped tool data for trace.json.gz to filter_cv_stl/mtl_class_c8_13_filters/stats/tensorboard/model_35_1649255227.314828/train/plugins/profile/2022_04_06_16_27_08/Eliass-MacBook-Pro.local.trace.json.gz\n",
      "2022-04-06 16:27:08.919227: I tensorflow/core/profiler/rpc/client/save_profile.cc:136] Creating directory: filter_cv_stl/mtl_class_c8_13_filters/stats/tensorboard/model_35_1649255227.314828/train/plugins/profile/2022_04_06_16_27_08\n",
      "\n",
      "2022-04-06 16:27:08.919559: I tensorflow/core/profiler/rpc/client/save_profile.cc:142] Dumped gzipped tool data for memory_profile.json.gz to filter_cv_stl/mtl_class_c8_13_filters/stats/tensorboard/model_35_1649255227.314828/train/plugins/profile/2022_04_06_16_27_08/Eliass-MacBook-Pro.local.memory_profile.json.gz\n",
      "2022-04-06 16:27:08.921371: I tensorflow/core/profiler/rpc/client/capture_profile.cc:251] Creating directory: filter_cv_stl/mtl_class_c8_13_filters/stats/tensorboard/model_35_1649255227.314828/train/plugins/profile/2022_04_06_16_27_08\n",
      "Dumped tool data for xplane.pb to filter_cv_stl/mtl_class_c8_13_filters/stats/tensorboard/model_35_1649255227.314828/train/plugins/profile/2022_04_06_16_27_08/Eliass-MacBook-Pro.local.xplane.pb\n",
      "Dumped tool data for overview_page.pb to filter_cv_stl/mtl_class_c8_13_filters/stats/tensorboard/model_35_1649255227.314828/train/plugins/profile/2022_04_06_16_27_08/Eliass-MacBook-Pro.local.overview_page.pb\n",
      "Dumped tool data for input_pipeline.pb to filter_cv_stl/mtl_class_c8_13_filters/stats/tensorboard/model_35_1649255227.314828/train/plugins/profile/2022_04_06_16_27_08/Eliass-MacBook-Pro.local.input_pipeline.pb\n",
      "Dumped tool data for tensorflow_stats.pb to filter_cv_stl/mtl_class_c8_13_filters/stats/tensorboard/model_35_1649255227.314828/train/plugins/profile/2022_04_06_16_27_08/Eliass-MacBook-Pro.local.tensorflow_stats.pb\n",
      "Dumped tool data for kernel_stats.pb to filter_cv_stl/mtl_class_c8_13_filters/stats/tensorboard/model_35_1649255227.314828/train/plugins/profile/2022_04_06_16_27_08/Eliass-MacBook-Pro.local.kernel_stats.pb\n",
      "\n"
     ]
    },
    {
     "name": "stdout",
     "output_type": "stream",
     "text": [
      "1/1 [==============================] - 0s 210ms/step - loss: 0.6927 - accuracy: 0.5455 - precision_35: 0.5455 - recall_35: 0.5455 - val_loss: 0.6974 - val_accuracy: 0.1111 - val_precision_35: 0.1111 - val_recall_35: 0.1111\n",
      "Epoch 3/20\n",
      "1/1 [==============================] - 0s 111ms/step - loss: 0.6928 - accuracy: 0.5455 - precision_35: 0.5455 - recall_35: 0.5455 - val_loss: 0.6994 - val_accuracy: 0.1111 - val_precision_35: 0.1111 - val_recall_35: 0.1111\b\b\b\b\b\b\b\b\b\b\b\b\b\b\b\b\b\b\b\b\b\b\b\b\n",
      "Epoch 4/20\n",
      "1/1 [==============================] - 0s 113ms/step - loss: 0.6925 - accuracy: 0.5455 - precision_35: 0.5455 - recall_35: 0.5455 - val_loss: 0.7013 - val_accuracy: 0.1111 - val_precision_35: 0.1111 - val_recall_35: 0.1111\b\b\b\b\b\b\b\b\b\b\b\b\b\b\b\b\b\b\b\b\b\b\b\b\n",
      "Epoch 5/20\n",
      "1/1 [==============================] - 0s 106ms/step - loss: 0.6922 - accuracy: 0.5455 - precision_35: 0.5455 - recall_35: 0.5455 - val_loss: 0.7032 - val_accuracy: 0.1111 - val_precision_35: 0.1111 - val_recall_35: 0.1111\b\b\b\b\b\b\b\b\b\b\b\b\b\b\b\b\b\b\b\b\b\b\b\b\n",
      "Epoch 6/20\n",
      "1/1 [==============================] - 0s 121ms/step - loss: 0.6923 - accuracy: 0.5455 - precision_35: 0.5455 - recall_35: 0.5455 - val_loss: 0.7050 - val_accuracy: 0.1111 - val_precision_35: 0.1111 - val_recall_35: 0.1111\b\b\b\b\b\b\b\b\b\b\b\b\b\b\b\b\b\b\b\b\b\b\b\b\n",
      "1/1 [==============================] - 0s 332ms/step - loss: 0.6954 - accuracy: 0.1111 - precision_35: 0.1111 - recall_35: 0.1111\b\b\b\b\b\b\b\b\b\b\b\b\b\b\b\b\b\b\b\b\b\b\b\b\b\b\b\b\b\b\b\b\b\b\b\b\b\b\b\b\b\b\b\b\b\b\b\b\b\b\b\b\b\b\b\b\b\b\b\b\b\b\b\b\b\b\b\b\b\b\b\b\b\b\b\b\b\b\b\b\b\b\b\b\b\b\b\b\b\b\b\b\b\b\b\b\b\b\b\b\b\b\b\b\b\b\b\b\b\b\b\b\b\b\b\b\b\n",
      "DONE building model 13\n",
      "Model: \"model_36\"\n",
      "_________________________________________________________________\n",
      " Layer (type)                Output Shape              Param #   \n",
      "=================================================================\n",
      " data_input (InputLayer)     [(None, 2000, 35)]        0         \n",
      "                                                                 \n",
      " conv1 (Conv1D)              (None, 2000, 14)          504       \n",
      "                                                                 \n",
      " lambda_36 (Lambda)          (None, 14)                0         \n",
      "                                                                 \n",
      " dropout_36 (Dropout)        (None, 14)                0         \n",
      "                                                                 \n",
      " phenotype_pred (Dense)      (None, 2)                 30        \n",
      "                                                                 \n",
      "=================================================================\n",
      "Total params: 534\n",
      "Trainable params: 534\n",
      "Non-trainable params: 0\n",
      "_________________________________________________________________\n",
      "None\n",
      "Epoch 1/20\n"
     ]
    },
    {
     "name": "stderr",
     "output_type": "stream",
     "text": [
      "2022-04-06 16:27:10.578448: I tensorflow/core/profiler/lib/profiler_session.cc:110] Profiler session initializing.\n",
      "2022-04-06 16:27:10.578475: I tensorflow/core/profiler/lib/profiler_session.cc:125] Profiler session started.\n",
      "2022-04-06 16:27:10.579469: I tensorflow/core/profiler/lib/profiler_session.cc:143] Profiler session tear down.\n"
     ]
    },
    {
     "name": "stdout",
     "output_type": "stream",
     "text": [
      "1/1 [==============================] - 2s 2s/step - loss: 0.6931 - accuracy: 0.5682 - precision_36: 0.5682 - recall_36: 0.5682 - val_loss: 0.6958 - val_accuracy: 0.1111 - val_precision_36: 0.1111 - val_recall_36: 0.1111\b\b\b\b\b\b\b\b\b\b\b\b\b\b\b\b\b\b\b\b\b\b\b\b\b\b\b\n",
      "Epoch 2/20\n",
      "1/1 [==============================] - ETA: 0s - loss: 0.6928 - accuracy: 0.5682 - precision_36: 0.5682 - recall_36: 0.5682"
     ]
    },
    {
     "name": "stderr",
     "output_type": "stream",
     "text": [
      "2022-04-06 16:27:12.656058: I tensorflow/core/profiler/lib/profiler_session.cc:110] Profiler session initializing.\n",
      "2022-04-06 16:27:12.656077: I tensorflow/core/profiler/lib/profiler_session.cc:125] Profiler session started.\n",
      "2022-04-06 16:27:12.821457: I tensorflow/core/profiler/lib/profiler_session.cc:67] Profiler session collecting data.\n",
      "2022-04-06 16:27:12.822767: I tensorflow/core/profiler/lib/profiler_session.cc:143] Profiler session tear down.\n",
      "2022-04-06 16:27:12.825317: I tensorflow/core/profiler/rpc/client/save_profile.cc:136] Creating directory: filter_cv_stl/mtl_class_c8_14_filters/stats/tensorboard/model_36_1649255230.5782862/train/plugins/profile/2022_04_06_16_27_12\n",
      "\n",
      "2022-04-06 16:27:12.826937: I tensorflow/core/profiler/rpc/client/save_profile.cc:142] Dumped gzipped tool data for trace.json.gz to filter_cv_stl/mtl_class_c8_14_filters/stats/tensorboard/model_36_1649255230.5782862/train/plugins/profile/2022_04_06_16_27_12/Eliass-MacBook-Pro.local.trace.json.gz\n",
      "2022-04-06 16:27:12.829113: I tensorflow/core/profiler/rpc/client/save_profile.cc:136] Creating directory: filter_cv_stl/mtl_class_c8_14_filters/stats/tensorboard/model_36_1649255230.5782862/train/plugins/profile/2022_04_06_16_27_12\n",
      "\n",
      "2022-04-06 16:27:12.829475: I tensorflow/core/profiler/rpc/client/save_profile.cc:142] Dumped gzipped tool data for memory_profile.json.gz to filter_cv_stl/mtl_class_c8_14_filters/stats/tensorboard/model_36_1649255230.5782862/train/plugins/profile/2022_04_06_16_27_12/Eliass-MacBook-Pro.local.memory_profile.json.gz\n",
      "2022-04-06 16:27:12.830667: I tensorflow/core/profiler/rpc/client/capture_profile.cc:251] Creating directory: filter_cv_stl/mtl_class_c8_14_filters/stats/tensorboard/model_36_1649255230.5782862/train/plugins/profile/2022_04_06_16_27_12\n",
      "Dumped tool data for xplane.pb to filter_cv_stl/mtl_class_c8_14_filters/stats/tensorboard/model_36_1649255230.5782862/train/plugins/profile/2022_04_06_16_27_12/Eliass-MacBook-Pro.local.xplane.pb\n",
      "Dumped tool data for overview_page.pb to filter_cv_stl/mtl_class_c8_14_filters/stats/tensorboard/model_36_1649255230.5782862/train/plugins/profile/2022_04_06_16_27_12/Eliass-MacBook-Pro.local.overview_page.pb\n",
      "Dumped tool data for input_pipeline.pb to filter_cv_stl/mtl_class_c8_14_filters/stats/tensorboard/model_36_1649255230.5782862/train/plugins/profile/2022_04_06_16_27_12/Eliass-MacBook-Pro.local.input_pipeline.pb\n",
      "Dumped tool data for tensorflow_stats.pb to filter_cv_stl/mtl_class_c8_14_filters/stats/tensorboard/model_36_1649255230.5782862/train/plugins/profile/2022_04_06_16_27_12/Eliass-MacBook-Pro.local.tensorflow_stats.pb\n",
      "Dumped tool data for kernel_stats.pb to filter_cv_stl/mtl_class_c8_14_filters/stats/tensorboard/model_36_1649255230.5782862/train/plugins/profile/2022_04_06_16_27_12/Eliass-MacBook-Pro.local.kernel_stats.pb\n",
      "\n"
     ]
    },
    {
     "name": "stdout",
     "output_type": "stream",
     "text": [
      "1/1 [==============================] - 0s 215ms/step - loss: 0.6928 - accuracy: 0.5682 - precision_36: 0.5682 - recall_36: 0.5682 - val_loss: 0.6971 - val_accuracy: 0.1111 - val_precision_36: 0.1111 - val_recall_36: 0.1111\n",
      "Epoch 3/20\n",
      "1/1 [==============================] - 0s 125ms/step - loss: 0.6931 - accuracy: 0.5455 - precision_36: 0.5455 - recall_36: 0.5455 - val_loss: 0.6983 - val_accuracy: 0.1111 - val_precision_36: 0.1111 - val_recall_36: 0.1111\b\b\b\b\b\b\b\b\b\b\b\b\b\b\b\b\b\b\b\b\b\b\b\b\n",
      "Epoch 4/20\n",
      "1/1 [==============================] - 0s 126ms/step - loss: 0.6923 - accuracy: 0.5455 - precision_36: 0.5455 - recall_36: 0.5455 - val_loss: 0.6995 - val_accuracy: 0.1111 - val_precision_36: 0.1111 - val_recall_36: 0.1111\b\b\b\b\b\b\b\b\b\b\b\b\b\b\b\b\b\b\b\b\b\b\b\b\n",
      "Epoch 5/20\n",
      "1/1 [==============================] - 0s 115ms/step - loss: 0.6924 - accuracy: 0.5455 - precision_36: 0.5455 - recall_36: 0.5455 - val_loss: 0.7008 - val_accuracy: 0.1111 - val_precision_36: 0.1111 - val_recall_36: 0.1111\b\b\b\b\b\b\b\b\b\b\b\b\b\b\b\b\b\b\b\b\b\b\b\b\n",
      "Epoch 6/20\n",
      "1/1 [==============================] - 0s 148ms/step - loss: 0.6923 - accuracy: 0.5455 - precision_36: 0.5455 - recall_36: 0.5455 - val_loss: 0.7021 - val_accuracy: 0.1111 - val_precision_36: 0.1111 - val_recall_36: 0.1111\b\b\b\b\b\b\b\b\b\b\b\b\b\b\b\b\b\b\b\b\b\b\b\b\n",
      "1/1 [==============================] - 0s 378ms/step - loss: 0.6958 - accuracy: 0.1111 - precision_36: 0.1111 - recall_36: 0.1111\b\b\b\b\b\b\b\b\b\b\b\b\b\b\b\b\b\b\b\b\b\b\b\b\b\b\b\b\b\b\b\b\b\b\b\b\b\b\b\b\b\b\b\b\b\b\b\b\b\b\b\b\b\b\b\b\b\b\b\b\b\b\b\b\b\b\b\b\b\b\b\b\b\b\b\b\b\b\b\b\b\b\b\b\b\b\b\b\b\b\b\b\b\b\b\b\b\b\b\b\b\b\b\b\b\b\b\b\b\b\b\b\b\b\b\b\b\n",
      "Model: \"model_37\"\n",
      "_________________________________________________________________\n",
      " Layer (type)                Output Shape              Param #   \n",
      "=================================================================\n",
      " data_input (InputLayer)     [(None, 2000, 35)]        0         \n",
      "                                                                 \n",
      " conv1 (Conv1D)              (None, 2000, 14)          504       \n",
      "                                                                 \n",
      " lambda_37 (Lambda)          (None, 14)                0         \n",
      "                                                                 \n",
      " dropout_37 (Dropout)        (None, 14)                0         \n",
      "                                                                 \n",
      " phenotype_pred (Dense)      (None, 2)                 30        \n",
      "                                                                 \n",
      "=================================================================\n",
      "Total params: 534\n",
      "Trainable params: 534\n",
      "Non-trainable params: 0\n",
      "_________________________________________________________________\n",
      "None\n",
      "Epoch 1/20\n"
     ]
    },
    {
     "name": "stderr",
     "output_type": "stream",
     "text": [
      "2022-04-06 16:27:14.488841: I tensorflow/core/profiler/lib/profiler_session.cc:110] Profiler session initializing.\n",
      "2022-04-06 16:27:14.488861: I tensorflow/core/profiler/lib/profiler_session.cc:125] Profiler session started.\n",
      "2022-04-06 16:27:14.489242: I tensorflow/core/profiler/lib/profiler_session.cc:143] Profiler session tear down.\n"
     ]
    },
    {
     "name": "stdout",
     "output_type": "stream",
     "text": [
      "1/1 [==============================] - 2s 2s/step - loss: 0.6934 - accuracy: 0.4091 - precision_37: 0.4091 - recall_37: 0.4091 - val_loss: 0.6942 - val_accuracy: 0.1111 - val_precision_37: 0.1111 - val_recall_37: 0.1111\b\b\b\b\b\b\b\b\b\b\b\b\b\b\b\b\b\b\b\b\b\b\b\b\b\b\b\n",
      "Epoch 2/20\n",
      "1/1 [==============================] - ETA: 0s - loss: 0.6931 - accuracy: 0.5455 - precision_37: 0.5455 - recall_37: 0.5455"
     ]
    },
    {
     "name": "stderr",
     "output_type": "stream",
     "text": [
      "2022-04-06 16:27:16.315871: I tensorflow/core/profiler/lib/profiler_session.cc:110] Profiler session initializing.\n",
      "2022-04-06 16:27:16.315894: I tensorflow/core/profiler/lib/profiler_session.cc:125] Profiler session started.\n",
      "2022-04-06 16:27:16.495823: I tensorflow/core/profiler/lib/profiler_session.cc:67] Profiler session collecting data.\n",
      "2022-04-06 16:27:16.497083: I tensorflow/core/profiler/lib/profiler_session.cc:143] Profiler session tear down.\n",
      "2022-04-06 16:27:16.498931: I tensorflow/core/profiler/rpc/client/save_profile.cc:136] Creating directory: filter_cv_stl/mtl_class_c8_14_filters/stats/tensorboard/model_37_1649255234.488673/train/plugins/profile/2022_04_06_16_27_16\n",
      "\n",
      "2022-04-06 16:27:16.500461: I tensorflow/core/profiler/rpc/client/save_profile.cc:142] Dumped gzipped tool data for trace.json.gz to filter_cv_stl/mtl_class_c8_14_filters/stats/tensorboard/model_37_1649255234.488673/train/plugins/profile/2022_04_06_16_27_16/Eliass-MacBook-Pro.local.trace.json.gz\n",
      "2022-04-06 16:27:16.502518: I tensorflow/core/profiler/rpc/client/save_profile.cc:136] Creating directory: filter_cv_stl/mtl_class_c8_14_filters/stats/tensorboard/model_37_1649255234.488673/train/plugins/profile/2022_04_06_16_27_16\n",
      "\n",
      "2022-04-06 16:27:16.502767: I tensorflow/core/profiler/rpc/client/save_profile.cc:142] Dumped gzipped tool data for memory_profile.json.gz to filter_cv_stl/mtl_class_c8_14_filters/stats/tensorboard/model_37_1649255234.488673/train/plugins/profile/2022_04_06_16_27_16/Eliass-MacBook-Pro.local.memory_profile.json.gz\n",
      "2022-04-06 16:27:16.504089: I tensorflow/core/profiler/rpc/client/capture_profile.cc:251] Creating directory: filter_cv_stl/mtl_class_c8_14_filters/stats/tensorboard/model_37_1649255234.488673/train/plugins/profile/2022_04_06_16_27_16\n",
      "Dumped tool data for xplane.pb to filter_cv_stl/mtl_class_c8_14_filters/stats/tensorboard/model_37_1649255234.488673/train/plugins/profile/2022_04_06_16_27_16/Eliass-MacBook-Pro.local.xplane.pb\n",
      "Dumped tool data for overview_page.pb to filter_cv_stl/mtl_class_c8_14_filters/stats/tensorboard/model_37_1649255234.488673/train/plugins/profile/2022_04_06_16_27_16/Eliass-MacBook-Pro.local.overview_page.pb\n",
      "Dumped tool data for input_pipeline.pb to filter_cv_stl/mtl_class_c8_14_filters/stats/tensorboard/model_37_1649255234.488673/train/plugins/profile/2022_04_06_16_27_16/Eliass-MacBook-Pro.local.input_pipeline.pb\n",
      "Dumped tool data for tensorflow_stats.pb to filter_cv_stl/mtl_class_c8_14_filters/stats/tensorboard/model_37_1649255234.488673/train/plugins/profile/2022_04_06_16_27_16/Eliass-MacBook-Pro.local.tensorflow_stats.pb\n",
      "Dumped tool data for kernel_stats.pb to filter_cv_stl/mtl_class_c8_14_filters/stats/tensorboard/model_37_1649255234.488673/train/plugins/profile/2022_04_06_16_27_16/Eliass-MacBook-Pro.local.kernel_stats.pb\n",
      "\n"
     ]
    },
    {
     "name": "stdout",
     "output_type": "stream",
     "text": [
      "1/1 [==============================] - 0s 222ms/step - loss: 0.6931 - accuracy: 0.5455 - precision_37: 0.5455 - recall_37: 0.5455 - val_loss: 0.6955 - val_accuracy: 0.1111 - val_precision_37: 0.1111 - val_recall_37: 0.1111\n",
      "Epoch 3/20\n",
      "1/1 [==============================] - 0s 111ms/step - loss: 0.6930 - accuracy: 0.5455 - precision_37: 0.5455 - recall_37: 0.5455 - val_loss: 0.6967 - val_accuracy: 0.1111 - val_precision_37: 0.1111 - val_recall_37: 0.1111\b\b\b\b\b\b\b\b\b\b\b\b\b\b\b\b\b\b\b\b\b\b\b\b\n",
      "Epoch 4/20\n",
      "1/1 [==============================] - 0s 105ms/step - loss: 0.6928 - accuracy: 0.5455 - precision_37: 0.5455 - recall_37: 0.5455 - val_loss: 0.6981 - val_accuracy: 0.1111 - val_precision_37: 0.1111 - val_recall_37: 0.1111\b\b\b\b\b\b\b\b\b\b\b\b\b\b\b\b\b\b\b\b\b\b\b\b\n",
      "Epoch 5/20\n",
      "1/1 [==============================] - 0s 112ms/step - loss: 0.6925 - accuracy: 0.5455 - precision_37: 0.5455 - recall_37: 0.5455 - val_loss: 0.6995 - val_accuracy: 0.1111 - val_precision_37: 0.1111 - val_recall_37: 0.1111\b\b\b\b\b\b\b\b\b\b\b\b\b\b\b\b\b\b\b\b\b\b\b\b\n",
      "Epoch 6/20\n",
      "1/1 [==============================] - 0s 107ms/step - loss: 0.6918 - accuracy: 0.5455 - precision_37: 0.5455 - recall_37: 0.5455 - val_loss: 0.7009 - val_accuracy: 0.1111 - val_precision_37: 0.1111 - val_recall_37: 0.1111\b\b\b\b\b\b\b\b\b\b\b\b\b\b\b\b\b\b\b\b\b\b\b\b\n",
      "1/1 [==============================] - 0s 371ms/step - loss: 0.6942 - accuracy: 0.1111 - precision_37: 0.1111 - recall_37: 0.1111\b\b\b\b\b\b\b\b\b\b\b\b\b\b\b\b\b\b\b\b\b\b\b\b\b\b\b\b\b\b\b\b\b\b\b\b\b\b\b\b\b\b\b\b\b\b\b\b\b\b\b\b\b\b\b\b\b\b\b\b\b\b\b\b\b\b\b\b\b\b\b\b\b\b\b\b\b\b\b\b\b\b\b\b\b\b\b\b\b\b\b\b\b\b\b\b\b\b\b\b\b\b\b\b\b\b\b\b\b\b\b\b\b\b\b\b\b\n",
      "Model: \"model_38\"\n",
      "_________________________________________________________________\n",
      " Layer (type)                Output Shape              Param #   \n",
      "=================================================================\n",
      " data_input (InputLayer)     [(None, 2000, 35)]        0         \n",
      "                                                                 \n",
      " conv1 (Conv1D)              (None, 2000, 14)          504       \n",
      "                                                                 \n",
      " lambda_38 (Lambda)          (None, 14)                0         \n",
      "                                                                 \n",
      " dropout_38 (Dropout)        (None, 14)                0         \n",
      "                                                                 \n",
      " phenotype_pred (Dense)      (None, 2)                 30        \n",
      "                                                                 \n",
      "=================================================================\n",
      "Total params: 534\n",
      "Trainable params: 534\n",
      "Non-trainable params: 0\n",
      "_________________________________________________________________\n",
      "None\n",
      "Epoch 1/20\n"
     ]
    },
    {
     "name": "stderr",
     "output_type": "stream",
     "text": [
      "2022-04-06 16:27:18.616512: I tensorflow/core/profiler/lib/profiler_session.cc:110] Profiler session initializing.\n",
      "2022-04-06 16:27:18.616539: I tensorflow/core/profiler/lib/profiler_session.cc:125] Profiler session started.\n",
      "2022-04-06 16:27:18.616848: I tensorflow/core/profiler/lib/profiler_session.cc:143] Profiler session tear down.\n"
     ]
    },
    {
     "name": "stdout",
     "output_type": "stream",
     "text": [
      "1/1 [==============================] - 1s 1s/step - loss: 0.6931 - accuracy: 0.5455 - precision_38: 0.5455 - recall_38: 0.5455 - val_loss: 0.7009 - val_accuracy: 0.1111 - val_precision_38: 0.1111 - val_recall_38: 0.1111\b\b\b\b\b\b\b\b\b\b\b\b\b\b\b\b\b\b\b\b\b\b\b\b\b\b\b\n",
      "Epoch 2/20\n",
      "1/1 [==============================] - 0s 198ms/step - loss: 0.6925 - accuracy: 0.5455 - precision_38: 0.5455 - recall_38: 0.5455 - val_loss: 0.7063 - val_accuracy: 0.1111 - val_precision_38: 0.1111 - val_recall_38: 0.1111\b\b\b\b\b\b\b\b\b\b\b\b\b\b\b\b\b\b\b\b\b\b\b\b\n",
      "Epoch 3/20\n"
     ]
    },
    {
     "name": "stderr",
     "output_type": "stream",
     "text": [
      "2022-04-06 16:27:20.099480: I tensorflow/core/profiler/lib/profiler_session.cc:110] Profiler session initializing.\n",
      "2022-04-06 16:27:20.099497: I tensorflow/core/profiler/lib/profiler_session.cc:125] Profiler session started.\n",
      "2022-04-06 16:27:20.257808: I tensorflow/core/profiler/lib/profiler_session.cc:67] Profiler session collecting data.\n",
      "2022-04-06 16:27:20.259293: I tensorflow/core/profiler/lib/profiler_session.cc:143] Profiler session tear down.\n",
      "2022-04-06 16:27:20.261259: I tensorflow/core/profiler/rpc/client/save_profile.cc:136] Creating directory: filter_cv_stl/mtl_class_c8_14_filters/stats/tensorboard/model_38_1649255238.616369/train/plugins/profile/2022_04_06_16_27_20\n",
      "\n",
      "2022-04-06 16:27:20.262912: I tensorflow/core/profiler/rpc/client/save_profile.cc:142] Dumped gzipped tool data for trace.json.gz to filter_cv_stl/mtl_class_c8_14_filters/stats/tensorboard/model_38_1649255238.616369/train/plugins/profile/2022_04_06_16_27_20/Eliass-MacBook-Pro.local.trace.json.gz\n",
      "2022-04-06 16:27:20.264993: I tensorflow/core/profiler/rpc/client/save_profile.cc:136] Creating directory: filter_cv_stl/mtl_class_c8_14_filters/stats/tensorboard/model_38_1649255238.616369/train/plugins/profile/2022_04_06_16_27_20\n",
      "\n",
      "2022-04-06 16:27:20.265335: I tensorflow/core/profiler/rpc/client/save_profile.cc:142] Dumped gzipped tool data for memory_profile.json.gz to filter_cv_stl/mtl_class_c8_14_filters/stats/tensorboard/model_38_1649255238.616369/train/plugins/profile/2022_04_06_16_27_20/Eliass-MacBook-Pro.local.memory_profile.json.gz\n",
      "2022-04-06 16:27:20.266556: I tensorflow/core/profiler/rpc/client/capture_profile.cc:251] Creating directory: filter_cv_stl/mtl_class_c8_14_filters/stats/tensorboard/model_38_1649255238.616369/train/plugins/profile/2022_04_06_16_27_20\n",
      "Dumped tool data for xplane.pb to filter_cv_stl/mtl_class_c8_14_filters/stats/tensorboard/model_38_1649255238.616369/train/plugins/profile/2022_04_06_16_27_20/Eliass-MacBook-Pro.local.xplane.pb\n",
      "Dumped tool data for overview_page.pb to filter_cv_stl/mtl_class_c8_14_filters/stats/tensorboard/model_38_1649255238.616369/train/plugins/profile/2022_04_06_16_27_20/Eliass-MacBook-Pro.local.overview_page.pb\n",
      "Dumped tool data for input_pipeline.pb to filter_cv_stl/mtl_class_c8_14_filters/stats/tensorboard/model_38_1649255238.616369/train/plugins/profile/2022_04_06_16_27_20/Eliass-MacBook-Pro.local.input_pipeline.pb\n",
      "Dumped tool data for tensorflow_stats.pb to filter_cv_stl/mtl_class_c8_14_filters/stats/tensorboard/model_38_1649255238.616369/train/plugins/profile/2022_04_06_16_27_20/Eliass-MacBook-Pro.local.tensorflow_stats.pb\n",
      "Dumped tool data for kernel_stats.pb to filter_cv_stl/mtl_class_c8_14_filters/stats/tensorboard/model_38_1649255238.616369/train/plugins/profile/2022_04_06_16_27_20/Eliass-MacBook-Pro.local.kernel_stats.pb\n",
      "\n"
     ]
    },
    {
     "name": "stdout",
     "output_type": "stream",
     "text": [
      "1/1 [==============================] - 0s 112ms/step - loss: 0.6920 - accuracy: 0.5455 - precision_38: 0.5455 - recall_38: 0.5455 - val_loss: 0.7114 - val_accuracy: 0.1111 - val_precision_38: 0.1111 - val_recall_38: 0.1111\b\b\b\b\b\b\b\b\b\b\b\b\b\b\b\b\b\b\b\b\b\b\b\b\n",
      "Epoch 4/20\n",
      "1/1 [==============================] - 0s 99ms/step - loss: 0.6911 - accuracy: 0.5455 - precision_38: 0.5455 - recall_38: 0.5455 - val_loss: 0.7179 - val_accuracy: 0.1111 - val_precision_38: 0.1111 - val_recall_38: 0.1111\b\b\b\b\b\b\b\b\b\b\b\b\b\b\b\b\b\b\b\b\b\b\b\b\b\n",
      "Epoch 5/20\n",
      "1/1 [==============================] - 0s 111ms/step - loss: 0.6914 - accuracy: 0.5455 - precision_38: 0.5455 - recall_38: 0.5455 - val_loss: 0.7244 - val_accuracy: 0.1111 - val_precision_38: 0.1111 - val_recall_38: 0.1111\b\b\b\b\b\b\b\b\b\b\b\b\b\b\b\b\b\b\b\b\b\b\b\b\n",
      "Epoch 6/20\n",
      "1/1 [==============================] - 0s 104ms/step - loss: 0.6906 - accuracy: 0.5455 - precision_38: 0.5455 - recall_38: 0.5455 - val_loss: 0.7311 - val_accuracy: 0.1111 - val_precision_38: 0.1111 - val_recall_38: 0.1111\b\b\b\b\b\b\b\b\b\b\b\b\b\b\b\b\b\b\b\b\b\b\b\b\n",
      "1/1 [==============================] - 0s 344ms/step - loss: 0.7009 - accuracy: 0.1111 - precision_38: 0.1111 - recall_38: 0.1111\b\b\b\b\b\b\b\b\b\b\b\b\b\b\b\b\b\b\b\b\b\b\b\b\b\b\b\b\b\b\b\b\b\b\b\b\b\b\b\b\b\b\b\b\b\b\b\b\b\b\b\b\b\b\b\b\b\b\b\b\b\b\b\b\b\b\b\b\b\b\b\b\b\b\b\b\b\b\b\b\b\b\b\b\b\b\b\b\b\b\b\b\b\b\b\b\b\b\b\b\b\b\b\b\b\b\b\b\b\b\b\b\b\b\b\b\b\n",
      "DONE building model 14\n",
      "Model: \"model_39\"\n",
      "_________________________________________________________________\n",
      " Layer (type)                Output Shape              Param #   \n",
      "=================================================================\n",
      " data_input (InputLayer)     [(None, 2000, 35)]        0         \n",
      "                                                                 \n",
      " conv1 (Conv1D)              (None, 2000, 15)          540       \n",
      "                                                                 \n",
      " lambda_39 (Lambda)          (None, 15)                0         \n",
      "                                                                 \n",
      " dropout_39 (Dropout)        (None, 15)                0         \n",
      "                                                                 \n",
      " phenotype_pred (Dense)      (None, 2)                 32        \n",
      "                                                                 \n",
      "=================================================================\n",
      "Total params: 572\n",
      "Trainable params: 572\n",
      "Non-trainable params: 0\n",
      "_________________________________________________________________\n",
      "None\n",
      "Epoch 1/20\n"
     ]
    },
    {
     "name": "stderr",
     "output_type": "stream",
     "text": [
      "2022-04-06 16:27:21.850618: I tensorflow/core/profiler/lib/profiler_session.cc:110] Profiler session initializing.\n",
      "2022-04-06 16:27:21.850637: I tensorflow/core/profiler/lib/profiler_session.cc:125] Profiler session started.\n",
      "2022-04-06 16:27:21.851298: I tensorflow/core/profiler/lib/profiler_session.cc:143] Profiler session tear down.\n"
     ]
    },
    {
     "name": "stdout",
     "output_type": "stream",
     "text": [
      "1/1 [==============================] - 1s 1s/step - loss: 0.6933 - accuracy: 0.5227 - precision_39: 0.5227 - recall_39: 0.5227 - val_loss: 0.6972 - val_accuracy: 0.1111 - val_precision_39: 0.1111 - val_recall_39: 0.1111\b\b\b\b\b\b\b\b\b\b\b\b\b\b\b\b\b\b\b\b\b\b\b\b\b\b\b\n",
      "Epoch 2/20\n",
      "1/1 [==============================] - ETA: 0s - loss: 0.6927 - accuracy: 0.5455 - precision_39: 0.5455 - recall_39: 0.5455"
     ]
    },
    {
     "name": "stderr",
     "output_type": "stream",
     "text": [
      "2022-04-06 16:27:23.392232: I tensorflow/core/profiler/lib/profiler_session.cc:110] Profiler session initializing.\n",
      "2022-04-06 16:27:23.392297: I tensorflow/core/profiler/lib/profiler_session.cc:125] Profiler session started.\n",
      "2022-04-06 16:27:23.579286: I tensorflow/core/profiler/lib/profiler_session.cc:67] Profiler session collecting data.\n",
      "2022-04-06 16:27:23.580811: I tensorflow/core/profiler/lib/profiler_session.cc:143] Profiler session tear down.\n",
      "2022-04-06 16:27:23.582998: I tensorflow/core/profiler/rpc/client/save_profile.cc:136] Creating directory: filter_cv_stl/mtl_class_c8_15_filters/stats/tensorboard/model_39_1649255241.850482/train/plugins/profile/2022_04_06_16_27_23\n",
      "\n",
      "2022-04-06 16:27:23.584789: I tensorflow/core/profiler/rpc/client/save_profile.cc:142] Dumped gzipped tool data for trace.json.gz to filter_cv_stl/mtl_class_c8_15_filters/stats/tensorboard/model_39_1649255241.850482/train/plugins/profile/2022_04_06_16_27_23/Eliass-MacBook-Pro.local.trace.json.gz\n",
      "2022-04-06 16:27:23.587612: I tensorflow/core/profiler/rpc/client/save_profile.cc:136] Creating directory: filter_cv_stl/mtl_class_c8_15_filters/stats/tensorboard/model_39_1649255241.850482/train/plugins/profile/2022_04_06_16_27_23\n",
      "\n",
      "2022-04-06 16:27:23.588115: I tensorflow/core/profiler/rpc/client/save_profile.cc:142] Dumped gzipped tool data for memory_profile.json.gz to filter_cv_stl/mtl_class_c8_15_filters/stats/tensorboard/model_39_1649255241.850482/train/plugins/profile/2022_04_06_16_27_23/Eliass-MacBook-Pro.local.memory_profile.json.gz\n",
      "2022-04-06 16:27:23.590137: I tensorflow/core/profiler/rpc/client/capture_profile.cc:251] Creating directory: filter_cv_stl/mtl_class_c8_15_filters/stats/tensorboard/model_39_1649255241.850482/train/plugins/profile/2022_04_06_16_27_23\n",
      "Dumped tool data for xplane.pb to filter_cv_stl/mtl_class_c8_15_filters/stats/tensorboard/model_39_1649255241.850482/train/plugins/profile/2022_04_06_16_27_23/Eliass-MacBook-Pro.local.xplane.pb\n",
      "Dumped tool data for overview_page.pb to filter_cv_stl/mtl_class_c8_15_filters/stats/tensorboard/model_39_1649255241.850482/train/plugins/profile/2022_04_06_16_27_23/Eliass-MacBook-Pro.local.overview_page.pb\n",
      "Dumped tool data for input_pipeline.pb to filter_cv_stl/mtl_class_c8_15_filters/stats/tensorboard/model_39_1649255241.850482/train/plugins/profile/2022_04_06_16_27_23/Eliass-MacBook-Pro.local.input_pipeline.pb\n",
      "Dumped tool data for tensorflow_stats.pb to filter_cv_stl/mtl_class_c8_15_filters/stats/tensorboard/model_39_1649255241.850482/train/plugins/profile/2022_04_06_16_27_23/Eliass-MacBook-Pro.local.tensorflow_stats.pb\n",
      "Dumped tool data for kernel_stats.pb to filter_cv_stl/mtl_class_c8_15_filters/stats/tensorboard/model_39_1649255241.850482/train/plugins/profile/2022_04_06_16_27_23/Eliass-MacBook-Pro.local.kernel_stats.pb\n",
      "\n"
     ]
    },
    {
     "name": "stdout",
     "output_type": "stream",
     "text": [
      "1/1 [==============================] - 0s 249ms/step - loss: 0.6927 - accuracy: 0.5455 - precision_39: 0.5455 - recall_39: 0.5455 - val_loss: 0.7004 - val_accuracy: 0.1111 - val_precision_39: 0.1111 - val_recall_39: 0.1111\n",
      "Epoch 3/20\n",
      "1/1 [==============================] - 0s 114ms/step - loss: 0.6924 - accuracy: 0.5455 - precision_39: 0.5455 - recall_39: 0.5455 - val_loss: 0.7038 - val_accuracy: 0.1111 - val_precision_39: 0.1111 - val_recall_39: 0.1111\b\b\b\b\b\b\b\b\b\b\b\b\b\b\b\b\b\b\b\b\b\b\b\b\n",
      "Epoch 4/20\n",
      "1/1 [==============================] - 0s 119ms/step - loss: 0.6918 - accuracy: 0.5455 - precision_39: 0.5455 - recall_39: 0.5455 - val_loss: 0.7076 - val_accuracy: 0.1111 - val_precision_39: 0.1111 - val_recall_39: 0.1111\b\b\b\b\b\b\b\b\b\b\b\b\b\b\b\b\b\b\b\b\b\b\b\b\n",
      "Epoch 5/20\n",
      "1/1 [==============================] - 0s 116ms/step - loss: 0.6919 - accuracy: 0.5455 - precision_39: 0.5455 - recall_39: 0.5455 - val_loss: 0.7113 - val_accuracy: 0.1111 - val_precision_39: 0.1111 - val_recall_39: 0.1111\b\b\b\b\b\b\b\b\b\b\b\b\b\b\b\b\b\b\b\b\b\b\b\b\n",
      "Epoch 6/20\n",
      "1/1 [==============================] - 0s 130ms/step - loss: 0.6911 - accuracy: 0.5455 - precision_39: 0.5455 - recall_39: 0.5455 - val_loss: 0.7150 - val_accuracy: 0.1111 - val_precision_39: 0.1111 - val_recall_39: 0.1111\b\b\b\b\b\b\b\b\b\b\b\b\b\b\b\b\b\b\b\b\b\b\b\b\n",
      "1/1 [==============================] - 0s 360ms/step - loss: 0.6972 - accuracy: 0.1111 - precision_39: 0.1111 - recall_39: 0.1111\b\b\b\b\b\b\b\b\b\b\b\b\b\b\b\b\b\b\b\b\b\b\b\b\b\b\b\b\b\b\b\b\b\b\b\b\b\b\b\b\b\b\b\b\b\b\b\b\b\b\b\b\b\b\b\b\b\b\b\b\b\b\b\b\b\b\b\b\b\b\b\b\b\b\b\b\b\b\b\b\b\b\b\b\b\b\b\b\b\b\b\b\b\b\b\b\b\b\b\b\b\b\b\b\b\b\b\b\b\b\b\b\b\b\b\b\b\n",
      "Model: \"model_40\"\n",
      "_________________________________________________________________\n",
      " Layer (type)                Output Shape              Param #   \n",
      "=================================================================\n",
      " data_input (InputLayer)     [(None, 2000, 35)]        0         \n",
      "                                                                 \n",
      " conv1 (Conv1D)              (None, 2000, 15)          540       \n",
      "                                                                 \n",
      " lambda_40 (Lambda)          (None, 15)                0         \n",
      "                                                                 \n",
      " dropout_40 (Dropout)        (None, 15)                0         \n",
      "                                                                 \n",
      " phenotype_pred (Dense)      (None, 2)                 32        \n",
      "                                                                 \n",
      "=================================================================\n",
      "Total params: 572\n",
      "Trainable params: 572\n",
      "Non-trainable params: 0\n",
      "_________________________________________________________________\n",
      "None\n",
      "Epoch 1/20\n"
     ]
    },
    {
     "name": "stderr",
     "output_type": "stream",
     "text": [
      "2022-04-06 16:27:25.154043: I tensorflow/core/profiler/lib/profiler_session.cc:110] Profiler session initializing.\n",
      "2022-04-06 16:27:25.154070: I tensorflow/core/profiler/lib/profiler_session.cc:125] Profiler session started.\n",
      "2022-04-06 16:27:25.154561: I tensorflow/core/profiler/lib/profiler_session.cc:143] Profiler session tear down.\n"
     ]
    },
    {
     "name": "stdout",
     "output_type": "stream",
     "text": [
      "1/1 [==============================] - 1s 1s/step - loss: 0.6933 - accuracy: 0.4773 - precision_40: 0.4773 - recall_40: 0.4773 - val_loss: 0.6998 - val_accuracy: 0.1111 - val_precision_40: 0.1111 - val_recall_40: 0.1111\b\b\b\b\b\b\b\b\b\b\b\b\b\b\b\b\b\b\b\b\b\b\b\b\b\b\b\n",
      "Epoch 2/20\n",
      "1/1 [==============================] - ETA: 0s - loss: 0.6927 - accuracy: 0.5455 - precision_40: 0.5455 - recall_40: 0.5455"
     ]
    },
    {
     "name": "stderr",
     "output_type": "stream",
     "text": [
      "2022-04-06 16:27:26.642229: I tensorflow/core/profiler/lib/profiler_session.cc:110] Profiler session initializing.\n",
      "2022-04-06 16:27:26.642251: I tensorflow/core/profiler/lib/profiler_session.cc:125] Profiler session started.\n",
      "2022-04-06 16:27:26.811711: I tensorflow/core/profiler/lib/profiler_session.cc:67] Profiler session collecting data.\n",
      "2022-04-06 16:27:26.812993: I tensorflow/core/profiler/lib/profiler_session.cc:143] Profiler session tear down.\n",
      "2022-04-06 16:27:26.815149: I tensorflow/core/profiler/rpc/client/save_profile.cc:136] Creating directory: filter_cv_stl/mtl_class_c8_15_filters/stats/tensorboard/model_40_1649255245.1538079/train/plugins/profile/2022_04_06_16_27_26\n",
      "\n",
      "2022-04-06 16:27:26.817273: I tensorflow/core/profiler/rpc/client/save_profile.cc:142] Dumped gzipped tool data for trace.json.gz to filter_cv_stl/mtl_class_c8_15_filters/stats/tensorboard/model_40_1649255245.1538079/train/plugins/profile/2022_04_06_16_27_26/Eliass-MacBook-Pro.local.trace.json.gz\n",
      "2022-04-06 16:27:26.819555: I tensorflow/core/profiler/rpc/client/save_profile.cc:136] Creating directory: filter_cv_stl/mtl_class_c8_15_filters/stats/tensorboard/model_40_1649255245.1538079/train/plugins/profile/2022_04_06_16_27_26\n",
      "\n",
      "2022-04-06 16:27:26.819820: I tensorflow/core/profiler/rpc/client/save_profile.cc:142] Dumped gzipped tool data for memory_profile.json.gz to filter_cv_stl/mtl_class_c8_15_filters/stats/tensorboard/model_40_1649255245.1538079/train/plugins/profile/2022_04_06_16_27_26/Eliass-MacBook-Pro.local.memory_profile.json.gz\n",
      "2022-04-06 16:27:26.821439: I tensorflow/core/profiler/rpc/client/capture_profile.cc:251] Creating directory: filter_cv_stl/mtl_class_c8_15_filters/stats/tensorboard/model_40_1649255245.1538079/train/plugins/profile/2022_04_06_16_27_26\n",
      "Dumped tool data for xplane.pb to filter_cv_stl/mtl_class_c8_15_filters/stats/tensorboard/model_40_1649255245.1538079/train/plugins/profile/2022_04_06_16_27_26/Eliass-MacBook-Pro.local.xplane.pb\n",
      "Dumped tool data for overview_page.pb to filter_cv_stl/mtl_class_c8_15_filters/stats/tensorboard/model_40_1649255245.1538079/train/plugins/profile/2022_04_06_16_27_26/Eliass-MacBook-Pro.local.overview_page.pb\n",
      "Dumped tool data for input_pipeline.pb to filter_cv_stl/mtl_class_c8_15_filters/stats/tensorboard/model_40_1649255245.1538079/train/plugins/profile/2022_04_06_16_27_26/Eliass-MacBook-Pro.local.input_pipeline.pb\n",
      "Dumped tool data for tensorflow_stats.pb to filter_cv_stl/mtl_class_c8_15_filters/stats/tensorboard/model_40_1649255245.1538079/train/plugins/profile/2022_04_06_16_27_26/Eliass-MacBook-Pro.local.tensorflow_stats.pb\n",
      "Dumped tool data for kernel_stats.pb to filter_cv_stl/mtl_class_c8_15_filters/stats/tensorboard/model_40_1649255245.1538079/train/plugins/profile/2022_04_06_16_27_26/Eliass-MacBook-Pro.local.kernel_stats.pb\n",
      "\n"
     ]
    },
    {
     "name": "stdout",
     "output_type": "stream",
     "text": [
      "1/1 [==============================] - 0s 212ms/step - loss: 0.6927 - accuracy: 0.5455 - precision_40: 0.5455 - recall_40: 0.5455 - val_loss: 0.7070 - val_accuracy: 0.1111 - val_precision_40: 0.1111 - val_recall_40: 0.1111\n",
      "Epoch 3/20\n",
      "1/1 [==============================] - 0s 119ms/step - loss: 0.6918 - accuracy: 0.5455 - precision_40: 0.5455 - recall_40: 0.5455 - val_loss: 0.7144 - val_accuracy: 0.1111 - val_precision_40: 0.1111 - val_recall_40: 0.1111\b\b\b\b\b\b\b\b\b\b\b\b\b\b\b\b\b\b\b\b\b\b\b\b\n",
      "Epoch 4/20\n",
      "1/1 [==============================] - 0s 129ms/step - loss: 0.6910 - accuracy: 0.5455 - precision_40: 0.5455 - recall_40: 0.5455 - val_loss: 0.7220 - val_accuracy: 0.1111 - val_precision_40: 0.1111 - val_recall_40: 0.1111\b\b\b\b\b\b\b\b\b\b\b\b\b\b\b\b\b\b\b\b\b\b\b\b\n",
      "Epoch 5/20\n",
      "1/1 [==============================] - 0s 114ms/step - loss: 0.6909 - accuracy: 0.5455 - precision_40: 0.5455 - recall_40: 0.5455 - val_loss: 0.7296 - val_accuracy: 0.1111 - val_precision_40: 0.1111 - val_recall_40: 0.1111\b\b\b\b\b\b\b\b\b\b\b\b\b\b\b\b\b\b\b\b\b\b\b\b\n",
      "Epoch 6/20\n",
      "1/1 [==============================] - 0s 109ms/step - loss: 0.6906 - accuracy: 0.5455 - precision_40: 0.5455 - recall_40: 0.5455 - val_loss: 0.7369 - val_accuracy: 0.1111 - val_precision_40: 0.1111 - val_recall_40: 0.1111\b\b\b\b\b\b\b\b\b\b\b\b\b\b\b\b\b\b\b\b\b\b\b\b\n",
      "1/1 [==============================] - 0s 357ms/step - loss: 0.6998 - accuracy: 0.1111 - precision_40: 0.1111 - recall_40: 0.1111\b\b\b\b\b\b\b\b\b\b\b\b\b\b\b\b\b\b\b\b\b\b\b\b\b\b\b\b\b\b\b\b\b\b\b\b\b\b\b\b\b\b\b\b\b\b\b\b\b\b\b\b\b\b\b\b\b\b\b\b\b\b\b\b\b\b\b\b\b\b\b\b\b\b\b\b\b\b\b\b\b\b\b\b\b\b\b\b\b\b\b\b\b\b\b\b\b\b\b\b\b\b\b\b\b\b\b\b\b\b\b\b\b\b\b\b\b\n",
      "Model: \"model_41\"\n",
      "_________________________________________________________________\n",
      " Layer (type)                Output Shape              Param #   \n",
      "=================================================================\n",
      " data_input (InputLayer)     [(None, 2000, 35)]        0         \n",
      "                                                                 \n",
      " conv1 (Conv1D)              (None, 2000, 15)          540       \n",
      "                                                                 \n",
      " lambda_41 (Lambda)          (None, 15)                0         \n",
      "                                                                 \n",
      " dropout_41 (Dropout)        (None, 15)                0         \n",
      "                                                                 \n",
      " phenotype_pred (Dense)      (None, 2)                 32        \n",
      "                                                                 \n",
      "=================================================================\n",
      "Total params: 572\n",
      "Trainable params: 572\n",
      "Non-trainable params: 0\n",
      "_________________________________________________________________\n",
      "None\n",
      "Epoch 1/20\n"
     ]
    },
    {
     "name": "stderr",
     "output_type": "stream",
     "text": [
      "2022-04-06 16:27:28.453600: I tensorflow/core/profiler/lib/profiler_session.cc:110] Profiler session initializing.\n",
      "2022-04-06 16:27:28.453619: I tensorflow/core/profiler/lib/profiler_session.cc:125] Profiler session started.\n",
      "2022-04-06 16:27:28.453893: I tensorflow/core/profiler/lib/profiler_session.cc:143] Profiler session tear down.\n"
     ]
    },
    {
     "name": "stdout",
     "output_type": "stream",
     "text": [
      "1/1 [==============================] - 1s 1s/step - loss: 0.6931 - accuracy: 0.4773 - precision_41: 0.4773 - recall_41: 0.4773 - val_loss: 0.6939 - val_accuracy: 0.1111 - val_precision_41: 0.1111 - val_recall_41: 0.1111\b\b\b\b\b\b\b\b\b\b\b\b\b\b\b\b\b\b\b\b\b\b\b\b\b\b\b\n",
      "Epoch 2/20\n",
      "1/1 [==============================] - 0s 201ms/step - loss: 0.6931 - accuracy: 0.5455 - precision_41: 0.5455 - recall_41: 0.5455 - val_loss: 0.6951 - val_accuracy: 0.1111 - val_precision_41: 0.1111 - val_recall_41: 0.1111\b\b\b\b\b\b\b\b\b\b\b\b\b\b\b\b\b\b\b\b\b\b\b\b\n"
     ]
    },
    {
     "name": "stderr",
     "output_type": "stream",
     "text": [
      "2022-04-06 16:27:29.905399: I tensorflow/core/profiler/lib/profiler_session.cc:110] Profiler session initializing.\n",
      "2022-04-06 16:27:29.905416: I tensorflow/core/profiler/lib/profiler_session.cc:125] Profiler session started.\n",
      "2022-04-06 16:27:30.064895: I tensorflow/core/profiler/lib/profiler_session.cc:67] Profiler session collecting data.\n",
      "2022-04-06 16:27:30.066223: I tensorflow/core/profiler/lib/profiler_session.cc:143] Profiler session tear down.\n",
      "2022-04-06 16:27:30.068186: I tensorflow/core/profiler/rpc/client/save_profile.cc:136] Creating directory: filter_cv_stl/mtl_class_c8_15_filters/stats/tensorboard/model_41_1649255248.453438/train/plugins/profile/2022_04_06_16_27_30\n",
      "\n",
      "2022-04-06 16:27:30.069670: I tensorflow/core/profiler/rpc/client/save_profile.cc:142] Dumped gzipped tool data for trace.json.gz to filter_cv_stl/mtl_class_c8_15_filters/stats/tensorboard/model_41_1649255248.453438/train/plugins/profile/2022_04_06_16_27_30/Eliass-MacBook-Pro.local.trace.json.gz\n",
      "2022-04-06 16:27:30.071825: I tensorflow/core/profiler/rpc/client/save_profile.cc:136] Creating directory: filter_cv_stl/mtl_class_c8_15_filters/stats/tensorboard/model_41_1649255248.453438/train/plugins/profile/2022_04_06_16_27_30\n",
      "\n",
      "2022-04-06 16:27:30.072103: I tensorflow/core/profiler/rpc/client/save_profile.cc:142] Dumped gzipped tool data for memory_profile.json.gz to filter_cv_stl/mtl_class_c8_15_filters/stats/tensorboard/model_41_1649255248.453438/train/plugins/profile/2022_04_06_16_27_30/Eliass-MacBook-Pro.local.memory_profile.json.gz\n",
      "2022-04-06 16:27:30.073367: I tensorflow/core/profiler/rpc/client/capture_profile.cc:251] Creating directory: filter_cv_stl/mtl_class_c8_15_filters/stats/tensorboard/model_41_1649255248.453438/train/plugins/profile/2022_04_06_16_27_30\n",
      "Dumped tool data for xplane.pb to filter_cv_stl/mtl_class_c8_15_filters/stats/tensorboard/model_41_1649255248.453438/train/plugins/profile/2022_04_06_16_27_30/Eliass-MacBook-Pro.local.xplane.pb\n",
      "Dumped tool data for overview_page.pb to filter_cv_stl/mtl_class_c8_15_filters/stats/tensorboard/model_41_1649255248.453438/train/plugins/profile/2022_04_06_16_27_30/Eliass-MacBook-Pro.local.overview_page.pb\n",
      "Dumped tool data for input_pipeline.pb to filter_cv_stl/mtl_class_c8_15_filters/stats/tensorboard/model_41_1649255248.453438/train/plugins/profile/2022_04_06_16_27_30/Eliass-MacBook-Pro.local.input_pipeline.pb\n",
      "Dumped tool data for tensorflow_stats.pb to filter_cv_stl/mtl_class_c8_15_filters/stats/tensorboard/model_41_1649255248.453438/train/plugins/profile/2022_04_06_16_27_30/Eliass-MacBook-Pro.local.tensorflow_stats.pb\n",
      "Dumped tool data for kernel_stats.pb to filter_cv_stl/mtl_class_c8_15_filters/stats/tensorboard/model_41_1649255248.453438/train/plugins/profile/2022_04_06_16_27_30/Eliass-MacBook-Pro.local.kernel_stats.pb\n",
      "\n"
     ]
    },
    {
     "name": "stdout",
     "output_type": "stream",
     "text": [
      "Epoch 3/20\n",
      "1/1 [==============================] - 0s 114ms/step - loss: 0.6928 - accuracy: 0.5227 - precision_41: 0.5227 - recall_41: 0.5227 - val_loss: 0.6964 - val_accuracy: 0.1111 - val_precision_41: 0.1111 - val_recall_41: 0.1111\b\b\b\b\b\b\b\b\b\b\b\b\b\b\b\b\b\b\b\b\b\b\b\b\n",
      "Epoch 4/20\n",
      "1/1 [==============================] - 0s 113ms/step - loss: 0.6931 - accuracy: 0.5455 - precision_41: 0.5455 - recall_41: 0.5455 - val_loss: 0.6976 - val_accuracy: 0.1111 - val_precision_41: 0.1111 - val_recall_41: 0.1111\b\b\b\b\b\b\b\b\b\b\b\b\b\b\b\b\b\b\b\b\b\b\b\b\n",
      "Epoch 5/20\n",
      "1/1 [==============================] - 0s 129ms/step - loss: 0.6927 - accuracy: 0.5455 - precision_41: 0.5455 - recall_41: 0.5455 - val_loss: 0.6990 - val_accuracy: 0.1111 - val_precision_41: 0.1111 - val_recall_41: 0.1111\b\b\b\b\b\b\b\b\b\b\b\b\b\b\b\b\b\b\b\b\b\b\b\b\n",
      "Epoch 6/20\n",
      "1/1 [==============================] - 0s 124ms/step - loss: 0.6924 - accuracy: 0.5455 - precision_41: 0.5455 - recall_41: 0.5455 - val_loss: 0.7003 - val_accuracy: 0.1111 - val_precision_41: 0.1111 - val_recall_41: 0.1111\b\b\b\b\b\b\b\b\b\b\b\b\b\b\b\b\b\b\b\b\b\b\b\b\n",
      "1/1 [==============================] - 0s 376ms/step - loss: 0.6939 - accuracy: 0.1111 - precision_41: 0.1111 - recall_41: 0.1111\b\b\b\b\b\b\b\b\b\b\b\b\b\b\b\b\b\b\b\b\b\b\b\b\b\b\b\b\b\b\b\b\b\b\b\b\b\b\b\b\b\b\b\b\b\b\b\b\b\b\b\b\b\b\b\b\b\b\b\b\b\b\b\b\b\b\b\b\b\b\b\b\b\b\b\b\b\b\b\b\b\b\b\b\b\b\b\b\b\b\b\b\b\b\b\b\b\b\b\b\b\b\b\b\b\b\b\b\b\b\b\b\b\b\b\b\b\n",
      "DONE building model 15\n",
      "Model: \"model_42\"\n",
      "_________________________________________________________________\n",
      " Layer (type)                Output Shape              Param #   \n",
      "=================================================================\n",
      " data_input (InputLayer)     [(None, 2000, 35)]        0         \n",
      "                                                                 \n",
      " conv1 (Conv1D)              (None, 2000, 16)          576       \n",
      "                                                                 \n",
      " lambda_42 (Lambda)          (None, 16)                0         \n",
      "                                                                 \n",
      " dropout_42 (Dropout)        (None, 16)                0         \n",
      "                                                                 \n",
      " phenotype_pred (Dense)      (None, 2)                 34        \n",
      "                                                                 \n",
      "=================================================================\n",
      "Total params: 610\n",
      "Trainable params: 610\n",
      "Non-trainable params: 0\n",
      "_________________________________________________________________\n",
      "None\n",
      "Epoch 1/20\n"
     ]
    },
    {
     "name": "stderr",
     "output_type": "stream",
     "text": [
      "2022-04-06 16:27:31.757229: I tensorflow/core/profiler/lib/profiler_session.cc:110] Profiler session initializing.\n",
      "2022-04-06 16:27:31.757251: I tensorflow/core/profiler/lib/profiler_session.cc:125] Profiler session started.\n",
      "2022-04-06 16:27:31.757500: I tensorflow/core/profiler/lib/profiler_session.cc:143] Profiler session tear down.\n"
     ]
    },
    {
     "name": "stdout",
     "output_type": "stream",
     "text": [
      "1/1 [==============================] - 2s 2s/step - loss: 0.6935 - accuracy: 0.4545 - precision_42: 0.4545 - recall_42: 0.4545 - val_loss: 0.6944 - val_accuracy: 0.1111 - val_precision_42: 0.1111 - val_recall_42: 0.1111\b\b\b\b\b\b\b\b\b\b\b\b\b\b\b\b\b\b\b\b\b\b\b\b\b\b\b\n",
      "Epoch 2/20\n"
     ]
    },
    {
     "name": "stderr",
     "output_type": "stream",
     "text": [
      "2022-04-06 16:27:33.739684: I tensorflow/core/profiler/lib/profiler_session.cc:110] Profiler session initializing.\n",
      "2022-04-06 16:27:33.739701: I tensorflow/core/profiler/lib/profiler_session.cc:125] Profiler session started.\n",
      "2022-04-06 16:27:33.929311: I tensorflow/core/profiler/lib/profiler_session.cc:67] Profiler session collecting data.\n",
      "2022-04-06 16:27:33.931549: I tensorflow/core/profiler/lib/profiler_session.cc:143] Profiler session tear down.\n",
      "2022-04-06 16:27:33.934455: I tensorflow/core/profiler/rpc/client/save_profile.cc:136] Creating directory: filter_cv_stl/mtl_class_c8_16_filters/stats/tensorboard/model_42_1649255251.757062/train/plugins/profile/2022_04_06_16_27_33\n",
      "\n",
      "2022-04-06 16:27:33.937499: I tensorflow/core/profiler/rpc/client/save_profile.cc:142] Dumped gzipped tool data for trace.json.gz to filter_cv_stl/mtl_class_c8_16_filters/stats/tensorboard/model_42_1649255251.757062/train/plugins/profile/2022_04_06_16_27_33/Eliass-MacBook-Pro.local.trace.json.gz\n",
      "2022-04-06 16:27:33.940605: I tensorflow/core/profiler/rpc/client/save_profile.cc:136] Creating directory: filter_cv_stl/mtl_class_c8_16_filters/stats/tensorboard/model_42_1649255251.757062/train/plugins/profile/2022_04_06_16_27_33\n",
      "\n"
     ]
    },
    {
     "name": "stdout",
     "output_type": "stream",
     "text": [
      "1/1 [==============================] - 0s 246ms/step - loss: 0.6932 - accuracy: 0.5227 - precision_42: 0.5227 - recall_42: 0.5227 - val_loss: 0.6959 - val_accuracy: 0.1111 - val_precision_42: 0.1111 - val_recall_42: 0.1111\b\b\b\b\b\b\b\b\b\b\b\b\b\b\b\b\b\b\b\b\b\b\b\b\n",
      "Epoch 3/20\n",
      "1/1 [==============================] - 0s 121ms/step - loss: 0.6930 - accuracy: 0.5227 - precision_42: 0.5227 - recall_42: 0.5227 - val_loss: 0.6974 - val_accuracy: 0.1111 - val_precision_42: 0.1111 - val_recall_42: 0.1111\b\b\b\b\b\b\b\b\b\b\b\b\b\b\b\b\b\b\b\b\b\b\b\b\n",
      "Epoch 4/20\n"
     ]
    },
    {
     "name": "stderr",
     "output_type": "stream",
     "text": [
      "2022-04-06 16:27:33.941003: I tensorflow/core/profiler/rpc/client/save_profile.cc:142] Dumped gzipped tool data for memory_profile.json.gz to filter_cv_stl/mtl_class_c8_16_filters/stats/tensorboard/model_42_1649255251.757062/train/plugins/profile/2022_04_06_16_27_33/Eliass-MacBook-Pro.local.memory_profile.json.gz\n",
      "2022-04-06 16:27:33.943143: I tensorflow/core/profiler/rpc/client/capture_profile.cc:251] Creating directory: filter_cv_stl/mtl_class_c8_16_filters/stats/tensorboard/model_42_1649255251.757062/train/plugins/profile/2022_04_06_16_27_33\n",
      "Dumped tool data for xplane.pb to filter_cv_stl/mtl_class_c8_16_filters/stats/tensorboard/model_42_1649255251.757062/train/plugins/profile/2022_04_06_16_27_33/Eliass-MacBook-Pro.local.xplane.pb\n",
      "Dumped tool data for overview_page.pb to filter_cv_stl/mtl_class_c8_16_filters/stats/tensorboard/model_42_1649255251.757062/train/plugins/profile/2022_04_06_16_27_33/Eliass-MacBook-Pro.local.overview_page.pb\n",
      "Dumped tool data for input_pipeline.pb to filter_cv_stl/mtl_class_c8_16_filters/stats/tensorboard/model_42_1649255251.757062/train/plugins/profile/2022_04_06_16_27_33/Eliass-MacBook-Pro.local.input_pipeline.pb\n",
      "Dumped tool data for tensorflow_stats.pb to filter_cv_stl/mtl_class_c8_16_filters/stats/tensorboard/model_42_1649255251.757062/train/plugins/profile/2022_04_06_16_27_33/Eliass-MacBook-Pro.local.tensorflow_stats.pb\n",
      "Dumped tool data for kernel_stats.pb to filter_cv_stl/mtl_class_c8_16_filters/stats/tensorboard/model_42_1649255251.757062/train/plugins/profile/2022_04_06_16_27_33/Eliass-MacBook-Pro.local.kernel_stats.pb\n",
      "\n"
     ]
    },
    {
     "name": "stdout",
     "output_type": "stream",
     "text": [
      "1/1 [==============================] - 0s 119ms/step - loss: 0.6932 - accuracy: 0.5455 - precision_42: 0.5455 - recall_42: 0.5455 - val_loss: 0.6988 - val_accuracy: 0.1111 - val_precision_42: 0.1111 - val_recall_42: 0.1111\b\b\b\b\b\b\b\b\b\b\b\b\b\b\b\b\b\b\b\b\b\b\b\b\n",
      "Epoch 5/20\n",
      "1/1 [==============================] - 0s 123ms/step - loss: 0.6922 - accuracy: 0.5455 - precision_42: 0.5455 - recall_42: 0.5455 - val_loss: 0.7002 - val_accuracy: 0.1111 - val_precision_42: 0.1111 - val_recall_42: 0.1111\b\b\b\b\b\b\b\b\b\b\b\b\b\b\b\b\b\b\b\b\b\b\b\b\n",
      "Epoch 6/20\n",
      "1/1 [==============================] - 0s 135ms/step - loss: 0.6926 - accuracy: 0.5455 - precision_42: 0.5455 - recall_42: 0.5455 - val_loss: 0.7017 - val_accuracy: 0.1111 - val_precision_42: 0.1111 - val_recall_42: 0.1111\b\b\b\b\b\b\b\b\b\b\b\b\b\b\b\b\b\b\b\b\b\b\b\b\n",
      "1/1 [==============================] - 0s 348ms/step - loss: 0.6944 - accuracy: 0.1111 - precision_42: 0.1111 - recall_42: 0.1111\b\b\b\b\b\b\b\b\b\b\b\b\b\b\b\b\b\b\b\b\b\b\b\b\b\b\b\b\b\b\b\b\b\b\b\b\b\b\b\b\b\b\b\b\b\b\b\b\b\b\b\b\b\b\b\b\b\b\b\b\b\b\b\b\b\b\b\b\b\b\b\b\b\b\b\b\b\b\b\b\b\b\b\b\b\b\b\b\b\b\b\b\b\b\b\b\b\b\b\b\b\b\b\b\b\b\b\b\b\b\b\b\b\b\b\b\b\n",
      "Model: \"model_43\"\n",
      "_________________________________________________________________\n",
      " Layer (type)                Output Shape              Param #   \n",
      "=================================================================\n",
      " data_input (InputLayer)     [(None, 2000, 35)]        0         \n",
      "                                                                 \n",
      " conv1 (Conv1D)              (None, 2000, 16)          576       \n",
      "                                                                 \n",
      " lambda_43 (Lambda)          (None, 16)                0         \n",
      "                                                                 \n",
      " dropout_43 (Dropout)        (None, 16)                0         \n",
      "                                                                 \n",
      " phenotype_pred (Dense)      (None, 2)                 34        \n",
      "                                                                 \n",
      "=================================================================\n",
      "Total params: 610\n",
      "Trainable params: 610\n",
      "Non-trainable params: 0\n",
      "_________________________________________________________________\n",
      "None\n",
      "Epoch 1/20\n"
     ]
    },
    {
     "name": "stderr",
     "output_type": "stream",
     "text": [
      "2022-04-06 16:27:35.536738: I tensorflow/core/profiler/lib/profiler_session.cc:110] Profiler session initializing.\n",
      "2022-04-06 16:27:35.536774: I tensorflow/core/profiler/lib/profiler_session.cc:125] Profiler session started.\n",
      "2022-04-06 16:27:35.537232: I tensorflow/core/profiler/lib/profiler_session.cc:143] Profiler session tear down.\n"
     ]
    },
    {
     "name": "stdout",
     "output_type": "stream",
     "text": [
      "1/1 [==============================] - 1s 1s/step - loss: 0.6935 - accuracy: 0.4091 - precision_43: 0.4091 - recall_43: 0.4091 - val_loss: 0.6938 - val_accuracy: 0.1111 - val_precision_43: 0.1111 - val_recall_43: 0.1111\b\b\b\b\b\b\b\b\b\b\b\b\b\b\b\b\b\b\b\b\b\b\b\b\b\b\b\n",
      "Epoch 2/20\n",
      "1/1 [==============================] - ETA: 0s - loss: 0.6933 - accuracy: 0.5000 - precision_43: 0.5000 - recall_43: 0.5000"
     ]
    },
    {
     "name": "stderr",
     "output_type": "stream",
     "text": [
      "2022-04-06 16:27:36.992606: I tensorflow/core/profiler/lib/profiler_session.cc:110] Profiler session initializing.\n",
      "2022-04-06 16:27:36.992623: I tensorflow/core/profiler/lib/profiler_session.cc:125] Profiler session started.\n",
      "2022-04-06 16:27:37.159638: I tensorflow/core/profiler/lib/profiler_session.cc:67] Profiler session collecting data.\n",
      "2022-04-06 16:27:37.160928: I tensorflow/core/profiler/lib/profiler_session.cc:143] Profiler session tear down.\n",
      "2022-04-06 16:27:37.163254: I tensorflow/core/profiler/rpc/client/save_profile.cc:136] Creating directory: filter_cv_stl/mtl_class_c8_16_filters/stats/tensorboard/model_43_1649255255.5365682/train/plugins/profile/2022_04_06_16_27_37\n",
      "\n",
      "2022-04-06 16:27:37.165065: I tensorflow/core/profiler/rpc/client/save_profile.cc:142] Dumped gzipped tool data for trace.json.gz to filter_cv_stl/mtl_class_c8_16_filters/stats/tensorboard/model_43_1649255255.5365682/train/plugins/profile/2022_04_06_16_27_37/Eliass-MacBook-Pro.local.trace.json.gz\n",
      "2022-04-06 16:27:37.168083: I tensorflow/core/profiler/rpc/client/save_profile.cc:136] Creating directory: filter_cv_stl/mtl_class_c8_16_filters/stats/tensorboard/model_43_1649255255.5365682/train/plugins/profile/2022_04_06_16_27_37\n",
      "\n",
      "2022-04-06 16:27:37.168527: I tensorflow/core/profiler/rpc/client/save_profile.cc:142] Dumped gzipped tool data for memory_profile.json.gz to filter_cv_stl/mtl_class_c8_16_filters/stats/tensorboard/model_43_1649255255.5365682/train/plugins/profile/2022_04_06_16_27_37/Eliass-MacBook-Pro.local.memory_profile.json.gz\n",
      "2022-04-06 16:27:37.170474: I tensorflow/core/profiler/rpc/client/capture_profile.cc:251] Creating directory: filter_cv_stl/mtl_class_c8_16_filters/stats/tensorboard/model_43_1649255255.5365682/train/plugins/profile/2022_04_06_16_27_37\n",
      "Dumped tool data for xplane.pb to filter_cv_stl/mtl_class_c8_16_filters/stats/tensorboard/model_43_1649255255.5365682/train/plugins/profile/2022_04_06_16_27_37/Eliass-MacBook-Pro.local.xplane.pb\n",
      "Dumped tool data for overview_page.pb to filter_cv_stl/mtl_class_c8_16_filters/stats/tensorboard/model_43_1649255255.5365682/train/plugins/profile/2022_04_06_16_27_37/Eliass-MacBook-Pro.local.overview_page.pb\n",
      "Dumped tool data for input_pipeline.pb to filter_cv_stl/mtl_class_c8_16_filters/stats/tensorboard/model_43_1649255255.5365682/train/plugins/profile/2022_04_06_16_27_37/Eliass-MacBook-Pro.local.input_pipeline.pb\n",
      "Dumped tool data for tensorflow_stats.pb to filter_cv_stl/mtl_class_c8_16_filters/stats/tensorboard/model_43_1649255255.5365682/train/plugins/profile/2022_04_06_16_27_37/Eliass-MacBook-Pro.local.tensorflow_stats.pb\n",
      "Dumped tool data for kernel_stats.pb to filter_cv_stl/mtl_class_c8_16_filters/stats/tensorboard/model_43_1649255255.5365682/train/plugins/profile/2022_04_06_16_27_37/Eliass-MacBook-Pro.local.kernel_stats.pb\n",
      "\n"
     ]
    },
    {
     "name": "stdout",
     "output_type": "stream",
     "text": [
      "1/1 [==============================] - 0s 214ms/step - loss: 0.6933 - accuracy: 0.5000 - precision_43: 0.5000 - recall_43: 0.5000 - val_loss: 0.6956 - val_accuracy: 0.1111 - val_precision_43: 0.1111 - val_recall_43: 0.1111\n",
      "Epoch 3/20\n",
      "1/1 [==============================] - 0s 120ms/step - loss: 0.6927 - accuracy: 0.5682 - precision_43: 0.5682 - recall_43: 0.5682 - val_loss: 0.6976 - val_accuracy: 0.1111 - val_precision_43: 0.1111 - val_recall_43: 0.1111\b\b\b\b\b\b\b\b\b\b\b\b\b\b\b\b\b\b\b\b\b\b\b\b\n",
      "Epoch 4/20\n",
      "1/1 [==============================] - 0s 142ms/step - loss: 0.6926 - accuracy: 0.5455 - precision_43: 0.5455 - recall_43: 0.5455 - val_loss: 0.6993 - val_accuracy: 0.1111 - val_precision_43: 0.1111 - val_recall_43: 0.1111\b\b\b\b\b\b\b\b\b\b\b\b\b\b\b\b\b\b\b\b\b\b\b\b\n",
      "Epoch 5/20\n",
      "1/1 [==============================] - 0s 126ms/step - loss: 0.6920 - accuracy: 0.5455 - precision_43: 0.5455 - recall_43: 0.5455 - val_loss: 0.7010 - val_accuracy: 0.1111 - val_precision_43: 0.1111 - val_recall_43: 0.1111\b\b\b\b\b\b\b\b\b\b\b\b\b\b\b\b\b\b\b\b\b\b\b\b\n",
      "Epoch 6/20\n",
      "1/1 [==============================] - 0s 120ms/step - loss: 0.6921 - accuracy: 0.5455 - precision_43: 0.5455 - recall_43: 0.5455 - val_loss: 0.7027 - val_accuracy: 0.1111 - val_precision_43: 0.1111 - val_recall_43: 0.1111\b\b\b\b\b\b\b\b\b\b\b\b\b\b\b\b\b\b\b\b\b\b\b\b\n",
      "1/1 [==============================] - 0s 392ms/step - loss: 0.6938 - accuracy: 0.1111 - precision_43: 0.1111 - recall_43: 0.1111\b\b\b\b\b\b\b\b\b\b\b\b\b\b\b\b\b\b\b\b\b\b\b\b\b\b\b\b\b\b\b\b\b\b\b\b\b\b\b\b\b\b\b\b\b\b\b\b\b\b\b\b\b\b\b\b\b\b\b\b\b\b\b\b\b\b\b\b\b\b\b\b\b\b\b\b\b\b\b\b\b\b\b\b\b\b\b\b\b\b\b\b\b\b\b\b\b\b\b\b\b\b\b\b\b\b\b\b\b\b\b\b\b\b\b\b\b\n",
      "Model: \"model_44\"\n",
      "_________________________________________________________________\n",
      " Layer (type)                Output Shape              Param #   \n",
      "=================================================================\n",
      " data_input (InputLayer)     [(None, 2000, 35)]        0         \n",
      "                                                                 \n",
      " conv1 (Conv1D)              (None, 2000, 16)          576       \n",
      "                                                                 \n",
      " lambda_44 (Lambda)          (None, 16)                0         \n",
      "                                                                 \n",
      " dropout_44 (Dropout)        (None, 16)                0         \n",
      "                                                                 \n",
      " phenotype_pred (Dense)      (None, 2)                 34        \n",
      "                                                                 \n",
      "=================================================================\n",
      "Total params: 610\n",
      "Trainable params: 610\n",
      "Non-trainable params: 0\n",
      "_________________________________________________________________\n",
      "None\n",
      "Epoch 1/20\n"
     ]
    },
    {
     "name": "stderr",
     "output_type": "stream",
     "text": [
      "2022-04-06 16:27:38.801579: I tensorflow/core/profiler/lib/profiler_session.cc:110] Profiler session initializing.\n",
      "2022-04-06 16:27:38.801605: I tensorflow/core/profiler/lib/profiler_session.cc:125] Profiler session started.\n",
      "2022-04-06 16:27:38.801877: I tensorflow/core/profiler/lib/profiler_session.cc:143] Profiler session tear down.\n"
     ]
    },
    {
     "name": "stdout",
     "output_type": "stream",
     "text": [
      "1/1 [==============================] - 1s 1s/step - loss: 0.6934 - accuracy: 0.5682 - precision_44: 0.5682 - recall_44: 0.5682 - val_loss: 0.7005 - val_accuracy: 0.1111 - val_precision_44: 0.1111 - val_recall_44: 0.1111\b\b\b\b\b\b\b\b\b\b\b\b\b\b\b\b\b\b\b\b\b\b\b\b\b\b\b\n",
      "Epoch 2/20\n",
      "1/1 [==============================] - ETA: 0s - loss: 0.6923 - accuracy: 0.5455 - precision_44: 0.5455 - recall_44: 0.5455"
     ]
    },
    {
     "name": "stderr",
     "output_type": "stream",
     "text": [
      "2022-04-06 16:27:40.348944: I tensorflow/core/profiler/lib/profiler_session.cc:110] Profiler session initializing.\n",
      "2022-04-06 16:27:40.348963: I tensorflow/core/profiler/lib/profiler_session.cc:125] Profiler session started.\n",
      "2022-04-06 16:27:40.522046: I tensorflow/core/profiler/lib/profiler_session.cc:67] Profiler session collecting data.\n",
      "2022-04-06 16:27:40.523230: I tensorflow/core/profiler/lib/profiler_session.cc:143] Profiler session tear down.\n",
      "2022-04-06 16:27:40.525233: I tensorflow/core/profiler/rpc/client/save_profile.cc:136] Creating directory: filter_cv_stl/mtl_class_c8_16_filters/stats/tensorboard/model_44_1649255258.801365/train/plugins/profile/2022_04_06_16_27_40\n",
      "\n",
      "2022-04-06 16:27:40.527167: I tensorflow/core/profiler/rpc/client/save_profile.cc:142] Dumped gzipped tool data for trace.json.gz to filter_cv_stl/mtl_class_c8_16_filters/stats/tensorboard/model_44_1649255258.801365/train/plugins/profile/2022_04_06_16_27_40/Eliass-MacBook-Pro.local.trace.json.gz\n",
      "2022-04-06 16:27:40.529246: I tensorflow/core/profiler/rpc/client/save_profile.cc:136] Creating directory: filter_cv_stl/mtl_class_c8_16_filters/stats/tensorboard/model_44_1649255258.801365/train/plugins/profile/2022_04_06_16_27_40\n",
      "\n",
      "2022-04-06 16:27:40.529495: I tensorflow/core/profiler/rpc/client/save_profile.cc:142] Dumped gzipped tool data for memory_profile.json.gz to filter_cv_stl/mtl_class_c8_16_filters/stats/tensorboard/model_44_1649255258.801365/train/plugins/profile/2022_04_06_16_27_40/Eliass-MacBook-Pro.local.memory_profile.json.gz\n",
      "2022-04-06 16:27:40.530693: I tensorflow/core/profiler/rpc/client/capture_profile.cc:251] Creating directory: filter_cv_stl/mtl_class_c8_16_filters/stats/tensorboard/model_44_1649255258.801365/train/plugins/profile/2022_04_06_16_27_40\n",
      "Dumped tool data for xplane.pb to filter_cv_stl/mtl_class_c8_16_filters/stats/tensorboard/model_44_1649255258.801365/train/plugins/profile/2022_04_06_16_27_40/Eliass-MacBook-Pro.local.xplane.pb\n",
      "Dumped tool data for overview_page.pb to filter_cv_stl/mtl_class_c8_16_filters/stats/tensorboard/model_44_1649255258.801365/train/plugins/profile/2022_04_06_16_27_40/Eliass-MacBook-Pro.local.overview_page.pb\n",
      "Dumped tool data for input_pipeline.pb to filter_cv_stl/mtl_class_c8_16_filters/stats/tensorboard/model_44_1649255258.801365/train/plugins/profile/2022_04_06_16_27_40/Eliass-MacBook-Pro.local.input_pipeline.pb\n",
      "Dumped tool data for tensorflow_stats.pb to filter_cv_stl/mtl_class_c8_16_filters/stats/tensorboard/model_44_1649255258.801365/train/plugins/profile/2022_04_06_16_27_40/Eliass-MacBook-Pro.local.tensorflow_stats.pb\n",
      "Dumped tool data for kernel_stats.pb to filter_cv_stl/mtl_class_c8_16_filters/stats/tensorboard/model_44_1649255258.801365/train/plugins/profile/2022_04_06_16_27_40/Eliass-MacBook-Pro.local.kernel_stats.pb\n",
      "\n"
     ]
    },
    {
     "name": "stdout",
     "output_type": "stream",
     "text": [
      "1/1 [==============================] - 0s 219ms/step - loss: 0.6923 - accuracy: 0.5455 - precision_44: 0.5455 - recall_44: 0.5455 - val_loss: 0.7085 - val_accuracy: 0.1111 - val_precision_44: 0.1111 - val_recall_44: 0.1111\n",
      "Epoch 3/20\n",
      "1/1 [==============================] - 0s 127ms/step - loss: 0.6906 - accuracy: 0.5455 - precision_44: 0.5455 - recall_44: 0.5455 - val_loss: 0.7166 - val_accuracy: 0.1111 - val_precision_44: 0.1111 - val_recall_44: 0.1111\b\b\b\b\b\b\b\b\b\b\b\b\b\b\b\b\b\b\b\b\b\b\b\b\n",
      "Epoch 4/20\n",
      "1/1 [==============================] - 0s 130ms/step - loss: 0.6920 - accuracy: 0.5455 - precision_44: 0.5455 - recall_44: 0.5455 - val_loss: 0.7244 - val_accuracy: 0.1111 - val_precision_44: 0.1111 - val_recall_44: 0.1111\b\b\b\b\b\b\b\b\b\b\b\b\b\b\b\b\b\b\b\b\b\b\b\b\n",
      "Epoch 5/20\n",
      "1/1 [==============================] - 0s 122ms/step - loss: 0.6918 - accuracy: 0.5455 - precision_44: 0.5455 - recall_44: 0.5455 - val_loss: 0.7310 - val_accuracy: 0.1111 - val_precision_44: 0.1111 - val_recall_44: 0.1111\b\b\b\b\b\b\b\b\b\b\b\b\b\b\b\b\b\b\b\b\b\b\b\b\n",
      "Epoch 6/20\n",
      "1/1 [==============================] - 0s 115ms/step - loss: 0.6887 - accuracy: 0.5455 - precision_44: 0.5455 - recall_44: 0.5455 - val_loss: 0.7381 - val_accuracy: 0.1111 - val_precision_44: 0.1111 - val_recall_44: 0.1111\b\b\b\b\b\b\b\b\b\b\b\b\b\b\b\b\b\b\b\b\b\b\b\b\n",
      "1/1 [==============================] - 1s 500ms/step - loss: 0.7005 - accuracy: 0.1111 - precision_44: 0.1111 - recall_44: 0.1111\b\b\b\b\b\b\b\b\b\b\b\b\b\b\b\b\b\b\b\b\b\b\b\b\b\b\b\b\b\b\b\b\b\b\b\b\b\b\b\b\b\b\b\b\b\b\b\b\b\b\b\b\b\b\b\b\b\b\b\b\b\b\b\b\b\b\b\b\b\b\b\b\b\b\b\b\b\b\b\b\b\b\b\b\b\b\b\b\b\b\b\b\b\b\b\b\b\b\b\b\b\b\b\b\b\b\b\b\b\b\b\b\b\b\b\b\b\n",
      "DONE building model 16\n",
      "Model: \"model_45\"\n",
      "_________________________________________________________________\n",
      " Layer (type)                Output Shape              Param #   \n",
      "=================================================================\n",
      " data_input (InputLayer)     [(None, 2000, 35)]        0         \n",
      "                                                                 \n",
      " conv1 (Conv1D)              (None, 2000, 17)          612       \n",
      "                                                                 \n",
      " lambda_45 (Lambda)          (None, 17)                0         \n",
      "                                                                 \n",
      " dropout_45 (Dropout)        (None, 17)                0         \n",
      "                                                                 \n",
      " phenotype_pred (Dense)      (None, 2)                 36        \n",
      "                                                                 \n",
      "=================================================================\n",
      "Total params: 648\n",
      "Trainable params: 648\n",
      "Non-trainable params: 0\n",
      "_________________________________________________________________\n",
      "None\n",
      "Epoch 1/20\n"
     ]
    },
    {
     "name": "stderr",
     "output_type": "stream",
     "text": [
      "2022-04-06 16:27:42.727347: I tensorflow/core/profiler/lib/profiler_session.cc:110] Profiler session initializing.\n",
      "2022-04-06 16:27:42.727374: I tensorflow/core/profiler/lib/profiler_session.cc:125] Profiler session started.\n",
      "2022-04-06 16:27:42.727555: I tensorflow/core/profiler/lib/profiler_session.cc:143] Profiler session tear down.\n"
     ]
    },
    {
     "name": "stdout",
     "output_type": "stream",
     "text": [
      "1/1 [==============================] - 2s 2s/step - loss: 0.6933 - accuracy: 0.3864 - precision_45: 0.3864 - recall_45: 0.3864 - val_loss: 0.6982 - val_accuracy: 0.1111 - val_precision_45: 0.1111 - val_recall_45: 0.1111\b\b\b\b\b\b\b\b\b\b\b\b\b\b\b\b\b\b\b\b\b\b\b\b\b\b\b\n",
      "Epoch 2/20\n",
      "1/1 [==============================] - ETA: 0s - loss: 0.6932 - accuracy: 0.5455 - precision_45: 0.5455 - recall_45: 0.5455"
     ]
    },
    {
     "name": "stderr",
     "output_type": "stream",
     "text": [
      "2022-04-06 16:27:44.325397: I tensorflow/core/profiler/lib/profiler_session.cc:110] Profiler session initializing.\n",
      "2022-04-06 16:27:44.325413: I tensorflow/core/profiler/lib/profiler_session.cc:125] Profiler session started.\n",
      "2022-04-06 16:27:44.511373: I tensorflow/core/profiler/lib/profiler_session.cc:67] Profiler session collecting data.\n",
      "2022-04-06 16:27:44.512730: I tensorflow/core/profiler/lib/profiler_session.cc:143] Profiler session tear down.\n",
      "2022-04-06 16:27:44.514439: I tensorflow/core/profiler/rpc/client/save_profile.cc:136] Creating directory: filter_cv_stl/mtl_class_c8_17_filters/stats/tensorboard/model_45_1649255262.727107/train/plugins/profile/2022_04_06_16_27_44\n",
      "\n",
      "2022-04-06 16:27:44.516255: I tensorflow/core/profiler/rpc/client/save_profile.cc:142] Dumped gzipped tool data for trace.json.gz to filter_cv_stl/mtl_class_c8_17_filters/stats/tensorboard/model_45_1649255262.727107/train/plugins/profile/2022_04_06_16_27_44/Eliass-MacBook-Pro.local.trace.json.gz\n",
      "2022-04-06 16:27:44.518605: I tensorflow/core/profiler/rpc/client/save_profile.cc:136] Creating directory: filter_cv_stl/mtl_class_c8_17_filters/stats/tensorboard/model_45_1649255262.727107/train/plugins/profile/2022_04_06_16_27_44\n",
      "\n",
      "2022-04-06 16:27:44.518923: I tensorflow/core/profiler/rpc/client/save_profile.cc:142] Dumped gzipped tool data for memory_profile.json.gz to filter_cv_stl/mtl_class_c8_17_filters/stats/tensorboard/model_45_1649255262.727107/train/plugins/profile/2022_04_06_16_27_44/Eliass-MacBook-Pro.local.memory_profile.json.gz\n",
      "2022-04-06 16:27:44.520253: I tensorflow/core/profiler/rpc/client/capture_profile.cc:251] Creating directory: filter_cv_stl/mtl_class_c8_17_filters/stats/tensorboard/model_45_1649255262.727107/train/plugins/profile/2022_04_06_16_27_44\n",
      "Dumped tool data for xplane.pb to filter_cv_stl/mtl_class_c8_17_filters/stats/tensorboard/model_45_1649255262.727107/train/plugins/profile/2022_04_06_16_27_44/Eliass-MacBook-Pro.local.xplane.pb\n",
      "Dumped tool data for overview_page.pb to filter_cv_stl/mtl_class_c8_17_filters/stats/tensorboard/model_45_1649255262.727107/train/plugins/profile/2022_04_06_16_27_44/Eliass-MacBook-Pro.local.overview_page.pb\n",
      "Dumped tool data for input_pipeline.pb to filter_cv_stl/mtl_class_c8_17_filters/stats/tensorboard/model_45_1649255262.727107/train/plugins/profile/2022_04_06_16_27_44/Eliass-MacBook-Pro.local.input_pipeline.pb\n",
      "Dumped tool data for tensorflow_stats.pb to filter_cv_stl/mtl_class_c8_17_filters/stats/tensorboard/model_45_1649255262.727107/train/plugins/profile/2022_04_06_16_27_44/Eliass-MacBook-Pro.local.tensorflow_stats.pb\n",
      "Dumped tool data for kernel_stats.pb to filter_cv_stl/mtl_class_c8_17_filters/stats/tensorboard/model_45_1649255262.727107/train/plugins/profile/2022_04_06_16_27_44/Eliass-MacBook-Pro.local.kernel_stats.pb\n",
      "\n"
     ]
    },
    {
     "name": "stdout",
     "output_type": "stream",
     "text": [
      "1/1 [==============================] - 0s 235ms/step - loss: 0.6932 - accuracy: 0.5455 - precision_45: 0.5455 - recall_45: 0.5455 - val_loss: 0.7030 - val_accuracy: 0.1111 - val_precision_45: 0.1111 - val_recall_45: 0.1111\n",
      "Epoch 3/20\n",
      "1/1 [==============================] - 0s 124ms/step - loss: 0.6922 - accuracy: 0.5455 - precision_45: 0.5455 - recall_45: 0.5455 - val_loss: 0.7083 - val_accuracy: 0.1111 - val_precision_45: 0.1111 - val_recall_45: 0.1111\b\b\b\b\b\b\b\b\b\b\b\b\b\b\b\b\b\b\b\b\b\b\b\b\n",
      "Epoch 4/20\n",
      "1/1 [==============================] - 0s 112ms/step - loss: 0.6915 - accuracy: 0.5455 - precision_45: 0.5455 - recall_45: 0.5455 - val_loss: 0.7138 - val_accuracy: 0.1111 - val_precision_45: 0.1111 - val_recall_45: 0.1111\b\b\b\b\b\b\b\b\b\b\b\b\b\b\b\b\b\b\b\b\b\b\b\b\n",
      "Epoch 5/20\n",
      "1/1 [==============================] - 0s 120ms/step - loss: 0.6915 - accuracy: 0.5455 - precision_45: 0.5455 - recall_45: 0.5455 - val_loss: 0.7190 - val_accuracy: 0.1111 - val_precision_45: 0.1111 - val_recall_45: 0.1111\b\b\b\b\b\b\b\b\b\b\b\b\b\b\b\b\b\b\b\b\b\b\b\b\n",
      "Epoch 6/20\n",
      "1/1 [==============================] - 0s 128ms/step - loss: 0.6905 - accuracy: 0.5455 - precision_45: 0.5455 - recall_45: 0.5455 - val_loss: 0.7244 - val_accuracy: 0.1111 - val_precision_45: 0.1111 - val_recall_45: 0.1111\b\b\b\b\b\b\b\b\b\b\b\b\b\b\b\b\b\b\b\b\b\b\b\b\n",
      "1/1 [==============================] - 0s 446ms/step - loss: 0.6982 - accuracy: 0.1111 - precision_45: 0.1111 - recall_45: 0.1111\b\b\b\b\b\b\b\b\b\b\b\b\b\b\b\b\b\b\b\b\b\b\b\b\b\b\b\b\b\b\b\b\b\b\b\b\b\b\b\b\b\b\b\b\b\b\b\b\b\b\b\b\b\b\b\b\b\b\b\b\b\b\b\b\b\b\b\b\b\b\b\b\b\b\b\b\b\b\b\b\b\b\b\b\b\b\b\b\b\b\b\b\b\b\b\b\b\b\b\b\b\b\b\b\b\b\b\b\b\b\b\b\b\b\b\b\b\n",
      "Model: \"model_46\"\n",
      "_________________________________________________________________\n",
      " Layer (type)                Output Shape              Param #   \n",
      "=================================================================\n",
      " data_input (InputLayer)     [(None, 2000, 35)]        0         \n",
      "                                                                 \n",
      " conv1 (Conv1D)              (None, 2000, 17)          612       \n",
      "                                                                 \n",
      " lambda_46 (Lambda)          (None, 17)                0         \n",
      "                                                                 \n",
      " dropout_46 (Dropout)        (None, 17)                0         \n",
      "                                                                 \n",
      " phenotype_pred (Dense)      (None, 2)                 36        \n",
      "                                                                 \n",
      "=================================================================\n",
      "Total params: 648\n",
      "Trainable params: 648\n",
      "Non-trainable params: 0\n",
      "_________________________________________________________________\n",
      "None\n",
      "Epoch 1/20\n"
     ]
    },
    {
     "name": "stderr",
     "output_type": "stream",
     "text": [
      "2022-04-06 16:27:46.190865: I tensorflow/core/profiler/lib/profiler_session.cc:110] Profiler session initializing.\n",
      "2022-04-06 16:27:46.190892: I tensorflow/core/profiler/lib/profiler_session.cc:125] Profiler session started.\n",
      "2022-04-06 16:27:46.191146: I tensorflow/core/profiler/lib/profiler_session.cc:143] Profiler session tear down.\n"
     ]
    },
    {
     "name": "stdout",
     "output_type": "stream",
     "text": [
      "1/1 [==============================] - 2s 2s/step - loss: 0.6929 - accuracy: 0.5455 - precision_46: 0.5455 - recall_46: 0.5455 - val_loss: 0.6994 - val_accuracy: 0.1111 - val_precision_46: 0.1111 - val_recall_46: 0.1111\b\b\b\b\b\b\b\b\b\b\b\b\b\b\b\b\b\b\b\b\b\b\b\b\b\b\b\n",
      "Epoch 2/20\n",
      "1/1 [==============================] - ETA: 0s - loss: 0.6922 - accuracy: 0.5455 - precision_46: 0.5455 - recall_46: 0.5455"
     ]
    },
    {
     "name": "stderr",
     "output_type": "stream",
     "text": [
      "2022-04-06 16:27:48.394030: I tensorflow/core/profiler/lib/profiler_session.cc:110] Profiler session initializing.\n",
      "2022-04-06 16:27:48.394046: I tensorflow/core/profiler/lib/profiler_session.cc:125] Profiler session started.\n",
      "2022-04-06 16:27:48.572397: I tensorflow/core/profiler/lib/profiler_session.cc:67] Profiler session collecting data.\n",
      "2022-04-06 16:27:48.573704: I tensorflow/core/profiler/lib/profiler_session.cc:143] Profiler session tear down.\n",
      "2022-04-06 16:27:48.575768: I tensorflow/core/profiler/rpc/client/save_profile.cc:136] Creating directory: filter_cv_stl/mtl_class_c8_17_filters/stats/tensorboard/model_46_1649255266.190688/train/plugins/profile/2022_04_06_16_27_48\n",
      "\n",
      "2022-04-06 16:27:48.582277: I tensorflow/core/profiler/rpc/client/save_profile.cc:142] Dumped gzipped tool data for trace.json.gz to filter_cv_stl/mtl_class_c8_17_filters/stats/tensorboard/model_46_1649255266.190688/train/plugins/profile/2022_04_06_16_27_48/Eliass-MacBook-Pro.local.trace.json.gz\n",
      "2022-04-06 16:27:48.584774: I tensorflow/core/profiler/rpc/client/save_profile.cc:136] Creating directory: filter_cv_stl/mtl_class_c8_17_filters/stats/tensorboard/model_46_1649255266.190688/train/plugins/profile/2022_04_06_16_27_48\n",
      "\n",
      "2022-04-06 16:27:48.585226: I tensorflow/core/profiler/rpc/client/save_profile.cc:142] Dumped gzipped tool data for memory_profile.json.gz to filter_cv_stl/mtl_class_c8_17_filters/stats/tensorboard/model_46_1649255266.190688/train/plugins/profile/2022_04_06_16_27_48/Eliass-MacBook-Pro.local.memory_profile.json.gz\n",
      "2022-04-06 16:27:48.586718: I tensorflow/core/profiler/rpc/client/capture_profile.cc:251] Creating directory: filter_cv_stl/mtl_class_c8_17_filters/stats/tensorboard/model_46_1649255266.190688/train/plugins/profile/2022_04_06_16_27_48\n",
      "Dumped tool data for xplane.pb to filter_cv_stl/mtl_class_c8_17_filters/stats/tensorboard/model_46_1649255266.190688/train/plugins/profile/2022_04_06_16_27_48/Eliass-MacBook-Pro.local.xplane.pb\n",
      "Dumped tool data for overview_page.pb to filter_cv_stl/mtl_class_c8_17_filters/stats/tensorboard/model_46_1649255266.190688/train/plugins/profile/2022_04_06_16_27_48/Eliass-MacBook-Pro.local.overview_page.pb\n",
      "Dumped tool data for input_pipeline.pb to filter_cv_stl/mtl_class_c8_17_filters/stats/tensorboard/model_46_1649255266.190688/train/plugins/profile/2022_04_06_16_27_48/Eliass-MacBook-Pro.local.input_pipeline.pb\n",
      "Dumped tool data for tensorflow_stats.pb to filter_cv_stl/mtl_class_c8_17_filters/stats/tensorboard/model_46_1649255266.190688/train/plugins/profile/2022_04_06_16_27_48/Eliass-MacBook-Pro.local.tensorflow_stats.pb\n",
      "Dumped tool data for kernel_stats.pb to filter_cv_stl/mtl_class_c8_17_filters/stats/tensorboard/model_46_1649255266.190688/train/plugins/profile/2022_04_06_16_27_48/Eliass-MacBook-Pro.local.kernel_stats.pb\n",
      "\n"
     ]
    },
    {
     "name": "stdout",
     "output_type": "stream",
     "text": [
      "1/1 [==============================] - 0s 242ms/step - loss: 0.6922 - accuracy: 0.5455 - precision_46: 0.5455 - recall_46: 0.5455 - val_loss: 0.7048 - val_accuracy: 0.1111 - val_precision_46: 0.1111 - val_recall_46: 0.1111\n",
      "Epoch 3/20\n",
      "1/1 [==============================] - 0s 133ms/step - loss: 0.6914 - accuracy: 0.5455 - precision_46: 0.5455 - recall_46: 0.5455 - val_loss: 0.7107 - val_accuracy: 0.1111 - val_precision_46: 0.1111 - val_recall_46: 0.1111\b\b\b\b\b\b\b\b\b\b\b\b\b\b\b\b\b\b\b\b\b\b\b\b\n",
      "Epoch 4/20\n",
      "1/1 [==============================] - 0s 178ms/step - loss: 0.6910 - accuracy: 0.5455 - precision_46: 0.5455 - recall_46: 0.5455 - val_loss: 0.7174 - val_accuracy: 0.1111 - val_precision_46: 0.1111 - val_recall_46: 0.1111\b\b\b\b\b\b\b\b\b\b\b\b\b\b\b\b\b\b\b\b\b\b\b\b\n",
      "Epoch 5/20\n",
      "1/1 [==============================] - 0s 149ms/step - loss: 0.6904 - accuracy: 0.5455 - precision_46: 0.5455 - recall_46: 0.5455 - val_loss: 0.7247 - val_accuracy: 0.1111 - val_precision_46: 0.1111 - val_recall_46: 0.1111\b\b\b\b\b\b\b\b\b\b\b\b\b\b\b\b\b\b\b\b\b\b\b\b\n",
      "Epoch 6/20\n",
      "1/1 [==============================] - 0s 198ms/step - loss: 0.6894 - accuracy: 0.5455 - precision_46: 0.5455 - recall_46: 0.5455 - val_loss: 0.7318 - val_accuracy: 0.1111 - val_precision_46: 0.1111 - val_recall_46: 0.1111\b\b\b\b\b\b\b\b\b\b\b\b\b\b\b\b\b\b\b\b\b\b\b\b\n",
      "1/1 [==============================] - 0s 393ms/step - loss: 0.6994 - accuracy: 0.1111 - precision_46: 0.1111 - recall_46: 0.1111\b\b\b\b\b\b\b\b\b\b\b\b\b\b\b\b\b\b\b\b\b\b\b\b\b\b\b\b\b\b\b\b\b\b\b\b\b\b\b\b\b\b\b\b\b\b\b\b\b\b\b\b\b\b\b\b\b\b\b\b\b\b\b\b\b\b\b\b\b\b\b\b\b\b\b\b\b\b\b\b\b\b\b\b\b\b\b\b\b\b\b\b\b\b\b\b\b\b\b\b\b\b\b\b\b\b\b\b\b\b\b\b\b\b\b\b\b\n",
      "Model: \"model_47\"\n",
      "_________________________________________________________________\n",
      " Layer (type)                Output Shape              Param #   \n",
      "=================================================================\n",
      " data_input (InputLayer)     [(None, 2000, 35)]        0         \n",
      "                                                                 \n",
      " conv1 (Conv1D)              (None, 2000, 17)          612       \n",
      "                                                                 \n",
      " lambda_47 (Lambda)          (None, 17)                0         \n",
      "                                                                 \n",
      " dropout_47 (Dropout)        (None, 17)                0         \n",
      "                                                                 \n",
      " phenotype_pred (Dense)      (None, 2)                 36        \n",
      "                                                                 \n",
      "=================================================================\n",
      "Total params: 648\n",
      "Trainable params: 648\n",
      "Non-trainable params: 0\n",
      "_________________________________________________________________\n",
      "None\n",
      "Epoch 1/20\n"
     ]
    },
    {
     "name": "stderr",
     "output_type": "stream",
     "text": [
      "2022-04-06 16:27:50.502974: I tensorflow/core/profiler/lib/profiler_session.cc:110] Profiler session initializing.\n",
      "2022-04-06 16:27:50.503035: I tensorflow/core/profiler/lib/profiler_session.cc:125] Profiler session started.\n",
      "2022-04-06 16:27:50.503769: I tensorflow/core/profiler/lib/profiler_session.cc:143] Profiler session tear down.\n"
     ]
    },
    {
     "name": "stdout",
     "output_type": "stream",
     "text": [
      "1/1 [==============================] - 2s 2s/step - loss: 0.6928 - accuracy: 0.4773 - precision_47: 0.4773 - recall_47: 0.4773 - val_loss: 0.6973 - val_accuracy: 0.1111 - val_precision_47: 0.1111 - val_recall_47: 0.1111\b\b\b\b\b\b\b\b\b\b\b\b\b\b\b\b\b\b\b\b\b\b\b\b\b\b\b\n",
      "Epoch 2/20\n"
     ]
    },
    {
     "name": "stderr",
     "output_type": "stream",
     "text": [
      "2022-04-06 16:27:52.264388: I tensorflow/core/profiler/lib/profiler_session.cc:110] Profiler session initializing.\n",
      "2022-04-06 16:27:52.264409: I tensorflow/core/profiler/lib/profiler_session.cc:125] Profiler session started.\n"
     ]
    },
    {
     "name": "stdout",
     "output_type": "stream",
     "text": [
      "1/1 [==============================] - 0s 262ms/step - loss: 0.6933 - accuracy: 0.5455 - precision_47: 0.5455 - recall_47: 0.5455 - val_loss: 0.6990 - val_accuracy: 0.1111 - val_precision_47: 0.1111 - val_recall_47: 0.1111\b\b\b\b\b\b\b\b\b\b\b\b\b\b\b\b\b\b\b\b\b\b\b\b\n",
      "Epoch 3/20\n",
      "1/1 [==============================] - 0s 128ms/step - loss: 0.6929 - accuracy: 0.5455 - precision_47: 0.5455 - recall_47: 0.5455 - val_loss: 0.7008 - val_accuracy: 0.1111 - val_precision_47: 0.1111 - val_recall_47: 0.1111\b\b\b\b\b\b\b\b\b\b\b\b\b\b\b\b\b\b\b\b\b\b\b\b\n",
      "Epoch 4/20\n"
     ]
    },
    {
     "name": "stderr",
     "output_type": "stream",
     "text": [
      "2022-04-06 16:27:52.476080: I tensorflow/core/profiler/lib/profiler_session.cc:67] Profiler session collecting data.\n",
      "2022-04-06 16:27:52.477535: I tensorflow/core/profiler/lib/profiler_session.cc:143] Profiler session tear down.\n",
      "2022-04-06 16:27:52.479506: I tensorflow/core/profiler/rpc/client/save_profile.cc:136] Creating directory: filter_cv_stl/mtl_class_c8_17_filters/stats/tensorboard/model_47_1649255270.502648/train/plugins/profile/2022_04_06_16_27_52\n",
      "\n",
      "2022-04-06 16:27:52.481203: I tensorflow/core/profiler/rpc/client/save_profile.cc:142] Dumped gzipped tool data for trace.json.gz to filter_cv_stl/mtl_class_c8_17_filters/stats/tensorboard/model_47_1649255270.502648/train/plugins/profile/2022_04_06_16_27_52/Eliass-MacBook-Pro.local.trace.json.gz\n",
      "2022-04-06 16:27:52.483486: I tensorflow/core/profiler/rpc/client/save_profile.cc:136] Creating directory: filter_cv_stl/mtl_class_c8_17_filters/stats/tensorboard/model_47_1649255270.502648/train/plugins/profile/2022_04_06_16_27_52\n",
      "\n",
      "2022-04-06 16:27:52.483861: I tensorflow/core/profiler/rpc/client/save_profile.cc:142] Dumped gzipped tool data for memory_profile.json.gz to filter_cv_stl/mtl_class_c8_17_filters/stats/tensorboard/model_47_1649255270.502648/train/plugins/profile/2022_04_06_16_27_52/Eliass-MacBook-Pro.local.memory_profile.json.gz\n",
      "2022-04-06 16:27:52.485516: I tensorflow/core/profiler/rpc/client/capture_profile.cc:251] Creating directory: filter_cv_stl/mtl_class_c8_17_filters/stats/tensorboard/model_47_1649255270.502648/train/plugins/profile/2022_04_06_16_27_52\n",
      "Dumped tool data for xplane.pb to filter_cv_stl/mtl_class_c8_17_filters/stats/tensorboard/model_47_1649255270.502648/train/plugins/profile/2022_04_06_16_27_52/Eliass-MacBook-Pro.local.xplane.pb\n",
      "Dumped tool data for overview_page.pb to filter_cv_stl/mtl_class_c8_17_filters/stats/tensorboard/model_47_1649255270.502648/train/plugins/profile/2022_04_06_16_27_52/Eliass-MacBook-Pro.local.overview_page.pb\n",
      "Dumped tool data for input_pipeline.pb to filter_cv_stl/mtl_class_c8_17_filters/stats/tensorboard/model_47_1649255270.502648/train/plugins/profile/2022_04_06_16_27_52/Eliass-MacBook-Pro.local.input_pipeline.pb\n",
      "Dumped tool data for tensorflow_stats.pb to filter_cv_stl/mtl_class_c8_17_filters/stats/tensorboard/model_47_1649255270.502648/train/plugins/profile/2022_04_06_16_27_52/Eliass-MacBook-Pro.local.tensorflow_stats.pb\n",
      "Dumped tool data for kernel_stats.pb to filter_cv_stl/mtl_class_c8_17_filters/stats/tensorboard/model_47_1649255270.502648/train/plugins/profile/2022_04_06_16_27_52/Eliass-MacBook-Pro.local.kernel_stats.pb\n",
      "\n"
     ]
    },
    {
     "name": "stdout",
     "output_type": "stream",
     "text": [
      "1/1 [==============================] - 0s 137ms/step - loss: 0.6926 - accuracy: 0.5455 - precision_47: 0.5455 - recall_47: 0.5455 - val_loss: 0.7026 - val_accuracy: 0.1111 - val_precision_47: 0.1111 - val_recall_47: 0.1111\b\b\b\b\b\b\b\b\b\b\b\b\b\b\b\b\b\b\b\b\b\b\b\b\n",
      "Epoch 5/20\n",
      "1/1 [==============================] - 0s 126ms/step - loss: 0.6922 - accuracy: 0.5455 - precision_47: 0.5455 - recall_47: 0.5455 - val_loss: 0.7044 - val_accuracy: 0.1111 - val_precision_47: 0.1111 - val_recall_47: 0.1111\b\b\b\b\b\b\b\b\b\b\b\b\b\b\b\b\b\b\b\b\b\b\b\b\n",
      "Epoch 6/20\n",
      "1/1 [==============================] - 0s 134ms/step - loss: 0.6917 - accuracy: 0.5455 - precision_47: 0.5455 - recall_47: 0.5455 - val_loss: 0.7063 - val_accuracy: 0.1111 - val_precision_47: 0.1111 - val_recall_47: 0.1111\b\b\b\b\b\b\b\b\b\b\b\b\b\b\b\b\b\b\b\b\b\b\b\b\n",
      "1/1 [==============================] - 0s 439ms/step - loss: 0.6973 - accuracy: 0.1111 - precision_47: 0.1111 - recall_47: 0.1111\b\b\b\b\b\b\b\b\b\b\b\b\b\b\b\b\b\b\b\b\b\b\b\b\b\b\b\b\b\b\b\b\b\b\b\b\b\b\b\b\b\b\b\b\b\b\b\b\b\b\b\b\b\b\b\b\b\b\b\b\b\b\b\b\b\b\b\b\b\b\b\b\b\b\b\b\b\b\b\b\b\b\b\b\b\b\b\b\b\b\b\b\b\b\b\b\b\b\b\b\b\b\b\b\b\b\b\b\b\b\b\b\b\b\b\b\b\n",
      "DONE building model 17\n",
      "Model: \"model_48\"\n",
      "_________________________________________________________________\n",
      " Layer (type)                Output Shape              Param #   \n",
      "=================================================================\n",
      " data_input (InputLayer)     [(None, 2000, 35)]        0         \n",
      "                                                                 \n",
      " conv1 (Conv1D)              (None, 2000, 18)          648       \n",
      "                                                                 \n",
      " lambda_48 (Lambda)          (None, 18)                0         \n",
      "                                                                 \n",
      " dropout_48 (Dropout)        (None, 18)                0         \n",
      "                                                                 \n",
      " phenotype_pred (Dense)      (None, 2)                 38        \n",
      "                                                                 \n",
      "=================================================================\n",
      "Total params: 686\n",
      "Trainable params: 686\n",
      "Non-trainable params: 0\n",
      "_________________________________________________________________\n",
      "None\n",
      "Epoch 1/20\n"
     ]
    },
    {
     "name": "stderr",
     "output_type": "stream",
     "text": [
      "2022-04-06 16:27:54.297117: I tensorflow/core/profiler/lib/profiler_session.cc:110] Profiler session initializing.\n",
      "2022-04-06 16:27:54.297145: I tensorflow/core/profiler/lib/profiler_session.cc:125] Profiler session started.\n",
      "2022-04-06 16:27:54.297455: I tensorflow/core/profiler/lib/profiler_session.cc:143] Profiler session tear down.\n"
     ]
    },
    {
     "name": "stdout",
     "output_type": "stream",
     "text": [
      "1/1 [==============================] - 2s 2s/step - loss: 0.6931 - accuracy: 0.5682 - precision_48: 0.5682 - recall_48: 0.5682 - val_loss: 0.6953 - val_accuracy: 0.1111 - val_precision_48: 0.1111 - val_recall_48: 0.1111\b\b\b\b\b\b\b\b\b\b\b\b\b\b\b\b\b\b\b\b\b\b\b\b\b\b\b\n",
      "Epoch 2/20\n"
     ]
    },
    {
     "name": "stderr",
     "output_type": "stream",
     "text": [
      "2022-04-06 16:27:56.146360: I tensorflow/core/profiler/lib/profiler_session.cc:110] Profiler session initializing.\n",
      "2022-04-06 16:27:56.146380: I tensorflow/core/profiler/lib/profiler_session.cc:125] Profiler session started.\n"
     ]
    },
    {
     "name": "stdout",
     "output_type": "stream",
     "text": [
      "1/1 [==============================] - 0s 340ms/step - loss: 0.6929 - accuracy: 0.5455 - precision_48: 0.5455 - recall_48: 0.5455 - val_loss: 0.6963 - val_accuracy: 0.1111 - val_precision_48: 0.1111 - val_recall_48: 0.1111\b\b\b\b\b\b\b\b\b\b\b\b\b\b\b\b\b\b\b\b\b\b\b\b\n",
      "Epoch 3/20\n"
     ]
    },
    {
     "name": "stderr",
     "output_type": "stream",
     "text": [
      "2022-04-06 16:27:56.392177: I tensorflow/core/profiler/lib/profiler_session.cc:67] Profiler session collecting data.\n",
      "2022-04-06 16:27:56.394700: I tensorflow/core/profiler/lib/profiler_session.cc:143] Profiler session tear down.\n",
      "2022-04-06 16:27:56.398565: I tensorflow/core/profiler/rpc/client/save_profile.cc:136] Creating directory: filter_cv_stl/mtl_class_c8_18_filters/stats/tensorboard/model_48_1649255274.2969248/train/plugins/profile/2022_04_06_16_27_56\n",
      "\n",
      "2022-04-06 16:27:56.400435: I tensorflow/core/profiler/rpc/client/save_profile.cc:142] Dumped gzipped tool data for trace.json.gz to filter_cv_stl/mtl_class_c8_18_filters/stats/tensorboard/model_48_1649255274.2969248/train/plugins/profile/2022_04_06_16_27_56/Eliass-MacBook-Pro.local.trace.json.gz\n",
      "2022-04-06 16:27:56.405174: I tensorflow/core/profiler/rpc/client/save_profile.cc:136] Creating directory: filter_cv_stl/mtl_class_c8_18_filters/stats/tensorboard/model_48_1649255274.2969248/train/plugins/profile/2022_04_06_16_27_56\n",
      "\n",
      "2022-04-06 16:27:56.406486: I tensorflow/core/profiler/rpc/client/save_profile.cc:142] Dumped gzipped tool data for memory_profile.json.gz to filter_cv_stl/mtl_class_c8_18_filters/stats/tensorboard/model_48_1649255274.2969248/train/plugins/profile/2022_04_06_16_27_56/Eliass-MacBook-Pro.local.memory_profile.json.gz\n",
      "2022-04-06 16:27:56.411453: I tensorflow/core/profiler/rpc/client/capture_profile.cc:251] Creating directory: filter_cv_stl/mtl_class_c8_18_filters/stats/tensorboard/model_48_1649255274.2969248/train/plugins/profile/2022_04_06_16_27_56\n",
      "Dumped tool data for xplane.pb to filter_cv_stl/mtl_class_c8_18_filters/stats/tensorboard/model_48_1649255274.2969248/train/plugins/profile/2022_04_06_16_27_56/Eliass-MacBook-Pro.local.xplane.pb\n",
      "Dumped tool data for overview_page.pb to filter_cv_stl/mtl_class_c8_18_filters/stats/tensorboard/model_48_1649255274.2969248/train/plugins/profile/2022_04_06_16_27_56/Eliass-MacBook-Pro.local.overview_page.pb\n",
      "Dumped tool data for input_pipeline.pb to filter_cv_stl/mtl_class_c8_18_filters/stats/tensorboard/model_48_1649255274.2969248/train/plugins/profile/2022_04_06_16_27_56/Eliass-MacBook-Pro.local.input_pipeline.pb\n",
      "Dumped tool data for tensorflow_stats.pb to filter_cv_stl/mtl_class_c8_18_filters/stats/tensorboard/model_48_1649255274.2969248/train/plugins/profile/2022_04_06_16_27_56/Eliass-MacBook-Pro.local.tensorflow_stats.pb\n",
      "Dumped tool data for kernel_stats.pb to filter_cv_stl/mtl_class_c8_18_filters/stats/tensorboard/model_48_1649255274.2969248/train/plugins/profile/2022_04_06_16_27_56/Eliass-MacBook-Pro.local.kernel_stats.pb\n",
      "\n"
     ]
    },
    {
     "name": "stdout",
     "output_type": "stream",
     "text": [
      "1/1 [==============================] - 0s 217ms/step - loss: 0.6926 - accuracy: 0.5455 - precision_48: 0.5455 - recall_48: 0.5455 - val_loss: 0.6974 - val_accuracy: 0.1111 - val_precision_48: 0.1111 - val_recall_48: 0.1111\b\b\b\b\b\b\b\b\b\b\b\b\b\b\b\b\b\b\b\b\b\b\b\b\n",
      "Epoch 4/20\n",
      "1/1 [==============================] - 0s 203ms/step - loss: 0.6928 - accuracy: 0.5455 - precision_48: 0.5455 - recall_48: 0.5455 - val_loss: 0.6987 - val_accuracy: 0.1111 - val_precision_48: 0.1111 - val_recall_48: 0.1111\b\b\b\b\b\b\b\b\b\b\b\b\b\b\b\b\b\b\b\b\b\b\b\b\n",
      "Epoch 5/20\n",
      "1/1 [==============================] - 0s 194ms/step - loss: 0.6924 - accuracy: 0.5455 - precision_48: 0.5455 - recall_48: 0.5455 - val_loss: 0.7000 - val_accuracy: 0.1111 - val_precision_48: 0.1111 - val_recall_48: 0.1111\b\b\b\b\b\b\b\b\b\b\b\b\b\b\b\b\b\b\b\b\b\b\b\b\n",
      "Epoch 6/20\n",
      "1/1 [==============================] - 0s 213ms/step - loss: 0.6921 - accuracy: 0.5455 - precision_48: 0.5455 - recall_48: 0.5455 - val_loss: 0.7014 - val_accuracy: 0.1111 - val_precision_48: 0.1111 - val_recall_48: 0.1111\b\b\b\b\b\b\b\b\b\b\b\b\b\b\b\b\b\b\b\b\b\b\b\b\n",
      "1/1 [==============================] - 0s 407ms/step - loss: 0.6953 - accuracy: 0.1111 - precision_48: 0.1111 - recall_48: 0.1111\b\b\b\b\b\b\b\b\b\b\b\b\b\b\b\b\b\b\b\b\b\b\b\b\b\b\b\b\b\b\b\b\b\b\b\b\b\b\b\b\b\b\b\b\b\b\b\b\b\b\b\b\b\b\b\b\b\b\b\b\b\b\b\b\b\b\b\b\b\b\b\b\b\b\b\b\b\b\b\b\b\b\b\b\b\b\b\b\b\b\b\b\b\b\b\b\b\b\b\b\b\b\b\b\b\b\b\b\b\b\b\b\b\b\b\b\b\n",
      "Model: \"model_49\"\n",
      "_________________________________________________________________\n",
      " Layer (type)                Output Shape              Param #   \n",
      "=================================================================\n",
      " data_input (InputLayer)     [(None, 2000, 35)]        0         \n",
      "                                                                 \n",
      " conv1 (Conv1D)              (None, 2000, 18)          648       \n",
      "                                                                 \n",
      " lambda_49 (Lambda)          (None, 18)                0         \n",
      "                                                                 \n",
      " dropout_49 (Dropout)        (None, 18)                0         \n",
      "                                                                 \n",
      " phenotype_pred (Dense)      (None, 2)                 38        \n",
      "                                                                 \n",
      "=================================================================\n",
      "Total params: 686\n",
      "Trainable params: 686\n",
      "Non-trainable params: 0\n",
      "_________________________________________________________________\n",
      "None\n",
      "Epoch 1/20\n"
     ]
    },
    {
     "name": "stderr",
     "output_type": "stream",
     "text": [
      "2022-04-06 16:27:58.613319: I tensorflow/core/profiler/lib/profiler_session.cc:110] Profiler session initializing.\n",
      "2022-04-06 16:27:58.613352: I tensorflow/core/profiler/lib/profiler_session.cc:125] Profiler session started.\n",
      "2022-04-06 16:27:58.614530: I tensorflow/core/profiler/lib/profiler_session.cc:143] Profiler session tear down.\n"
     ]
    },
    {
     "name": "stdout",
     "output_type": "stream",
     "text": [
      "1/1 [==============================] - 1s 1s/step - loss: 0.6935 - accuracy: 0.3182 - precision_49: 0.3182 - recall_49: 0.3182 - val_loss: 0.6955 - val_accuracy: 0.1111 - val_precision_49: 0.1111 - val_recall_49: 0.1111\b\b\b\b\b\b\b\b\b\b\b\b\b\b\b\b\b\b\b\b\b\b\b\b\b\b\b\n",
      "Epoch 2/20\n",
      "1/1 [==============================] - ETA: 0s - loss: 0.6931 - accuracy: 0.5455 - precision_49: 0.5455 - recall_49: 0.5455"
     ]
    },
    {
     "name": "stderr",
     "output_type": "stream",
     "text": [
      "2022-04-06 16:28:00.105267: I tensorflow/core/profiler/lib/profiler_session.cc:110] Profiler session initializing.\n",
      "2022-04-06 16:28:00.105284: I tensorflow/core/profiler/lib/profiler_session.cc:125] Profiler session started.\n",
      "2022-04-06 16:28:00.286828: I tensorflow/core/profiler/lib/profiler_session.cc:67] Profiler session collecting data.\n",
      "2022-04-06 16:28:00.288038: I tensorflow/core/profiler/lib/profiler_session.cc:143] Profiler session tear down.\n",
      "2022-04-06 16:28:00.289880: I tensorflow/core/profiler/rpc/client/save_profile.cc:136] Creating directory: filter_cv_stl/mtl_class_c8_18_filters/stats/tensorboard/model_49_1649255278.613104/train/plugins/profile/2022_04_06_16_28_00\n",
      "\n",
      "2022-04-06 16:28:00.291386: I tensorflow/core/profiler/rpc/client/save_profile.cc:142] Dumped gzipped tool data for trace.json.gz to filter_cv_stl/mtl_class_c8_18_filters/stats/tensorboard/model_49_1649255278.613104/train/plugins/profile/2022_04_06_16_28_00/Eliass-MacBook-Pro.local.trace.json.gz\n",
      "2022-04-06 16:28:00.293465: I tensorflow/core/profiler/rpc/client/save_profile.cc:136] Creating directory: filter_cv_stl/mtl_class_c8_18_filters/stats/tensorboard/model_49_1649255278.613104/train/plugins/profile/2022_04_06_16_28_00\n",
      "\n",
      "2022-04-06 16:28:00.293895: I tensorflow/core/profiler/rpc/client/save_profile.cc:142] Dumped gzipped tool data for memory_profile.json.gz to filter_cv_stl/mtl_class_c8_18_filters/stats/tensorboard/model_49_1649255278.613104/train/plugins/profile/2022_04_06_16_28_00/Eliass-MacBook-Pro.local.memory_profile.json.gz\n",
      "2022-04-06 16:28:00.295554: I tensorflow/core/profiler/rpc/client/capture_profile.cc:251] Creating directory: filter_cv_stl/mtl_class_c8_18_filters/stats/tensorboard/model_49_1649255278.613104/train/plugins/profile/2022_04_06_16_28_00\n",
      "Dumped tool data for xplane.pb to filter_cv_stl/mtl_class_c8_18_filters/stats/tensorboard/model_49_1649255278.613104/train/plugins/profile/2022_04_06_16_28_00/Eliass-MacBook-Pro.local.xplane.pb\n",
      "Dumped tool data for overview_page.pb to filter_cv_stl/mtl_class_c8_18_filters/stats/tensorboard/model_49_1649255278.613104/train/plugins/profile/2022_04_06_16_28_00/Eliass-MacBook-Pro.local.overview_page.pb\n",
      "Dumped tool data for input_pipeline.pb to filter_cv_stl/mtl_class_c8_18_filters/stats/tensorboard/model_49_1649255278.613104/train/plugins/profile/2022_04_06_16_28_00/Eliass-MacBook-Pro.local.input_pipeline.pb\n",
      "Dumped tool data for tensorflow_stats.pb to filter_cv_stl/mtl_class_c8_18_filters/stats/tensorboard/model_49_1649255278.613104/train/plugins/profile/2022_04_06_16_28_00/Eliass-MacBook-Pro.local.tensorflow_stats.pb\n",
      "Dumped tool data for kernel_stats.pb to filter_cv_stl/mtl_class_c8_18_filters/stats/tensorboard/model_49_1649255278.613104/train/plugins/profile/2022_04_06_16_28_00/Eliass-MacBook-Pro.local.kernel_stats.pb\n",
      "\n"
     ]
    },
    {
     "name": "stdout",
     "output_type": "stream",
     "text": [
      "1/1 [==============================] - 0s 227ms/step - loss: 0.6931 - accuracy: 0.5455 - precision_49: 0.5455 - recall_49: 0.5455 - val_loss: 0.6989 - val_accuracy: 0.1111 - val_precision_49: 0.1111 - val_recall_49: 0.1111\n",
      "Epoch 3/20\n",
      "1/1 [==============================] - 0s 162ms/step - loss: 0.6927 - accuracy: 0.5455 - precision_49: 0.5455 - recall_49: 0.5455 - val_loss: 0.7020 - val_accuracy: 0.1111 - val_precision_49: 0.1111 - val_recall_49: 0.1111\b\b\b\b\b\b\b\b\b\b\b\b\b\b\b\b\b\b\b\b\b\b\b\b\n",
      "Epoch 4/20\n",
      "1/1 [==============================] - 0s 152ms/step - loss: 0.6920 - accuracy: 0.5455 - precision_49: 0.5455 - recall_49: 0.5455 - val_loss: 0.7052 - val_accuracy: 0.1111 - val_precision_49: 0.1111 - val_recall_49: 0.1111\b\b\b\b\b\b\b\b\b\b\b\b\b\b\b\b\b\b\b\b\b\b\b\b\n",
      "Epoch 5/20\n",
      "1/1 [==============================] - 0s 128ms/step - loss: 0.6918 - accuracy: 0.5455 - precision_49: 0.5455 - recall_49: 0.5455 - val_loss: 0.7085 - val_accuracy: 0.1111 - val_precision_49: 0.1111 - val_recall_49: 0.1111\b\b\b\b\b\b\b\b\b\b\b\b\b\b\b\b\b\b\b\b\b\b\b\b\n",
      "Epoch 6/20\n",
      "1/1 [==============================] - 0s 140ms/step - loss: 0.6916 - accuracy: 0.5455 - precision_49: 0.5455 - recall_49: 0.5455 - val_loss: 0.7116 - val_accuracy: 0.1111 - val_precision_49: 0.1111 - val_recall_49: 0.1111\b\b\b\b\b\b\b\b\b\b\b\b\b\b\b\b\b\b\b\b\b\b\b\b\n",
      "1/1 [==============================] - 0s 407ms/step - loss: 0.6955 - accuracy: 0.1111 - precision_49: 0.1111 - recall_49: 0.1111\b\b\b\b\b\b\b\b\b\b\b\b\b\b\b\b\b\b\b\b\b\b\b\b\b\b\b\b\b\b\b\b\b\b\b\b\b\b\b\b\b\b\b\b\b\b\b\b\b\b\b\b\b\b\b\b\b\b\b\b\b\b\b\b\b\b\b\b\b\b\b\b\b\b\b\b\b\b\b\b\b\b\b\b\b\b\b\b\b\b\b\b\b\b\b\b\b\b\b\b\b\b\b\b\b\b\b\b\b\b\b\b\b\b\b\b\b\n",
      "Model: \"model_50\"\n",
      "_________________________________________________________________\n",
      " Layer (type)                Output Shape              Param #   \n",
      "=================================================================\n",
      " data_input (InputLayer)     [(None, 2000, 35)]        0         \n",
      "                                                                 \n",
      " conv1 (Conv1D)              (None, 2000, 18)          648       \n",
      "                                                                 \n",
      " lambda_50 (Lambda)          (None, 18)                0         \n",
      "                                                                 \n",
      " dropout_50 (Dropout)        (None, 18)                0         \n",
      "                                                                 \n",
      " phenotype_pred (Dense)      (None, 2)                 38        \n",
      "                                                                 \n",
      "=================================================================\n",
      "Total params: 686\n",
      "Trainable params: 686\n",
      "Non-trainable params: 0\n",
      "_________________________________________________________________\n",
      "None\n",
      "Epoch 1/20\n"
     ]
    },
    {
     "name": "stderr",
     "output_type": "stream",
     "text": [
      "2022-04-06 16:28:02.063448: I tensorflow/core/profiler/lib/profiler_session.cc:110] Profiler session initializing.\n",
      "2022-04-06 16:28:02.063471: I tensorflow/core/profiler/lib/profiler_session.cc:125] Profiler session started.\n",
      "2022-04-06 16:28:02.063654: I tensorflow/core/profiler/lib/profiler_session.cc:143] Profiler session tear down.\n"
     ]
    },
    {
     "name": "stdout",
     "output_type": "stream",
     "text": [
      "1/1 [==============================] - 2s 2s/step - loss: 0.6932 - accuracy: 0.4545 - precision_50: 0.4545 - recall_50: 0.4545 - val_loss: 0.6956 - val_accuracy: 0.1111 - val_precision_50: 0.1111 - val_recall_50: 0.1111\b\b\b\b\b\b\b\b\b\b\b\b\b\b\b\b\b\b\b\b\b\b\b\b\b\b\b\n",
      "Epoch 2/20\n"
     ]
    },
    {
     "name": "stderr",
     "output_type": "stream",
     "text": [
      "2022-04-06 16:28:03.998424: I tensorflow/core/profiler/lib/profiler_session.cc:110] Profiler session initializing.\n",
      "2022-04-06 16:28:03.998446: I tensorflow/core/profiler/lib/profiler_session.cc:125] Profiler session started.\n"
     ]
    },
    {
     "name": "stdout",
     "output_type": "stream",
     "text": [
      "1/1 [==============================] - 0s 276ms/step - loss: 0.6930 - accuracy: 0.5455 - precision_50: 0.5455 - recall_50: 0.5455 - val_loss: 0.6969 - val_accuracy: 0.1111 - val_precision_50: 0.1111 - val_recall_50: 0.1111\b\b\b\b\b\b\b\b\b\b\b\b\b\b\b\b\b\b\b\b\b\b\b\b\n",
      "Epoch 3/20\n",
      "1/1 [==============================] - 0s 138ms/step - loss: 0.6928 - accuracy: 0.5455 - precision_50: 0.5455 - recall_50: 0.5455 - val_loss: 0.6983 - val_accuracy: 0.1111 - val_precision_50: 0.1111 - val_recall_50: 0.1111\b\b\b\b\b\b\b\b\b\b\b\b\b\b\b\b\b\b\b\b\b\b\b\b\n",
      "Epoch 4/20\n"
     ]
    },
    {
     "name": "stderr",
     "output_type": "stream",
     "text": [
      "2022-04-06 16:28:04.226709: I tensorflow/core/profiler/lib/profiler_session.cc:67] Profiler session collecting data.\n",
      "2022-04-06 16:28:04.228709: I tensorflow/core/profiler/lib/profiler_session.cc:143] Profiler session tear down.\n",
      "2022-04-06 16:28:04.232192: I tensorflow/core/profiler/rpc/client/save_profile.cc:136] Creating directory: filter_cv_stl/mtl_class_c8_18_filters/stats/tensorboard/model_50_1649255282.063264/train/plugins/profile/2022_04_06_16_28_04\n",
      "\n",
      "2022-04-06 16:28:04.234325: I tensorflow/core/profiler/rpc/client/save_profile.cc:142] Dumped gzipped tool data for trace.json.gz to filter_cv_stl/mtl_class_c8_18_filters/stats/tensorboard/model_50_1649255282.063264/train/plugins/profile/2022_04_06_16_28_04/Eliass-MacBook-Pro.local.trace.json.gz\n",
      "2022-04-06 16:28:04.236893: I tensorflow/core/profiler/rpc/client/save_profile.cc:136] Creating directory: filter_cv_stl/mtl_class_c8_18_filters/stats/tensorboard/model_50_1649255282.063264/train/plugins/profile/2022_04_06_16_28_04\n",
      "\n",
      "2022-04-06 16:28:04.237215: I tensorflow/core/profiler/rpc/client/save_profile.cc:142] Dumped gzipped tool data for memory_profile.json.gz to filter_cv_stl/mtl_class_c8_18_filters/stats/tensorboard/model_50_1649255282.063264/train/plugins/profile/2022_04_06_16_28_04/Eliass-MacBook-Pro.local.memory_profile.json.gz\n",
      "2022-04-06 16:28:04.238583: I tensorflow/core/profiler/rpc/client/capture_profile.cc:251] Creating directory: filter_cv_stl/mtl_class_c8_18_filters/stats/tensorboard/model_50_1649255282.063264/train/plugins/profile/2022_04_06_16_28_04\n",
      "Dumped tool data for xplane.pb to filter_cv_stl/mtl_class_c8_18_filters/stats/tensorboard/model_50_1649255282.063264/train/plugins/profile/2022_04_06_16_28_04/Eliass-MacBook-Pro.local.xplane.pb\n",
      "Dumped tool data for overview_page.pb to filter_cv_stl/mtl_class_c8_18_filters/stats/tensorboard/model_50_1649255282.063264/train/plugins/profile/2022_04_06_16_28_04/Eliass-MacBook-Pro.local.overview_page.pb\n",
      "Dumped tool data for input_pipeline.pb to filter_cv_stl/mtl_class_c8_18_filters/stats/tensorboard/model_50_1649255282.063264/train/plugins/profile/2022_04_06_16_28_04/Eliass-MacBook-Pro.local.input_pipeline.pb\n",
      "Dumped tool data for tensorflow_stats.pb to filter_cv_stl/mtl_class_c8_18_filters/stats/tensorboard/model_50_1649255282.063264/train/plugins/profile/2022_04_06_16_28_04/Eliass-MacBook-Pro.local.tensorflow_stats.pb\n",
      "Dumped tool data for kernel_stats.pb to filter_cv_stl/mtl_class_c8_18_filters/stats/tensorboard/model_50_1649255282.063264/train/plugins/profile/2022_04_06_16_28_04/Eliass-MacBook-Pro.local.kernel_stats.pb\n",
      "\n"
     ]
    },
    {
     "name": "stdout",
     "output_type": "stream",
     "text": [
      "1/1 [==============================] - 0s 138ms/step - loss: 0.6926 - accuracy: 0.5455 - precision_50: 0.5455 - recall_50: 0.5455 - val_loss: 0.6996 - val_accuracy: 0.1111 - val_precision_50: 0.1111 - val_recall_50: 0.1111\b\b\b\b\b\b\b\b\b\b\b\b\b\b\b\b\b\b\b\b\b\b\b\b\n",
      "Epoch 5/20\n",
      "1/1 [==============================] - 0s 151ms/step - loss: 0.6923 - accuracy: 0.5455 - precision_50: 0.5455 - recall_50: 0.5455 - val_loss: 0.7010 - val_accuracy: 0.1111 - val_precision_50: 0.1111 - val_recall_50: 0.1111\b\b\b\b\b\b\b\b\b\b\b\b\b\b\b\b\b\b\b\b\b\b\b\b\n",
      "Epoch 6/20\n",
      "1/1 [==============================] - 0s 140ms/step - loss: 0.6924 - accuracy: 0.5455 - precision_50: 0.5455 - recall_50: 0.5455 - val_loss: 0.7023 - val_accuracy: 0.1111 - val_precision_50: 0.1111 - val_recall_50: 0.1111\b\b\b\b\b\b\b\b\b\b\b\b\b\b\b\b\b\b\b\b\b\b\b\b\n",
      "1/1 [==============================] - 0s 347ms/step - loss: 0.6956 - accuracy: 0.1111 - precision_50: 0.1111 - recall_50: 0.1111\b\b\b\b\b\b\b\b\b\b\b\b\b\b\b\b\b\b\b\b\b\b\b\b\b\b\b\b\b\b\b\b\b\b\b\b\b\b\b\b\b\b\b\b\b\b\b\b\b\b\b\b\b\b\b\b\b\b\b\b\b\b\b\b\b\b\b\b\b\b\b\b\b\b\b\b\b\b\b\b\b\b\b\b\b\b\b\b\b\b\b\b\b\b\b\b\b\b\b\b\b\b\b\b\b\b\b\b\b\b\b\b\b\b\b\b\b\n",
      "DONE building model 18\n",
      "Model: \"model_51\"\n",
      "_________________________________________________________________\n",
      " Layer (type)                Output Shape              Param #   \n",
      "=================================================================\n",
      " data_input (InputLayer)     [(None, 2000, 35)]        0         \n",
      "                                                                 \n",
      " conv1 (Conv1D)              (None, 2000, 19)          684       \n",
      "                                                                 \n",
      " lambda_51 (Lambda)          (None, 19)                0         \n",
      "                                                                 \n",
      " dropout_51 (Dropout)        (None, 19)                0         \n",
      "                                                                 \n",
      " phenotype_pred (Dense)      (None, 2)                 40        \n",
      "                                                                 \n",
      "=================================================================\n",
      "Total params: 724\n",
      "Trainable params: 724\n",
      "Non-trainable params: 0\n",
      "_________________________________________________________________\n",
      "None\n",
      "Epoch 1/20\n"
     ]
    },
    {
     "name": "stderr",
     "output_type": "stream",
     "text": [
      "2022-04-06 16:28:06.059830: I tensorflow/core/profiler/lib/profiler_session.cc:110] Profiler session initializing.\n",
      "2022-04-06 16:28:06.059851: I tensorflow/core/profiler/lib/profiler_session.cc:125] Profiler session started.\n",
      "2022-04-06 16:28:06.060357: I tensorflow/core/profiler/lib/profiler_session.cc:143] Profiler session tear down.\n"
     ]
    },
    {
     "name": "stdout",
     "output_type": "stream",
     "text": [
      "1/1 [==============================] - 2s 2s/step - loss: 0.6933 - accuracy: 0.4318 - precision_51: 0.4318 - recall_51: 0.4318 - val_loss: 0.6996 - val_accuracy: 0.1111 - val_precision_51: 0.1111 - val_recall_51: 0.1111\b\b\b\b\b\b\b\b\b\b\b\b\b\b\b\b\b\b\b\b\b\b\b\b\b\b\b\n",
      "Epoch 2/20\n"
     ]
    },
    {
     "name": "stderr",
     "output_type": "stream",
     "text": [
      "2022-04-06 16:28:07.725566: I tensorflow/core/profiler/lib/profiler_session.cc:110] Profiler session initializing.\n",
      "2022-04-06 16:28:07.725584: I tensorflow/core/profiler/lib/profiler_session.cc:125] Profiler session started.\n",
      "2022-04-06 16:28:07.923568: I tensorflow/core/profiler/lib/profiler_session.cc:67] Profiler session collecting data.\n",
      "2022-04-06 16:28:07.925563: I tensorflow/core/profiler/lib/profiler_session.cc:143] Profiler session tear down.\n"
     ]
    },
    {
     "name": "stdout",
     "output_type": "stream",
     "text": [
      "1/1 [==============================] - 0s 244ms/step - loss: 0.6917 - accuracy: 0.5455 - precision_51: 0.5455 - recall_51: 0.5455 - val_loss: 0.7091 - val_accuracy: 0.1111 - val_precision_51: 0.1111 - val_recall_51: 0.1111\b\b\b\b\b\b\b\b\b\b\b\b\b\b\b\b\b\b\b\b\b\b\b\b\n",
      "Epoch 3/20\n",
      "1/1 [==============================] - 0s 145ms/step - loss: 0.6911 - accuracy: 0.5455 - precision_51: 0.5455 - recall_51: 0.5455 - val_loss: 0.7198 - val_accuracy: 0.1111 - val_precision_51: 0.1111 - val_recall_51: 0.1111\b\b\b\b\b\b\b\b\b\b\b\b\b\b\b\b\b\b\b\b\b\b\b\b\n",
      "Epoch 4/20\n"
     ]
    },
    {
     "name": "stderr",
     "output_type": "stream",
     "text": [
      "2022-04-06 16:28:07.927895: I tensorflow/core/profiler/rpc/client/save_profile.cc:136] Creating directory: filter_cv_stl/mtl_class_c8_19_filters/stats/tensorboard/model_51_1649255286.05968/train/plugins/profile/2022_04_06_16_28_07\n",
      "\n",
      "2022-04-06 16:28:07.929974: I tensorflow/core/profiler/rpc/client/save_profile.cc:142] Dumped gzipped tool data for trace.json.gz to filter_cv_stl/mtl_class_c8_19_filters/stats/tensorboard/model_51_1649255286.05968/train/plugins/profile/2022_04_06_16_28_07/Eliass-MacBook-Pro.local.trace.json.gz\n",
      "2022-04-06 16:28:07.932490: I tensorflow/core/profiler/rpc/client/save_profile.cc:136] Creating directory: filter_cv_stl/mtl_class_c8_19_filters/stats/tensorboard/model_51_1649255286.05968/train/plugins/profile/2022_04_06_16_28_07\n",
      "\n",
      "2022-04-06 16:28:07.932901: I tensorflow/core/profiler/rpc/client/save_profile.cc:142] Dumped gzipped tool data for memory_profile.json.gz to filter_cv_stl/mtl_class_c8_19_filters/stats/tensorboard/model_51_1649255286.05968/train/plugins/profile/2022_04_06_16_28_07/Eliass-MacBook-Pro.local.memory_profile.json.gz\n",
      "2022-04-06 16:28:07.934650: I tensorflow/core/profiler/rpc/client/capture_profile.cc:251] Creating directory: filter_cv_stl/mtl_class_c8_19_filters/stats/tensorboard/model_51_1649255286.05968/train/plugins/profile/2022_04_06_16_28_07\n",
      "Dumped tool data for xplane.pb to filter_cv_stl/mtl_class_c8_19_filters/stats/tensorboard/model_51_1649255286.05968/train/plugins/profile/2022_04_06_16_28_07/Eliass-MacBook-Pro.local.xplane.pb\n",
      "Dumped tool data for overview_page.pb to filter_cv_stl/mtl_class_c8_19_filters/stats/tensorboard/model_51_1649255286.05968/train/plugins/profile/2022_04_06_16_28_07/Eliass-MacBook-Pro.local.overview_page.pb\n",
      "Dumped tool data for input_pipeline.pb to filter_cv_stl/mtl_class_c8_19_filters/stats/tensorboard/model_51_1649255286.05968/train/plugins/profile/2022_04_06_16_28_07/Eliass-MacBook-Pro.local.input_pipeline.pb\n",
      "Dumped tool data for tensorflow_stats.pb to filter_cv_stl/mtl_class_c8_19_filters/stats/tensorboard/model_51_1649255286.05968/train/plugins/profile/2022_04_06_16_28_07/Eliass-MacBook-Pro.local.tensorflow_stats.pb\n",
      "Dumped tool data for kernel_stats.pb to filter_cv_stl/mtl_class_c8_19_filters/stats/tensorboard/model_51_1649255286.05968/train/plugins/profile/2022_04_06_16_28_07/Eliass-MacBook-Pro.local.kernel_stats.pb\n",
      "\n"
     ]
    },
    {
     "name": "stdout",
     "output_type": "stream",
     "text": [
      "1/1 [==============================] - 0s 146ms/step - loss: 0.6903 - accuracy: 0.5455 - precision_51: 0.5455 - recall_51: 0.5455 - val_loss: 0.7300 - val_accuracy: 0.1111 - val_precision_51: 0.1111 - val_recall_51: 0.1111\b\b\b\b\b\b\b\b\b\b\b\b\b\b\b\b\b\b\b\b\b\b\b\b\n",
      "Epoch 5/20\n",
      "1/1 [==============================] - 0s 148ms/step - loss: 0.6900 - accuracy: 0.5455 - precision_51: 0.5455 - recall_51: 0.5455 - val_loss: 0.7395 - val_accuracy: 0.1111 - val_precision_51: 0.1111 - val_recall_51: 0.1111\b\b\b\b\b\b\b\b\b\b\b\b\b\b\b\b\b\b\b\b\b\b\b\b\n",
      "Epoch 6/20\n",
      "1/1 [==============================] - 0s 145ms/step - loss: 0.6903 - accuracy: 0.5455 - precision_51: 0.5455 - recall_51: 0.5455 - val_loss: 0.7485 - val_accuracy: 0.1111 - val_precision_51: 0.1111 - val_recall_51: 0.1111\b\b\b\b\b\b\b\b\b\b\b\b\b\b\b\b\b\b\b\b\b\b\b\b\n",
      "1/1 [==============================] - 0s 405ms/step - loss: 0.6996 - accuracy: 0.1111 - precision_51: 0.1111 - recall_51: 0.1111\b\b\b\b\b\b\b\b\b\b\b\b\b\b\b\b\b\b\b\b\b\b\b\b\b\b\b\b\b\b\b\b\b\b\b\b\b\b\b\b\b\b\b\b\b\b\b\b\b\b\b\b\b\b\b\b\b\b\b\b\b\b\b\b\b\b\b\b\b\b\b\b\b\b\b\b\b\b\b\b\b\b\b\b\b\b\b\b\b\b\b\b\b\b\b\b\b\b\b\b\b\b\b\b\b\b\b\b\b\b\b\b\b\b\b\b\b\n",
      "Model: \"model_52\"\n",
      "_________________________________________________________________\n",
      " Layer (type)                Output Shape              Param #   \n",
      "=================================================================\n",
      " data_input (InputLayer)     [(None, 2000, 35)]        0         \n",
      "                                                                 \n",
      " conv1 (Conv1D)              (None, 2000, 19)          684       \n",
      "                                                                 \n",
      " lambda_52 (Lambda)          (None, 19)                0         \n",
      "                                                                 \n",
      " dropout_52 (Dropout)        (None, 19)                0         \n",
      "                                                                 \n",
      " phenotype_pred (Dense)      (None, 2)                 40        \n",
      "                                                                 \n",
      "=================================================================\n",
      "Total params: 724\n",
      "Trainable params: 724\n",
      "Non-trainable params: 0\n",
      "_________________________________________________________________\n",
      "None\n",
      "Epoch 1/20\n"
     ]
    },
    {
     "name": "stderr",
     "output_type": "stream",
     "text": [
      "2022-04-06 16:28:09.693428: I tensorflow/core/profiler/lib/profiler_session.cc:110] Profiler session initializing.\n",
      "2022-04-06 16:28:09.693448: I tensorflow/core/profiler/lib/profiler_session.cc:125] Profiler session started.\n",
      "2022-04-06 16:28:09.693902: I tensorflow/core/profiler/lib/profiler_session.cc:143] Profiler session tear down.\n"
     ]
    },
    {
     "name": "stdout",
     "output_type": "stream",
     "text": [
      "1/1 [==============================] - 1s 1s/step - loss: 0.6933 - accuracy: 0.5000 - precision_52: 0.5000 - recall_52: 0.5000 - val_loss: 0.6928 - val_accuracy: 0.7778 - val_precision_52: 0.7778 - val_recall_52: 0.7778\b\b\b\b\b\b\b\b\b\b\b\b\b\b\b\b\b\b\b\b\b\b\b\b\b\b\b\n",
      "Epoch 2/20\n"
     ]
    },
    {
     "name": "stderr",
     "output_type": "stream",
     "text": [
      "2022-04-06 16:28:11.246003: I tensorflow/core/profiler/lib/profiler_session.cc:110] Profiler session initializing.\n",
      "2022-04-06 16:28:11.246026: I tensorflow/core/profiler/lib/profiler_session.cc:125] Profiler session started.\n",
      "2022-04-06 16:28:11.437777: I tensorflow/core/profiler/lib/profiler_session.cc:67] Profiler session collecting data.\n",
      "2022-04-06 16:28:11.438980: I tensorflow/core/profiler/lib/profiler_session.cc:143] Profiler session tear down.\n",
      "2022-04-06 16:28:11.440835: I tensorflow/core/profiler/rpc/client/save_profile.cc:136] Creating directory: filter_cv_stl/mtl_class_c8_19_filters/stats/tensorboard/model_52_1649255289.693253/train/plugins/profile/2022_04_06_16_28_11\n",
      "\n",
      "2022-04-06 16:28:11.443224: I tensorflow/core/profiler/rpc/client/save_profile.cc:142] Dumped gzipped tool data for trace.json.gz to filter_cv_stl/mtl_class_c8_19_filters/stats/tensorboard/model_52_1649255289.693253/train/plugins/profile/2022_04_06_16_28_11/Eliass-MacBook-Pro.local.trace.json.gz\n",
      "2022-04-06 16:28:11.445661: I tensorflow/core/profiler/rpc/client/save_profile.cc:136] Creating directory: filter_cv_stl/mtl_class_c8_19_filters/stats/tensorboard/model_52_1649255289.693253/train/plugins/profile/2022_04_06_16_28_11\n",
      "\n",
      "2022-04-06 16:28:11.446047: I tensorflow/core/profiler/rpc/client/save_profile.cc:142] Dumped gzipped tool data for memory_profile.json.gz to filter_cv_stl/mtl_class_c8_19_filters/stats/tensorboard/model_52_1649255289.693253/train/plugins/profile/2022_04_06_16_28_11/Eliass-MacBook-Pro.local.memory_profile.json.gz\n"
     ]
    },
    {
     "name": "stdout",
     "output_type": "stream",
     "text": [
      "1/1 [==============================] - 0s 240ms/step - loss: 0.6932 - accuracy: 0.5227 - precision_52: 0.5227 - recall_52: 0.5227 - val_loss: 0.6946 - val_accuracy: 0.1111 - val_precision_52: 0.1111 - val_recall_52: 0.1111\b\b\b\b\b\b\b\b\b\b\b\b\b\b\b\b\b\b\b\b\b\b\b\b\n",
      "Epoch 3/20\n",
      "1/1 [==============================] - 0s 143ms/step - loss: 0.6929 - accuracy: 0.6364 - precision_52: 0.6364 - recall_52: 0.6364 - val_loss: 0.6963 - val_accuracy: 0.1111 - val_precision_52: 0.1111 - val_recall_52: 0.1111\b\b\b\b\b\b\b\b\b\b\b\b\b\b\b\b\b\b\b\b\b\b\b\b\n",
      "Epoch 4/20\n"
     ]
    },
    {
     "name": "stderr",
     "output_type": "stream",
     "text": [
      "2022-04-06 16:28:11.447562: I tensorflow/core/profiler/rpc/client/capture_profile.cc:251] Creating directory: filter_cv_stl/mtl_class_c8_19_filters/stats/tensorboard/model_52_1649255289.693253/train/plugins/profile/2022_04_06_16_28_11\n",
      "Dumped tool data for xplane.pb to filter_cv_stl/mtl_class_c8_19_filters/stats/tensorboard/model_52_1649255289.693253/train/plugins/profile/2022_04_06_16_28_11/Eliass-MacBook-Pro.local.xplane.pb\n",
      "Dumped tool data for overview_page.pb to filter_cv_stl/mtl_class_c8_19_filters/stats/tensorboard/model_52_1649255289.693253/train/plugins/profile/2022_04_06_16_28_11/Eliass-MacBook-Pro.local.overview_page.pb\n",
      "Dumped tool data for input_pipeline.pb to filter_cv_stl/mtl_class_c8_19_filters/stats/tensorboard/model_52_1649255289.693253/train/plugins/profile/2022_04_06_16_28_11/Eliass-MacBook-Pro.local.input_pipeline.pb\n",
      "Dumped tool data for tensorflow_stats.pb to filter_cv_stl/mtl_class_c8_19_filters/stats/tensorboard/model_52_1649255289.693253/train/plugins/profile/2022_04_06_16_28_11/Eliass-MacBook-Pro.local.tensorflow_stats.pb\n",
      "Dumped tool data for kernel_stats.pb to filter_cv_stl/mtl_class_c8_19_filters/stats/tensorboard/model_52_1649255289.693253/train/plugins/profile/2022_04_06_16_28_11/Eliass-MacBook-Pro.local.kernel_stats.pb\n",
      "\n"
     ]
    },
    {
     "name": "stdout",
     "output_type": "stream",
     "text": [
      "1/1 [==============================] - 0s 143ms/step - loss: 0.6927 - accuracy: 0.5455 - precision_52: 0.5455 - recall_52: 0.5455 - val_loss: 0.6979 - val_accuracy: 0.1111 - val_precision_52: 0.1111 - val_recall_52: 0.1111\b\b\b\b\b\b\b\b\b\b\b\b\b\b\b\b\b\b\b\b\b\b\b\b\n",
      "Epoch 5/20\n",
      "1/1 [==============================] - 0s 151ms/step - loss: 0.6929 - accuracy: 0.5455 - precision_52: 0.5455 - recall_52: 0.5455 - val_loss: 0.6994 - val_accuracy: 0.1111 - val_precision_52: 0.1111 - val_recall_52: 0.1111\b\b\b\b\b\b\b\b\b\b\b\b\b\b\b\b\b\b\b\b\b\b\b\b\n",
      "Epoch 6/20\n",
      "1/1 [==============================] - 0s 144ms/step - loss: 0.6921 - accuracy: 0.5455 - precision_52: 0.5455 - recall_52: 0.5455 - val_loss: 0.7009 - val_accuracy: 0.1111 - val_precision_52: 0.1111 - val_recall_52: 0.1111\b\b\b\b\b\b\b\b\b\b\b\b\b\b\b\b\b\b\b\b\b\b\b\b\n",
      "1/1 [==============================] - 0s 438ms/step - loss: 0.6928 - accuracy: 0.7778 - precision_52: 0.7778 - recall_52: 0.7778\b\b\b\b\b\b\b\b\b\b\b\b\b\b\b\b\b\b\b\b\b\b\b\b\b\b\b\b\b\b\b\b\b\b\b\b\b\b\b\b\b\b\b\b\b\b\b\b\b\b\b\b\b\b\b\b\b\b\b\b\b\b\b\b\b\b\b\b\b\b\b\b\b\b\b\b\b\b\b\b\b\b\b\b\b\b\b\b\b\b\b\b\b\b\b\b\b\b\b\b\b\b\b\b\b\b\b\b\b\b\b\b\b\b\b\b\b\n",
      "Model: \"model_53\"\n",
      "_________________________________________________________________\n",
      " Layer (type)                Output Shape              Param #   \n",
      "=================================================================\n",
      " data_input (InputLayer)     [(None, 2000, 35)]        0         \n",
      "                                                                 \n",
      " conv1 (Conv1D)              (None, 2000, 19)          684       \n",
      "                                                                 \n",
      " lambda_53 (Lambda)          (None, 19)                0         \n",
      "                                                                 \n",
      " dropout_53 (Dropout)        (None, 19)                0         \n",
      "                                                                 \n",
      " phenotype_pred (Dense)      (None, 2)                 40        \n",
      "                                                                 \n",
      "=================================================================\n",
      "Total params: 724\n",
      "Trainable params: 724\n",
      "Non-trainable params: 0\n",
      "_________________________________________________________________\n",
      "None\n",
      "Epoch 1/20\n"
     ]
    },
    {
     "name": "stderr",
     "output_type": "stream",
     "text": [
      "2022-04-06 16:28:13.219235: I tensorflow/core/profiler/lib/profiler_session.cc:110] Profiler session initializing.\n",
      "2022-04-06 16:28:13.219262: I tensorflow/core/profiler/lib/profiler_session.cc:125] Profiler session started.\n",
      "2022-04-06 16:28:13.220081: I tensorflow/core/profiler/lib/profiler_session.cc:143] Profiler session tear down.\n"
     ]
    },
    {
     "name": "stdout",
     "output_type": "stream",
     "text": [
      "1/1 [==============================] - 1s 1s/step - loss: 0.6930 - accuracy: 0.5455 - precision_53: 0.5455 - recall_53: 0.5455 - val_loss: 0.6943 - val_accuracy: 0.1111 - val_precision_53: 0.1111 - val_recall_53: 0.1111\b\b\b\b\b\b\b\b\b\b\b\b\b\b\b\b\b\b\b\b\b\b\b\b\b\b\b\n",
      "Epoch 2/20\n",
      "1/1 [==============================] - ETA: 0s - loss: 0.6928 - accuracy: 0.6591 - precision_53: 0.6591 - recall_53: 0.6591"
     ]
    },
    {
     "name": "stderr",
     "output_type": "stream",
     "text": [
      "2022-04-06 16:28:14.761505: I tensorflow/core/profiler/lib/profiler_session.cc:110] Profiler session initializing.\n",
      "2022-04-06 16:28:14.761532: I tensorflow/core/profiler/lib/profiler_session.cc:125] Profiler session started.\n",
      "2022-04-06 16:28:14.942942: I tensorflow/core/profiler/lib/profiler_session.cc:67] Profiler session collecting data.\n",
      "2022-04-06 16:28:14.944159: I tensorflow/core/profiler/lib/profiler_session.cc:143] Profiler session tear down.\n",
      "2022-04-06 16:28:14.945894: I tensorflow/core/profiler/rpc/client/save_profile.cc:136] Creating directory: filter_cv_stl/mtl_class_c8_19_filters/stats/tensorboard/model_53_1649255293.219061/train/plugins/profile/2022_04_06_16_28_14\n",
      "\n",
      "2022-04-06 16:28:14.947667: I tensorflow/core/profiler/rpc/client/save_profile.cc:142] Dumped gzipped tool data for trace.json.gz to filter_cv_stl/mtl_class_c8_19_filters/stats/tensorboard/model_53_1649255293.219061/train/plugins/profile/2022_04_06_16_28_14/Eliass-MacBook-Pro.local.trace.json.gz\n",
      "2022-04-06 16:28:14.950556: I tensorflow/core/profiler/rpc/client/save_profile.cc:136] Creating directory: filter_cv_stl/mtl_class_c8_19_filters/stats/tensorboard/model_53_1649255293.219061/train/plugins/profile/2022_04_06_16_28_14\n",
      "\n",
      "2022-04-06 16:28:14.950871: I tensorflow/core/profiler/rpc/client/save_profile.cc:142] Dumped gzipped tool data for memory_profile.json.gz to filter_cv_stl/mtl_class_c8_19_filters/stats/tensorboard/model_53_1649255293.219061/train/plugins/profile/2022_04_06_16_28_14/Eliass-MacBook-Pro.local.memory_profile.json.gz\n",
      "2022-04-06 16:28:14.952509: I tensorflow/core/profiler/rpc/client/capture_profile.cc:251] Creating directory: filter_cv_stl/mtl_class_c8_19_filters/stats/tensorboard/model_53_1649255293.219061/train/plugins/profile/2022_04_06_16_28_14\n",
      "Dumped tool data for xplane.pb to filter_cv_stl/mtl_class_c8_19_filters/stats/tensorboard/model_53_1649255293.219061/train/plugins/profile/2022_04_06_16_28_14/Eliass-MacBook-Pro.local.xplane.pb\n",
      "Dumped tool data for overview_page.pb to filter_cv_stl/mtl_class_c8_19_filters/stats/tensorboard/model_53_1649255293.219061/train/plugins/profile/2022_04_06_16_28_14/Eliass-MacBook-Pro.local.overview_page.pb\n",
      "Dumped tool data for input_pipeline.pb to filter_cv_stl/mtl_class_c8_19_filters/stats/tensorboard/model_53_1649255293.219061/train/plugins/profile/2022_04_06_16_28_14/Eliass-MacBook-Pro.local.input_pipeline.pb\n",
      "Dumped tool data for tensorflow_stats.pb to filter_cv_stl/mtl_class_c8_19_filters/stats/tensorboard/model_53_1649255293.219061/train/plugins/profile/2022_04_06_16_28_14/Eliass-MacBook-Pro.local.tensorflow_stats.pb\n",
      "Dumped tool data for kernel_stats.pb to filter_cv_stl/mtl_class_c8_19_filters/stats/tensorboard/model_53_1649255293.219061/train/plugins/profile/2022_04_06_16_28_14/Eliass-MacBook-Pro.local.kernel_stats.pb\n",
      "\n"
     ]
    },
    {
     "name": "stdout",
     "output_type": "stream",
     "text": [
      "1/1 [==============================] - 0s 231ms/step - loss: 0.6928 - accuracy: 0.6591 - precision_53: 0.6591 - recall_53: 0.6591 - val_loss: 0.6956 - val_accuracy: 0.1111 - val_precision_53: 0.1111 - val_recall_53: 0.1111\n",
      "Epoch 3/20\n",
      "1/1 [==============================] - 0s 140ms/step - loss: 0.6924 - accuracy: 0.5909 - precision_53: 0.5909 - recall_53: 0.5909 - val_loss: 0.6969 - val_accuracy: 0.1111 - val_precision_53: 0.1111 - val_recall_53: 0.1111\b\b\b\b\b\b\b\b\b\b\b\b\b\b\b\b\b\b\b\b\b\b\b\b\n",
      "Epoch 4/20\n",
      "1/1 [==============================] - 0s 137ms/step - loss: 0.6935 - accuracy: 0.5455 - precision_53: 0.5455 - recall_53: 0.5455 - val_loss: 0.6981 - val_accuracy: 0.1111 - val_precision_53: 0.1111 - val_recall_53: 0.1111\b\b\b\b\b\b\b\b\b\b\b\b\b\b\b\b\b\b\b\b\b\b\b\b\n",
      "Epoch 5/20\n",
      "1/1 [==============================] - 0s 136ms/step - loss: 0.6930 - accuracy: 0.5455 - precision_53: 0.5455 - recall_53: 0.5455 - val_loss: 0.6993 - val_accuracy: 0.1111 - val_precision_53: 0.1111 - val_recall_53: 0.1111\b\b\b\b\b\b\b\b\b\b\b\b\b\b\b\b\b\b\b\b\b\b\b\b\n",
      "Epoch 6/20\n",
      "1/1 [==============================] - 0s 156ms/step - loss: 0.6931 - accuracy: 0.5455 - precision_53: 0.5455 - recall_53: 0.5455 - val_loss: 0.7004 - val_accuracy: 0.1111 - val_precision_53: 0.1111 - val_recall_53: 0.1111\b\b\b\b\b\b\b\b\b\b\b\b\b\b\b\b\b\b\b\b\b\b\b\b\n",
      "1/1 [==============================] - 0s 364ms/step - loss: 0.6943 - accuracy: 0.1111 - precision_53: 0.1111 - recall_53: 0.1111\b\b\b\b\b\b\b\b\b\b\b\b\b\b\b\b\b\b\b\b\b\b\b\b\b\b\b\b\b\b\b\b\b\b\b\b\b\b\b\b\b\b\b\b\b\b\b\b\b\b\b\b\b\b\b\b\b\b\b\b\b\b\b\b\b\b\b\b\b\b\b\b\b\b\b\b\b\b\b\b\b\b\b\b\b\b\b\b\b\b\b\b\b\b\b\b\b\b\b\b\b\b\b\b\b\b\b\b\b\b\b\b\b\b\b\b\b\n",
      "DONE building model 19\n",
      "DONE building models\n"
     ]
    }
   ],
   "source": [
    "print('Filter CV')\n",
    "accs = dict()\n",
    "nfilters_max = 20\n",
    "for i in range(2, nfilters_max):\n",
    "    outdir = f'filter_cv_stl/mtl_class_c8_{i}_filters'\n",
    "    model = get_fitted_model(X_train, X_valid, y_train, y_valid,\n",
    "                             nsubset=100, ncell=2000,\n",
    "                             quant_normed=True, scale=False,\n",
    "                             nfilters=[i], max_epochs=20,\n",
    "                             learning_rate=None, nrun=3,\n",
    "                             per_sample=True, regression=False,\n",
    "                             maxpool_percentages=[0.5, 1.0, 2.5, 5.0, 10.0],\n",
    "                             outdir=outdir, verbose=True, mtl_tasks=1)\n",
    "    results = model.results\n",
    "    accs[i] = results['accuracies']\n",
    "    pickle.dump(results, open(os.path.join(outdir, 'results.pkl'), 'wb'))\n",
    "    save_results(results, outdir, cytokines)\n",
    "    print(f'DONE building model {i}')\n",
    "print('DONE building models')\n",
    "np.save('resulting_accs.npy', accs)"
   ],
   "metadata": {
    "collapsed": false,
    "pycharm": {
     "name": "#%%\n"
    }
   }
  },
  {
   "cell_type": "code",
   "execution_count": null,
   "outputs": [],
   "source": [],
   "metadata": {
    "collapsed": false,
    "pycharm": {
     "name": "#%%\n"
    }
   }
  }
 ],
 "metadata": {
  "kernelspec": {
   "display_name": "PyCharm (cellCNN_mtl)",
   "language": "python",
   "name": "pycharm-f8b1a153"
  },
  "language_info": {
   "codemirror_mode": {
    "name": "ipython",
    "version": 2
   },
   "file_extension": ".py",
   "mimetype": "text/x-python",
   "name": "python",
   "nbconvert_exporter": "python",
   "pygments_lexer": "ipython2",
   "version": "2.7.6"
  }
 },
 "nbformat": 4,
 "nbformat_minor": 0
}
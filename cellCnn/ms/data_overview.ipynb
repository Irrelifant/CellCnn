{
 "cells": [
  {
   "cell_type": "code",
   "execution_count": 1,
   "metadata": {
    "collapsed": true
   },
   "outputs": [],
   "source": [
    "\n",
    "\n",
    "import cellCnn\n",
    "import importlib\n",
    "importlib.reload(cellCnn)\n",
    "import random\n",
    "import numpy as np\n",
    "### (from: https://github.com/eiriniar/CellCnn/blob/0413a9f49fe0831c8fe3280957fb341f9e028d2d/cellCnn/examples/NK_cell_ungated.ipynb ) AND https://github.com/eiriniar/CellCnn/blob/0413a9f49fe0831c8fe3280957fb341f9e028d2d/cellCnn/examples/PBMC.ipynb\n",
    "import pandas as pd\n",
    "from sklearn.metrics import roc_auc_score\n",
    "from sklearn.utils import shuffle\n",
    "import seaborn as sns\n",
    "import matplotlib.pyplot as plt\n",
    "\n",
    "from cellCnn.ms.utils.helpers import get_min_mean_from_clusters, get_chunks\n",
    "from cellCnn.utils import mkdir_p\n",
    "from cellCnn.plotting import plot_results\n",
    "from cellCnn.ms.utils.helpers import get_chunks\n",
    "from cellCnn.ms.utils.helpers import print_regression_model_stats\n",
    "from cellCnn.plotting import plot_results\n",
    "from cellCnn.utils import mkdir_p\n",
    "from cellCnn.utils import save_results\n",
    "from cellCnn.ms.utils.helpers import get_fitted_model\n",
    "from cellCnn.ms.utils.helpers import split_test_valid_train\n",
    "from cellCnn.ms.utils.helpers import calc_frequencies, get_chunks_from_df\n",
    "\n",
    "import os\n",
    "from sklearn.model_selection import StratifiedKFold\n",
    "from sklearn.metrics import accuracy_score\n",
    "from sklearn.model_selection import KFold"
   ]
  },
  {
   "cell_type": "code",
   "execution_count": 2,
   "outputs": [],
   "source": [
    "#%reset"
   ],
   "metadata": {
    "collapsed": false,
    "pycharm": {
     "name": "#%%\n"
    }
   }
  },
  {
   "cell_type": "code",
   "execution_count": 3,
   "outputs": [],
   "source": [
    "##### state vars\n",
    "cytokines = ['CCR2', 'CCR4', 'CCR6', 'CCR7', 'CXCR4', 'CXCR5', 'CD103', 'CD14', 'CD20', 'CD25', 'CD27', 'CD28', 'CD3',\n",
    "             'CD4', 'CD45RA', 'CD45RO', 'CD56', 'CD57', 'CD69', 'CD8', 'TCRgd', 'PD.1', 'GM.CSF', 'IFN.g', 'IL.10',\n",
    "             'IL.13', 'IL.17A', 'IL.2', 'IL.21', 'IL.22', 'IL.3', 'IL.4', 'IL.6', 'IL.9', 'TNF.a']\n",
    "infile = 'cohort_denoised_clustered_diagnosis_patients.csv'\n",
    "indir = 'data/input.nosync'\n",
    "outdir = 'out_ms_default'\n",
    "rand_seed = 123\n",
    "train_perc = 0.7\n",
    "test_perc = 0.3\n",
    "batch_size_pheno = 840 # deprecated  # so a size of 8425 is about equally sized in batches\n",
    "batch_size_cd4 = 550  # deprecated #so a size of 550 gets me 16 batches for cd4\n",
    "## information from ms_data project\n",
    "cluster_to_celltype_dict = {0: 'b', 1: 'cd4', 3: 'nkt', 8: 'cd8', 10: 'nk', 11: 'my', 16: 'dg'}"
   ],
   "metadata": {
    "collapsed": false,
    "pycharm": {
     "name": "#%%\n"
    }
   }
  },
  {
   "cell_type": "code",
   "execution_count": 4,
   "outputs": [
    {
     "data": {
      "text/plain": "(16889, 38)"
     },
     "execution_count": 4,
     "metadata": {},
     "output_type": "execute_result"
    }
   ],
   "source": [
    "\n",
    "np.random.seed(rand_seed)\n",
    "mkdir_p(outdir)\n",
    "df = pd.read_csv(os.path.join(indir, infile), index_col=0)\n",
    "df = df.drop_duplicates()  ### reduces overfitting at cost of fewer data\n",
    "df.shape\n",
    "##### no duplicates in"
   ],
   "metadata": {
    "collapsed": false,
    "pycharm": {
     "name": "#%%\n"
    }
   }
  },
  {
   "cell_type": "code",
   "execution_count": 5,
   "outputs": [
    {
     "name": "stderr",
     "output_type": "stream",
     "text": [
      "/var/folders/p1/5d38cf1d6tvdyny38zb_66540000gn/T/ipykernel_64116/3510062378.py:4: UserWarning: Matplotlib is currently using agg, which is a non-GUI backend, so cannot show the figure.\n",
      "  plt.show()\n"
     ]
    },
    {
     "data": {
      "text/plain": "cluster      0    1   3    8   10  11  16\ngate_source                              \n3.0          60  119   6   30   5   5   0\n4.0          15   46   0   45   2   1  13\n5.0          33  131   0   70   2   2   4\n8.0          24  122   0   31  10  11   4\n9.0          72  270   2  137  11  10   4\n...          ..  ...  ..  ...  ..  ..  ..\n128.0         4    6   4    6   1   6   0\n130.0        24   82   2   56   8   4   0\n131.0        20   48   2   14  13   7   0\n132.0         8   35   7   16   1   1  10\n133.0        26   48   3   37   8  12   6\n\n[62 rows x 7 columns]",
      "text/html": "<div>\n<style scoped>\n    .dataframe tbody tr th:only-of-type {\n        vertical-align: middle;\n    }\n\n    .dataframe tbody tr th {\n        vertical-align: top;\n    }\n\n    .dataframe thead th {\n        text-align: right;\n    }\n</style>\n<table border=\"1\" class=\"dataframe\">\n  <thead>\n    <tr style=\"text-align: right;\">\n      <th>cluster</th>\n      <th>0</th>\n      <th>1</th>\n      <th>3</th>\n      <th>8</th>\n      <th>10</th>\n      <th>11</th>\n      <th>16</th>\n    </tr>\n    <tr>\n      <th>gate_source</th>\n      <th></th>\n      <th></th>\n      <th></th>\n      <th></th>\n      <th></th>\n      <th></th>\n      <th></th>\n    </tr>\n  </thead>\n  <tbody>\n    <tr>\n      <th>3.0</th>\n      <td>60</td>\n      <td>119</td>\n      <td>6</td>\n      <td>30</td>\n      <td>5</td>\n      <td>5</td>\n      <td>0</td>\n    </tr>\n    <tr>\n      <th>4.0</th>\n      <td>15</td>\n      <td>46</td>\n      <td>0</td>\n      <td>45</td>\n      <td>2</td>\n      <td>1</td>\n      <td>13</td>\n    </tr>\n    <tr>\n      <th>5.0</th>\n      <td>33</td>\n      <td>131</td>\n      <td>0</td>\n      <td>70</td>\n      <td>2</td>\n      <td>2</td>\n      <td>4</td>\n    </tr>\n    <tr>\n      <th>8.0</th>\n      <td>24</td>\n      <td>122</td>\n      <td>0</td>\n      <td>31</td>\n      <td>10</td>\n      <td>11</td>\n      <td>4</td>\n    </tr>\n    <tr>\n      <th>9.0</th>\n      <td>72</td>\n      <td>270</td>\n      <td>2</td>\n      <td>137</td>\n      <td>11</td>\n      <td>10</td>\n      <td>4</td>\n    </tr>\n    <tr>\n      <th>...</th>\n      <td>...</td>\n      <td>...</td>\n      <td>...</td>\n      <td>...</td>\n      <td>...</td>\n      <td>...</td>\n      <td>...</td>\n    </tr>\n    <tr>\n      <th>128.0</th>\n      <td>4</td>\n      <td>6</td>\n      <td>4</td>\n      <td>6</td>\n      <td>1</td>\n      <td>6</td>\n      <td>0</td>\n    </tr>\n    <tr>\n      <th>130.0</th>\n      <td>24</td>\n      <td>82</td>\n      <td>2</td>\n      <td>56</td>\n      <td>8</td>\n      <td>4</td>\n      <td>0</td>\n    </tr>\n    <tr>\n      <th>131.0</th>\n      <td>20</td>\n      <td>48</td>\n      <td>2</td>\n      <td>14</td>\n      <td>13</td>\n      <td>7</td>\n      <td>0</td>\n    </tr>\n    <tr>\n      <th>132.0</th>\n      <td>8</td>\n      <td>35</td>\n      <td>7</td>\n      <td>16</td>\n      <td>1</td>\n      <td>1</td>\n      <td>10</td>\n    </tr>\n    <tr>\n      <th>133.0</th>\n      <td>26</td>\n      <td>48</td>\n      <td>3</td>\n      <td>37</td>\n      <td>8</td>\n      <td>12</td>\n      <td>6</td>\n    </tr>\n  </tbody>\n</table>\n<p>62 rows × 7 columns</p>\n</div>"
     },
     "execution_count": 5,
     "metadata": {},
     "output_type": "execute_result"
    }
   ],
   "source": [
    "plt.figure()\n",
    "patients_clusters_conf_table = pd.crosstab(df['gate_source'], df['cluster'])\n",
    "sns.heatmap(patients_clusters_conf_table, annot=False, vmax=100)\n",
    "plt.show()\n",
    "#plt.savefig('images/patient_vs_cluster_conf_table.png')\n",
    "patients_clusters_conf_table"
   ],
   "metadata": {
    "collapsed": false,
    "pycharm": {
     "name": "#%%\n"
    }
   }
  },
  {
   "cell_type": "code",
   "execution_count": 6,
   "outputs": [
    {
     "name": "stdout",
     "output_type": "stream",
     "text": [
      "Mean abundancies\n",
      "b: 36.37096774193548\n",
      "CD4: 141.98387096774192\n",
      "NKT: 5.903225806451613\n",
      "CD8: 64.04838709677419\n",
      "NK: 12.580645161290322\n",
      "My: 6.741935483870968\n",
      "dg: 4.774193548387097\n"
     ]
    }
   ],
   "source": [
    "print('Mean abundancies')\n",
    "print('b: ' + str(patients_clusters_conf_table.iloc[:,0].mean()))\n",
    "print('CD4: ' + str(patients_clusters_conf_table.iloc[:,1].mean()))\n",
    "print('NKT: ' + str(patients_clusters_conf_table.iloc[:,2].mean()))\n",
    "print('CD8: ' + str(patients_clusters_conf_table.iloc[:,3].mean()))\n",
    "print('NK: ' + str(patients_clusters_conf_table.iloc[:,4].mean()))\n",
    "print('My: ' + str(patients_clusters_conf_table.iloc[:,5].mean()))\n",
    "print('dg: ' + str(patients_clusters_conf_table.iloc[:,6].mean()))\n"
   ],
   "metadata": {
    "collapsed": false,
    "pycharm": {
     "name": "#%% ### This might be interesting, my NKT best value was for bs of 7 and my best CD8 was for 60\n"
    }
   }
  },
  {
   "cell_type": "code",
   "execution_count": 7,
   "outputs": [],
   "source": [
    "# pitch: key = gate_source, value = dict{diagnosis: df OR freq?}\n",
    "rrms_df = df[df['diagnosis'] == 'RRMS']\n",
    "rrms_patients2df = {id: patient_df.drop(columns=['diagnosis', 'gate_source']) for id, patient_df in\n",
    "                    rrms_df.groupby('gate_source')}\n",
    "nindc_df = df[df['diagnosis'] == 'NINDC']\n",
    "nindc_patients2df = {id: patient_df.drop(columns=['diagnosis', 'gate_source']) for id, patient_df in\n",
    "                     nindc_df.groupby('gate_source')}"
   ],
   "metadata": {
    "collapsed": false,
    "pycharm": {
     "name": "#%% ### split by diagnosis state\n"
    }
   }
  },
  {
   "cell_type": "code",
   "execution_count": 8,
   "outputs": [
    {
     "name": "stdout",
     "output_type": "stream",
     "text": [
      "RRMS cell-type abundances\n",
      "Mean abundancy / patient is 273,032258065\n"
     ]
    }
   ],
   "source": [
    "print('RRMS cell-type abundances')\n",
    "rrms_df.groupby('cluster').count()\n",
    "print('Mean abundancy / patient is 273,032258065')"
   ],
   "metadata": {
    "collapsed": false,
    "pycharm": {
     "name": "#%% ### to just see how many per diagnosis state are there.\n"
    }
   }
  },
  {
   "cell_type": "code",
   "execution_count": 9,
   "outputs": [
    {
     "name": "stdout",
     "output_type": "stream",
     "text": [
      "NINDC cell-type abundances\n"
     ]
    },
    {
     "data": {
      "text/plain": "         CD69  CXCR5  CCR2  CD57  CD28  IL.9  IL.4  CD27  IL.3  IL.13  ...  \\\ncluster                                                                ...   \n0        1141   1141  1141  1141  1141  1141  1141  1141  1141   1141  ...   \n1        4501   4501  4501  4501  4501  4501  4501  4501  4501   4501  ...   \n3         219    219   219   219   219   219   219   219   219    219  ...   \n8        1858   1858  1858  1858  1858  1858  1858  1858  1858   1858  ...   \n10        379    379   379   379   379   379   379   379   379    379  ...   \n11        202    202   202   202   202   202   202   202   202    202  ...   \n16        125    125   125   125   125   125   125   125   125    125  ...   \n\n         CD25   CD4   CD3  IL.21  IL.17A  CXCR4  CCR4  CD14  diagnosis  \\\ncluster                                                                  \n0        1141  1141  1141   1141    1141   1141  1141  1141       1141   \n1        4501  4501  4501   4501    4501   4501  4501  4501       4501   \n3         219   219   219    219     219    219   219   219        219   \n8        1858  1858  1858   1858    1858   1858  1858  1858       1858   \n10        379   379   379    379     379    379   379   379        379   \n11        202   202   202    202     202    202   202   202        202   \n16        125   125   125    125     125    125   125   125        125   \n\n         gate_source  \ncluster               \n0               1141  \n1               4501  \n3                219  \n8               1858  \n10               379  \n11               202  \n16               125  \n\n[7 rows x 37 columns]",
      "text/html": "<div>\n<style scoped>\n    .dataframe tbody tr th:only-of-type {\n        vertical-align: middle;\n    }\n\n    .dataframe tbody tr th {\n        vertical-align: top;\n    }\n\n    .dataframe thead th {\n        text-align: right;\n    }\n</style>\n<table border=\"1\" class=\"dataframe\">\n  <thead>\n    <tr style=\"text-align: right;\">\n      <th></th>\n      <th>CD69</th>\n      <th>CXCR5</th>\n      <th>CCR2</th>\n      <th>CD57</th>\n      <th>CD28</th>\n      <th>IL.9</th>\n      <th>IL.4</th>\n      <th>CD27</th>\n      <th>IL.3</th>\n      <th>IL.13</th>\n      <th>...</th>\n      <th>CD25</th>\n      <th>CD4</th>\n      <th>CD3</th>\n      <th>IL.21</th>\n      <th>IL.17A</th>\n      <th>CXCR4</th>\n      <th>CCR4</th>\n      <th>CD14</th>\n      <th>diagnosis</th>\n      <th>gate_source</th>\n    </tr>\n    <tr>\n      <th>cluster</th>\n      <th></th>\n      <th></th>\n      <th></th>\n      <th></th>\n      <th></th>\n      <th></th>\n      <th></th>\n      <th></th>\n      <th></th>\n      <th></th>\n      <th></th>\n      <th></th>\n      <th></th>\n      <th></th>\n      <th></th>\n      <th></th>\n      <th></th>\n      <th></th>\n      <th></th>\n      <th></th>\n      <th></th>\n    </tr>\n  </thead>\n  <tbody>\n    <tr>\n      <th>0</th>\n      <td>1141</td>\n      <td>1141</td>\n      <td>1141</td>\n      <td>1141</td>\n      <td>1141</td>\n      <td>1141</td>\n      <td>1141</td>\n      <td>1141</td>\n      <td>1141</td>\n      <td>1141</td>\n      <td>...</td>\n      <td>1141</td>\n      <td>1141</td>\n      <td>1141</td>\n      <td>1141</td>\n      <td>1141</td>\n      <td>1141</td>\n      <td>1141</td>\n      <td>1141</td>\n      <td>1141</td>\n      <td>1141</td>\n    </tr>\n    <tr>\n      <th>1</th>\n      <td>4501</td>\n      <td>4501</td>\n      <td>4501</td>\n      <td>4501</td>\n      <td>4501</td>\n      <td>4501</td>\n      <td>4501</td>\n      <td>4501</td>\n      <td>4501</td>\n      <td>4501</td>\n      <td>...</td>\n      <td>4501</td>\n      <td>4501</td>\n      <td>4501</td>\n      <td>4501</td>\n      <td>4501</td>\n      <td>4501</td>\n      <td>4501</td>\n      <td>4501</td>\n      <td>4501</td>\n      <td>4501</td>\n    </tr>\n    <tr>\n      <th>3</th>\n      <td>219</td>\n      <td>219</td>\n      <td>219</td>\n      <td>219</td>\n      <td>219</td>\n      <td>219</td>\n      <td>219</td>\n      <td>219</td>\n      <td>219</td>\n      <td>219</td>\n      <td>...</td>\n      <td>219</td>\n      <td>219</td>\n      <td>219</td>\n      <td>219</td>\n      <td>219</td>\n      <td>219</td>\n      <td>219</td>\n      <td>219</td>\n      <td>219</td>\n      <td>219</td>\n    </tr>\n    <tr>\n      <th>8</th>\n      <td>1858</td>\n      <td>1858</td>\n      <td>1858</td>\n      <td>1858</td>\n      <td>1858</td>\n      <td>1858</td>\n      <td>1858</td>\n      <td>1858</td>\n      <td>1858</td>\n      <td>1858</td>\n      <td>...</td>\n      <td>1858</td>\n      <td>1858</td>\n      <td>1858</td>\n      <td>1858</td>\n      <td>1858</td>\n      <td>1858</td>\n      <td>1858</td>\n      <td>1858</td>\n      <td>1858</td>\n      <td>1858</td>\n    </tr>\n    <tr>\n      <th>10</th>\n      <td>379</td>\n      <td>379</td>\n      <td>379</td>\n      <td>379</td>\n      <td>379</td>\n      <td>379</td>\n      <td>379</td>\n      <td>379</td>\n      <td>379</td>\n      <td>379</td>\n      <td>...</td>\n      <td>379</td>\n      <td>379</td>\n      <td>379</td>\n      <td>379</td>\n      <td>379</td>\n      <td>379</td>\n      <td>379</td>\n      <td>379</td>\n      <td>379</td>\n      <td>379</td>\n    </tr>\n    <tr>\n      <th>11</th>\n      <td>202</td>\n      <td>202</td>\n      <td>202</td>\n      <td>202</td>\n      <td>202</td>\n      <td>202</td>\n      <td>202</td>\n      <td>202</td>\n      <td>202</td>\n      <td>202</td>\n      <td>...</td>\n      <td>202</td>\n      <td>202</td>\n      <td>202</td>\n      <td>202</td>\n      <td>202</td>\n      <td>202</td>\n      <td>202</td>\n      <td>202</td>\n      <td>202</td>\n      <td>202</td>\n    </tr>\n    <tr>\n      <th>16</th>\n      <td>125</td>\n      <td>125</td>\n      <td>125</td>\n      <td>125</td>\n      <td>125</td>\n      <td>125</td>\n      <td>125</td>\n      <td>125</td>\n      <td>125</td>\n      <td>125</td>\n      <td>...</td>\n      <td>125</td>\n      <td>125</td>\n      <td>125</td>\n      <td>125</td>\n      <td>125</td>\n      <td>125</td>\n      <td>125</td>\n      <td>125</td>\n      <td>125</td>\n      <td>125</td>\n    </tr>\n  </tbody>\n</table>\n<p>7 rows × 37 columns</p>\n</div>"
     },
     "execution_count": 9,
     "metadata": {},
     "output_type": "execute_result"
    }
   ],
   "source": [
    "print('NINDC cell-type abundances')\n",
    "nindc_df.groupby('cluster').count()"
   ],
   "metadata": {
    "collapsed": false,
    "pycharm": {
     "name": "#%%\n"
    }
   }
  },
  {
   "cell_type": "code",
   "execution_count": 10,
   "outputs": [
    {
     "name": "stdout",
     "output_type": "stream",
     "text": [
      "Frequencies: \n",
      "DONE\n"
     ]
    }
   ],
   "source": [
    "importlib.reload(cellCnn.ms.utils.helpers)\n",
    "from cellCnn.ms.utils.helpers import *\n",
    "\n",
    "#### here we could see freq differences across the 2 groups\n",
    "print('Frequencies: ')\n",
    "rrms_patients_freq = {id: calc_frequencies(patient_df, cluster_to_celltype_dict, return_list=True) for id, patient_df in\n",
    "                      rrms_patients2df.items()}\n",
    "nindc_patients_freq = {id: calc_frequencies(patient_df, cluster_to_celltype_dict, return_list=True) for id, patient_df\n",
    "                       in nindc_patients2df.items()}\n",
    "print('DONE')\n",
    "# we got 31 patients each"
   ],
   "metadata": {
    "collapsed": false,
    "pycharm": {
     "name": "#%% ### celltype frequencies\n"
    }
   }
  },
  {
   "cell_type": "code",
   "execution_count": 11,
   "outputs": [
    {
     "name": "stdout",
     "output_type": "stream",
     "text": [
      "RRMS\n"
     ]
    },
    {
     "data": {
      "text/plain": "               b        cd4        nkt        cd8         nk         my  \\\ncount  31.000000  31.000000  28.000000  31.000000  31.000000  31.000000   \nmean    0.145822   0.470019   0.034702   0.242621   0.047500   0.038641   \nstd     0.062796   0.127876   0.043881   0.068406   0.031251   0.041190   \nmin     0.044118   0.222222   0.003953   0.120543   0.008264   0.004662   \n25%     0.098750   0.393336   0.008248   0.193943   0.022284   0.017099   \n50%     0.136364   0.461538   0.018236   0.243386   0.045455   0.023810   \n75%     0.190358   0.543535   0.032926   0.283517   0.057529   0.044735   \nmax     0.285714   0.738540   0.178571   0.349057   0.125000   0.222222   \n\n              dg  \ncount  25.000000  \nmean    0.029826  \nstd     0.026293  \nmin     0.001832  \n25%     0.011655  \n50%     0.019802  \n75%     0.042857  \nmax     0.128205  ",
      "text/html": "<div>\n<style scoped>\n    .dataframe tbody tr th:only-of-type {\n        vertical-align: middle;\n    }\n\n    .dataframe tbody tr th {\n        vertical-align: top;\n    }\n\n    .dataframe thead th {\n        text-align: right;\n    }\n</style>\n<table border=\"1\" class=\"dataframe\">\n  <thead>\n    <tr style=\"text-align: right;\">\n      <th></th>\n      <th>b</th>\n      <th>cd4</th>\n      <th>nkt</th>\n      <th>cd8</th>\n      <th>nk</th>\n      <th>my</th>\n      <th>dg</th>\n    </tr>\n  </thead>\n  <tbody>\n    <tr>\n      <th>count</th>\n      <td>31.000000</td>\n      <td>31.000000</td>\n      <td>28.000000</td>\n      <td>31.000000</td>\n      <td>31.000000</td>\n      <td>31.000000</td>\n      <td>25.000000</td>\n    </tr>\n    <tr>\n      <th>mean</th>\n      <td>0.145822</td>\n      <td>0.470019</td>\n      <td>0.034702</td>\n      <td>0.242621</td>\n      <td>0.047500</td>\n      <td>0.038641</td>\n      <td>0.029826</td>\n    </tr>\n    <tr>\n      <th>std</th>\n      <td>0.062796</td>\n      <td>0.127876</td>\n      <td>0.043881</td>\n      <td>0.068406</td>\n      <td>0.031251</td>\n      <td>0.041190</td>\n      <td>0.026293</td>\n    </tr>\n    <tr>\n      <th>min</th>\n      <td>0.044118</td>\n      <td>0.222222</td>\n      <td>0.003953</td>\n      <td>0.120543</td>\n      <td>0.008264</td>\n      <td>0.004662</td>\n      <td>0.001832</td>\n    </tr>\n    <tr>\n      <th>25%</th>\n      <td>0.098750</td>\n      <td>0.393336</td>\n      <td>0.008248</td>\n      <td>0.193943</td>\n      <td>0.022284</td>\n      <td>0.017099</td>\n      <td>0.011655</td>\n    </tr>\n    <tr>\n      <th>50%</th>\n      <td>0.136364</td>\n      <td>0.461538</td>\n      <td>0.018236</td>\n      <td>0.243386</td>\n      <td>0.045455</td>\n      <td>0.023810</td>\n      <td>0.019802</td>\n    </tr>\n    <tr>\n      <th>75%</th>\n      <td>0.190358</td>\n      <td>0.543535</td>\n      <td>0.032926</td>\n      <td>0.283517</td>\n      <td>0.057529</td>\n      <td>0.044735</td>\n      <td>0.042857</td>\n    </tr>\n    <tr>\n      <th>max</th>\n      <td>0.285714</td>\n      <td>0.738540</td>\n      <td>0.178571</td>\n      <td>0.349057</td>\n      <td>0.125000</td>\n      <td>0.222222</td>\n      <td>0.128205</td>\n    </tr>\n  </tbody>\n</table>\n</div>"
     },
     "execution_count": 11,
     "metadata": {},
     "output_type": "execute_result"
    }
   ],
   "source": [
    "#### To get true frequencies we need to get rid of 0 entries (there are patient without some cells type due to data)\n",
    "print('RRMS')\n",
    "rrms_freq_df = pd.DataFrame(list(rrms_patients_freq.values()), columns=list(cluster_to_celltype_dict.values()))\n",
    "rrms_freq_df = rrms_freq_df.replace(0, np.NaN)  ## this lets us skip the 0 entries\n",
    "rrms_freq_df.describe()"
   ],
   "metadata": {
    "collapsed": false,
    "pycharm": {
     "name": "#%%\n"
    }
   }
  },
  {
   "cell_type": "code",
   "execution_count": 12,
   "outputs": [
    {
     "name": "stdout",
     "output_type": "stream",
     "text": [
      "NINDC\n"
     ]
    },
    {
     "data": {
      "text/plain": "               b        cd4        nkt        cd8         nk         my  \\\ncount  31.000000  31.000000  30.000000  31.000000  30.000000  29.000000   \nmean    0.160800   0.440072   0.043986   0.245588   0.059403   0.039039   \nstd     0.107951   0.155058   0.038204   0.094339   0.047733   0.033544   \nmin     0.033149   0.189189   0.001524   0.046559   0.011236   0.001706   \n25%     0.076150   0.329932   0.012810   0.206028   0.024907   0.014587   \n50%     0.142857   0.390476   0.039086   0.247573   0.037789   0.031250   \n75%     0.215665   0.516367   0.067342   0.290557   0.086959   0.050000   \nmax     0.433198   0.784572   0.142857   0.410061   0.200000   0.142857   \n\n              dg  \ncount  26.000000  \nmean    0.020230  \nstd     0.020225  \nmin     0.002841  \n25%     0.007189  \n50%     0.017101  \n75%     0.024923  \nmax     0.106557  ",
      "text/html": "<div>\n<style scoped>\n    .dataframe tbody tr th:only-of-type {\n        vertical-align: middle;\n    }\n\n    .dataframe tbody tr th {\n        vertical-align: top;\n    }\n\n    .dataframe thead th {\n        text-align: right;\n    }\n</style>\n<table border=\"1\" class=\"dataframe\">\n  <thead>\n    <tr style=\"text-align: right;\">\n      <th></th>\n      <th>b</th>\n      <th>cd4</th>\n      <th>nkt</th>\n      <th>cd8</th>\n      <th>nk</th>\n      <th>my</th>\n      <th>dg</th>\n    </tr>\n  </thead>\n  <tbody>\n    <tr>\n      <th>count</th>\n      <td>31.000000</td>\n      <td>31.000000</td>\n      <td>30.000000</td>\n      <td>31.000000</td>\n      <td>30.000000</td>\n      <td>29.000000</td>\n      <td>26.000000</td>\n    </tr>\n    <tr>\n      <th>mean</th>\n      <td>0.160800</td>\n      <td>0.440072</td>\n      <td>0.043986</td>\n      <td>0.245588</td>\n      <td>0.059403</td>\n      <td>0.039039</td>\n      <td>0.020230</td>\n    </tr>\n    <tr>\n      <th>std</th>\n      <td>0.107951</td>\n      <td>0.155058</td>\n      <td>0.038204</td>\n      <td>0.094339</td>\n      <td>0.047733</td>\n      <td>0.033544</td>\n      <td>0.020225</td>\n    </tr>\n    <tr>\n      <th>min</th>\n      <td>0.033149</td>\n      <td>0.189189</td>\n      <td>0.001524</td>\n      <td>0.046559</td>\n      <td>0.011236</td>\n      <td>0.001706</td>\n      <td>0.002841</td>\n    </tr>\n    <tr>\n      <th>25%</th>\n      <td>0.076150</td>\n      <td>0.329932</td>\n      <td>0.012810</td>\n      <td>0.206028</td>\n      <td>0.024907</td>\n      <td>0.014587</td>\n      <td>0.007189</td>\n    </tr>\n    <tr>\n      <th>50%</th>\n      <td>0.142857</td>\n      <td>0.390476</td>\n      <td>0.039086</td>\n      <td>0.247573</td>\n      <td>0.037789</td>\n      <td>0.031250</td>\n      <td>0.017101</td>\n    </tr>\n    <tr>\n      <th>75%</th>\n      <td>0.215665</td>\n      <td>0.516367</td>\n      <td>0.067342</td>\n      <td>0.290557</td>\n      <td>0.086959</td>\n      <td>0.050000</td>\n      <td>0.024923</td>\n    </tr>\n    <tr>\n      <th>max</th>\n      <td>0.433198</td>\n      <td>0.784572</td>\n      <td>0.142857</td>\n      <td>0.410061</td>\n      <td>0.200000</td>\n      <td>0.142857</td>\n      <td>0.106557</td>\n    </tr>\n  </tbody>\n</table>\n</div>"
     },
     "execution_count": 12,
     "metadata": {},
     "output_type": "execute_result"
    }
   ],
   "source": [
    "print('NINDC')\n",
    "nindc_freq_df = pd.DataFrame(list(nindc_patients_freq.values()), columns=list(cluster_to_celltype_dict.values()))\n",
    "nindc_freq_df = nindc_freq_df.replace(0, np.NaN)\n",
    "nindc_freq_df.describe()"
   ],
   "metadata": {
    "collapsed": false,
    "pycharm": {
     "name": "#%%\n"
    }
   }
  },
  {
   "cell_type": "code",
   "execution_count": null,
   "outputs": [],
   "source": [],
   "metadata": {
    "collapsed": false,
    "pycharm": {
     "name": "#%%\n"
    }
   }
  }
 ],
 "metadata": {
  "kernelspec": {
   "display_name": "Python 3",
   "language": "python",
   "name": "python3"
  },
  "language_info": {
   "codemirror_mode": {
    "name": "ipython",
    "version": 2
   },
   "file_extension": ".py",
   "mimetype": "text/x-python",
   "name": "python",
   "nbconvert_exporter": "python",
   "pygments_lexer": "ipython2",
   "version": "2.7.6"
  }
 },
 "nbformat": 4,
 "nbformat_minor": 0
}
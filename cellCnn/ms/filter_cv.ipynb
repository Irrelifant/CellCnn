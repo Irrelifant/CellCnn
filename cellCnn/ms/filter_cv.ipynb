{
 "cells": [
  {
   "cell_type": "code",
   "execution_count": 1,
   "metadata": {
    "collapsed": true
   },
   "outputs": [],
   "source": [
    "\n",
    "import importlib\n",
    "import pickle\n",
    "import matplotlib.cm as cm\n",
    "from sklearn.manifold import TSNE\n",
    "from plotting import plot_tsne_selection_grid\n",
    "import matplotlib.pyplot as plt\n",
    "### (from: https://github.com/eiriniar/CellCnn/blob/0413a9f49fe0831c8fe3280957fb341f9e028d2d/cellCnn/examples/NK_cell_ungated.ipynb ) AND https://github.com/eiriniar/CellCnn/blob/0413a9f49fe0831c8fe3280957fb341f9e028d2d/cellCnn/examples/PBMC.ipynb\n",
    "import pandas as pd\n",
    "import glob\n",
    "import seaborn as sns\n",
    "\n",
    "from cellCnn.ms.utils.helpers import *\n",
    "from cellCnn.ms.utils.helpers import calc_frequencies\n",
    "from cellCnn.ms.utils.helpers import get_fitted_model\n",
    "from cellCnn.plotting import plot_results\n",
    "from cellCnn.utils import mkdir_p\n",
    "\n",
    "from plotting import plot_filters, discriminative_filters\n",
    "\n",
    "\n",
    "def reload_modules():\n",
    "    import cellCnn.loss_v2\n",
    "    import cellCnn.utils\n",
    "    import cellCnn.plotting\n",
    "    import cellCnn.loss_history\n",
    "\n",
    "    importlib.reload(cellCnn.loss_v2)\n",
    "    importlib.reload(cellCnn.ms.utils.helpers)\n",
    "    importlib.reload(cellCnn.utils)\n",
    "    importlib.reload(cellCnn.plotting)\n",
    "    importlib.reload(cellCnn.model)\n",
    "    importlib.reload(cellCnn.loss_history)\n",
    "    importlib.reload(cellCnn)\n",
    "    importlib.reload(cellCnn.ms.utils.helpers)\n",
    "    import cellCnn.loss_v2\n",
    "    import cellCnn.utils\n",
    "    import cellCnn.plotting\n",
    "    import cellCnn.loss_history\n",
    "    pass"
   ]
  },
  {
   "cell_type": "code",
   "execution_count": 2,
   "outputs": [],
   "source": [
    "##### state vars\n",
    "cytokines = ['CCR2', 'CCR4', 'CCR6', 'CCR7', 'CXCR4', 'CXCR5', 'CD103', 'CD14', 'CD20', 'CD25', 'CD27', 'CD28', 'CD3',\n",
    "             'CD4', 'CD45RA', 'CD45RO', 'CD56', 'CD57', 'CD69', 'CD8', 'TCRgd', 'PD.1', 'GM.CSF', 'IFN.g', 'IL.10',\n",
    "             'IL.13', 'IL.17A', 'IL.2', 'IL.21', 'IL.22', 'IL.3', 'IL.4', 'IL.6', 'IL.9', 'TNF.a']\n",
    "rand_seed = 123\n",
    "## information from ms_data project\n",
    "cluster_to_celltype_dict = {0: 'b', 1: 'cd4', 3: 'nkt', 8: 'cd8', 10: 'nk', 11: 'my', 16: 'dg'}\n",
    "np.random.seed(rand_seed)\n",
    "##### no duplicates in"
   ],
   "metadata": {
    "collapsed": false,
    "pycharm": {
     "name": "#%%\n"
    }
   }
  },
  {
   "cell_type": "code",
   "execution_count": 3,
   "outputs": [],
   "source": [
    "### this is my STL mode for the MTL version of CellCNN\n",
    "\n",
    "indir = '../../../v2_stl/stl_cv_filters'\n",
    "outdir = '../../v2_stl_results'\n",
    "mkdir_p(outdir)\n",
    "files = glob.glob('../../../v2_stl/**/results.pkl', recursive=True)"
   ],
   "metadata": {
    "collapsed": false,
    "pycharm": {
     "name": "#%%\n"
    }
   }
  },
  {
   "cell_type": "code",
   "execution_count": 10,
   "outputs": [
    {
     "name": "stdout",
     "output_type": "stream",
     "text": [
      "Best accuracy for model [12  2 10  6 11] with filter 2 is [0.6733166  0.6713239  0.66902739 0.66350323 0.65588808]\n",
      "Best accuracy for model [10  6  7 12 14] with filter 3 is [0.76747465 0.75969374 0.75831383 0.75543159 0.75479418]\n",
      "Best accuracy for model [ 6 10  0  2 13] with filter 4 is [0.8553586  0.74618381 0.72800165 0.72234136 0.68726158]\n",
      "Best accuracy for model [10  5  3  0 12] with filter 5 is [0.77108568 0.76562041 0.75849235 0.75583851 0.73325408]\n",
      "Best accuracy for model [ 5 10  1  8  0] with filter 6 is [0.79226571 0.73387414 0.70885915 0.70262223 0.67925233]\n",
      "Best accuracy for model [ 0  5  1 10 12] with filter 7 is [0.74435949 0.74177021 0.70652932 0.69080085 0.64896286]\n",
      "Best accuracy for model [ 5  1 10 13  6] with filter 8 is [0.79171473 0.73367655 0.70177621 0.68224567 0.66641366]\n",
      "Best accuracy for model [ 7  5 10  6  1] with filter 9 is [0.78390902 0.72876537 0.72723758 0.70990968 0.70971233]\n",
      "Best accuracy for model [0 5 1 7 9] with filter 10 is [0.74573159 0.72541255 0.7232917  0.64558607 0.64217633]\n",
      "Best accuracy for model [ 5 10  7  0 13] with filter 11 is [0.77620345 0.76487839 0.75440806 0.7270959  0.66316026]\n",
      "Best accuracy for model [ 5 14 11  0  6] with filter 12 is [0.68571532 0.66434252 0.66335535 0.6554684  0.65366381]\n",
      "Best accuracy for model [ 1  2 10 11  8] with filter 13 is [0.7596789  0.75192773 0.7424013  0.7351383  0.70307773]\n",
      "Best accuracy for model [ 5  0 10  6  8] with filter 14 is [0.85005623 0.77334815 0.73389333 0.72083586 0.63893831]\n",
      "Best accuracy for model [5 0 1 6 3] with filter 15 is [0.79908973 0.72987288 0.72002268 0.66619009 0.62372577]\n",
      "Best accuracy for model [ 1 11  0  5 12] with filter 16 is [0.75186509 0.75141209 0.74616444 0.72761834 0.70994467]\n",
      "Best accuracy for model [0 5 7 1 3] with filter 17 is [0.75645131 0.6785953  0.65933967 0.65831333 0.65720022]\n",
      "Best accuracy for model [ 6 11 10  1  0] with filter 18 is [0.77340657 0.76188254 0.71928459 0.70873857 0.68334407]\n",
      "Best accuracy for model [ 5  0 12  1 13] with filter 19 is [0.72332931 0.72311413 0.70579058 0.68171287 0.67460567]\n",
      "Best accuracy for model [ 6 12  1  8  0] with filter 20 is [0.75723064 0.75226009 0.71913898 0.68670774 0.65437698]\n",
      "Done\n"
     ]
    }
   ],
   "source": [
    "for i, file in enumerate(files):\n",
    "    results = pickle.load(open(file, 'rb'))\n",
    "    accs = results['accuracies']\n",
    "    best_net_idx = np.argsort(accs)[::-1][:5] # best net\n",
    "    print(f'Best accuracy for model {best_net_idx} with filter {i+2} is {accs[best_net_idx]}')\n",
    "print('Done')"
   ],
   "metadata": {
    "collapsed": false,
    "pycharm": {
     "name": "#%%\n"
    }
   }
  },
  {
   "cell_type": "code",
   "execution_count": 17,
   "outputs": [
    {
     "name": "stdout",
     "output_type": "stream",
     "text": [
      "found files\n",
      "['../../../v1_stl/cv_score_test/nfilter_2/kf_0/results.pkl', '../../../v1_stl/cv_score_test/nfilter_2/kf_1/results.pkl', '../../../v1_stl/cv_score_test/nfilter_2/kf_2/results.pkl']\n",
      "Filter setting 2 has members: [0.6105714440345764, 0.5545238256454468, 0.523809552192688, 0.523809552192688, 0.523809552192688, 0.523809552192688, 0.523809552192688, 0.523809552192688, 0.523809552192688, 0.523809552192688, 0.74871426820755, 0.6952857375144958, 0.666523814201355, 0.6636190414428711, 0.641952395439148, 0.6406190395355225, 0.6151905059814453, 0.5993333458900452, 0.597000002861023, 0.5873333215713501, 0.7635999917984009, 0.7063999772071838, 0.6654999852180481, 0.6642500162124634, 0.6621000170707703, 0.6409000158309937, 0.624750018119812, 0.6175000071525574, 0.5999500155448914, 0.5835000276565552]\n",
      "Filter setting 2 scored 0.611319774389267\n",
      "found files\n",
      "['../../../v1_stl/cv_score_test/nfilter_3/kf_0/results.pkl', '../../../v1_stl/cv_score_test/nfilter_3/kf_1/results.pkl', '../../../v1_stl/cv_score_test/nfilter_3/kf_2/results.pkl']\n",
      "Filter setting 3 has members: [0.807190477848053, 0.5757142901420593, 0.523809552192688, 0.523809552192688, 0.523809552192688, 0.523809552192688, 0.523809552192688, 0.523809552192688, 0.523809552192688, 0.523809552192688, 0.6664761900901794, 0.6642380952835083, 0.6636666655540466, 0.6610000133514404, 0.6490476131439209, 0.6219047904014587, 0.6203333139419556, 0.6100476384162903, 0.5876190662384033, 0.587238073348999, 0.7260000109672546, 0.6945000290870667, 0.6794000267982483, 0.6685500144958496, 0.640500009059906, 0.6274999976158142, 0.5964000225067139, 0.5883499979972839, 0.5673999786376953, 0.5]\n",
      "Filter setting 3 scored 0.6064517577489217\n",
      "found files\n",
      "['../../../v1_stl/cv_score_test/nfilter_4/kf_0/results.pkl', '../../../v1_stl/cv_score_test/nfilter_4/kf_1/results.pkl', '../../../v1_stl/cv_score_test/nfilter_4/kf_2/results.pkl']\n",
      "Filter setting 4 has members: [0.566095232963562, 0.557285726070404, 0.523809552192688, 0.523809552192688, 0.523809552192688, 0.523809552192688, 0.523809552192688, 0.523809552192688, 0.523809552192688, 0.523809552192688, 0.7169047594070435, 0.7003333568572998, 0.6752380728721619, 0.6742380857467651, 0.6528571248054504, 0.6345238089561462, 0.6231904625892639, 0.6169523596763611, 0.6111428737640381, 0.6094762086868286, 0.8182500004768372, 0.7915499806404114, 0.7200499773025513, 0.7091000080108643, 0.6817499995231628, 0.678849995136261, 0.6625000238418579, 0.6410999894142151, 0.6392499804496765, 0.6319000124931335]\n",
      "Filter setting 4 scored 0.6267671485741934\n",
      "found files\n",
      "['../../../v1_stl/cv_score_test/nfilter_5/kf_0/results.pkl', '../../../v1_stl/cv_score_test/nfilter_5/kf_1/results.pkl', '../../../v1_stl/cv_score_test/nfilter_5/kf_2/results.pkl']\n",
      "Filter setting 5 has members: [0.6037142872810364, 0.5762380957603455, 0.523809552192688, 0.523809552192688, 0.523809552192688, 0.523809552192688, 0.523809552192688, 0.523809552192688, 0.523809552192688, 0.523809552192688, 0.7612380981445312, 0.6956190466880798, 0.6879047751426697, 0.6819047331809998, 0.6718094944953918, 0.6680476069450378, 0.6503333449363708, 0.6465238332748413, 0.6459524035453796, 0.6419047713279724, 0.8496000170707703, 0.6498500108718872, 0.6498000025749207, 0.6445000171661377, 0.6428999900817871, 0.607699990272522, 0.5950000286102295, 0.5724499821662903, 0.5569499731063843, 0.5529999732971191]\n",
      "Filter setting 5 scored 0.6147805631160737\n",
      "found files\n",
      "['../../../v1_stl/cv_score_test/nfilter_6/kf_0/results.pkl', '../../../v1_stl/cv_score_test/nfilter_6/kf_1/results.pkl', '../../../v1_stl/cv_score_test/nfilter_6/kf_2/results.pkl']\n",
      "Filter setting 6 has members: [0.5671904683113098, 0.5290952324867249, 0.5257619023323059, 0.523809552192688, 0.523809552192688, 0.523809552192688, 0.523809552192688, 0.523809552192688, 0.523809552192688, 0.523809552192688, 0.7282857298851013, 0.7095237970352173, 0.7082856893539429, 0.6998571157455444, 0.6740952134132385, 0.6647142767906189, 0.6564761996269226, 0.6517142653465271, 0.6367619037628174, 0.6330476403236389, 0.76214998960495, 0.7487999796867371, 0.6819499731063843, 0.660099983215332, 0.6495500206947327, 0.6197999715805054, 0.6139500141143799, 0.6108499765396118, 0.6102499961853027, 0.5923500061035156]\n",
      "Filter setting 6 scored 0.6200408736864725\n",
      "found files\n",
      "['../../../v1_stl/cv_score_test/nfilter_7/kf_0/results.pkl', '../../../v1_stl/cv_score_test/nfilter_7/kf_1/results.pkl', '../../../v1_stl/cv_score_test/nfilter_7/kf_2/results.pkl']\n",
      "Filter setting 7 has members: [0.523809552192688, 0.523809552192688, 0.523809552192688, 0.523809552192688, 0.523809552192688, 0.523809552192688, 0.523809552192688, 0.523809552192688, 0.523809552192688, 0.523809552192688, 0.731333315372467, 0.7135714292526245, 0.696238100528717, 0.685952365398407, 0.6857619285583496, 0.6572380661964417, 0.6532381176948547, 0.6414285898208618, 0.6324762105941772, 0.6172381043434143, 0.73294997215271, 0.6442000269889832, 0.6379500031471252, 0.6322000026702881, 0.607699990272522, 0.607200026512146, 0.6062999963760376, 0.6047499775886536, 0.5995500087738037, 0.5873500108718872]\n",
      "Filter setting 7 scored 0.6070907255013783\n",
      "found files\n",
      "['../../../v1_stl/cv_score_test/nfilter_8/kf_0/results.pkl', '../../../v1_stl/cv_score_test/nfilter_8/kf_1/results.pkl', '../../../v1_stl/cv_score_test/nfilter_8/kf_2/results.pkl']\n",
      "Filter setting 8 has members: [0.523809552192688, 0.523809552192688, 0.523809552192688, 0.523809552192688, 0.523809552192688, 0.523809552192688, 0.523809552192688, 0.5237143039703369, 0.49195238947868347, 0.48461905121803284, 0.6942856907844543, 0.6648571491241455, 0.6585714221000671, 0.6539523601531982, 0.6536666750907898, 0.6328571438789368, 0.6307619214057922, 0.6215237975120544, 0.6167619228363037, 0.5937619209289551, 0.73294997215271, 0.6988000273704529, 0.6517500281333923, 0.5997999906539917, 0.597350001335144, 0.5720999836921692, 0.5674499869346619, 0.5636000037193298, 0.49619999527931213, 0.49265000224113464]\n",
      "Filter setting 8 scored 0.5853534201780956\n",
      "found files\n",
      "['../../../v1_stl/cv_score_test/nfilter_9/kf_0/results.pkl', '../../../v1_stl/cv_score_test/nfilter_9/kf_1/results.pkl', '../../../v1_stl/cv_score_test/nfilter_9/kf_2/results.pkl']\n",
      "Filter setting 9 has members: [0.523809552192688, 0.523809552192688, 0.523809552192688, 0.523809552192688, 0.523809552192688, 0.523809552192688, 0.523809552192688, 0.523809552192688, 0.523809552192688, 0.523809552192688, 0.7604285478591919, 0.661476194858551, 0.6527618765830994, 0.637238085269928, 0.6256666779518127, 0.6222380995750427, 0.6198095083236694, 0.617809534072876, 0.6177142858505249, 0.5862857103347778, 0.736549973487854, 0.6834499835968018, 0.6688500046730042, 0.6435999870300293, 0.6393499970436096, 0.6281999945640564, 0.6279000043869019, 0.6115999817848206, 0.5781000256538391, 0.564050018787384]\n",
      "Filter setting 9 scored 0.6007058004538218\n",
      "found files\n",
      "['../../../v1_stl/cv_score_test/nfilter_10/kf_0/results.pkl', '../../../v1_stl/cv_score_test/nfilter_10/kf_1/results.pkl', '../../../v1_stl/cv_score_test/nfilter_10/kf_2/results.pkl']\n",
      "Filter setting 10 has members: [0.6190476417541504, 0.5440000295639038, 0.523809552192688, 0.523809552192688, 0.523809552192688, 0.523809552192688, 0.523809552192688, 0.523809552192688, 0.523809552192688, 0.523809552192688, 0.6903809309005737, 0.6825714111328125, 0.6539523601531982, 0.6521428823471069, 0.649238109588623, 0.6293809413909912, 0.6159999966621399, 0.6039524078369141, 0.5828571319580078, 0.5672857165336609, 0.7548499703407288, 0.725849986076355, 0.6524999737739563, 0.6431499719619751, 0.636900007724762, 0.635699987411499, 0.6140999794006348, 0.6023499965667725, 0.5357000231742859, 0.522350013256073]\n",
      "Filter setting 10 scored 0.6001578629016876\n",
      "found files\n",
      "['../../../v1_stl/cv_score_test/nfilter_11/kf_0/results.pkl', '../../../v1_stl/cv_score_test/nfilter_11/kf_1/results.pkl', '../../../v1_stl/cv_score_test/nfilter_11/kf_2/results.pkl']\n",
      "Filter setting 11 has members: [0.523809552192688, 0.523809552192688, 0.523809552192688, 0.523809552192688, 0.523809552192688, 0.523809552192688, 0.523809552192688, 0.523809552192688, 0.5178095102310181, 0.5011904835700989, 0.6841428279876709, 0.6768571138381958, 0.6674285531044006, 0.6514762043952942, 0.6455237865447998, 0.644428551197052, 0.6382380723953247, 0.6364285945892334, 0.6266190409660339, 0.6130475997924805, 0.7634999752044678, 0.7031999826431274, 0.6662999987602234, 0.6540499925613403, 0.6373999714851379, 0.6055999994277954, 0.5916000008583069, 0.5896000266075134, 0.5703999996185303, 0.556850016117096]\n",
      "Filter setting 11 scored 0.6010722239812215\n",
      "found files\n",
      "['../../../v1_stl/cv_score_test/nfilter_12/kf_0/results.pkl', '../../../v1_stl/cv_score_test/nfilter_12/kf_1/results.pkl', '../../../v1_stl/cv_score_test/nfilter_12/kf_2/results.pkl']\n",
      "Filter setting 12 has members: [0.5354762077331543, 0.523809552192688, 0.523809552192688, 0.523809552192688, 0.523809552192688, 0.523809552192688, 0.523809552192688, 0.523809552192688, 0.523809552192688, 0.523809552192688, 0.6899999976158142, 0.6857619285583496, 0.663428544998169, 0.6550952196121216, 0.6520000100135803, 0.6445714235305786, 0.6224762201309204, 0.6163333058357239, 0.6129999756813049, 0.5957618951797485, 0.7904999852180481, 0.7717499732971191, 0.7422500252723694, 0.6780999898910522, 0.6597499847412109, 0.6459000110626221, 0.6438999772071838, 0.6176499724388123, 0.6032000184059143, 0.5972499847412109]\n",
      "Filter setting 12 scored 0.6146146873633067\n",
      "Best score has 4 with 0.6267671485741934\n",
      "done\n"
     ]
    }
   ],
   "source": [
    "indir = '../../../v1_stl/cv_score_test/'\n",
    "outdir = '../../../v1_stl_results'\n",
    "# mkdir_p(outdir)\n",
    "nfilters = 13\n",
    "mean_scores = dict()\n",
    "for i in range(2, nfilters):\n",
    "    files = glob.glob(f'{indir}nfilter_{i}/**/results.pkl', recursive=True)\n",
    "    print('found files')\n",
    "    print(files)\n",
    "    best_nets = []\n",
    "    for file in files:\n",
    "        results = pickle.load(open(file, 'rb'))\n",
    "        accs = results['accuracies']\n",
    "        best_net_idx = np.argsort(accs)[::-1][:10]\n",
    "        best_nets.append(accs[best_net_idx])\n",
    "    flat_best_nets = [item for sublist in best_nets for item in sublist]\n",
    "    print(f'Filter setting {i} has members: {flat_best_nets}')\n",
    "    mean_scores[i] = sum(flat_best_nets)/len(flat_best_nets)\n",
    "    print(f'Filter setting {i} scored {sum(flat_best_nets)/len(flat_best_nets)}')\n",
    "best_score= sorted(mean_scores.values())[::-1][0]\n",
    "\n",
    "print(f'Best score has {list(mean_scores.keys())[list(mean_scores.values()).index(best_score)]} with {best_score}')\n",
    "print('done')"
   ],
   "metadata": {
    "collapsed": false,
    "pycharm": {
     "name": "#%%\n"
    }
   }
  },
  {
   "cell_type": "code",
   "execution_count": 11,
   "outputs": [
    {
     "data": {
      "text/plain": "['../../../v1_stl/cv_score_test/nfilter_3/kf_0/results.pkl']"
     },
     "execution_count": 11,
     "metadata": {},
     "output_type": "execute_result"
    }
   ],
   "source": [
    "test = glob.glob(f'{indir}nfilter_3/**/results.pkl', recursive=True)\n",
    "test"
   ],
   "metadata": {
    "collapsed": false,
    "pycharm": {
     "name": "#%%\n"
    }
   }
  },
  {
   "cell_type": "code",
   "execution_count": 17,
   "outputs": [
    {
     "name": "stdout",
     "output_type": "stream",
     "text": [
      "model [12  5  2] with filter 2 is [0.88800001 0.8432222  0.84155554] with mean of 0.8575925827026367\n",
      "model [ 0 11  6] with filter 3 is [0.81155556 0.80133331 0.796     ] with mean of 0.8029629588127136\n",
      "model [ 2 14  3] with filter 4 is [0.82866669 0.79622221 0.77866668] with mean of 0.8011851906776428\n",
      "model [ 8 12  9] with filter 5 is [0.81633335 0.77111113 0.75155556] with mean of 0.7796666820844015\n",
      "model [ 2 14  4] with filter 6 is [0.81288886 0.77777779 0.77777779] with mean of 0.7894814809163412\n",
      "model [12 14  2] with filter 7 is [0.8888889  0.86411113 0.78266668] with mean of 0.8452222347259521\n",
      "model [8 9 4] with filter 8 is [0.83588886 0.7767778  0.77100003] with mean of 0.7945555647214254\n",
      "model [ 9 14  8] with filter 9 is [0.78966665 0.78211111 0.77755558] with mean of 0.7831111152966818\n",
      "model [13  8 11] with filter 10 is [0.88788891 0.88700002 0.87188888] with mean of 0.8822592695554098\n",
      "model [ 7 13 14] with filter 11 is [0.88233334 0.77777779 0.77766669] with mean of 0.812592605749766\n",
      "model [ 3  5 10] with filter 12 is [0.88633335 0.83155555 0.79533333] with mean of 0.8377407391866049\n",
      "model [ 0 14  6] with filter 13 is [0.78388888 0.78122222 0.77555555] with mean of 0.780222217241923\n",
      "model [ 3 14 12] with filter 14 is [0.86555558 0.80699998 0.80133331] with mean of 0.8246296246846517\n",
      "model [12 10 13] with filter 15 is [0.82300001 0.77844447 0.77211112] with mean of 0.791185200214386\n",
      "model [10  1  9] with filter 16 is [0.81988889 0.78455555 0.7781111 ] with mean of 0.7941851814587911\n",
      "model [ 6  9 12] with filter 17 is [0.81655556 0.77777779 0.77766669] with mean of 0.7906666795412699\n",
      "model [14  1  3] with filter 18 is [0.87222224 0.77266669 0.76822221] with mean of 0.80437038342158\n",
      "model [ 9  4 13] with filter 19 is [0.77788889 0.77777779 0.76888889] with mean of 0.7748518586158752\n",
      "model [ 5 12 14] with filter 20 is [0.57342857 0.57171428 0.52380955] with mean of 0.5563174684842428\n",
      "model [2 1 0] with filter 21 is [0.52380955 0.52380955 0.52380955] with mean of 0.523809552192688\n",
      "model [2 1 0] with filter 22 is [0.5 0.5 0.5] with mean of 0.5\n",
      "model [12  9 14] with filter 23 is [0.60561907 0.5714286  0.52380955] with mean of 0.5669524073600769\n",
      "model [12  0 11] with filter 24 is [0.58309525 0.5682857  0.53195238] with mean of 0.5611111124356588\n",
      "model [2 1 0] with filter 25 is [0.52380955 0.52380955 0.52380955] with mean of 0.523809552192688\n",
      "model [2 1 0] with filter 26 is [0.5 0.5 0.5] with mean of 0.5\n",
      "model [5 7 6] with filter 27 is [0.5712381  0.52566665 0.5250476 ] with mean of 0.5406507849693298\n",
      "model [10 14 12] with filter 28 is [0.52395236 0.52380955 0.52380955] with mean of 0.5238571564356486\n",
      "model [2 1 0] with filter 29 is [0.52380955 0.52380955 0.52380955] with mean of 0.523809552192688\n",
      "model [2 1 0] with filter 30 is [0.52380955 0.52380955 0.52380955] with mean of 0.523809552192688\n",
      "model [2 1 0] with filter 31 is [0.5 0.5 0.5] with mean of 0.5\n",
      "model [14 11  9] with filter 32 is [0.52380955 0.52380955 0.52380955] with mean of 0.523809552192688\n",
      "model [ 1 11 12] with filter 33 is [0.69209522 0.68852383 0.67485714] with mean of 0.6851587295532227\n",
      "model [11  3 14] with filter 34 is [0.54590476 0.52404761 0.52380955] with mean of 0.531253973642985\n",
      "model [10 14 13] with filter 35 is [0.60161906 0.52385712 0.52380955] with mean of 0.5497619112332662\n",
      "model [ 0 11 10] with filter 36 is [0.55661905 0.52380955 0.52380955] with mean of 0.5347460508346558\n",
      "model [14 12 11] with filter 37 is [0.52380955 0.52380955 0.52380955] with mean of 0.523809552192688\n",
      "model [2 1 0] with filter 38 is [0.52380955 0.52380955 0.52380955] with mean of 0.523809552192688\n",
      "model [0 2 1] with filter 39 is [0.60000002 0.55000001 0.55000001] with mean of 0.5666666825612386\n",
      "model [5 1 2] with filter 40 is [0.6080476  0.5714286  0.52804762] with mean of 0.569174607594808\n",
      "model [ 5  4 14] with filter 41 is [0.5714286  0.52609521 0.52380955] with mean of 0.5404444535573324\n",
      "model [14 12 11] with filter 42 is [0.52380955 0.52380955 0.52380955] with mean of 0.523809552192688\n",
      "model [ 3 12  2] with filter 43 is [0.67728573 0.65847617 0.65042859] with mean of 0.6620634992917379\n",
      "model [ 7 14 12] with filter 44 is [0.57095236 0.52380955 0.52380955] with mean of 0.5395238200823466\n",
      "model [14  3  8] with filter 45 is [0.66352379 0.65695238 0.62271428] with mean of 0.6477301518122355\n",
      "model [ 1 14 12] with filter 46 is [0.54219049 0.52380955 0.52380955] with mean of 0.5299365321795145\n",
      "model [7 3 2] with filter 47 is [0.67414284 0.66923809 0.66085714] with mean of 0.6680793563524882\n",
      "model [2 1 0] with filter 48 is [0.52380955 0.52380955 0.52380955] with mean of 0.523809552192688\n",
      "model [2 1 0] with filter 49 is [0.52380955 0.52380955 0.52380955] with mean of 0.523809552192688\n",
      "model [2 1 0] with filter 50 is [0.5 0.5 0.5] with mean of 0.5\n",
      "Done\n"
     ]
    }
   ],
   "source": [
    "indir = '../../../v1_stl/stl_cv_filters/'\n",
    "files = glob.glob('../../../v1_stl/**/results.pkl', recursive=True)\n",
    "### CV step 1\n",
    "for i, file in enumerate(files):\n",
    "    results = pickle.load(open(file, 'rb'))\n",
    "    accs = results['accuracies']\n",
    "    best_net_idx = np.argsort(accs)[::-1][:3] # best net\n",
    "    print(f'model {best_net_idx} with filter {i+2} is {accs[best_net_idx]} with mean of {accs[best_net_idx].mean()}')\n",
    "print('Done')\n"
   ],
   "metadata": {
    "collapsed": false,
    "pycharm": {
     "name": "#%%\n"
    }
   }
  },
  {
   "cell_type": "code",
   "execution_count": null,
   "outputs": [],
   "source": [],
   "metadata": {
    "collapsed": false,
    "pycharm": {
     "name": "#%%\n"
    }
   }
  },
  {
   "cell_type": "code",
   "execution_count": null,
   "outputs": [],
   "source": [],
   "metadata": {
    "collapsed": false,
    "pycharm": {
     "name": "#%%\n"
    }
   }
  }
 ],
 "metadata": {
  "kernelspec": {
   "name": "pycharm-f8b1a153",
   "language": "python",
   "display_name": "PyCharm (cellCNN_mtl)"
  },
  "language_info": {
   "codemirror_mode": {
    "name": "ipython",
    "version": 2
   },
   "file_extension": ".py",
   "mimetype": "text/x-python",
   "name": "python",
   "nbconvert_exporter": "python",
   "pygments_lexer": "ipython2",
   "version": "2.7.6"
  }
 },
 "nbformat": 4,
 "nbformat_minor": 0
}
{
 "cells": [
  {
   "cell_type": "code",
   "execution_count": 2,
   "metadata": {
    "collapsed": true
   },
   "outputs": [],
   "source": [
    "##### This is from https://github.com/eiriniar/CellCnn/blob/0413a9f49fe0831c8fe3280957fb341f9e028d2d/cellCnn/examples/NK_cell.ipynb\n",
    "import os, sys, errno, glob\n",
    "import numpy as np\n",
    "import pandas as pd\n",
    "\n",
    "import cellCnn\n",
    "from cellCnn.utils import loadFCS, ftrans, mkdir_p, get_items\n",
    "from cellCnn.model import CellCnn\n",
    "from cellCnn.plotting import plot_results\n",
    "from sklearn.metrics import roc_auc_score\n",
    "\n",
    "%matplotlib inline"
   ]
  },
  {
   "cell_type": "code",
   "execution_count": 3,
   "outputs": [],
   "source": [
    "# define input and output directories\n",
    "WDIR = os.path.join(cellCnn.__path__[0], 'examples')\n",
    "FCS_DATA_PATH = os.path.join(WDIR, 'NK_cell_dataset/NK_cell_dataset', 'gated_NK')\n",
    "\n",
    "# define output directory\n",
    "OUTDIR = os.path.join(WDIR, 'output_NK_test')\n",
    "mkdir_p(OUTDIR)"
   ],
   "metadata": {
    "collapsed": false,
    "pycharm": {
     "name": "#%%\n"
    }
   }
  },
  {
   "cell_type": "code",
   "execution_count": 4,
   "outputs": [
    {
     "name": "stderr",
     "output_type": "stream",
     "text": [
      "/Users/eliasschreiner/.local/share/virtualenvs/CellCnn-O6mYCfgp/lib/python3.8/site-packages/flowio/flowdata.py:275: UserWarning: text in segment does not start and end with delimiter\n",
      "  warn(\"text in segment does not start and end with delimiter\")\n"
     ]
    },
    {
     "name": "stdout",
     "output_type": "stream",
     "text": [
      "['Time', 'Cell_length', 'CD3', 'Dead', '(La139)Dd', 'CD27', 'CD19', 'CD4', 'CD8', 'CD57', '2DL1-S1', 'TRAIL', '2DL2-L3-S2', 'CD16', 'CD10', '3DL1-S1', 'CD117', '2DS4', 'ILT2-CD85j', 'NKp46', 'NKG2D', 'NKG2C', '2B4', 'CD33', 'CD11b', 'NKp30', 'CD122', '3DL1', 'NKp44', 'CD127', '2DL1', 'CD94', 'CD34', 'CCR7', '2DL3', 'NKG2A', 'HLA-DR', '2DL4', 'CD56', '2DL5', 'CD25', 'DNA1', 'DNA2']\n"
     ]
    }
   ],
   "source": [
    "data_fcs = loadFCS(glob.glob(FCS_DATA_PATH + '/*.fcs')[0], transform=None, auto_comp=False)\n",
    "print(data_fcs.channels)"
   ],
   "metadata": {
    "collapsed": false,
    "pycharm": {
     "name": "#%%\n"
    }
   }
  },
  {
   "cell_type": "code",
   "execution_count": 5,
   "outputs": [],
   "source": [
    "# select the relevant markers for further analysis\n",
    "markers = ['CD3', 'CD27', 'CD19', 'CD4', 'CD8', 'CD57', '2DL1-S1', 'TRAIL', '2DL2-L3-S2',\n",
    "           'CD16', 'CD10', '3DL1-S1', 'CD117', '2DS4', 'ILT2-CD85j', 'NKp46', 'NKG2D',\n",
    "           'NKG2C', '2B4', 'CD33', 'CD11b', 'NKp30', 'CD122', '3DL1', 'NKp44', 'CD127', '2DL1',\n",
    "           'CD94', 'CD34', 'CCR7', '2DL3', 'NKG2A', 'HLA-DR', '2DL4', 'CD56', '2DL5', 'CD25']\n",
    "marker_idx = [data_fcs.channels.index(label) for label in markers]\n",
    "nmark = len(markers)"
   ],
   "metadata": {
    "collapsed": false,
    "pycharm": {
     "name": "#%%\n"
    }
   }
  },
  {
   "cell_type": "code",
   "execution_count": 6,
   "outputs": [],
   "source": [
    "# load the sample names and corresponding labels (0: CMV-, 1: CMV+), here from a CSV file\n",
    "# prior CMV infection status is obtained from the original study (Horowitz et al. 2013)\n",
    "csv_file = 'NK_fcs_samples_with_labels.csv'\n",
    "fcs_info = np.array(pd.read_csv(csv_file, sep=','))\n",
    "sample_ids = fcs_info[:, 0]\n",
    "sample_labels = fcs_info[:, 1].astype(int)"
   ],
   "metadata": {
    "collapsed": false,
    "pycharm": {
     "name": "#%%\n"
    }
   }
  },
  {
   "cell_type": "code",
   "execution_count": 7,
   "outputs": [
    {
     "name": "stderr",
     "output_type": "stream",
     "text": [
      "/Users/eliasschreiner/.local/share/virtualenvs/CellCnn-O6mYCfgp/lib/python3.8/site-packages/flowio/flowdata.py:275: UserWarning: text in segment does not start and end with delimiter\n",
      "  warn(\"text in segment does not start and end with delimiter\")\n"
     ]
    }
   ],
   "source": [
    "# Here we randomly split the samples in training/validation/test sets.\n",
    "\n",
    "# set random seed for reproducible results\n",
    "np.random.seed(12345)\n",
    "\n",
    "# cofactor for arcsinh transformation\n",
    "cofactor = 5\n",
    "\n",
    "# split the fcs files into training, validation and test set\n",
    "group1 = np.where(sample_labels == 0)[0]\n",
    "group2 = np.where(sample_labels == 1)[0]\n",
    "l1, l2 = len(group1), len(group2)\n",
    "ntrain_per_class = 7\n",
    "ntest_group1 = l1 - ntrain_per_class\n",
    "ntest_group2 = l2 - ntrain_per_class\n",
    "\n",
    "# get the sample indices\n",
    "train_idx1 = list(np.random.choice(group1, size=ntrain_per_class, replace=False))\n",
    "test_idx1 = [i for i in group1 if i not in train_idx1]\n",
    "train_idx2 = list(np.random.choice(group2, size=ntrain_per_class, replace=False))\n",
    "test_idx2 = [i for i in group2 if i not in train_idx2]\n",
    "\n",
    "# load the training samples\n",
    "group1_list, group2_list = [], []\n",
    "for idx in train_idx1:\n",
    "    fname = os.path.join(FCS_DATA_PATH, sample_ids[idx])\n",
    "    x_full = np.asarray(loadFCS(fname, transform=None, auto_comp=False))\n",
    "    x = ftrans(x_full[:,marker_idx], cofactor)\n",
    "    group1_list.append(x)\n",
    "\n",
    "for idx in train_idx2:\n",
    "    fname = os.path.join(FCS_DATA_PATH, sample_ids[idx])\n",
    "    x_full = np.asarray(loadFCS(fname, transform=None, auto_comp=False))\n",
    "    x = ftrans(x_full[:,marker_idx], cofactor)\n",
    "    group2_list.append(x)\n",
    "\n",
    "# load the test samples\n",
    "t_group1_list, t_group2_list = [], []\n",
    "test_phenotypes = []\n",
    "for idx in test_idx1:\n",
    "    fname = os.path.join(FCS_DATA_PATH, sample_ids[idx])\n",
    "    x_full = np.asarray(loadFCS(fname, transform=None, auto_comp=False))\n",
    "    x = ftrans(x_full[:,marker_idx], cofactor)\n",
    "    t_group1_list.append(x)\n",
    "    test_phenotypes.append(0)\n",
    "\n",
    "for idx in test_idx2:\n",
    "    fname = os.path.join(FCS_DATA_PATH, sample_ids[idx])\n",
    "    x_full = np.asarray(loadFCS(fname, transform=None, auto_comp=False))\n",
    "    x = ftrans(x_full[:,marker_idx], cofactor)\n",
    "    t_group2_list.append(x)\n",
    "    test_phenotypes.append(1)\n",
    "\n",
    "# finally prepare training and vallidation data\n",
    "cut = int(.8 * len(group1_list))\n",
    "train_samples = group1_list[:cut] + group2_list[:cut]\n",
    "train_phenotypes = [0] * len(group1_list[:cut]) + [1] * len(group2_list[:cut])\n",
    "valid_samples = group1_list[cut:] + group2_list[cut:]\n",
    "valid_phenotypes = [0] * len(group1_list[cut:]) + [1] * len(group2_list[cut:])\n",
    "test_samples = t_group1_list + t_group2_list"
   ],
   "metadata": {
    "collapsed": false,
    "pycharm": {
     "name": "#%%\n"
    }
   }
  },
  {
   "cell_type": "code",
   "execution_count": 8,
   "outputs": [],
   "source": [
    "#####################################################\n",
    "# run a CellCnn analysis\n",
    "#####################################################\n",
    "\n",
    "model = CellCnn(ncell=200, nsubset=1000, verbose=0)"
   ],
   "metadata": {
    "collapsed": false,
    "pycharm": {
     "name": "#%%\n"
    }
   }
  },
  {
   "cell_type": "code",
   "execution_count": 18,
   "outputs": [
    {
     "ename": "KeyboardInterrupt",
     "evalue": "",
     "output_type": "error",
     "traceback": [
      "\u001B[0;31m---------------------------------------------------------------------------\u001B[0m",
      "\u001B[0;31mKeyboardInterrupt\u001B[0m                         Traceback (most recent call last)",
      "Input \u001B[0;32mIn [18]\u001B[0m, in \u001B[0;36m<module>\u001B[0;34m\u001B[0m\n\u001B[1;32m      1\u001B[0m \u001B[38;5;66;03m#####################################################\u001B[39;00m\n\u001B[0;32m----> 2\u001B[0m \u001B[43mmodel\u001B[49m\u001B[38;5;241m.\u001B[39mfit(train_samples\u001B[38;5;241m=\u001B[39mtrain_samples, train_phenotypes\u001B[38;5;241m=\u001B[39mtrain_phenotypes,\n\u001B[1;32m      3\u001B[0m           valid_samples\u001B[38;5;241m=\u001B[39mvalid_samples, valid_phenotypes\u001B[38;5;241m=\u001B[39mvalid_phenotypes, outdir\u001B[38;5;241m=\u001B[39mOUTDIR)\n",
      "Input \u001B[0;32mIn [18]\u001B[0m, in \u001B[0;36m<module>\u001B[0;34m\u001B[0m\n\u001B[1;32m      1\u001B[0m \u001B[38;5;66;03m#####################################################\u001B[39;00m\n\u001B[0;32m----> 2\u001B[0m \u001B[43mmodel\u001B[49m\u001B[38;5;241m.\u001B[39mfit(train_samples\u001B[38;5;241m=\u001B[39mtrain_samples, train_phenotypes\u001B[38;5;241m=\u001B[39mtrain_phenotypes,\n\u001B[1;32m      3\u001B[0m           valid_samples\u001B[38;5;241m=\u001B[39mvalid_samples, valid_phenotypes\u001B[38;5;241m=\u001B[39mvalid_phenotypes, outdir\u001B[38;5;241m=\u001B[39mOUTDIR)\n",
      "File \u001B[0;32m_pydevd_bundle/pydevd_cython_darwin_38_64.pyx:1179\u001B[0m, in \u001B[0;36m_pydevd_bundle.pydevd_cython_darwin_38_64.SafeCallWrapper.__call__\u001B[0;34m()\u001B[0m\n",
      "File \u001B[0;32m_pydevd_bundle/pydevd_cython_darwin_38_64.pyx:620\u001B[0m, in \u001B[0;36m_pydevd_bundle.pydevd_cython_darwin_38_64.PyDBFrame.trace_dispatch\u001B[0;34m()\u001B[0m\n",
      "File \u001B[0;32m_pydevd_bundle/pydevd_cython_darwin_38_64.pyx:929\u001B[0m, in \u001B[0;36m_pydevd_bundle.pydevd_cython_darwin_38_64.PyDBFrame.trace_dispatch\u001B[0;34m()\u001B[0m\n",
      "File \u001B[0;32m_pydevd_bundle/pydevd_cython_darwin_38_64.pyx:920\u001B[0m, in \u001B[0;36m_pydevd_bundle.pydevd_cython_darwin_38_64.PyDBFrame.trace_dispatch\u001B[0;34m()\u001B[0m\n",
      "File \u001B[0;32m_pydevd_bundle/pydevd_cython_darwin_38_64.pyx:317\u001B[0m, in \u001B[0;36m_pydevd_bundle.pydevd_cython_darwin_38_64.PyDBFrame.do_wait_suspend\u001B[0;34m()\u001B[0m\n",
      "File \u001B[0;32m/Applications/PyCharm.app/Contents/plugins/python/helpers/pydev/pydevd.py:1147\u001B[0m, in \u001B[0;36mPyDB.do_wait_suspend\u001B[0;34m(self, thread, frame, event, arg, send_suspend_message, is_unhandled_exception)\u001B[0m\n\u001B[1;32m   1144\u001B[0m         from_this_thread\u001B[38;5;241m.\u001B[39mappend(frame_id)\n\u001B[1;32m   1146\u001B[0m \u001B[38;5;28;01mwith\u001B[39;00m \u001B[38;5;28mself\u001B[39m\u001B[38;5;241m.\u001B[39m_threads_suspended_single_notification\u001B[38;5;241m.\u001B[39mnotify_thread_suspended(thread_id, stop_reason):\n\u001B[0;32m-> 1147\u001B[0m     \u001B[38;5;28;43mself\u001B[39;49m\u001B[38;5;241;43m.\u001B[39;49m\u001B[43m_do_wait_suspend\u001B[49m\u001B[43m(\u001B[49m\u001B[43mthread\u001B[49m\u001B[43m,\u001B[49m\u001B[43m \u001B[49m\u001B[43mframe\u001B[49m\u001B[43m,\u001B[49m\u001B[43m \u001B[49m\u001B[43mevent\u001B[49m\u001B[43m,\u001B[49m\u001B[43m \u001B[49m\u001B[43marg\u001B[49m\u001B[43m,\u001B[49m\u001B[43m \u001B[49m\u001B[43msuspend_type\u001B[49m\u001B[43m,\u001B[49m\u001B[43m \u001B[49m\u001B[43mfrom_this_thread\u001B[49m\u001B[43m)\u001B[49m\n",
      "File \u001B[0;32m/Applications/PyCharm.app/Contents/plugins/python/helpers/pydev/pydevd.py:1162\u001B[0m, in \u001B[0;36mPyDB._do_wait_suspend\u001B[0;34m(self, thread, frame, event, arg, suspend_type, from_this_thread)\u001B[0m\n\u001B[1;32m   1159\u001B[0m             \u001B[38;5;28mself\u001B[39m\u001B[38;5;241m.\u001B[39m_call_mpl_hook()\n\u001B[1;32m   1161\u001B[0m         \u001B[38;5;28mself\u001B[39m\u001B[38;5;241m.\u001B[39mprocess_internal_commands()\n\u001B[0;32m-> 1162\u001B[0m         \u001B[43mtime\u001B[49m\u001B[38;5;241;43m.\u001B[39;49m\u001B[43msleep\u001B[49m\u001B[43m(\u001B[49m\u001B[38;5;241;43m0.01\u001B[39;49m\u001B[43m)\u001B[49m\n\u001B[1;32m   1164\u001B[0m \u001B[38;5;28mself\u001B[39m\u001B[38;5;241m.\u001B[39mcancel_async_evaluation(get_current_thread_id(thread), \u001B[38;5;28mstr\u001B[39m(\u001B[38;5;28mid\u001B[39m(frame)))\n\u001B[1;32m   1166\u001B[0m \u001B[38;5;66;03m# process any stepping instructions\u001B[39;00m\n",
      "\u001B[0;31mKeyboardInterrupt\u001B[0m: "
     ]
    }
   ],
   "source": [
    "#####################################################\n",
    "model.fit(train_samples=train_samples, train_phenotypes=train_phenotypes,\n",
    "          valid_samples=valid_samples, valid_phenotypes=valid_phenotypes, outdir=OUTDIR)"
   ],
   "metadata": {
    "collapsed": false,
    "pycharm": {
     "name": "#%%\n"
    }
   }
  },
  {
   "cell_type": "code",
   "execution_count": 2,
   "outputs": [
    {
     "ename": "NameError",
     "evalue": "name 'model' is not defined",
     "output_type": "error",
     "traceback": [
      "\u001B[0;31m---------------------------------------------------------------------------\u001B[0m",
      "\u001B[0;31mNameError\u001B[0m                                 Traceback (most recent call last)",
      "Input \u001B[0;32mIn [2]\u001B[0m, in \u001B[0;36m<module>\u001B[0;34m\u001B[0m\n\u001B[1;32m      1\u001B[0m \u001B[38;5;66;03m### predictions\u001B[39;00m\n\u001B[1;32m      2\u001B[0m \u001B[38;5;66;03m# make predictions on the test cohort\u001B[39;00m\n\u001B[0;32m----> 3\u001B[0m test_pred \u001B[38;5;241m=\u001B[39m \u001B[43mmodel\u001B[49m\u001B[38;5;241m.\u001B[39mpredict(test_samples)\n\u001B[1;32m      5\u001B[0m \u001B[38;5;66;03m# Each row in `test_pred` corresponds to a different sample\u001B[39;00m\n\u001B[1;32m      6\u001B[0m \u001B[38;5;66;03m# and indicates the predicted class probabilities for that sample.\u001B[39;00m\n\u001B[1;32m      7\u001B[0m \u001B[38;5;66;03m# Each row is a probability distribution and therefore always sums up to 1.\u001B[39;00m\n\u001B[1;32m      8\u001B[0m \u001B[38;5;66;03m# Here we only have 2 classes: CMV- (1st column) and CMV+ (2nd column)\u001B[39;00m\n\u001B[1;32m      9\u001B[0m \n\u001B[1;32m     10\u001B[0m \u001B[38;5;66;03m# look at the test set predictions\u001B[39;00m\n\u001B[1;32m     11\u001B[0m \u001B[38;5;28mprint\u001B[39m(\u001B[38;5;124m'\u001B[39m\u001B[38;5;130;01m\\n\u001B[39;00m\u001B[38;5;124mModel predictions:\u001B[39m\u001B[38;5;130;01m\\n\u001B[39;00m\u001B[38;5;124m'\u001B[39m, test_pred)\n",
      "\u001B[0;31mNameError\u001B[0m: name 'model' is not defined"
     ]
    }
   ],
   "source": [
    "### predictions\n",
    "# make predictions on the test cohort\n",
    "test_pred = model.predict(test_samples)\n",
    "\n",
    "# Each row in `test_pred` corresponds to a different sample\n",
    "# and indicates the predicted class probabilities for that sample.\n",
    "# Each row is a probability distribution and therefore always sums up to 1.\n",
    "# Here we only have 2 classes: CMV- (1st column) and CMV+ (2nd column)\n",
    "\n",
    "# look at the test set predictions\n",
    "print('\\nModel predictions:\\n', test_pred)\n",
    "\n",
    "# and the true phenotypes of the test samples\n",
    "print('\\nTrue phenotypes:\\n', test_phenotypes)\n",
    "test_pred"
   ],
   "metadata": {
    "collapsed": false,
    "pycharm": {
     "name": "#%%\n"
    }
   }
  },
  {
   "cell_type": "code",
   "execution_count": 1,
   "outputs": [
    {
     "ename": "KeyboardInterrupt",
     "evalue": "",
     "output_type": "error",
     "traceback": [
      "\u001B[0;31m---------------------------------------------------------------------------\u001B[0m",
      "\u001B[0;31mKeyboardInterrupt\u001B[0m                         Traceback (most recent call last)",
      "Input \u001B[0;32mIn [1]\u001B[0m, in \u001B[0;36m<module>\u001B[0;34m\u001B[0m\n\u001B[1;32m      1\u001B[0m \u001B[38;5;66;03m# pydev_debug_cell\u001B[39;00m\n\u001B[1;32m      2\u001B[0m \u001B[38;5;66;03m# calculate area under the ROC curve for the test set\u001B[39;00m\n\u001B[0;32m----> 3\u001B[0m test_auc \u001B[38;5;241m=\u001B[39m \u001B[43mroc_auc_score\u001B[49m(test_phenotypes, test_pred[:,\u001B[38;5;241m1\u001B[39m])\n\u001B[1;32m      4\u001B[0m \u001B[38;5;28mprint\u001B[39m(test_auc)\n",
      "Input \u001B[0;32mIn [1]\u001B[0m, in \u001B[0;36m<module>\u001B[0;34m\u001B[0m\n\u001B[1;32m      1\u001B[0m \u001B[38;5;66;03m# pydev_debug_cell\u001B[39;00m\n\u001B[1;32m      2\u001B[0m \u001B[38;5;66;03m# calculate area under the ROC curve for the test set\u001B[39;00m\n\u001B[0;32m----> 3\u001B[0m test_auc \u001B[38;5;241m=\u001B[39m \u001B[43mroc_auc_score\u001B[49m(test_phenotypes, test_pred[:,\u001B[38;5;241m1\u001B[39m])\n\u001B[1;32m      4\u001B[0m \u001B[38;5;28mprint\u001B[39m(test_auc)\n",
      "File \u001B[0;32m_pydevd_bundle/pydevd_cython_darwin_38_64.pyx:1179\u001B[0m, in \u001B[0;36m_pydevd_bundle.pydevd_cython_darwin_38_64.SafeCallWrapper.__call__\u001B[0;34m()\u001B[0m\n",
      "File \u001B[0;32m_pydevd_bundle/pydevd_cython_darwin_38_64.pyx:620\u001B[0m, in \u001B[0;36m_pydevd_bundle.pydevd_cython_darwin_38_64.PyDBFrame.trace_dispatch\u001B[0;34m()\u001B[0m\n",
      "File \u001B[0;32m_pydevd_bundle/pydevd_cython_darwin_38_64.pyx:929\u001B[0m, in \u001B[0;36m_pydevd_bundle.pydevd_cython_darwin_38_64.PyDBFrame.trace_dispatch\u001B[0;34m()\u001B[0m\n",
      "File \u001B[0;32m_pydevd_bundle/pydevd_cython_darwin_38_64.pyx:920\u001B[0m, in \u001B[0;36m_pydevd_bundle.pydevd_cython_darwin_38_64.PyDBFrame.trace_dispatch\u001B[0;34m()\u001B[0m\n",
      "File \u001B[0;32m_pydevd_bundle/pydevd_cython_darwin_38_64.pyx:317\u001B[0m, in \u001B[0;36m_pydevd_bundle.pydevd_cython_darwin_38_64.PyDBFrame.do_wait_suspend\u001B[0;34m()\u001B[0m\n",
      "File \u001B[0;32m/Applications/PyCharm.app/Contents/plugins/python/helpers/pydev/pydevd.py:1147\u001B[0m, in \u001B[0;36mPyDB.do_wait_suspend\u001B[0;34m(self, thread, frame, event, arg, send_suspend_message, is_unhandled_exception)\u001B[0m\n\u001B[1;32m   1144\u001B[0m         from_this_thread\u001B[38;5;241m.\u001B[39mappend(frame_id)\n\u001B[1;32m   1146\u001B[0m \u001B[38;5;28;01mwith\u001B[39;00m \u001B[38;5;28mself\u001B[39m\u001B[38;5;241m.\u001B[39m_threads_suspended_single_notification\u001B[38;5;241m.\u001B[39mnotify_thread_suspended(thread_id, stop_reason):\n\u001B[0;32m-> 1147\u001B[0m     \u001B[38;5;28;43mself\u001B[39;49m\u001B[38;5;241;43m.\u001B[39;49m\u001B[43m_do_wait_suspend\u001B[49m\u001B[43m(\u001B[49m\u001B[43mthread\u001B[49m\u001B[43m,\u001B[49m\u001B[43m \u001B[49m\u001B[43mframe\u001B[49m\u001B[43m,\u001B[49m\u001B[43m \u001B[49m\u001B[43mevent\u001B[49m\u001B[43m,\u001B[49m\u001B[43m \u001B[49m\u001B[43marg\u001B[49m\u001B[43m,\u001B[49m\u001B[43m \u001B[49m\u001B[43msuspend_type\u001B[49m\u001B[43m,\u001B[49m\u001B[43m \u001B[49m\u001B[43mfrom_this_thread\u001B[49m\u001B[43m)\u001B[49m\n",
      "File \u001B[0;32m/Applications/PyCharm.app/Contents/plugins/python/helpers/pydev/pydevd.py:1162\u001B[0m, in \u001B[0;36mPyDB._do_wait_suspend\u001B[0;34m(self, thread, frame, event, arg, suspend_type, from_this_thread)\u001B[0m\n\u001B[1;32m   1159\u001B[0m             \u001B[38;5;28mself\u001B[39m\u001B[38;5;241m.\u001B[39m_call_mpl_hook()\n\u001B[1;32m   1161\u001B[0m         \u001B[38;5;28mself\u001B[39m\u001B[38;5;241m.\u001B[39mprocess_internal_commands()\n\u001B[0;32m-> 1162\u001B[0m         \u001B[43mtime\u001B[49m\u001B[38;5;241;43m.\u001B[39;49m\u001B[43msleep\u001B[49m\u001B[43m(\u001B[49m\u001B[38;5;241;43m0.01\u001B[39;49m\u001B[43m)\u001B[49m\n\u001B[1;32m   1164\u001B[0m \u001B[38;5;28mself\u001B[39m\u001B[38;5;241m.\u001B[39mcancel_async_evaluation(get_current_thread_id(thread), \u001B[38;5;28mstr\u001B[39m(\u001B[38;5;28mid\u001B[39m(frame)))\n\u001B[1;32m   1166\u001B[0m \u001B[38;5;66;03m# process any stepping instructions\u001B[39;00m\n",
      "\u001B[0;31mKeyboardInterrupt\u001B[0m: "
     ]
    }
   ],
   "source": [
    "# calculate area under the ROC curve for the test set\n",
    "test_auc = roc_auc_score(test_phenotypes, test_pred[:,1])\n",
    "print(test_auc)"
   ],
   "metadata": {
    "collapsed": false,
    "pycharm": {
     "name": "#%%\n"
    }
   }
  },
  {
   "cell_type": "code",
   "execution_count": 12,
   "outputs": [
    {
     "name": "stderr",
     "output_type": "stream",
     "text": [
      "No handles with labels found to put in legend.\n"
     ]
    },
    {
     "data": {
      "text/plain": "<Figure size 720x720 with 0 Axes>"
     },
     "metadata": {},
     "output_type": "display_data"
    },
    {
     "data": {
      "text/plain": "<Figure size 720x720 with 0 Axes>"
     },
     "metadata": {},
     "output_type": "display_data"
    },
    {
     "data": {
      "text/plain": "<Figure size 720x720 with 0 Axes>"
     },
     "metadata": {},
     "output_type": "display_data"
    }
   ],
   "source": [
    "# plot the results of the CellCnn analysis for the test samples in the output directory\n",
    "_ = plot_results(model.results, test_samples, test_phenotypes,\n",
    "                 markers, OUTDIR, filter_response_thres=0,\n",
    "                 filter_diff_thres=0.2, group_a='CMV-', group_b='CMV+')\n",
    "print('dond')"
   ],
   "metadata": {
    "collapsed": false,
    "pycharm": {
     "name": "#%%\n"
    }
   }
  },
  {
   "cell_type": "code",
   "execution_count": null,
   "outputs": [],
   "source": [
    "#### 2nd plotting\n",
    "_ = plot_results(model.results, test_samples, test_phenotypes,\n",
    "                 markers, OUTDIR, filter_response_thres=0.7,\n",
    "                 filter_diff_thres=0.2, group_a='CMV-', group_b='CMV+')\n",
    "print('dond')\n",
    "### hier läd er nur noch images rein"
   ],
   "metadata": {
    "collapsed": false,
    "pycharm": {
     "name": "#%%\n"
    }
   }
  }
 ],
 "metadata": {
  "kernelspec": {
   "display_name": "Python 3",
   "language": "python",
   "name": "python3"
  },
  "language_info": {
   "codemirror_mode": {
    "name": "ipython",
    "version": 2
   },
   "file_extension": ".py",
   "mimetype": "text/x-python",
   "name": "python",
   "nbconvert_exporter": "python",
   "pygments_lexer": "ipython2",
   "version": "2.7.6"
  }
 },
 "nbformat": 4,
 "nbformat_minor": 0
}